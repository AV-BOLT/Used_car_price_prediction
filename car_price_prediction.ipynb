{
  "cells": [
    {
      "cell_type": "markdown",
      "metadata": {
        "id": "view-in-github",
        "colab_type": "text"
      },
      "source": [
        "<a href=\"https://colab.research.google.com/github/AV-BOLT/Used_car_price_prediction/blob/master/car_price_prediction.ipynb\" target=\"_parent\"><img src=\"https://colab.research.google.com/assets/colab-badge.svg\" alt=\"Open In Colab\"/></a>"
      ]
    },
    {
      "cell_type": "markdown",
      "metadata": {
        "id": "Vo8I4a5gVmNL"
      },
      "source": [
        "# Описание проекта #"
      ]
    },
    {
      "cell_type": "markdown",
      "metadata": {
        "id": "SmIjyJKvS1CZ"
      },
      "source": [
        "\n",
        "Сервис по продаже автомобилей с пробегом «Не бит, не крашен» разрабатывает приложение, чтобы привлечь новых клиентов. В нём можно будет узнать рыночную стоимость своего автомобиля.\n",
        "\n",
        "Постройте модель, которая умеет её определять. В вашем распоряжении данные о технических характеристиках, комплектации и ценах других автомобилей.\n",
        "\n",
        "**Критерии, которые важны заказчику:**\n",
        "- качество предсказания;\n",
        "- время обучения модели;\n",
        "- время предсказания модели.\n",
        "\n",
        "Инструкция по выполнению проекта\n",
        "\n",
        "Основные шаги:\n",
        "Загрузите данные, путь к файлу: /datasets/autos.csv.\n",
        "Изучите данные. Заполните пропущенные значения и обработайте аномалии в столбцах. Если среди признаков имеются неинформативные, удалите их.\n",
        "Подготовьте выборки для обучения моделей.\n",
        "Обучите разные модели, одна из которых — LightGBM, как минимум одна — не бустинг.\n",
        "\n",
        "Для каждой модели попробуйте разные гиперпараметры.\n",
        "Проанализируйте время обучения, время предсказания и качество моделей.\n",
        "\n",
        "Опираясь на критерии заказчика, выберете лучшую модель, проверьте её качество на тестовой выборке.\n",
        "\n",
        "\n",
        "Описание данных\n",
        "Данные находятся в файле autos.csv.\n",
        "\n",
        "Признаки\n",
        "- DateCrawled — дата скачивания анкеты из базы\n",
        "- VehicleType — тип автомобильного кузова\n",
        "- RegistrationYear — год регистрации автомобиля\n",
        "- Gearbox — тип коробки передач\n",
        "- Power — мощность (л. с.)\n",
        "- Model — модель автомобиля\n",
        "- Kilometer — пробег (км)\n",
        "- RegistrationMonth — месяц регистрации автомобиля\n",
        "- FuelType — тип топлива\n",
        "- Brand — марка автомобиля\n",
        "- Repaired — была машина в ремонте или нет\n",
        "- DateCreated — дата создания анкеты\n",
        "- NumberOfPictures — количество фотографий автомобиля\n",
        "- PostalCode — почтовый индекс владельца анкеты (пользователя)\n",
        "- LastSeen — дата последней активности пользователя\n",
        "- Целевой признак Price — цена (евро)\n"
      ]
    },
    {
      "cell_type": "markdown",
      "metadata": {
        "id": "BpXR6fkJuf34"
      },
      "source": [
        "\n",
        "Критерии, которые важны заказчику:\n",
        "- качество предсказания;\n",
        "- время обучения модели;\n",
        "- время предсказания модели.\n",
        "\n",
        "**Требования:**\n",
        "\n",
        "Обучите разные модели, одна из которых\n",
        "- LightGBM,\n",
        "- как минимум одна — не бустинг.\n",
        "- Для каждой модели попробуйте разные гиперпараметры.\n",
        "- Проанализируйте **время обучения**, **время предсказания** и к**ачество моделей**.\n",
        "-Опираясь на критерии заказчика, выберете лучшую модель, проверьте её качество на тестовой выборке.\n",
        "\n",
        "**Примечания:**\n",
        "\n",
        "- Для оценки качества моделей применяйте метрику RMSE.\n",
        "Значение метрики RMSE должно быть меньше 2500.\n",
        "- Самостоятельно освойте библиотеку LightGBM и её средствами постройте модели градиентного бустинга."
      ]
    },
    {
      "cell_type": "markdown",
      "metadata": {
        "id": "44FY7K7dS1Ca"
      },
      "source": [
        "# Загрузка данных и библиотек"
      ]
    },
    {
      "cell_type": "code",
      "execution_count": 1,
      "metadata": {
        "id": "ankffva_S1Ca"
      },
      "outputs": [],
      "source": [
        "import pandas as pd\n",
        "import matplotlib.pyplot as plt\n",
        "import numpy as np\n",
        "import seaborn as sns\n",
        "import datetime\n",
        "import seaborn as sns\n",
        "#import optuna"
      ]
    },
    {
      "cell_type": "code",
      "execution_count": 2,
      "metadata": {
        "id": "7kZUOicVNdwc"
      },
      "outputs": [],
      "source": [
        "import time"
      ]
    },
    {
      "cell_type": "code",
      "execution_count": 3,
      "metadata": {
        "colab": {
          "base_uri": "https://localhost:8080/"
        },
        "id": "Azu6-AdWTGQu",
        "outputId": "3850c9bf-d9a6-4ce7-984f-eee29f6c359c"
      },
      "outputs": [
        {
          "output_type": "stream",
          "name": "stdout",
          "text": [
            "Collecting catboost\n",
            "  Downloading catboost-1.2.1-cp310-cp310-manylinux2014_x86_64.whl (98.7 MB)\n",
            "\u001b[2K     \u001b[90m━━━━━━━━━━━━━━━━━━━━━━━━━━━━━━━━━━━━━━━━\u001b[0m \u001b[32m98.7/98.7 MB\u001b[0m \u001b[31m9.8 MB/s\u001b[0m eta \u001b[36m0:00:00\u001b[0m\n",
            "\u001b[?25hRequirement already satisfied: graphviz in /usr/local/lib/python3.10/dist-packages (from catboost) (0.20.1)\n",
            "Requirement already satisfied: matplotlib in /usr/local/lib/python3.10/dist-packages (from catboost) (3.7.1)\n",
            "Requirement already satisfied: numpy>=1.16.0 in /usr/local/lib/python3.10/dist-packages (from catboost) (1.23.5)\n",
            "Requirement already satisfied: pandas>=0.24 in /usr/local/lib/python3.10/dist-packages (from catboost) (1.5.3)\n",
            "Requirement already satisfied: scipy in /usr/local/lib/python3.10/dist-packages (from catboost) (1.10.1)\n",
            "Requirement already satisfied: plotly in /usr/local/lib/python3.10/dist-packages (from catboost) (5.15.0)\n",
            "Requirement already satisfied: six in /usr/local/lib/python3.10/dist-packages (from catboost) (1.16.0)\n",
            "Requirement already satisfied: python-dateutil>=2.8.1 in /usr/local/lib/python3.10/dist-packages (from pandas>=0.24->catboost) (2.8.2)\n",
            "Requirement already satisfied: pytz>=2020.1 in /usr/local/lib/python3.10/dist-packages (from pandas>=0.24->catboost) (2023.3)\n",
            "Requirement already satisfied: contourpy>=1.0.1 in /usr/local/lib/python3.10/dist-packages (from matplotlib->catboost) (1.1.0)\n",
            "Requirement already satisfied: cycler>=0.10 in /usr/local/lib/python3.10/dist-packages (from matplotlib->catboost) (0.11.0)\n",
            "Requirement already satisfied: fonttools>=4.22.0 in /usr/local/lib/python3.10/dist-packages (from matplotlib->catboost) (4.42.1)\n",
            "Requirement already satisfied: kiwisolver>=1.0.1 in /usr/local/lib/python3.10/dist-packages (from matplotlib->catboost) (1.4.4)\n",
            "Requirement already satisfied: packaging>=20.0 in /usr/local/lib/python3.10/dist-packages (from matplotlib->catboost) (23.1)\n",
            "Requirement already satisfied: pillow>=6.2.0 in /usr/local/lib/python3.10/dist-packages (from matplotlib->catboost) (9.4.0)\n",
            "Requirement already satisfied: pyparsing>=2.3.1 in /usr/local/lib/python3.10/dist-packages (from matplotlib->catboost) (3.1.1)\n",
            "Requirement already satisfied: tenacity>=6.2.0 in /usr/local/lib/python3.10/dist-packages (from plotly->catboost) (8.2.3)\n",
            "Installing collected packages: catboost\n",
            "Successfully installed catboost-1.2.1\n"
          ]
        }
      ],
      "source": [
        "!pip install catboost\n",
        "import catboost"
      ]
    },
    {
      "cell_type": "code",
      "execution_count": 4,
      "metadata": {
        "id": "o6ZZl7N3S1Cb"
      },
      "outputs": [],
      "source": [
        "from sklearn.model_selection import train_test_split\n",
        "from catboost import CatBoostRegressor, Pool, cv\n",
        "from sklearn.model_selection import GridSearchCV\n",
        "from scipy.stats import uniform\n",
        "from sklearn.metrics import mean_squared_error, mean_absolute_percentage_error\n",
        "from sklearn.decomposition import PCA\n",
        "from sklearn.preprocessing import StandardScaler, OneHotEncoder\n",
        "from sklearn.pipeline import Pipeline\n",
        "from sklearn.ensemble import RandomForestRegressor\n",
        "from sklearn.linear_model import LinearRegression\n",
        "from sklearn.compose import ColumnTransformer"
      ]
    },
    {
      "cell_type": "code",
      "execution_count": 5,
      "metadata": {
        "colab": {
          "base_uri": "https://localhost:8080/"
        },
        "id": "ODI3t8vgV8pq",
        "outputId": "a5157626-5f03-4479-a708-7a7fbb2b9434"
      },
      "outputs": [
        {
          "output_type": "stream",
          "name": "stdout",
          "text": [
            "Mounted at /content/drive\n"
          ]
        }
      ],
      "source": [
        "from google.colab import drive\n",
        "drive.mount('/content/drive')"
      ]
    },
    {
      "cell_type": "code",
      "execution_count": 6,
      "metadata": {
        "colab": {
          "base_uri": "https://localhost:8080/",
          "height": 400
        },
        "id": "WmJyJYy8ZBqo",
        "outputId": "3e722a22-c3df-49e5-97c2-689bbc497766"
      },
      "outputs": [
        {
          "output_type": "execute_result",
          "data": {
            "text/plain": [
              "           DateCrawled  Price VehicleType  RegistrationYear Gearbox  Power  \\\n",
              "0  2016-03-24 11:52:17    480         NaN              1993  manual      0   \n",
              "1  2016-03-24 10:58:45  18300       coupe              2011  manual    190   \n",
              "2  2016-03-14 12:52:21   9800         suv              2004    auto    163   \n",
              "3  2016-03-17 16:54:04   1500       small              2001  manual     75   \n",
              "4  2016-03-31 17:25:20   3600       small              2008  manual     69   \n",
              "\n",
              "   Model  Kilometer  RegistrationMonth  FuelType       Brand Repaired  \\\n",
              "0   golf     150000                  0    petrol  volkswagen      NaN   \n",
              "1    NaN     125000                  5  gasoline        audi      yes   \n",
              "2  grand     125000                  8  gasoline        jeep      NaN   \n",
              "3   golf     150000                  6    petrol  volkswagen       no   \n",
              "4  fabia      90000                  7  gasoline       skoda       no   \n",
              "\n",
              "           DateCreated  NumberOfPictures  PostalCode             LastSeen  \n",
              "0  2016-03-24 00:00:00                 0       70435  2016-04-07 03:16:57  \n",
              "1  2016-03-24 00:00:00                 0       66954  2016-04-07 01:46:50  \n",
              "2  2016-03-14 00:00:00                 0       90480  2016-04-05 12:47:46  \n",
              "3  2016-03-17 00:00:00                 0       91074  2016-03-17 17:40:17  \n",
              "4  2016-03-31 00:00:00                 0       60437  2016-04-06 10:17:21  "
            ],
            "text/html": [
              "\n",
              "  <div id=\"df-8827abe4-4e20-4461-89c8-e6b771b74381\" class=\"colab-df-container\">\n",
              "    <div>\n",
              "<style scoped>\n",
              "    .dataframe tbody tr th:only-of-type {\n",
              "        vertical-align: middle;\n",
              "    }\n",
              "\n",
              "    .dataframe tbody tr th {\n",
              "        vertical-align: top;\n",
              "    }\n",
              "\n",
              "    .dataframe thead th {\n",
              "        text-align: right;\n",
              "    }\n",
              "</style>\n",
              "<table border=\"1\" class=\"dataframe\">\n",
              "  <thead>\n",
              "    <tr style=\"text-align: right;\">\n",
              "      <th></th>\n",
              "      <th>DateCrawled</th>\n",
              "      <th>Price</th>\n",
              "      <th>VehicleType</th>\n",
              "      <th>RegistrationYear</th>\n",
              "      <th>Gearbox</th>\n",
              "      <th>Power</th>\n",
              "      <th>Model</th>\n",
              "      <th>Kilometer</th>\n",
              "      <th>RegistrationMonth</th>\n",
              "      <th>FuelType</th>\n",
              "      <th>Brand</th>\n",
              "      <th>Repaired</th>\n",
              "      <th>DateCreated</th>\n",
              "      <th>NumberOfPictures</th>\n",
              "      <th>PostalCode</th>\n",
              "      <th>LastSeen</th>\n",
              "    </tr>\n",
              "  </thead>\n",
              "  <tbody>\n",
              "    <tr>\n",
              "      <th>0</th>\n",
              "      <td>2016-03-24 11:52:17</td>\n",
              "      <td>480</td>\n",
              "      <td>NaN</td>\n",
              "      <td>1993</td>\n",
              "      <td>manual</td>\n",
              "      <td>0</td>\n",
              "      <td>golf</td>\n",
              "      <td>150000</td>\n",
              "      <td>0</td>\n",
              "      <td>petrol</td>\n",
              "      <td>volkswagen</td>\n",
              "      <td>NaN</td>\n",
              "      <td>2016-03-24 00:00:00</td>\n",
              "      <td>0</td>\n",
              "      <td>70435</td>\n",
              "      <td>2016-04-07 03:16:57</td>\n",
              "    </tr>\n",
              "    <tr>\n",
              "      <th>1</th>\n",
              "      <td>2016-03-24 10:58:45</td>\n",
              "      <td>18300</td>\n",
              "      <td>coupe</td>\n",
              "      <td>2011</td>\n",
              "      <td>manual</td>\n",
              "      <td>190</td>\n",
              "      <td>NaN</td>\n",
              "      <td>125000</td>\n",
              "      <td>5</td>\n",
              "      <td>gasoline</td>\n",
              "      <td>audi</td>\n",
              "      <td>yes</td>\n",
              "      <td>2016-03-24 00:00:00</td>\n",
              "      <td>0</td>\n",
              "      <td>66954</td>\n",
              "      <td>2016-04-07 01:46:50</td>\n",
              "    </tr>\n",
              "    <tr>\n",
              "      <th>2</th>\n",
              "      <td>2016-03-14 12:52:21</td>\n",
              "      <td>9800</td>\n",
              "      <td>suv</td>\n",
              "      <td>2004</td>\n",
              "      <td>auto</td>\n",
              "      <td>163</td>\n",
              "      <td>grand</td>\n",
              "      <td>125000</td>\n",
              "      <td>8</td>\n",
              "      <td>gasoline</td>\n",
              "      <td>jeep</td>\n",
              "      <td>NaN</td>\n",
              "      <td>2016-03-14 00:00:00</td>\n",
              "      <td>0</td>\n",
              "      <td>90480</td>\n",
              "      <td>2016-04-05 12:47:46</td>\n",
              "    </tr>\n",
              "    <tr>\n",
              "      <th>3</th>\n",
              "      <td>2016-03-17 16:54:04</td>\n",
              "      <td>1500</td>\n",
              "      <td>small</td>\n",
              "      <td>2001</td>\n",
              "      <td>manual</td>\n",
              "      <td>75</td>\n",
              "      <td>golf</td>\n",
              "      <td>150000</td>\n",
              "      <td>6</td>\n",
              "      <td>petrol</td>\n",
              "      <td>volkswagen</td>\n",
              "      <td>no</td>\n",
              "      <td>2016-03-17 00:00:00</td>\n",
              "      <td>0</td>\n",
              "      <td>91074</td>\n",
              "      <td>2016-03-17 17:40:17</td>\n",
              "    </tr>\n",
              "    <tr>\n",
              "      <th>4</th>\n",
              "      <td>2016-03-31 17:25:20</td>\n",
              "      <td>3600</td>\n",
              "      <td>small</td>\n",
              "      <td>2008</td>\n",
              "      <td>manual</td>\n",
              "      <td>69</td>\n",
              "      <td>fabia</td>\n",
              "      <td>90000</td>\n",
              "      <td>7</td>\n",
              "      <td>gasoline</td>\n",
              "      <td>skoda</td>\n",
              "      <td>no</td>\n",
              "      <td>2016-03-31 00:00:00</td>\n",
              "      <td>0</td>\n",
              "      <td>60437</td>\n",
              "      <td>2016-04-06 10:17:21</td>\n",
              "    </tr>\n",
              "  </tbody>\n",
              "</table>\n",
              "</div>\n",
              "    <div class=\"colab-df-buttons\">\n",
              "\n",
              "  <div class=\"colab-df-container\">\n",
              "    <button class=\"colab-df-convert\" onclick=\"convertToInteractive('df-8827abe4-4e20-4461-89c8-e6b771b74381')\"\n",
              "            title=\"Convert this dataframe to an interactive table.\"\n",
              "            style=\"display:none;\">\n",
              "\n",
              "  <svg xmlns=\"http://www.w3.org/2000/svg\" height=\"24px\" viewBox=\"0 -960 960 960\">\n",
              "    <path d=\"M120-120v-720h720v720H120Zm60-500h600v-160H180v160Zm220 220h160v-160H400v160Zm0 220h160v-160H400v160ZM180-400h160v-160H180v160Zm440 0h160v-160H620v160ZM180-180h160v-160H180v160Zm440 0h160v-160H620v160Z\"/>\n",
              "  </svg>\n",
              "    </button>\n",
              "\n",
              "  <style>\n",
              "    .colab-df-container {\n",
              "      display:flex;\n",
              "      gap: 12px;\n",
              "    }\n",
              "\n",
              "    .colab-df-convert {\n",
              "      background-color: #E8F0FE;\n",
              "      border: none;\n",
              "      border-radius: 50%;\n",
              "      cursor: pointer;\n",
              "      display: none;\n",
              "      fill: #1967D2;\n",
              "      height: 32px;\n",
              "      padding: 0 0 0 0;\n",
              "      width: 32px;\n",
              "    }\n",
              "\n",
              "    .colab-df-convert:hover {\n",
              "      background-color: #E2EBFA;\n",
              "      box-shadow: 0px 1px 2px rgba(60, 64, 67, 0.3), 0px 1px 3px 1px rgba(60, 64, 67, 0.15);\n",
              "      fill: #174EA6;\n",
              "    }\n",
              "\n",
              "    .colab-df-buttons div {\n",
              "      margin-bottom: 4px;\n",
              "    }\n",
              "\n",
              "    [theme=dark] .colab-df-convert {\n",
              "      background-color: #3B4455;\n",
              "      fill: #D2E3FC;\n",
              "    }\n",
              "\n",
              "    [theme=dark] .colab-df-convert:hover {\n",
              "      background-color: #434B5C;\n",
              "      box-shadow: 0px 1px 3px 1px rgba(0, 0, 0, 0.15);\n",
              "      filter: drop-shadow(0px 1px 2px rgba(0, 0, 0, 0.3));\n",
              "      fill: #FFFFFF;\n",
              "    }\n",
              "  </style>\n",
              "\n",
              "    <script>\n",
              "      const buttonEl =\n",
              "        document.querySelector('#df-8827abe4-4e20-4461-89c8-e6b771b74381 button.colab-df-convert');\n",
              "      buttonEl.style.display =\n",
              "        google.colab.kernel.accessAllowed ? 'block' : 'none';\n",
              "\n",
              "      async function convertToInteractive(key) {\n",
              "        const element = document.querySelector('#df-8827abe4-4e20-4461-89c8-e6b771b74381');\n",
              "        const dataTable =\n",
              "          await google.colab.kernel.invokeFunction('convertToInteractive',\n",
              "                                                    [key], {});\n",
              "        if (!dataTable) return;\n",
              "\n",
              "        const docLinkHtml = 'Like what you see? Visit the ' +\n",
              "          '<a target=\"_blank\" href=https://colab.research.google.com/notebooks/data_table.ipynb>data table notebook</a>'\n",
              "          + ' to learn more about interactive tables.';\n",
              "        element.innerHTML = '';\n",
              "        dataTable['output_type'] = 'display_data';\n",
              "        await google.colab.output.renderOutput(dataTable, element);\n",
              "        const docLink = document.createElement('div');\n",
              "        docLink.innerHTML = docLinkHtml;\n",
              "        element.appendChild(docLink);\n",
              "      }\n",
              "    </script>\n",
              "  </div>\n",
              "\n",
              "\n",
              "<div id=\"df-6f90edbd-67fb-475f-8a90-9107d1302ec7\">\n",
              "  <button class=\"colab-df-quickchart\" onclick=\"quickchart('df-6f90edbd-67fb-475f-8a90-9107d1302ec7')\"\n",
              "            title=\"Suggest charts.\"\n",
              "            style=\"display:none;\">\n",
              "\n",
              "<svg xmlns=\"http://www.w3.org/2000/svg\" height=\"24px\"viewBox=\"0 0 24 24\"\n",
              "     width=\"24px\">\n",
              "    <g>\n",
              "        <path d=\"M19 3H5c-1.1 0-2 .9-2 2v14c0 1.1.9 2 2 2h14c1.1 0 2-.9 2-2V5c0-1.1-.9-2-2-2zM9 17H7v-7h2v7zm4 0h-2V7h2v10zm4 0h-2v-4h2v4z\"/>\n",
              "    </g>\n",
              "</svg>\n",
              "  </button>\n",
              "\n",
              "<style>\n",
              "  .colab-df-quickchart {\n",
              "      --bg-color: #E8F0FE;\n",
              "      --fill-color: #1967D2;\n",
              "      --hover-bg-color: #E2EBFA;\n",
              "      --hover-fill-color: #174EA6;\n",
              "      --disabled-fill-color: #AAA;\n",
              "      --disabled-bg-color: #DDD;\n",
              "  }\n",
              "\n",
              "  [theme=dark] .colab-df-quickchart {\n",
              "      --bg-color: #3B4455;\n",
              "      --fill-color: #D2E3FC;\n",
              "      --hover-bg-color: #434B5C;\n",
              "      --hover-fill-color: #FFFFFF;\n",
              "      --disabled-bg-color: #3B4455;\n",
              "      --disabled-fill-color: #666;\n",
              "  }\n",
              "\n",
              "  .colab-df-quickchart {\n",
              "    background-color: var(--bg-color);\n",
              "    border: none;\n",
              "    border-radius: 50%;\n",
              "    cursor: pointer;\n",
              "    display: none;\n",
              "    fill: var(--fill-color);\n",
              "    height: 32px;\n",
              "    padding: 0;\n",
              "    width: 32px;\n",
              "  }\n",
              "\n",
              "  .colab-df-quickchart:hover {\n",
              "    background-color: var(--hover-bg-color);\n",
              "    box-shadow: 0 1px 2px rgba(60, 64, 67, 0.3), 0 1px 3px 1px rgba(60, 64, 67, 0.15);\n",
              "    fill: var(--button-hover-fill-color);\n",
              "  }\n",
              "\n",
              "  .colab-df-quickchart-complete:disabled,\n",
              "  .colab-df-quickchart-complete:disabled:hover {\n",
              "    background-color: var(--disabled-bg-color);\n",
              "    fill: var(--disabled-fill-color);\n",
              "    box-shadow: none;\n",
              "  }\n",
              "\n",
              "  .colab-df-spinner {\n",
              "    border: 2px solid var(--fill-color);\n",
              "    border-color: transparent;\n",
              "    border-bottom-color: var(--fill-color);\n",
              "    animation:\n",
              "      spin 1s steps(1) infinite;\n",
              "  }\n",
              "\n",
              "  @keyframes spin {\n",
              "    0% {\n",
              "      border-color: transparent;\n",
              "      border-bottom-color: var(--fill-color);\n",
              "      border-left-color: var(--fill-color);\n",
              "    }\n",
              "    20% {\n",
              "      border-color: transparent;\n",
              "      border-left-color: var(--fill-color);\n",
              "      border-top-color: var(--fill-color);\n",
              "    }\n",
              "    30% {\n",
              "      border-color: transparent;\n",
              "      border-left-color: var(--fill-color);\n",
              "      border-top-color: var(--fill-color);\n",
              "      border-right-color: var(--fill-color);\n",
              "    }\n",
              "    40% {\n",
              "      border-color: transparent;\n",
              "      border-right-color: var(--fill-color);\n",
              "      border-top-color: var(--fill-color);\n",
              "    }\n",
              "    60% {\n",
              "      border-color: transparent;\n",
              "      border-right-color: var(--fill-color);\n",
              "    }\n",
              "    80% {\n",
              "      border-color: transparent;\n",
              "      border-right-color: var(--fill-color);\n",
              "      border-bottom-color: var(--fill-color);\n",
              "    }\n",
              "    90% {\n",
              "      border-color: transparent;\n",
              "      border-bottom-color: var(--fill-color);\n",
              "    }\n",
              "  }\n",
              "</style>\n",
              "\n",
              "  <script>\n",
              "    async function quickchart(key) {\n",
              "      const quickchartButtonEl =\n",
              "        document.querySelector('#' + key + ' button');\n",
              "      quickchartButtonEl.disabled = true;  // To prevent multiple clicks.\n",
              "      quickchartButtonEl.classList.add('colab-df-spinner');\n",
              "      try {\n",
              "        const charts = await google.colab.kernel.invokeFunction(\n",
              "            'suggestCharts', [key], {});\n",
              "      } catch (error) {\n",
              "        console.error('Error during call to suggestCharts:', error);\n",
              "      }\n",
              "      quickchartButtonEl.classList.remove('colab-df-spinner');\n",
              "      quickchartButtonEl.classList.add('colab-df-quickchart-complete');\n",
              "    }\n",
              "    (() => {\n",
              "      let quickchartButtonEl =\n",
              "        document.querySelector('#df-6f90edbd-67fb-475f-8a90-9107d1302ec7 button');\n",
              "      quickchartButtonEl.style.display =\n",
              "        google.colab.kernel.accessAllowed ? 'block' : 'none';\n",
              "    })();\n",
              "  </script>\n",
              "</div>\n",
              "    </div>\n",
              "  </div>\n"
            ]
          },
          "metadata": {},
          "execution_count": 6
        }
      ],
      "source": [
        "data = pd.read_csv('/content/drive/MyDrive/Projects_YP/Used_car_price_prediction/autos.csv')\n",
        "data.head()"
      ]
    },
    {
      "cell_type": "code",
      "execution_count": 7,
      "metadata": {
        "colab": {
          "base_uri": "https://localhost:8080/"
        },
        "id": "oq-XR4oaI6EH",
        "outputId": "0c8703f6-1e87-4864-8f82-cd2af9ddc1ed"
      },
      "outputs": [
        {
          "output_type": "execute_result",
          "data": {
            "text/plain": [
              "(354369, 16)"
            ]
          },
          "metadata": {},
          "execution_count": 7
        }
      ],
      "source": [
        "data.shape"
      ]
    },
    {
      "cell_type": "markdown",
      "metadata": {
        "id": "pEZ4N7_sI3ZH"
      },
      "source": [
        "Данные загружены, имеется 354 369 объектов и 16 признаков.\n"
      ]
    },
    {
      "cell_type": "markdown",
      "metadata": {
        "id": "EJjSfCg_JLEg"
      },
      "source": [
        "# Предобработка и анализ"
      ]
    },
    {
      "cell_type": "code",
      "execution_count": 8,
      "metadata": {
        "colab": {
          "base_uri": "https://localhost:8080/"
        },
        "id": "5TiHtNmc8VKD",
        "outputId": "cdc09eac-0da7-4e5f-bfe1-6b2f50f6b63f"
      },
      "outputs": [
        {
          "output_type": "stream",
          "name": "stdout",
          "text": [
            "<class 'pandas.core.frame.DataFrame'>\n",
            "RangeIndex: 354369 entries, 0 to 354368\n",
            "Data columns (total 16 columns):\n",
            " #   Column             Non-Null Count   Dtype \n",
            "---  ------             --------------   ----- \n",
            " 0   DateCrawled        354369 non-null  object\n",
            " 1   Price              354369 non-null  int64 \n",
            " 2   VehicleType        316879 non-null  object\n",
            " 3   RegistrationYear   354369 non-null  int64 \n",
            " 4   Gearbox            334536 non-null  object\n",
            " 5   Power              354369 non-null  int64 \n",
            " 6   Model              334664 non-null  object\n",
            " 7   Kilometer          354369 non-null  int64 \n",
            " 8   RegistrationMonth  354369 non-null  int64 \n",
            " 9   FuelType           321474 non-null  object\n",
            " 10  Brand              354369 non-null  object\n",
            " 11  Repaired           283215 non-null  object\n",
            " 12  DateCreated        354369 non-null  object\n",
            " 13  NumberOfPictures   354369 non-null  int64 \n",
            " 14  PostalCode         354369 non-null  int64 \n",
            " 15  LastSeen           354369 non-null  object\n",
            "dtypes: int64(7), object(9)\n",
            "memory usage: 43.3+ MB\n"
          ]
        }
      ],
      "source": [
        "# посмотрим на дынные\n",
        "data.info()"
      ]
    },
    {
      "cell_type": "code",
      "execution_count": 9,
      "metadata": {
        "colab": {
          "base_uri": "https://localhost:8080/",
          "height": 551
        },
        "id": "trA9HonD_b0S",
        "outputId": "7e3d288a-1708-4a8e-831d-0ccd50c52470"
      },
      "outputs": [
        {
          "output_type": "execute_result",
          "data": {
            "text/plain": [
              "                        0\n",
              "DateCrawled        object\n",
              "Price               int64\n",
              "VehicleType        object\n",
              "RegistrationYear    int64\n",
              "Gearbox            object\n",
              "Power               int64\n",
              "Model              object\n",
              "Kilometer           int64\n",
              "RegistrationMonth   int64\n",
              "FuelType           object\n",
              "Brand              object\n",
              "Repaired           object\n",
              "DateCreated        object\n",
              "NumberOfPictures    int64\n",
              "PostalCode          int64\n",
              "LastSeen           object"
            ],
            "text/html": [
              "\n",
              "  <div id=\"df-e43d5173-4966-4e7e-a0d4-37b07d4b15b0\" class=\"colab-df-container\">\n",
              "    <div>\n",
              "<style scoped>\n",
              "    .dataframe tbody tr th:only-of-type {\n",
              "        vertical-align: middle;\n",
              "    }\n",
              "\n",
              "    .dataframe tbody tr th {\n",
              "        vertical-align: top;\n",
              "    }\n",
              "\n",
              "    .dataframe thead th {\n",
              "        text-align: right;\n",
              "    }\n",
              "</style>\n",
              "<table border=\"1\" class=\"dataframe\">\n",
              "  <thead>\n",
              "    <tr style=\"text-align: right;\">\n",
              "      <th></th>\n",
              "      <th>0</th>\n",
              "    </tr>\n",
              "  </thead>\n",
              "  <tbody>\n",
              "    <tr>\n",
              "      <th>DateCrawled</th>\n",
              "      <td>object</td>\n",
              "    </tr>\n",
              "    <tr>\n",
              "      <th>Price</th>\n",
              "      <td>int64</td>\n",
              "    </tr>\n",
              "    <tr>\n",
              "      <th>VehicleType</th>\n",
              "      <td>object</td>\n",
              "    </tr>\n",
              "    <tr>\n",
              "      <th>RegistrationYear</th>\n",
              "      <td>int64</td>\n",
              "    </tr>\n",
              "    <tr>\n",
              "      <th>Gearbox</th>\n",
              "      <td>object</td>\n",
              "    </tr>\n",
              "    <tr>\n",
              "      <th>Power</th>\n",
              "      <td>int64</td>\n",
              "    </tr>\n",
              "    <tr>\n",
              "      <th>Model</th>\n",
              "      <td>object</td>\n",
              "    </tr>\n",
              "    <tr>\n",
              "      <th>Kilometer</th>\n",
              "      <td>int64</td>\n",
              "    </tr>\n",
              "    <tr>\n",
              "      <th>RegistrationMonth</th>\n",
              "      <td>int64</td>\n",
              "    </tr>\n",
              "    <tr>\n",
              "      <th>FuelType</th>\n",
              "      <td>object</td>\n",
              "    </tr>\n",
              "    <tr>\n",
              "      <th>Brand</th>\n",
              "      <td>object</td>\n",
              "    </tr>\n",
              "    <tr>\n",
              "      <th>Repaired</th>\n",
              "      <td>object</td>\n",
              "    </tr>\n",
              "    <tr>\n",
              "      <th>DateCreated</th>\n",
              "      <td>object</td>\n",
              "    </tr>\n",
              "    <tr>\n",
              "      <th>NumberOfPictures</th>\n",
              "      <td>int64</td>\n",
              "    </tr>\n",
              "    <tr>\n",
              "      <th>PostalCode</th>\n",
              "      <td>int64</td>\n",
              "    </tr>\n",
              "    <tr>\n",
              "      <th>LastSeen</th>\n",
              "      <td>object</td>\n",
              "    </tr>\n",
              "  </tbody>\n",
              "</table>\n",
              "</div>\n",
              "    <div class=\"colab-df-buttons\">\n",
              "\n",
              "  <div class=\"colab-df-container\">\n",
              "    <button class=\"colab-df-convert\" onclick=\"convertToInteractive('df-e43d5173-4966-4e7e-a0d4-37b07d4b15b0')\"\n",
              "            title=\"Convert this dataframe to an interactive table.\"\n",
              "            style=\"display:none;\">\n",
              "\n",
              "  <svg xmlns=\"http://www.w3.org/2000/svg\" height=\"24px\" viewBox=\"0 -960 960 960\">\n",
              "    <path d=\"M120-120v-720h720v720H120Zm60-500h600v-160H180v160Zm220 220h160v-160H400v160Zm0 220h160v-160H400v160ZM180-400h160v-160H180v160Zm440 0h160v-160H620v160ZM180-180h160v-160H180v160Zm440 0h160v-160H620v160Z\"/>\n",
              "  </svg>\n",
              "    </button>\n",
              "\n",
              "  <style>\n",
              "    .colab-df-container {\n",
              "      display:flex;\n",
              "      gap: 12px;\n",
              "    }\n",
              "\n",
              "    .colab-df-convert {\n",
              "      background-color: #E8F0FE;\n",
              "      border: none;\n",
              "      border-radius: 50%;\n",
              "      cursor: pointer;\n",
              "      display: none;\n",
              "      fill: #1967D2;\n",
              "      height: 32px;\n",
              "      padding: 0 0 0 0;\n",
              "      width: 32px;\n",
              "    }\n",
              "\n",
              "    .colab-df-convert:hover {\n",
              "      background-color: #E2EBFA;\n",
              "      box-shadow: 0px 1px 2px rgba(60, 64, 67, 0.3), 0px 1px 3px 1px rgba(60, 64, 67, 0.15);\n",
              "      fill: #174EA6;\n",
              "    }\n",
              "\n",
              "    .colab-df-buttons div {\n",
              "      margin-bottom: 4px;\n",
              "    }\n",
              "\n",
              "    [theme=dark] .colab-df-convert {\n",
              "      background-color: #3B4455;\n",
              "      fill: #D2E3FC;\n",
              "    }\n",
              "\n",
              "    [theme=dark] .colab-df-convert:hover {\n",
              "      background-color: #434B5C;\n",
              "      box-shadow: 0px 1px 3px 1px rgba(0, 0, 0, 0.15);\n",
              "      filter: drop-shadow(0px 1px 2px rgba(0, 0, 0, 0.3));\n",
              "      fill: #FFFFFF;\n",
              "    }\n",
              "  </style>\n",
              "\n",
              "    <script>\n",
              "      const buttonEl =\n",
              "        document.querySelector('#df-e43d5173-4966-4e7e-a0d4-37b07d4b15b0 button.colab-df-convert');\n",
              "      buttonEl.style.display =\n",
              "        google.colab.kernel.accessAllowed ? 'block' : 'none';\n",
              "\n",
              "      async function convertToInteractive(key) {\n",
              "        const element = document.querySelector('#df-e43d5173-4966-4e7e-a0d4-37b07d4b15b0');\n",
              "        const dataTable =\n",
              "          await google.colab.kernel.invokeFunction('convertToInteractive',\n",
              "                                                    [key], {});\n",
              "        if (!dataTable) return;\n",
              "\n",
              "        const docLinkHtml = 'Like what you see? Visit the ' +\n",
              "          '<a target=\"_blank\" href=https://colab.research.google.com/notebooks/data_table.ipynb>data table notebook</a>'\n",
              "          + ' to learn more about interactive tables.';\n",
              "        element.innerHTML = '';\n",
              "        dataTable['output_type'] = 'display_data';\n",
              "        await google.colab.output.renderOutput(dataTable, element);\n",
              "        const docLink = document.createElement('div');\n",
              "        docLink.innerHTML = docLinkHtml;\n",
              "        element.appendChild(docLink);\n",
              "      }\n",
              "    </script>\n",
              "  </div>\n",
              "\n",
              "\n",
              "<div id=\"df-8f45dff7-5e11-4f77-afc2-4fb9e2e1fc45\">\n",
              "  <button class=\"colab-df-quickchart\" onclick=\"quickchart('df-8f45dff7-5e11-4f77-afc2-4fb9e2e1fc45')\"\n",
              "            title=\"Suggest charts.\"\n",
              "            style=\"display:none;\">\n",
              "\n",
              "<svg xmlns=\"http://www.w3.org/2000/svg\" height=\"24px\"viewBox=\"0 0 24 24\"\n",
              "     width=\"24px\">\n",
              "    <g>\n",
              "        <path d=\"M19 3H5c-1.1 0-2 .9-2 2v14c0 1.1.9 2 2 2h14c1.1 0 2-.9 2-2V5c0-1.1-.9-2-2-2zM9 17H7v-7h2v7zm4 0h-2V7h2v10zm4 0h-2v-4h2v4z\"/>\n",
              "    </g>\n",
              "</svg>\n",
              "  </button>\n",
              "\n",
              "<style>\n",
              "  .colab-df-quickchart {\n",
              "      --bg-color: #E8F0FE;\n",
              "      --fill-color: #1967D2;\n",
              "      --hover-bg-color: #E2EBFA;\n",
              "      --hover-fill-color: #174EA6;\n",
              "      --disabled-fill-color: #AAA;\n",
              "      --disabled-bg-color: #DDD;\n",
              "  }\n",
              "\n",
              "  [theme=dark] .colab-df-quickchart {\n",
              "      --bg-color: #3B4455;\n",
              "      --fill-color: #D2E3FC;\n",
              "      --hover-bg-color: #434B5C;\n",
              "      --hover-fill-color: #FFFFFF;\n",
              "      --disabled-bg-color: #3B4455;\n",
              "      --disabled-fill-color: #666;\n",
              "  }\n",
              "\n",
              "  .colab-df-quickchart {\n",
              "    background-color: var(--bg-color);\n",
              "    border: none;\n",
              "    border-radius: 50%;\n",
              "    cursor: pointer;\n",
              "    display: none;\n",
              "    fill: var(--fill-color);\n",
              "    height: 32px;\n",
              "    padding: 0;\n",
              "    width: 32px;\n",
              "  }\n",
              "\n",
              "  .colab-df-quickchart:hover {\n",
              "    background-color: var(--hover-bg-color);\n",
              "    box-shadow: 0 1px 2px rgba(60, 64, 67, 0.3), 0 1px 3px 1px rgba(60, 64, 67, 0.15);\n",
              "    fill: var(--button-hover-fill-color);\n",
              "  }\n",
              "\n",
              "  .colab-df-quickchart-complete:disabled,\n",
              "  .colab-df-quickchart-complete:disabled:hover {\n",
              "    background-color: var(--disabled-bg-color);\n",
              "    fill: var(--disabled-fill-color);\n",
              "    box-shadow: none;\n",
              "  }\n",
              "\n",
              "  .colab-df-spinner {\n",
              "    border: 2px solid var(--fill-color);\n",
              "    border-color: transparent;\n",
              "    border-bottom-color: var(--fill-color);\n",
              "    animation:\n",
              "      spin 1s steps(1) infinite;\n",
              "  }\n",
              "\n",
              "  @keyframes spin {\n",
              "    0% {\n",
              "      border-color: transparent;\n",
              "      border-bottom-color: var(--fill-color);\n",
              "      border-left-color: var(--fill-color);\n",
              "    }\n",
              "    20% {\n",
              "      border-color: transparent;\n",
              "      border-left-color: var(--fill-color);\n",
              "      border-top-color: var(--fill-color);\n",
              "    }\n",
              "    30% {\n",
              "      border-color: transparent;\n",
              "      border-left-color: var(--fill-color);\n",
              "      border-top-color: var(--fill-color);\n",
              "      border-right-color: var(--fill-color);\n",
              "    }\n",
              "    40% {\n",
              "      border-color: transparent;\n",
              "      border-right-color: var(--fill-color);\n",
              "      border-top-color: var(--fill-color);\n",
              "    }\n",
              "    60% {\n",
              "      border-color: transparent;\n",
              "      border-right-color: var(--fill-color);\n",
              "    }\n",
              "    80% {\n",
              "      border-color: transparent;\n",
              "      border-right-color: var(--fill-color);\n",
              "      border-bottom-color: var(--fill-color);\n",
              "    }\n",
              "    90% {\n",
              "      border-color: transparent;\n",
              "      border-bottom-color: var(--fill-color);\n",
              "    }\n",
              "  }\n",
              "</style>\n",
              "\n",
              "  <script>\n",
              "    async function quickchart(key) {\n",
              "      const quickchartButtonEl =\n",
              "        document.querySelector('#' + key + ' button');\n",
              "      quickchartButtonEl.disabled = true;  // To prevent multiple clicks.\n",
              "      quickchartButtonEl.classList.add('colab-df-spinner');\n",
              "      try {\n",
              "        const charts = await google.colab.kernel.invokeFunction(\n",
              "            'suggestCharts', [key], {});\n",
              "      } catch (error) {\n",
              "        console.error('Error during call to suggestCharts:', error);\n",
              "      }\n",
              "      quickchartButtonEl.classList.remove('colab-df-spinner');\n",
              "      quickchartButtonEl.classList.add('colab-df-quickchart-complete');\n",
              "    }\n",
              "    (() => {\n",
              "      let quickchartButtonEl =\n",
              "        document.querySelector('#df-8f45dff7-5e11-4f77-afc2-4fb9e2e1fc45 button');\n",
              "      quickchartButtonEl.style.display =\n",
              "        google.colab.kernel.accessAllowed ? 'block' : 'none';\n",
              "    })();\n",
              "  </script>\n",
              "</div>\n",
              "    </div>\n",
              "  </div>\n"
            ]
          },
          "metadata": {},
          "execution_count": 9
        }
      ],
      "source": [
        "data.dtypes.to_frame()"
      ]
    },
    {
      "cell_type": "markdown",
      "metadata": {
        "id": "OqqopYoO8q6f"
      },
      "source": [
        "- В данных имеются пропуски\n",
        "- Имеются признаки с типом данных который не соответствует значениям в признаке\n",
        "- Названия необходимо привести к единообразной форме (строчный регистр и _ для разделения)\n",
        "- Данные представлены категориальными, числовыми признаками, datetime.\n"
      ]
    },
    {
      "cell_type": "markdown",
      "metadata": {
        "id": "3Wx-bbfb901i"
      },
      "source": [
        "Этапы предобработки данных:\n",
        "\n",
        "**приведение типов данных** к требуемому формату datetime (без времени):\n",
        "- DateCrawled\n",
        "- DateCreated\n",
        "- LastSeen\n",
        "\n",
        "**приведение названия признаков**  к единообразному формату\n",
        "\n",
        "**пропуски**:\n",
        "- Анализ причин возникновения пропусков\n",
        "- Рассмотрение возможных способов обработки таких признаков(заглушка, использование inputer, оставить как есть если позволяет модель, заполнение синтетическими данными, заполнение на основании остальных признаков и т.д.)\n",
        "\n",
        "примерный алгоритм обработки **категориальные признаки**,  значит необходимо обрабатывать их - приведение к единому написанию (регистр, пробелы/символы/цифры и тд.)\n",
        "- проверка на дупликаты (явные и неявные)\n",
        "\n",
        "**Числовые признаки** проверим\n",
        "- на аномалии и редкие значения\n",
        "-\n",
        "\n"
      ]
    },
    {
      "cell_type": "markdown",
      "metadata": {
        "id": "uN7Qh2vyKAPz"
      },
      "source": [
        "## Приведение значений к требуемому формату"
      ]
    },
    {
      "cell_type": "code",
      "execution_count": 10,
      "metadata": {
        "colab": {
          "base_uri": "https://localhost:8080/",
          "height": 206
        },
        "id": "YEg7_9H68qD2",
        "outputId": "2b7f8492-4e88-4400-f42d-25cf7fc5d419"
      },
      "outputs": [
        {
          "output_type": "execute_result",
          "data": {
            "text/plain": [
              "           DateCrawled          DateCreated             LastSeen\n",
              "0  2016-03-24 11:52:17  2016-03-24 00:00:00  2016-04-07 03:16:57\n",
              "1  2016-03-24 10:58:45  2016-03-24 00:00:00  2016-04-07 01:46:50\n",
              "2  2016-03-14 12:52:21  2016-03-14 00:00:00  2016-04-05 12:47:46\n",
              "3  2016-03-17 16:54:04  2016-03-17 00:00:00  2016-03-17 17:40:17\n",
              "4  2016-03-31 17:25:20  2016-03-31 00:00:00  2016-04-06 10:17:21"
            ],
            "text/html": [
              "\n",
              "  <div id=\"df-cd53e816-7f70-49bf-a7e4-d108614f41e8\" class=\"colab-df-container\">\n",
              "    <div>\n",
              "<style scoped>\n",
              "    .dataframe tbody tr th:only-of-type {\n",
              "        vertical-align: middle;\n",
              "    }\n",
              "\n",
              "    .dataframe tbody tr th {\n",
              "        vertical-align: top;\n",
              "    }\n",
              "\n",
              "    .dataframe thead th {\n",
              "        text-align: right;\n",
              "    }\n",
              "</style>\n",
              "<table border=\"1\" class=\"dataframe\">\n",
              "  <thead>\n",
              "    <tr style=\"text-align: right;\">\n",
              "      <th></th>\n",
              "      <th>DateCrawled</th>\n",
              "      <th>DateCreated</th>\n",
              "      <th>LastSeen</th>\n",
              "    </tr>\n",
              "  </thead>\n",
              "  <tbody>\n",
              "    <tr>\n",
              "      <th>0</th>\n",
              "      <td>2016-03-24 11:52:17</td>\n",
              "      <td>2016-03-24 00:00:00</td>\n",
              "      <td>2016-04-07 03:16:57</td>\n",
              "    </tr>\n",
              "    <tr>\n",
              "      <th>1</th>\n",
              "      <td>2016-03-24 10:58:45</td>\n",
              "      <td>2016-03-24 00:00:00</td>\n",
              "      <td>2016-04-07 01:46:50</td>\n",
              "    </tr>\n",
              "    <tr>\n",
              "      <th>2</th>\n",
              "      <td>2016-03-14 12:52:21</td>\n",
              "      <td>2016-03-14 00:00:00</td>\n",
              "      <td>2016-04-05 12:47:46</td>\n",
              "    </tr>\n",
              "    <tr>\n",
              "      <th>3</th>\n",
              "      <td>2016-03-17 16:54:04</td>\n",
              "      <td>2016-03-17 00:00:00</td>\n",
              "      <td>2016-03-17 17:40:17</td>\n",
              "    </tr>\n",
              "    <tr>\n",
              "      <th>4</th>\n",
              "      <td>2016-03-31 17:25:20</td>\n",
              "      <td>2016-03-31 00:00:00</td>\n",
              "      <td>2016-04-06 10:17:21</td>\n",
              "    </tr>\n",
              "  </tbody>\n",
              "</table>\n",
              "</div>\n",
              "    <div class=\"colab-df-buttons\">\n",
              "\n",
              "  <div class=\"colab-df-container\">\n",
              "    <button class=\"colab-df-convert\" onclick=\"convertToInteractive('df-cd53e816-7f70-49bf-a7e4-d108614f41e8')\"\n",
              "            title=\"Convert this dataframe to an interactive table.\"\n",
              "            style=\"display:none;\">\n",
              "\n",
              "  <svg xmlns=\"http://www.w3.org/2000/svg\" height=\"24px\" viewBox=\"0 -960 960 960\">\n",
              "    <path d=\"M120-120v-720h720v720H120Zm60-500h600v-160H180v160Zm220 220h160v-160H400v160Zm0 220h160v-160H400v160ZM180-400h160v-160H180v160Zm440 0h160v-160H620v160ZM180-180h160v-160H180v160Zm440 0h160v-160H620v160Z\"/>\n",
              "  </svg>\n",
              "    </button>\n",
              "\n",
              "  <style>\n",
              "    .colab-df-container {\n",
              "      display:flex;\n",
              "      gap: 12px;\n",
              "    }\n",
              "\n",
              "    .colab-df-convert {\n",
              "      background-color: #E8F0FE;\n",
              "      border: none;\n",
              "      border-radius: 50%;\n",
              "      cursor: pointer;\n",
              "      display: none;\n",
              "      fill: #1967D2;\n",
              "      height: 32px;\n",
              "      padding: 0 0 0 0;\n",
              "      width: 32px;\n",
              "    }\n",
              "\n",
              "    .colab-df-convert:hover {\n",
              "      background-color: #E2EBFA;\n",
              "      box-shadow: 0px 1px 2px rgba(60, 64, 67, 0.3), 0px 1px 3px 1px rgba(60, 64, 67, 0.15);\n",
              "      fill: #174EA6;\n",
              "    }\n",
              "\n",
              "    .colab-df-buttons div {\n",
              "      margin-bottom: 4px;\n",
              "    }\n",
              "\n",
              "    [theme=dark] .colab-df-convert {\n",
              "      background-color: #3B4455;\n",
              "      fill: #D2E3FC;\n",
              "    }\n",
              "\n",
              "    [theme=dark] .colab-df-convert:hover {\n",
              "      background-color: #434B5C;\n",
              "      box-shadow: 0px 1px 3px 1px rgba(0, 0, 0, 0.15);\n",
              "      filter: drop-shadow(0px 1px 2px rgba(0, 0, 0, 0.3));\n",
              "      fill: #FFFFFF;\n",
              "    }\n",
              "  </style>\n",
              "\n",
              "    <script>\n",
              "      const buttonEl =\n",
              "        document.querySelector('#df-cd53e816-7f70-49bf-a7e4-d108614f41e8 button.colab-df-convert');\n",
              "      buttonEl.style.display =\n",
              "        google.colab.kernel.accessAllowed ? 'block' : 'none';\n",
              "\n",
              "      async function convertToInteractive(key) {\n",
              "        const element = document.querySelector('#df-cd53e816-7f70-49bf-a7e4-d108614f41e8');\n",
              "        const dataTable =\n",
              "          await google.colab.kernel.invokeFunction('convertToInteractive',\n",
              "                                                    [key], {});\n",
              "        if (!dataTable) return;\n",
              "\n",
              "        const docLinkHtml = 'Like what you see? Visit the ' +\n",
              "          '<a target=\"_blank\" href=https://colab.research.google.com/notebooks/data_table.ipynb>data table notebook</a>'\n",
              "          + ' to learn more about interactive tables.';\n",
              "        element.innerHTML = '';\n",
              "        dataTable['output_type'] = 'display_data';\n",
              "        await google.colab.output.renderOutput(dataTable, element);\n",
              "        const docLink = document.createElement('div');\n",
              "        docLink.innerHTML = docLinkHtml;\n",
              "        element.appendChild(docLink);\n",
              "      }\n",
              "    </script>\n",
              "  </div>\n",
              "\n",
              "\n",
              "<div id=\"df-0e601562-e381-4427-9ef9-4ca30602bbd5\">\n",
              "  <button class=\"colab-df-quickchart\" onclick=\"quickchart('df-0e601562-e381-4427-9ef9-4ca30602bbd5')\"\n",
              "            title=\"Suggest charts.\"\n",
              "            style=\"display:none;\">\n",
              "\n",
              "<svg xmlns=\"http://www.w3.org/2000/svg\" height=\"24px\"viewBox=\"0 0 24 24\"\n",
              "     width=\"24px\">\n",
              "    <g>\n",
              "        <path d=\"M19 3H5c-1.1 0-2 .9-2 2v14c0 1.1.9 2 2 2h14c1.1 0 2-.9 2-2V5c0-1.1-.9-2-2-2zM9 17H7v-7h2v7zm4 0h-2V7h2v10zm4 0h-2v-4h2v4z\"/>\n",
              "    </g>\n",
              "</svg>\n",
              "  </button>\n",
              "\n",
              "<style>\n",
              "  .colab-df-quickchart {\n",
              "      --bg-color: #E8F0FE;\n",
              "      --fill-color: #1967D2;\n",
              "      --hover-bg-color: #E2EBFA;\n",
              "      --hover-fill-color: #174EA6;\n",
              "      --disabled-fill-color: #AAA;\n",
              "      --disabled-bg-color: #DDD;\n",
              "  }\n",
              "\n",
              "  [theme=dark] .colab-df-quickchart {\n",
              "      --bg-color: #3B4455;\n",
              "      --fill-color: #D2E3FC;\n",
              "      --hover-bg-color: #434B5C;\n",
              "      --hover-fill-color: #FFFFFF;\n",
              "      --disabled-bg-color: #3B4455;\n",
              "      --disabled-fill-color: #666;\n",
              "  }\n",
              "\n",
              "  .colab-df-quickchart {\n",
              "    background-color: var(--bg-color);\n",
              "    border: none;\n",
              "    border-radius: 50%;\n",
              "    cursor: pointer;\n",
              "    display: none;\n",
              "    fill: var(--fill-color);\n",
              "    height: 32px;\n",
              "    padding: 0;\n",
              "    width: 32px;\n",
              "  }\n",
              "\n",
              "  .colab-df-quickchart:hover {\n",
              "    background-color: var(--hover-bg-color);\n",
              "    box-shadow: 0 1px 2px rgba(60, 64, 67, 0.3), 0 1px 3px 1px rgba(60, 64, 67, 0.15);\n",
              "    fill: var(--button-hover-fill-color);\n",
              "  }\n",
              "\n",
              "  .colab-df-quickchart-complete:disabled,\n",
              "  .colab-df-quickchart-complete:disabled:hover {\n",
              "    background-color: var(--disabled-bg-color);\n",
              "    fill: var(--disabled-fill-color);\n",
              "    box-shadow: none;\n",
              "  }\n",
              "\n",
              "  .colab-df-spinner {\n",
              "    border: 2px solid var(--fill-color);\n",
              "    border-color: transparent;\n",
              "    border-bottom-color: var(--fill-color);\n",
              "    animation:\n",
              "      spin 1s steps(1) infinite;\n",
              "  }\n",
              "\n",
              "  @keyframes spin {\n",
              "    0% {\n",
              "      border-color: transparent;\n",
              "      border-bottom-color: var(--fill-color);\n",
              "      border-left-color: var(--fill-color);\n",
              "    }\n",
              "    20% {\n",
              "      border-color: transparent;\n",
              "      border-left-color: var(--fill-color);\n",
              "      border-top-color: var(--fill-color);\n",
              "    }\n",
              "    30% {\n",
              "      border-color: transparent;\n",
              "      border-left-color: var(--fill-color);\n",
              "      border-top-color: var(--fill-color);\n",
              "      border-right-color: var(--fill-color);\n",
              "    }\n",
              "    40% {\n",
              "      border-color: transparent;\n",
              "      border-right-color: var(--fill-color);\n",
              "      border-top-color: var(--fill-color);\n",
              "    }\n",
              "    60% {\n",
              "      border-color: transparent;\n",
              "      border-right-color: var(--fill-color);\n",
              "    }\n",
              "    80% {\n",
              "      border-color: transparent;\n",
              "      border-right-color: var(--fill-color);\n",
              "      border-bottom-color: var(--fill-color);\n",
              "    }\n",
              "    90% {\n",
              "      border-color: transparent;\n",
              "      border-bottom-color: var(--fill-color);\n",
              "    }\n",
              "  }\n",
              "</style>\n",
              "\n",
              "  <script>\n",
              "    async function quickchart(key) {\n",
              "      const quickchartButtonEl =\n",
              "        document.querySelector('#' + key + ' button');\n",
              "      quickchartButtonEl.disabled = true;  // To prevent multiple clicks.\n",
              "      quickchartButtonEl.classList.add('colab-df-spinner');\n",
              "      try {\n",
              "        const charts = await google.colab.kernel.invokeFunction(\n",
              "            'suggestCharts', [key], {});\n",
              "      } catch (error) {\n",
              "        console.error('Error during call to suggestCharts:', error);\n",
              "      }\n",
              "      quickchartButtonEl.classList.remove('colab-df-spinner');\n",
              "      quickchartButtonEl.classList.add('colab-df-quickchart-complete');\n",
              "    }\n",
              "    (() => {\n",
              "      let quickchartButtonEl =\n",
              "        document.querySelector('#df-0e601562-e381-4427-9ef9-4ca30602bbd5 button');\n",
              "      quickchartButtonEl.style.display =\n",
              "        google.colab.kernel.accessAllowed ? 'block' : 'none';\n",
              "    })();\n",
              "  </script>\n",
              "</div>\n",
              "    </div>\n",
              "  </div>\n"
            ]
          },
          "metadata": {},
          "execution_count": 10
        }
      ],
      "source": [
        "# Посмотрим, если они в одном формате представлены\n",
        "#то их одновременно приведем к формату datetime\n",
        "data[['DateCrawled', 'DateCreated', 'LastSeen']].head()"
      ]
    },
    {
      "cell_type": "code",
      "execution_count": 11,
      "metadata": {
        "id": "eUxzJN2mEzYI"
      },
      "outputs": [],
      "source": [
        "date_columns = ['DateCrawled', 'DateCreated', 'LastSeen']"
      ]
    },
    {
      "cell_type": "code",
      "execution_count": 12,
      "metadata": {
        "colab": {
          "base_uri": "https://localhost:8080/",
          "height": 206
        },
        "id": "Qb-VNgaZ8WEI",
        "outputId": "793643b9-559a-4592-d6cc-8ad9a04fe7a9"
      },
      "outputs": [
        {
          "output_type": "execute_result",
          "data": {
            "text/plain": [
              "  DateCrawled DateCreated    LastSeen\n",
              "0  2016-03-24  2016-03-24  2016-04-07\n",
              "1  2016-03-24  2016-03-24  2016-04-07\n",
              "2  2016-03-14  2016-03-14  2016-04-05\n",
              "3  2016-03-17  2016-03-17  2016-03-17\n",
              "4  2016-03-31  2016-03-31  2016-04-06"
            ],
            "text/html": [
              "\n",
              "  <div id=\"df-d2b6a493-03cb-4b0b-b0a0-bc99eec16ca1\" class=\"colab-df-container\">\n",
              "    <div>\n",
              "<style scoped>\n",
              "    .dataframe tbody tr th:only-of-type {\n",
              "        vertical-align: middle;\n",
              "    }\n",
              "\n",
              "    .dataframe tbody tr th {\n",
              "        vertical-align: top;\n",
              "    }\n",
              "\n",
              "    .dataframe thead th {\n",
              "        text-align: right;\n",
              "    }\n",
              "</style>\n",
              "<table border=\"1\" class=\"dataframe\">\n",
              "  <thead>\n",
              "    <tr style=\"text-align: right;\">\n",
              "      <th></th>\n",
              "      <th>DateCrawled</th>\n",
              "      <th>DateCreated</th>\n",
              "      <th>LastSeen</th>\n",
              "    </tr>\n",
              "  </thead>\n",
              "  <tbody>\n",
              "    <tr>\n",
              "      <th>0</th>\n",
              "      <td>2016-03-24</td>\n",
              "      <td>2016-03-24</td>\n",
              "      <td>2016-04-07</td>\n",
              "    </tr>\n",
              "    <tr>\n",
              "      <th>1</th>\n",
              "      <td>2016-03-24</td>\n",
              "      <td>2016-03-24</td>\n",
              "      <td>2016-04-07</td>\n",
              "    </tr>\n",
              "    <tr>\n",
              "      <th>2</th>\n",
              "      <td>2016-03-14</td>\n",
              "      <td>2016-03-14</td>\n",
              "      <td>2016-04-05</td>\n",
              "    </tr>\n",
              "    <tr>\n",
              "      <th>3</th>\n",
              "      <td>2016-03-17</td>\n",
              "      <td>2016-03-17</td>\n",
              "      <td>2016-03-17</td>\n",
              "    </tr>\n",
              "    <tr>\n",
              "      <th>4</th>\n",
              "      <td>2016-03-31</td>\n",
              "      <td>2016-03-31</td>\n",
              "      <td>2016-04-06</td>\n",
              "    </tr>\n",
              "  </tbody>\n",
              "</table>\n",
              "</div>\n",
              "    <div class=\"colab-df-buttons\">\n",
              "\n",
              "  <div class=\"colab-df-container\">\n",
              "    <button class=\"colab-df-convert\" onclick=\"convertToInteractive('df-d2b6a493-03cb-4b0b-b0a0-bc99eec16ca1')\"\n",
              "            title=\"Convert this dataframe to an interactive table.\"\n",
              "            style=\"display:none;\">\n",
              "\n",
              "  <svg xmlns=\"http://www.w3.org/2000/svg\" height=\"24px\" viewBox=\"0 -960 960 960\">\n",
              "    <path d=\"M120-120v-720h720v720H120Zm60-500h600v-160H180v160Zm220 220h160v-160H400v160Zm0 220h160v-160H400v160ZM180-400h160v-160H180v160Zm440 0h160v-160H620v160ZM180-180h160v-160H180v160Zm440 0h160v-160H620v160Z\"/>\n",
              "  </svg>\n",
              "    </button>\n",
              "\n",
              "  <style>\n",
              "    .colab-df-container {\n",
              "      display:flex;\n",
              "      gap: 12px;\n",
              "    }\n",
              "\n",
              "    .colab-df-convert {\n",
              "      background-color: #E8F0FE;\n",
              "      border: none;\n",
              "      border-radius: 50%;\n",
              "      cursor: pointer;\n",
              "      display: none;\n",
              "      fill: #1967D2;\n",
              "      height: 32px;\n",
              "      padding: 0 0 0 0;\n",
              "      width: 32px;\n",
              "    }\n",
              "\n",
              "    .colab-df-convert:hover {\n",
              "      background-color: #E2EBFA;\n",
              "      box-shadow: 0px 1px 2px rgba(60, 64, 67, 0.3), 0px 1px 3px 1px rgba(60, 64, 67, 0.15);\n",
              "      fill: #174EA6;\n",
              "    }\n",
              "\n",
              "    .colab-df-buttons div {\n",
              "      margin-bottom: 4px;\n",
              "    }\n",
              "\n",
              "    [theme=dark] .colab-df-convert {\n",
              "      background-color: #3B4455;\n",
              "      fill: #D2E3FC;\n",
              "    }\n",
              "\n",
              "    [theme=dark] .colab-df-convert:hover {\n",
              "      background-color: #434B5C;\n",
              "      box-shadow: 0px 1px 3px 1px rgba(0, 0, 0, 0.15);\n",
              "      filter: drop-shadow(0px 1px 2px rgba(0, 0, 0, 0.3));\n",
              "      fill: #FFFFFF;\n",
              "    }\n",
              "  </style>\n",
              "\n",
              "    <script>\n",
              "      const buttonEl =\n",
              "        document.querySelector('#df-d2b6a493-03cb-4b0b-b0a0-bc99eec16ca1 button.colab-df-convert');\n",
              "      buttonEl.style.display =\n",
              "        google.colab.kernel.accessAllowed ? 'block' : 'none';\n",
              "\n",
              "      async function convertToInteractive(key) {\n",
              "        const element = document.querySelector('#df-d2b6a493-03cb-4b0b-b0a0-bc99eec16ca1');\n",
              "        const dataTable =\n",
              "          await google.colab.kernel.invokeFunction('convertToInteractive',\n",
              "                                                    [key], {});\n",
              "        if (!dataTable) return;\n",
              "\n",
              "        const docLinkHtml = 'Like what you see? Visit the ' +\n",
              "          '<a target=\"_blank\" href=https://colab.research.google.com/notebooks/data_table.ipynb>data table notebook</a>'\n",
              "          + ' to learn more about interactive tables.';\n",
              "        element.innerHTML = '';\n",
              "        dataTable['output_type'] = 'display_data';\n",
              "        await google.colab.output.renderOutput(dataTable, element);\n",
              "        const docLink = document.createElement('div');\n",
              "        docLink.innerHTML = docLinkHtml;\n",
              "        element.appendChild(docLink);\n",
              "      }\n",
              "    </script>\n",
              "  </div>\n",
              "\n",
              "\n",
              "<div id=\"df-ca0335f2-7e00-4d30-919d-a8468caa02b1\">\n",
              "  <button class=\"colab-df-quickchart\" onclick=\"quickchart('df-ca0335f2-7e00-4d30-919d-a8468caa02b1')\"\n",
              "            title=\"Suggest charts.\"\n",
              "            style=\"display:none;\">\n",
              "\n",
              "<svg xmlns=\"http://www.w3.org/2000/svg\" height=\"24px\"viewBox=\"0 0 24 24\"\n",
              "     width=\"24px\">\n",
              "    <g>\n",
              "        <path d=\"M19 3H5c-1.1 0-2 .9-2 2v14c0 1.1.9 2 2 2h14c1.1 0 2-.9 2-2V5c0-1.1-.9-2-2-2zM9 17H7v-7h2v7zm4 0h-2V7h2v10zm4 0h-2v-4h2v4z\"/>\n",
              "    </g>\n",
              "</svg>\n",
              "  </button>\n",
              "\n",
              "<style>\n",
              "  .colab-df-quickchart {\n",
              "      --bg-color: #E8F0FE;\n",
              "      --fill-color: #1967D2;\n",
              "      --hover-bg-color: #E2EBFA;\n",
              "      --hover-fill-color: #174EA6;\n",
              "      --disabled-fill-color: #AAA;\n",
              "      --disabled-bg-color: #DDD;\n",
              "  }\n",
              "\n",
              "  [theme=dark] .colab-df-quickchart {\n",
              "      --bg-color: #3B4455;\n",
              "      --fill-color: #D2E3FC;\n",
              "      --hover-bg-color: #434B5C;\n",
              "      --hover-fill-color: #FFFFFF;\n",
              "      --disabled-bg-color: #3B4455;\n",
              "      --disabled-fill-color: #666;\n",
              "  }\n",
              "\n",
              "  .colab-df-quickchart {\n",
              "    background-color: var(--bg-color);\n",
              "    border: none;\n",
              "    border-radius: 50%;\n",
              "    cursor: pointer;\n",
              "    display: none;\n",
              "    fill: var(--fill-color);\n",
              "    height: 32px;\n",
              "    padding: 0;\n",
              "    width: 32px;\n",
              "  }\n",
              "\n",
              "  .colab-df-quickchart:hover {\n",
              "    background-color: var(--hover-bg-color);\n",
              "    box-shadow: 0 1px 2px rgba(60, 64, 67, 0.3), 0 1px 3px 1px rgba(60, 64, 67, 0.15);\n",
              "    fill: var(--button-hover-fill-color);\n",
              "  }\n",
              "\n",
              "  .colab-df-quickchart-complete:disabled,\n",
              "  .colab-df-quickchart-complete:disabled:hover {\n",
              "    background-color: var(--disabled-bg-color);\n",
              "    fill: var(--disabled-fill-color);\n",
              "    box-shadow: none;\n",
              "  }\n",
              "\n",
              "  .colab-df-spinner {\n",
              "    border: 2px solid var(--fill-color);\n",
              "    border-color: transparent;\n",
              "    border-bottom-color: var(--fill-color);\n",
              "    animation:\n",
              "      spin 1s steps(1) infinite;\n",
              "  }\n",
              "\n",
              "  @keyframes spin {\n",
              "    0% {\n",
              "      border-color: transparent;\n",
              "      border-bottom-color: var(--fill-color);\n",
              "      border-left-color: var(--fill-color);\n",
              "    }\n",
              "    20% {\n",
              "      border-color: transparent;\n",
              "      border-left-color: var(--fill-color);\n",
              "      border-top-color: var(--fill-color);\n",
              "    }\n",
              "    30% {\n",
              "      border-color: transparent;\n",
              "      border-left-color: var(--fill-color);\n",
              "      border-top-color: var(--fill-color);\n",
              "      border-right-color: var(--fill-color);\n",
              "    }\n",
              "    40% {\n",
              "      border-color: transparent;\n",
              "      border-right-color: var(--fill-color);\n",
              "      border-top-color: var(--fill-color);\n",
              "    }\n",
              "    60% {\n",
              "      border-color: transparent;\n",
              "      border-right-color: var(--fill-color);\n",
              "    }\n",
              "    80% {\n",
              "      border-color: transparent;\n",
              "      border-right-color: var(--fill-color);\n",
              "      border-bottom-color: var(--fill-color);\n",
              "    }\n",
              "    90% {\n",
              "      border-color: transparent;\n",
              "      border-bottom-color: var(--fill-color);\n",
              "    }\n",
              "  }\n",
              "</style>\n",
              "\n",
              "  <script>\n",
              "    async function quickchart(key) {\n",
              "      const quickchartButtonEl =\n",
              "        document.querySelector('#' + key + ' button');\n",
              "      quickchartButtonEl.disabled = true;  // To prevent multiple clicks.\n",
              "      quickchartButtonEl.classList.add('colab-df-spinner');\n",
              "      try {\n",
              "        const charts = await google.colab.kernel.invokeFunction(\n",
              "            'suggestCharts', [key], {});\n",
              "      } catch (error) {\n",
              "        console.error('Error during call to suggestCharts:', error);\n",
              "      }\n",
              "      quickchartButtonEl.classList.remove('colab-df-spinner');\n",
              "      quickchartButtonEl.classList.add('colab-df-quickchart-complete');\n",
              "    }\n",
              "    (() => {\n",
              "      let quickchartButtonEl =\n",
              "        document.querySelector('#df-ca0335f2-7e00-4d30-919d-a8468caa02b1 button');\n",
              "      quickchartButtonEl.style.display =\n",
              "        google.colab.kernel.accessAllowed ? 'block' : 'none';\n",
              "    })();\n",
              "  </script>\n",
              "</div>\n",
              "    </div>\n",
              "  </div>\n"
            ]
          },
          "metadata": {},
          "execution_count": 12
        }
      ],
      "source": [
        "data[date_columns] = data[date_columns]\\\n",
        "            .applymap(lambda x: pd.to_datetime(x).date())\n",
        "\n",
        "data[date_columns].head()"
      ]
    },
    {
      "cell_type": "markdown",
      "metadata": {
        "id": "gzI_tsUuKT-1"
      },
      "source": [
        "Проверим, не одинаковые ли значения содержат признаки 'DateCrawled' и 'DateCreated', если разница будет в районе одного месяца то можно уверенно удалить один из признаков."
      ]
    },
    {
      "cell_type": "code",
      "execution_count": 13,
      "metadata": {
        "colab": {
          "base_uri": "https://localhost:8080/"
        },
        "id": "-CqnbVqVKAdo",
        "outputId": "73807d57-68f4-4f3f-b0d2-520dc8c2ee37"
      },
      "outputs": [
        {
          "output_type": "execute_result",
          "data": {
            "text/plain": [
              "False"
            ]
          },
          "metadata": {},
          "execution_count": 13
        }
      ],
      "source": [
        "(data['DateCrawled'] == data['DateCreated']).all()\n"
      ]
    },
    {
      "cell_type": "markdown",
      "metadata": {
        "id": "EyrjXtEAw-KV"
      },
      "source": [
        "Значения в этих признаках не совпадают, значит они не дублирующие друг друга."
      ]
    },
    {
      "cell_type": "markdown",
      "metadata": {
        "id": "-z30h5XqxNcv"
      },
      "source": [
        "Оценим разницу в этих признаках"
      ]
    },
    {
      "cell_type": "code",
      "execution_count": null,
      "metadata": {
        "id": "Fbhq6UBEM1L6"
      },
      "outputs": [],
      "source": [
        "date_difference = data['DateCrawled'] - data['DateCreated']"
      ]
    },
    {
      "cell_type": "code",
      "execution_count": null,
      "metadata": {
        "id": "YxsudSyDyP9F"
      },
      "outputs": [],
      "source": [
        "date_difference.describe().to_frame()"
      ]
    },
    {
      "cell_type": "markdown",
      "metadata": {
        "id": "gpSfrKgfy851"
      },
      "source": [
        "Видим, что большая часть пользователей заполняют анкеты в день скачивания,"
      ]
    },
    {
      "cell_type": "code",
      "execution_count": null,
      "metadata": {
        "id": "8ckv2My2xmin"
      },
      "outputs": [],
      "source": [
        "date_difference.value_counts(ascending = False).head(10).to_frame().transpose()"
      ]
    },
    {
      "cell_type": "code",
      "execution_count": null,
      "metadata": {
        "id": "q6UBjnwny7-E"
      },
      "outputs": [],
      "source": [
        "date_difference.value_counts(ascending = True).head(10).to_frame().transpose()"
      ]
    },
    {
      "cell_type": "markdown",
      "metadata": {
        "id": "w9AFnxjDzu3R"
      },
      "source": [
        "  Несмотря на то, что в этих данных имеются различия, мы можем заменить признак date_crawled на признак date_difference.\n",
        "  Это сделать целесобразно потому что этот признак мы сохраним в числовом формате, что удобнее для кодирования и обработки."
      ]
    },
    {
      "cell_type": "code",
      "execution_count": null,
      "metadata": {
        "id": "-SPLyFxl0Rvd"
      },
      "outputs": [],
      "source": [
        "data['date_difference'] = date_difference.dt.days\n",
        "data['date_difference'].head()"
      ]
    },
    {
      "cell_type": "code",
      "execution_count": null,
      "metadata": {
        "id": "ilVaMVCL0b6P"
      },
      "outputs": [],
      "source": [
        "data['date_difference'].dtype"
      ]
    },
    {
      "cell_type": "markdown",
      "metadata": {
        "id": "Kw2HxilpJhM5"
      },
      "source": [
        "- Из значений в признаках, содержащих дату со временем извлечена дата, что позволит работать нам с только с датой\n",
        "- Создан новый признак date_difference, который содержит количество дней от дня скачивания до дня создания анкеты."
      ]
    },
    {
      "cell_type": "markdown",
      "metadata": {
        "id": "nP7wIuoYKKBV"
      },
      "source": [
        "## Приведение названий признаков к змеиному формату"
      ]
    },
    {
      "cell_type": "code",
      "execution_count": null,
      "metadata": {
        "id": "ShY-f72uJ7q0"
      },
      "outputs": [],
      "source": [
        "data.columns"
      ]
    },
    {
      "cell_type": "markdown",
      "metadata": {
        "id": "92OgajRtKWD5"
      },
      "source": [
        "Необходимо:\n",
        "- привести к строчному регистру\n",
        "- добавить _ между словами"
      ]
    },
    {
      "cell_type": "code",
      "execution_count": null,
      "metadata": {
        "id": "hRa35ElCKhy6"
      },
      "outputs": [],
      "source": [
        "data.columns = ['date_crawled', 'price', 'vehicle_type', 'registration_year', 'gear_box',\n",
        "       'power', 'model', 'kilometer', 'registration_month', 'fuel_type', 'brand',\n",
        "       'repaired', 'date_created', 'pictures_amount', 'postal_code',\n",
        "       'last_seen','date_difference']"
      ]
    },
    {
      "cell_type": "code",
      "execution_count": null,
      "metadata": {
        "id": "jQdggRN7LFLe"
      },
      "outputs": [],
      "source": [
        "data.columns"
      ]
    },
    {
      "cell_type": "markdown",
      "metadata": {
        "id": "KC7xXr5lLJit"
      },
      "source": [
        "Названия исправлены."
      ]
    },
    {
      "cell_type": "markdown",
      "metadata": {
        "id": "A3iLx4jtDpyS"
      },
      "source": [
        "## Анализ пропущенных значений"
      ]
    },
    {
      "cell_type": "markdown",
      "metadata": {
        "id": "wQGNc-5NTLEy"
      },
      "source": [
        "Заполнять все пропуски я буду заглушками, которые отличимы от реальных данных.\n",
        "\n",
        "Синтетические данные я подбирать не буду.\n",
        "\n",
        "Для каждого признака с пропущенными значениями я построю график чтобы оценить какие значения содержатся и какой масштаб (для числовых признаков).\n",
        "\n",
        "- Числовые признаки числом, отличимым по масштабу от реальных данных -1\n",
        "- Категориальные признаки заглушкой **no_info**"
      ]
    },
    {
      "cell_type": "code",
      "execution_count": null,
      "metadata": {
        "id": "ZfCJap1nOFYz"
      },
      "outputs": [],
      "source": [
        "def pass_value_barh(df):\n",
        "    try:(\n",
        "        (df.isna().mean()*100)\n",
        "            .to_frame()\n",
        "            .rename(columns = {0:'space'})\n",
        "            .query('space > 0')\n",
        "            .sort_values(by = 'space', ascending = True)\n",
        "            .plot(kind = 'barh',\n",
        "                  figsize = (19,6),\n",
        "                  rot = -0,\n",
        "                  legend = False,\n",
        "                  fontsize = 16,\n",
        "                  xticks=[i/10 for i in range(0, 1000, 50)],\n",
        "                  color='skyblue')\n",
        "            .set_title('Количество пропущенных значений' + \"\\n\", fontsize = 22, color = 'Black')\n",
        "        );\n",
        "    except:\n",
        "        print('пропусков не осталось')"
      ]
    },
    {
      "cell_type": "code",
      "execution_count": null,
      "metadata": {
        "id": "Edg8QULgDo2b"
      },
      "outputs": [],
      "source": [
        "pass_value_barh(data)"
      ]
    },
    {
      "cell_type": "markdown",
      "metadata": {
        "id": "az5T1VSnWHWH"
      },
      "source": [
        "### repaired"
      ]
    },
    {
      "cell_type": "code",
      "execution_count": null,
      "metadata": {
        "id": "Qgng5gPjIOuv"
      },
      "outputs": [],
      "source": [
        "data['repaired'].value_counts(dropna=False).plot(kind='bar',\n",
        "                                                 color='skyblue',\n",
        "                                                 figsize = (6,2))\n",
        "plt.title('Распределение числа ремонтированных тс')\n",
        "plt.ylabel('Количество')\n",
        "plt.xticks(rotation=45)\n",
        "plt.show()"
      ]
    },
    {
      "cell_type": "markdown",
      "metadata": {
        "id": "s93c5gLgWKoT"
      },
      "source": [
        "### vehicle_type"
      ]
    },
    {
      "cell_type": "code",
      "execution_count": null,
      "metadata": {
        "id": "aQPCSU09IGl_"
      },
      "outputs": [],
      "source": [
        "data['vehicle_type'].value_counts(dropna=False).plot(kind='barh',\n",
        "                                                     color='skyblue',\n",
        "                                                     figsize = (8,4))\n",
        "plt.title('Распределение Типов Транспортных Средств')\n",
        "plt.ylabel('Тип Транспортного Средства')\n",
        "plt.xlabel('Количество')\n",
        "plt.tight_layout()\n",
        "plt.show()"
      ]
    },
    {
      "cell_type": "markdown",
      "metadata": {
        "id": "l0MEIjHfWDiH"
      },
      "source": [
        "### fuel_type"
      ]
    },
    {
      "cell_type": "code",
      "execution_count": null,
      "metadata": {
        "id": "XyQVdBaQIO9J"
      },
      "outputs": [],
      "source": [
        "data['fuel_type'].value_counts(dropna=False).plot(kind='barh',\n",
        "                                                  color='skyblue',\n",
        "                                                  figsize = (8,2))\n",
        "plt.title('Распределение Типов топлива')\n",
        "plt.ylabel('Тип топлива')\n",
        "plt.xlabel('Количество')\n",
        "plt.tight_layout()\n",
        "plt.show()"
      ]
    },
    {
      "cell_type": "markdown",
      "metadata": {
        "id": "7n5x6lpwV_I1"
      },
      "source": [
        "### gear_box"
      ]
    },
    {
      "cell_type": "code",
      "execution_count": null,
      "metadata": {
        "id": "J28cbolPExpQ"
      },
      "outputs": [],
      "source": [
        "data['gear_box'].value_counts(dropna=False).plot(kind='barh',\n",
        "                                                  color='skyblue',\n",
        "                                                  figsize = (8,2))\n",
        "plt.title('Распределение Типов коробки передач')\n",
        "plt.ylabel('Тип коробки')\n",
        "plt.xlabel('Количество')\n",
        "plt.tight_layout()\n",
        "plt.show()"
      ]
    },
    {
      "cell_type": "markdown",
      "metadata": {
        "id": "xYkbWpSmV4Qe"
      },
      "source": [
        "### model"
      ]
    },
    {
      "cell_type": "markdown",
      "metadata": {
        "id": "aGNnTqp_UKnL"
      },
      "source": [
        "следующий признак один из важнейших, но график строить нецелесообразно из-за того, что в данном признаке содержится слишком много уникальных названий моделей автомобилей.\n",
        "\n",
        "Значения категориальные и следовательно заполняем заглушкой no_info"
      ]
    },
    {
      "cell_type": "markdown",
      "metadata": {
        "id": "mxLjzfOzWayL"
      },
      "source": [
        "### Заполняем пропуски"
      ]
    },
    {
      "cell_type": "code",
      "execution_count": null,
      "metadata": {
        "id": "fUF-oYsFWe2d"
      },
      "outputs": [],
      "source": [
        "data = data.fillna('no_info')"
      ]
    },
    {
      "cell_type": "code",
      "execution_count": null,
      "metadata": {
        "id": "Vfnndykur-xf"
      },
      "outputs": [],
      "source": [
        "pass_value_barh(data)"
      ]
    },
    {
      "cell_type": "code",
      "execution_count": null,
      "metadata": {
        "id": "_ffUGOkks0Ea"
      },
      "outputs": [],
      "source": [
        "data.head()"
      ]
    },
    {
      "cell_type": "markdown",
      "metadata": {
        "id": "x9OtRAb1S1Cd"
      },
      "source": [
        "\n",
        "Пропуски имеются исключительно в категориальных признаках."
      ]
    },
    {
      "cell_type": "markdown",
      "metadata": {
        "id": "qwvI2USAsazf"
      },
      "source": [
        "Пропуски заполнены."
      ]
    },
    {
      "cell_type": "markdown",
      "metadata": {
        "id": "i4HwGaiH98Nf"
      },
      "source": [
        "## Анализ числовых признаков на аномалии"
      ]
    },
    {
      "cell_type": "code",
      "execution_count": null,
      "metadata": {
        "id": "GvJSNrtLLIGr"
      },
      "outputs": [],
      "source": [
        "data.dtypes"
      ]
    },
    {
      "cell_type": "markdown",
      "metadata": {
        "id": "W6BPrfGd_C67"
      },
      "source": [
        "Для анализа распределения воспользуемся графиками.\n",
        "\n",
        "Для этого заранее подготовим переменные в которых сохраним названия признаков содержащих одинаковый тип данных."
      ]
    },
    {
      "cell_type": "code",
      "execution_count": null,
      "metadata": {
        "id": "PVKr7e4C-NE_"
      },
      "outputs": [],
      "source": [
        "categorical_columns = data.select_dtypes(include = 'object').columns\n",
        "numeric_columns = data.select_dtypes(include = 'number').columns"
      ]
    },
    {
      "cell_type": "code",
      "execution_count": null,
      "metadata": {
        "id": "kFjZ1cCYS1Cc"
      },
      "outputs": [],
      "source": [
        "# Оценим визуально признаки, их распределение\n",
        "data[numeric_columns].hist(layout=(4,4),figsize=(15, 20));"
      ]
    },
    {
      "cell_type": "markdown",
      "metadata": {
        "id": "8HPO9hIFS1Cd"
      },
      "source": [
        "- price нужно изучить на наличие аномалий\n",
        "- в признаке registration_year очевидно имееются аномалии\n",
        "- признак power нужно проверить на систему в которой выражена мощность.\n",
        "- kilometer имеются редкие значения, но аномалий не видно на этом графике\n",
        "- pictures_amount возможно содержат отрицательные значения, что является аномалией\n",
        "- sale_month, postal_code в обработке и анализе не нуждаются"
      ]
    },
    {
      "cell_type": "markdown",
      "metadata": {
        "id": "Glz96-rJUYmi"
      },
      "source": [
        "#### registration_year"
      ]
    },
    {
      "cell_type": "markdown",
      "metadata": {
        "id": "As2ooLzNUccH"
      },
      "source": [
        "Начнем с этого признака, так как там несомненные аномалии"
      ]
    },
    {
      "cell_type": "code",
      "execution_count": null,
      "metadata": {
        "id": "ZiGpVB6pUbuB"
      },
      "outputs": [],
      "source": [
        "data[['registration_year']].hist();"
      ]
    },
    {
      "cell_type": "code",
      "execution_count": null,
      "metadata": {
        "id": "dKIsO-ukUxNc"
      },
      "outputs": [],
      "source": [
        "data[['registration_year']].plot(\n",
        "    kind = 'hist',\n",
        "    range = (int(data[['registration_year']].min()), 1950),\n",
        "    bins = 50,\n",
        "    xticks=[x for x in range(1000, 1970, 50)],\n",
        "    rot = -45,\n",
        "    figsize = (12,6)\n",
        ");\n",
        "plt.title ('Распределение признака registration_year до 1950 года');"
      ]
    },
    {
      "cell_type": "code",
      "execution_count": null,
      "metadata": {
        "id": "HnX13iL8b05k"
      },
      "outputs": [],
      "source": [
        "data[['registration_year']].plot(\n",
        "    kind = 'hist',\n",
        "    range = (1950, 2000),\n",
        "    bins = 100,\n",
        "    xticks=[x for x in range(1950, 1990, 10)],\n",
        "    rot = -45,\n",
        "    figsize = (12,6)\n",
        ");\n",
        "plt.title ('Распределение признака registration_year 1950-1990 года');"
      ]
    },
    {
      "cell_type": "code",
      "execution_count": null,
      "metadata": {
        "id": "PAeT8L93cWZL"
      },
      "outputs": [],
      "source": [
        "data[['registration_year']].plot(\n",
        "    kind = 'hist',\n",
        "    range = (1990, 2005),\n",
        "    bins = 30,\n",
        "    xticks=[x for x in range(1990, 2005, 1)],\n",
        "    rot = -45,\n",
        "    figsize = (12,6)\n",
        ");\n",
        "plt.title ('Распределение признака registration_year 1990-2000 года');"
      ]
    },
    {
      "cell_type": "code",
      "execution_count": null,
      "metadata": {
        "id": "CrhJV1gAdRH-"
      },
      "outputs": [],
      "source": [
        "data['registration_year'].quantile([.03, .04, .05,.1,.50, .7, .95, .98]).to_frame().transpose()"
      ]
    },
    {
      "cell_type": "markdown",
      "metadata": {
        "id": "DcUXAysfbxcm"
      },
      "source": [
        "Оставляем объекты зарегистрированные в период с 1990 г по 2017."
      ]
    },
    {
      "cell_type": "code",
      "execution_count": null,
      "metadata": {
        "id": "QByXaFrcbwCi"
      },
      "outputs": [],
      "source": [
        "data = data.loc[(data['registration_year']>1990) & (data['registration_year']<=2017)]\n",
        "data.shape[0]"
      ]
    },
    {
      "cell_type": "code",
      "execution_count": null,
      "metadata": {
        "id": "F8BvgwyBeFcr"
      },
      "outputs": [],
      "source": [
        "data[['registration_year']].plot(kind = 'hist',\n",
        "                                 bins = 30,\n",
        "                                 rot = -45,\n",
        "                                 xticks = [x for x in range(1990, 2017, 5)],\n",
        "                                 grid = True)\n",
        "data['registration_year'].quantile([.03, .04, .05,.1,.50, .7, .95, .98]).to_frame().transpose()"
      ]
    },
    {
      "cell_type": "markdown",
      "metadata": {
        "id": "bY1irFEVS1Cd"
      },
      "source": [
        "####  price"
      ]
    },
    {
      "cell_type": "code",
      "execution_count": null,
      "metadata": {
        "id": "Z5_KzSrUDcay"
      },
      "outputs": [],
      "source": [
        "data.boxplot(column=['price'],\n",
        "             figsize=(12, 2),\n",
        "             vert=False,\n",
        "             patch_artist=True,\n",
        "             boxprops=dict(facecolor='lightblue'),\n",
        "             whiskerprops=dict(color='gray'),\n",
        "             medianprops=dict(color='darkblue'),\n",
        "             capprops=dict(color='gray')).set_title('Boxplot of price',\n",
        "                                                    fontsize=14);\n",
        "# Посмотрим на распределение\n",
        "data['price'].describe().to_frame().transpose()"
      ]
    },
    {
      "cell_type": "markdown",
      "metadata": {
        "id": "hMlTo05kS1Cd"
      },
      "source": [
        "Мы видим, что присутствуют объекты с нулевой стоимостью, это явные аномалии.\n",
        "Для стоимости автомобиля такой разбег по стоимости вполне допустим при условии что остальные признаки не противоречат, например высокая стоимость для автомобиля с большим пробегом, возрастом и марки \"дешевого\" ценового сегмента. И здесь сложнее сделать вывод по выбросам, так как очевидно, что автомобили премиум сегмента и очень старые автомобили (которые продают на запчасти или подросткам) будут сильно различаться в цене.\n"
      ]
    },
    {
      "cell_type": "code",
      "execution_count": null,
      "metadata": {
        "id": "R5qqmIxCS1Cd"
      },
      "outputs": [],
      "source": [
        "data['price'].quantile([.02, .03, .04, .05,.1,.50, .7, .95, .98]).to_frame().transpose()\n"
      ]
    },
    {
      "cell_type": "code",
      "execution_count": null,
      "metadata": {
        "id": "FYIVdSxa_dVW"
      },
      "outputs": [],
      "source": [
        "data.loc[data['price']==0].shape[0]"
      ]
    },
    {
      "cell_type": "markdown",
      "metadata": {
        "id": "PjyWhq7U_9VR"
      },
      "source": [
        "Мы получаем, что 2.67% данных это объекты с нулевой стоимостью.\n",
        "Их определенно нужно удалить. Иначе наши предсказания с высокой вероятностью будут иметь большее число отрицательных значений, что невозможно и потребуется более тщательная постобработка предсказаний."
      ]
    },
    {
      "cell_type": "code",
      "execution_count": null,
      "metadata": {
        "id": "upNfVEUwhl6o"
      },
      "outputs": [],
      "source": [
        "data = data.loc[data['price']>0]\n",
        "data.head()"
      ]
    },
    {
      "cell_type": "code",
      "execution_count": null,
      "metadata": {
        "id": "Ese9R9BpiEk0"
      },
      "outputs": [],
      "source": [
        "data.boxplot(column=['price'],\n",
        "             figsize=(12, 2),\n",
        "             vert=False,\n",
        "             patch_artist=True,\n",
        "             boxprops=dict(facecolor='lightblue'),\n",
        "             whiskerprops=dict(color='gray'),\n",
        "             medianprops=dict(color='darkblue'),\n",
        "             capprops=dict(color='gray')).set_title('Boxplot of price',\n",
        "                                                    fontsize=14);\n",
        "data['price'].quantile([.001, .05,.1,.50, .7, .95, .98]).to_frame().transpose()"
      ]
    },
    {
      "cell_type": "markdown",
      "metadata": {
        "id": "DRAFlqQbN2yZ"
      },
      "source": [
        "Избавимся от редких значений: оставим только объекты с ценой выше 200 евро, что соответствует 5 квантилю."
      ]
    },
    {
      "cell_type": "code",
      "execution_count": null,
      "metadata": {
        "id": "_Bs_tWKkEuNw"
      },
      "outputs": [],
      "source": [
        "data = data.loc[data['price']>200]\n",
        "data.head()"
      ]
    },
    {
      "cell_type": "code",
      "execution_count": null,
      "metadata": {
        "id": "4cKRjzqWh-Ro"
      },
      "outputs": [],
      "source": [
        "data.boxplot(column=['price'],\n",
        "             figsize=(12, 2),\n",
        "             vert=False,\n",
        "             patch_artist=True,\n",
        "             boxprops=dict(facecolor='lightblue'),\n",
        "             whiskerprops=dict(color='gray'),\n",
        "             medianprops=dict(color='darkblue'),\n",
        "             capprops=dict(color='gray')).set_title('Boxplot of price',\n",
        "                                                    fontsize=14);\n",
        "data['price'].quantile([.001, .05,.1,.50, .7, .95, .98]).to_frame().transpose()"
      ]
    },
    {
      "cell_type": "code",
      "execution_count": null,
      "metadata": {
        "id": "s915umdUFvY3"
      },
      "outputs": [],
      "source": [
        "data['price'].quantile([.001, .05,.1,.50, .7, .95, .98]).to_frame().transpose()"
      ]
    },
    {
      "cell_type": "code",
      "execution_count": null,
      "metadata": {
        "id": "2GNYa0eBE_7P"
      },
      "outputs": [],
      "source": [
        "data[['price']].describe()"
      ]
    },
    {
      "cell_type": "markdown",
      "metadata": {
        "id": "jFoG-LfKOpdY"
      },
      "source": [
        "После удаления объектов с аномально низкой и редким значением стоимости мы видим, что:\n",
        "-  средняя цена выросла с 4437 до 4670\n",
        "- медианная стоимость незначительно упала с 2750 до 2700.0\n",
        "\n",
        "Параметры выборки изменились в допустимых размерах."
      ]
    },
    {
      "cell_type": "markdown",
      "metadata": {
        "id": "hPL69WWKQN2R"
      },
      "source": [
        "Проанализируем объекты хвостовой части. Их мы рассмотрим совместно с пробегом и датой регистрацией автомобиля, так как большой пробег для высокой цены нелогичен."
      ]
    },
    {
      "cell_type": "code",
      "execution_count": null,
      "metadata": {
        "id": "8lgmT77E__y3"
      },
      "outputs": [],
      "source": [
        "sns.heatmap(data.loc[data['price']>15000, ['price','kilometer','registration_year']]\\\n",
        "                              .sort_values(\n",
        "                                          by = ['price','kilometer'],\n",
        "                                          ascending=False)\\\n",
        "                               .corr());\n"
      ]
    },
    {
      "cell_type": "markdown",
      "metadata": {
        "id": "eb7sfdY9lbNH"
      },
      "source": [
        "Эти объекты действительно похожи на аномальные, так как не видно четкой зависимости между этими параметрами, тогда как в реальной жизни будет существовать зависимость:\n",
        "- старше автомобиль- больше пробег\n",
        "- больше пробег - ниже стоимость.\n",
        "Если зависимость между годом регистрации и пробегом мы наблюдаем (хоть и не убедительную), то зависимость цены от этих параметров мы не наблюдаем вовсе.\n",
        "\n"
      ]
    },
    {
      "cell_type": "code",
      "execution_count": null,
      "metadata": {
        "id": "J7s8QxI2RgDG"
      },
      "outputs": [],
      "source": [
        "data.loc[data['price']>15000, 'kilometer'].value_counts().to_frame().transpose()"
      ]
    },
    {
      "cell_type": "code",
      "execution_count": null,
      "metadata": {
        "id": "CX4GKbqRSjiJ"
      },
      "outputs": [],
      "source": [
        "data.loc[data['price']>15000, 'registration_year'].value_counts().sort_values(ascending = False).to_frame().head(15).transpose()"
      ]
    },
    {
      "cell_type": "markdown",
      "metadata": {
        "id": "7CytkGtsq0m4"
      },
      "source": [
        "Посмотри на признак date_crawled (дата скачивания анкеты), чтобы понять когда сервис начал продавать автомобили"
      ]
    },
    {
      "cell_type": "code",
      "execution_count": null,
      "metadata": {
        "id": "j8X6vMt5Sj0v"
      },
      "outputs": [],
      "source": [
        "data.loc[data['price']>15000].groupby('registration_year')[['price']].count().plot(kind = 'bar',\n",
        "                                                        rot = 60,\n",
        "                                                        color = 'green');"
      ]
    },
    {
      "cell_type": "code",
      "execution_count": null,
      "metadata": {
        "id": "DVlwkwAAoWHL"
      },
      "outputs": [],
      "source": [
        "pd.to_datetime(data['date_crawled']).dt.year.value_counts()\n"
      ]
    },
    {
      "cell_type": "markdown",
      "metadata": {
        "id": "65s23vVkoXHF"
      },
      "source": [
        "На этом графике мы видим, что объекты стоимостью > 15 тыс присутствуют во всех возрастных категориях, без исключений, что неправдоподобно.\n",
        "Еще одна странная особенность, что наибольшее число дорогих объектов находятся в диапазоне 2007-2014 год, что странно, учитывая что все анкеты скачаны не позднее 2016 г, что говорит о том, что дата продажи не ранее 2016 г.\n",
        "Значит объекты зарегистрированные в 2007 году к моменту продажи будут очень старые для такой стоимости."
      ]
    },
    {
      "cell_type": "markdown",
      "metadata": {
        "id": "8vT5LeABRJrk"
      },
      "source": [
        "Удалим объекты для которых справедливы 2 условия:\n",
        "- цена выше 15 тыс\n",
        "- registration_year < 2014"
      ]
    },
    {
      "cell_type": "code",
      "execution_count": null,
      "metadata": {
        "id": "W5j_cRRuRI5l"
      },
      "outputs": [],
      "source": [
        "data.loc[(data['price']>=15000) & (data['registration_year']>2014)].shape[0]"
      ]
    },
    {
      "cell_type": "code",
      "execution_count": null,
      "metadata": {
        "id": "eC7A3oeWru3O"
      },
      "outputs": [],
      "source": [
        "data.loc[data['price']>15000].groupby('registration_year')[['price']].count().plot(kind = 'bar',\n",
        "                                                        rot = 60,\n",
        "                                                        color = 'green');"
      ]
    },
    {
      "cell_type": "code",
      "execution_count": null,
      "metadata": {
        "id": "EIr7z_gkvEc5"
      },
      "outputs": [],
      "source": [
        "index_to_drop = data[(data['price'] >= 15000) & (data['registration_year'] < 2014)].index\n",
        "index_to_drop"
      ]
    },
    {
      "cell_type": "code",
      "execution_count": null,
      "metadata": {
        "id": "VvDlMAKbvANO"
      },
      "outputs": [],
      "source": [
        "data.drop(index = index_to_drop, inplace=True)"
      ]
    },
    {
      "cell_type": "code",
      "execution_count": null,
      "metadata": {
        "id": "1MyIq39ksRlA"
      },
      "outputs": [],
      "source": [
        "data.loc[(data['price']>=15000) & (data['kilometer']>100000), 'brand']\\\n",
        "              .value_counts(ascending = True)\\\n",
        "              .plot( kind = 'barh',\n",
        "                    color = 'brown');"
      ]
    },
    {
      "cell_type": "code",
      "execution_count": null,
      "metadata": {
        "id": "9yKIZRaNr8ym"
      },
      "outputs": [],
      "source": [
        "data.loc[(data['price']>=15000) & (data['kilometer']>100000)]\\\n",
        "                  .groupby('registration_year')[['price']]\\\n",
        "                  .count().plot(kind = 'bar',\n",
        "                                rot = 60,\n",
        "                                color = 'green');"
      ]
    },
    {
      "cell_type": "code",
      "execution_count": null,
      "metadata": {
        "id": "O-kBE4xWxTTZ"
      },
      "outputs": [],
      "source": [
        "sns.heatmap(data[['price','kilometer','registration_year']].corr())"
      ]
    },
    {
      "cell_type": "code",
      "execution_count": null,
      "metadata": {
        "id": "xhgcmNb_xxE0"
      },
      "outputs": [],
      "source": [
        "data['price'].quantile([.001, .05,.1,.50, .7, .95, .98]).to_frame().transpose()"
      ]
    },
    {
      "cell_type": "markdown",
      "metadata": {
        "id": "IZiTudKVS1Ce"
      },
      "source": [
        "Теперь карта дешевых объектов не противоречит логике:\n",
        "- высокая стоимость характерна для автомобилей премиум сегмента\n",
        "- количество дорогих объектов (несмотря на высокий пробег) увеличивается по мере уменьшения возраста."
      ]
    },
    {
      "cell_type": "markdown",
      "metadata": {
        "id": "4g6twMf_zuc0"
      },
      "source": [
        "#### kilometer"
      ]
    },
    {
      "cell_type": "code",
      "execution_count": null,
      "metadata": {
        "id": "jJZcfIh1zlin"
      },
      "outputs": [],
      "source": [
        "data[['kilometer']].hist(figsize=(10, 4));\n",
        "\n"
      ]
    },
    {
      "cell_type": "code",
      "execution_count": null,
      "metadata": {
        "id": "uc-9j0xSAahR"
      },
      "outputs": [],
      "source": [
        "# гистограмма распределения количества автомобилей с пробегом менее 100 тыс\n",
        "data.loc[data['kilometer']<=100000, 'kilometer'].hist(figsize=(12, 2))\n",
        "plt.xticks([j for j in range(5000, 110000, 5000)],\n",
        "           rotation=65)\n",
        "plt.title('Количество автомобилей с пробегом менее 100 (тыс. км.)')\n",
        "plt.xlabel('Пробег (км)')\n",
        "plt.ylabel('Частота')\n",
        "plt.show()\n"
      ]
    },
    {
      "cell_type": "code",
      "execution_count": null,
      "metadata": {
        "id": "hWQDDylnS1Cl"
      },
      "outputs": [],
      "source": [
        "# гистограмма количества автомобилей с пробегом от 100 тыс\n",
        "data.loc[data['kilometer']>=100000, 'kilometer'].hist(figsize=(12, 2))\n",
        "plt.xticks([j for j in range(100000, 160000, 5000)],\n",
        "           rotation=65)\n",
        "plt.title('Количество автомобилей с пробегом более 100 (тыс. км.)')\n",
        "plt.xlabel('Пробег (км)')\n",
        "plt.ylabel('Частота')\n",
        "plt.show()\n"
      ]
    },
    {
      "cell_type": "markdown",
      "metadata": {
        "id": "D_DNIM0OAqet"
      },
      "source": [
        "Гистограмма распределения объектов с большим пробегом выглядит очень странно:\n",
        "- данные как будто сгруппированны по каждым 20 км и гистограмма имеет прерывистый вид\n",
        "- тогда как гистограмма объектов с пробегом до 100 тыс непрерывна.\n",
        "\n",
        "Это наводит меня на мысль, что после 100 тыс появилились синтетически в базе(возможно с другого агрегатора).\n",
        "\n",
        "Тем не менее, обработать аномалии не получится, так как они сгруппированы по категориям уже, и сейчас данные выглядят реалистичными."
      ]
    },
    {
      "cell_type": "markdown",
      "metadata": {
        "id": "rdUOVKiuzoSj"
      },
      "source": [
        "####power"
      ]
    },
    {
      "cell_type": "markdown",
      "metadata": {
        "id": "ftXBn2l84Iow"
      },
      "source": [
        "При анализе этого параметра будем исходить из того, что минимальная мощность это 20 л.с а максимальная 1000."
      ]
    },
    {
      "cell_type": "code",
      "execution_count": null,
      "metadata": {
        "id": "6iAuk3In1IdV"
      },
      "outputs": [],
      "source": [
        "data.loc[(data['power']<=20) | (data['power']>1000)]\n"
      ]
    },
    {
      "cell_type": "markdown",
      "metadata": {
        "id": "VJq2Vjzo4jCB"
      },
      "source": [
        "Очень большое количество аномальных значений которые удалять мы не будем из соображений сохранения данных.\n",
        "\n",
        "Все объекты мы разделим на несколько категорий в зависимости от мощности.\n",
        "\n",
        "- **1** группа: до 100 л.с.  Микроавтомобили и компактные автомобили, обычно это небольшие городские автомобили\n",
        "-  **2** группа: от 100 до 200 л.с.   Это типичные легковые автомобили для повседневного использования.\n",
        "\n",
        "- **3** группа: от 200 до 300 л.с. Бизнес-класс и премиум-автомобили\n",
        "\n",
        "- **4** группа: от 300 л.с. до 400 л.с. Спортивные автомобили\n",
        "\n",
        "- **5** группа: от 400 л.с. и выше. Это автомобили с экстремальной производительностью и инновационными технологиями."
      ]
    },
    {
      "cell_type": "markdown",
      "metadata": {
        "id": "gPCvIMG-4Wqa"
      },
      "source": [
        "Обратим внимание на автомобили с мощностью более 200. Если они не соответствуют по марке и стоимости премиум сегменту то заменим мощность на более низкую, так как вероятнее всего это ошибка.\n",
        "\n",
        "Выбирать будем только по условию минимальной цены - цена для автомобилей с мощностью более 200 л.с. должна быть выше 5 тыс."
      ]
    },
    {
      "cell_type": "code",
      "execution_count": null,
      "metadata": {
        "id": "IT-0qrMM4VxQ"
      },
      "outputs": [],
      "source": [
        "data_to_plot = data.loc[data['power'] > 200, 'price']\n",
        "plt.hist(data_to_plot,\n",
        "         bins=30,\n",
        "         edgecolor='black')\n",
        "plt.xlabel('Стоимость')\n",
        "plt.xticks(range(0, 21000, 1000),\n",
        "           rotation=75)\n",
        "plt.ylabel('Частота')\n",
        "plt.title('Гистограмма стоимости автомобилей с мощностью > 200')\n",
        "plt.show()"
      ]
    },
    {
      "cell_type": "code",
      "execution_count": null,
      "metadata": {
        "id": "XaZTI2Zq1Il7"
      },
      "outputs": [],
      "source": [
        "data.loc[(data['power'] > 200) & (data['price'] < 5000)].shape[0]"
      ]
    },
    {
      "cell_type": "code",
      "execution_count": null,
      "metadata": {
        "id": "avlmGhs0JoEF"
      },
      "outputs": [],
      "source": [
        "data.loc[data['power'] <= 100, 'power_category'] = 1\n",
        "data.loc[\n",
        "    (100 < data['power'])\n",
        "    & (data['power']<= 200), 'power_category'] = 2\n",
        "\n",
        "# для высокомощных объектов добавляем цену в условие\n",
        "data.loc[\n",
        "    (200 < data['power'])\n",
        "    & (data['power']<= 300)\n",
        "    & (data['price'] >= 5000), 'power_category'] = 3\n",
        "data.loc[\n",
        "    (200 < data['power'])\n",
        "    & (data['power']<= 300)\n",
        "    & (data['price'] < 5000),'power_category'] = 2\n",
        "\n",
        "data.loc[\n",
        "    (300 < data['power'])\n",
        "    & (data['power']<= 400)\n",
        "    & (data['price'] >= 5000), 'power_category'] = 4\n",
        "data.loc[\n",
        "    (300 < data['power'])\n",
        "    & (data['power']<= 400)\n",
        "    & (data['price'] < 5000), 'power_category'] = 2\n",
        "\n",
        "data.loc[\n",
        "    (400 < data['power'])\n",
        "    & (data['power']<= 500)\n",
        "    & (data['price'] >= 5000), 'power_category'] = 5\n",
        "data.loc[\n",
        "    (400 < data['power'])\n",
        "    & (data['power']<= 500)\n",
        "    & (data['price'] < 5000), 'power_category'] = 2\n",
        "\n",
        "data.loc[\n",
        "    (data['power'] > 500)\n",
        "    & (data['price'] >= 5000),'power_category'] = 6\n",
        "data.loc[\n",
        "    (data['power'] > 500)\n",
        "    & (data['price'] < 5000),'power_category'] = 2"
      ]
    },
    {
      "cell_type": "markdown",
      "metadata": {
        "id": "M4OHsfQiWHYW"
      },
      "source": [
        "Проверим не осталось ли объектов с мощностью более 200 при низкой стоимости"
      ]
    },
    {
      "cell_type": "code",
      "execution_count": null,
      "metadata": {
        "id": "u0igEbz9MqcT"
      },
      "outputs": [],
      "source": [
        "data.query('price< 5000')[['power_category']].value_counts()"
      ]
    },
    {
      "cell_type": "code",
      "execution_count": null,
      "metadata": {
        "id": "Y_xA7HUiWxBR"
      },
      "outputs": [],
      "source": [
        "# удалим признак power\n",
        "data = data.drop('power', axis = 1)"
      ]
    },
    {
      "cell_type": "markdown",
      "metadata": {
        "id": "dVUlJtmmzp4F"
      },
      "source": [
        "#### pictures_amount"
      ]
    },
    {
      "cell_type": "code",
      "execution_count": null,
      "metadata": {
        "id": "zStVnreO0BTm"
      },
      "outputs": [],
      "source": [
        "data['pictures_amount'].unique()"
      ]
    },
    {
      "cell_type": "markdown",
      "metadata": {
        "id": "am4ws1DN0Xla"
      },
      "source": [
        "Как видим этот признак неинформативен,  так как не содержит никакой информации и одинаков для всех объектов."
      ]
    },
    {
      "cell_type": "code",
      "execution_count": null,
      "metadata": {
        "id": "WBVBsxDh0kNw"
      },
      "outputs": [],
      "source": [
        "data = data.drop( 'pictures_amount', axis=1)\n",
        "data.head()"
      ]
    },
    {
      "cell_type": "markdown",
      "metadata": {
        "id": "kq2_JkQHYq6k"
      },
      "source": [
        "### Анализ категориальных признаков"
      ]
    },
    {
      "cell_type": "code",
      "execution_count": null,
      "metadata": {
        "id": "sw60sOOHS1Cm"
      },
      "outputs": [],
      "source": [
        "for column in categorical_columns:\n",
        "    print (column, data[column].nunique())\n",
        "    print ()"
      ]
    },
    {
      "cell_type": "markdown",
      "metadata": {
        "id": "sksCowVFdhH5"
      },
      "source": [
        "Уберем из этих признаков дату и модель автомобилей, чтобы удобно было визуализировать."
      ]
    },
    {
      "cell_type": "code",
      "execution_count": null,
      "metadata": {
        "id": "IELn2d7-ZIUA"
      },
      "outputs": [],
      "source": [
        "categorical_columns"
      ]
    },
    {
      "cell_type": "code",
      "execution_count": null,
      "metadata": {
        "id": "BOCAO9xJZM3J"
      },
      "outputs": [],
      "source": [
        "categorical_columns = ['vehicle_type', 'gear_box',  'fuel_type', 'repaired']"
      ]
    },
    {
      "cell_type": "code",
      "execution_count": null,
      "metadata": {
        "id": "Gn8X-4GTYqQo"
      },
      "outputs": [],
      "source": [
        "data[categorical_columns].head()"
      ]
    },
    {
      "cell_type": "markdown",
      "metadata": {
        "id": "kWs5ygtZY6s_"
      },
      "source": [
        "Визуализируем уникальные значения для каждого признака"
      ]
    },
    {
      "cell_type": "code",
      "execution_count": null,
      "metadata": {
        "id": "-jroLoZzwCry"
      },
      "outputs": [],
      "source": [
        "num_plots = len(categorical_columns)\n",
        "fig, axes = plt.subplots(1, num_plots, figsize=(12, 5))\n",
        "\n",
        "for i, col in enumerate(categorical_columns):\n",
        "    ax = axes[i]\n",
        "    sns.countplot(data=data, x=col, ax=ax)\n",
        "    ax.set_title(f'Value Counts for {col}')\n",
        "\n",
        "    ax.set_xticklabels(ax.get_xticklabels(), rotation=45)\n",
        "\n",
        "plt.tight_layout()\n",
        "\n",
        "plt.show()"
      ]
    },
    {
      "cell_type": "code",
      "execution_count": null,
      "metadata": {
        "id": "df95IbWwhn_Q"
      },
      "outputs": [],
      "source": [
        "data['brand'].value_counts().sort_values(ascending = False).head(15)\\\n",
        "              .plot(kind = 'barh',\n",
        "                    rot = 6,\n",
        "                    color = 'orchid')\n",
        "plt.title('Топ 15 самых популярных моделей')\n",
        "plt.show()"
      ]
    },
    {
      "cell_type": "code",
      "execution_count": null,
      "metadata": {
        "id": "7sUze8j2CtfH"
      },
      "outputs": [],
      "source": [
        "#проверим на неявные дупликаты\n",
        "data['brand'].unique()"
      ]
    },
    {
      "cell_type": "code",
      "execution_count": null,
      "metadata": {
        "id": "zIw2PhRSE88-"
      },
      "outputs": [],
      "source": [
        "data['model'].unique()"
      ]
    },
    {
      "cell_type": "code",
      "execution_count": null,
      "metadata": {
        "id": "eXEYfSnzF-lx"
      },
      "outputs": [],
      "source": [
        "for brand in data['brand'].unique():\n",
        "    print(brand,\n",
        "          data.loc[data['brand']==brand, 'model'].nunique(),\n",
        "          data.loc[data['brand']==brand, 'model'].unique())\n",
        "    print()"
      ]
    },
    {
      "cell_type": "markdown",
      "metadata": {
        "id": "fJSTCKXTEq7E"
      },
      "source": [
        "неявных дупликатов не обнаружила"
      ]
    },
    {
      "cell_type": "markdown",
      "metadata": {
        "id": "mn-JpHGHuTj_"
      },
      "source": [
        "### Признаки с датой"
      ]
    },
    {
      "cell_type": "code",
      "execution_count": null,
      "metadata": {
        "id": "Fgo9ycE_vtjW"
      },
      "outputs": [],
      "source": [
        "data.columns"
      ]
    },
    {
      "cell_type": "code",
      "execution_count": null,
      "metadata": {
        "id": "mdgNl_6svwxd"
      },
      "outputs": [],
      "source": [
        "date_columns = ['date_crawled', 'date_created','registration_year', 'registration_month', 'last_seen']"
      ]
    },
    {
      "cell_type": "code",
      "execution_count": null,
      "metadata": {
        "id": "otQeSE0fwEHE"
      },
      "outputs": [],
      "source": [
        "data[date_columns].head()"
      ]
    },
    {
      "cell_type": "markdown",
      "metadata": {
        "id": "P1aQNF_AJJES"
      },
      "source": [
        "Выше мы сравнили признаки date_crawled и date_created. Мы добавили новый синтетический признак 'date_difference', который содержит разницу с момента скачивания до момента создания анкеты. Поэтому удалим признак date_crawled.\n"
      ]
    },
    {
      "cell_type": "code",
      "execution_count": null,
      "metadata": {
        "id": "S4xMjsf934DD"
      },
      "outputs": [],
      "source": [
        "data = data.drop('date_crawled', axis =1)"
      ]
    },
    {
      "cell_type": "code",
      "execution_count": null,
      "metadata": {
        "id": "_NVFZm1s46r2"
      },
      "outputs": [],
      "source": [
        "data.shape[0]"
      ]
    },
    {
      "cell_type": "code",
      "execution_count": null,
      "metadata": {
        "id": "ctdF5uSW3_cF"
      },
      "outputs": [],
      "source": [
        "# сравним date_created и last_seen.\n",
        "period = (data['last_seen'] - data['date_created']).dt.days"
      ]
    },
    {
      "cell_type": "code",
      "execution_count": null,
      "metadata": {
        "id": "7QTcjhiB4gAs"
      },
      "outputs": [],
      "source": [
        "period.describe().to_frame()"
      ]
    },
    {
      "cell_type": "markdown",
      "metadata": {
        "id": "mMwEpDQr5dBf"
      },
      "source": [
        "Неясно что происходит с анкетой после продажи или срок дезактивации, но можно предположить что средний срок продажи для большинства пользователей это 14 дней.\n"
      ]
    },
    {
      "cell_type": "code",
      "execution_count": null,
      "metadata": {
        "id": "2QtQ6sth6r86"
      },
      "outputs": [],
      "source": [
        "date_columns = ['date_created', 'registration_year', 'registration_month', 'last_seen']"
      ]
    },
    {
      "cell_type": "code",
      "execution_count": null,
      "metadata": {
        "id": "DHmtLGvV5b8J"
      },
      "outputs": [],
      "source": [
        "data[date_columns].head()"
      ]
    },
    {
      "cell_type": "markdown",
      "metadata": {
        "id": "tnnVkE9q69V-"
      },
      "source": [
        "Добавим новый признак разницу между date_created и last_seen, чтобы удалить признак last_seen и оставить у признака date_created месяц и год."
      ]
    },
    {
      "cell_type": "code",
      "execution_count": null,
      "metadata": {
        "id": "WU6dzXbr7fIr"
      },
      "outputs": [],
      "source": [
        "data['lastseen_days'] = period\n",
        "data['lastseen_days']"
      ]
    },
    {
      "cell_type": "code",
      "execution_count": null,
      "metadata": {
        "id": "hoy0-hRE9qFx"
      },
      "outputs": [],
      "source": [
        "data = data.drop('last_seen', axis = 1)"
      ]
    },
    {
      "cell_type": "code",
      "execution_count": null,
      "metadata": {
        "id": "m1MB-DWM7wmr"
      },
      "outputs": [],
      "source": [
        "data['created_year'] = pd.to_datetime(data['date_created']).dt.year"
      ]
    },
    {
      "cell_type": "code",
      "execution_count": null,
      "metadata": {
        "id": "m5YYiwTq78TM"
      },
      "outputs": [],
      "source": [
        "data['created_month'] = pd.to_datetime(data['date_created']).dt.month"
      ]
    },
    {
      "cell_type": "code",
      "execution_count": null,
      "metadata": {
        "id": "sbTnN0bQ9Jxr"
      },
      "outputs": [],
      "source": [
        "data = data.drop('date_created', axis = 1)"
      ]
    },
    {
      "cell_type": "code",
      "execution_count": null,
      "metadata": {
        "id": "_kb6w1bL8lgO"
      },
      "outputs": [],
      "source": [
        "data.head()"
      ]
    },
    {
      "cell_type": "markdown",
      "metadata": {
        "id": "iwEwouyn85Dq"
      },
      "source": [
        "Добавим новый признак - возраст автомобиля"
      ]
    },
    {
      "cell_type": "code",
      "execution_count": null,
      "metadata": {
        "id": "zFKvQh0689Of"
      },
      "outputs": [],
      "source": [
        "data['avto_age'] = data['created_year'] - data['registration_year']\n",
        "data['avto_age'].head()"
      ]
    },
    {
      "cell_type": "code",
      "execution_count": null,
      "metadata": {
        "id": "yIeFy-Kk9fpA"
      },
      "outputs": [],
      "source": [
        "data.head()"
      ]
    },
    {
      "cell_type": "markdown",
      "metadata": {
        "id": "llaFRof8S1Cn"
      },
      "source": [
        "Дубликатов не наблюдается."
      ]
    },
    {
      "cell_type": "markdown",
      "metadata": {
        "id": "yDzRrQzrS1Cn"
      },
      "source": [
        "# Модели"
      ]
    },
    {
      "cell_type": "markdown",
      "source": [
        "### Делим выборки"
      ],
      "metadata": {
        "id": "OGdVv64qV-Q_"
      }
    },
    {
      "cell_type": "code",
      "source": [
        "#Разделим выборки\n",
        "train, validation = train_test_split(data,\n",
        "                                     random_state=21,\n",
        "                                     test_size = 0.4)\n",
        "validation, test = train_test_split(validation,\n",
        "                                    random_state=21,\n",
        "                                    test_size = 0.5)\n",
        "print('train', train.shape[0])\n",
        "print('validation', validation.shape[0])\n",
        "print('test', test.shape[0])"
      ],
      "metadata": {
        "id": "YtyboE52bFl2"
      },
      "execution_count": null,
      "outputs": []
    },
    {
      "cell_type": "code",
      "source": [
        "#выделим обучающие признаки и целевой признак\n",
        "features = data.drop('price', axis = 1)\n",
        "target = data['price']\n",
        "data.columns\n",
        "X = list(features.columns)\n",
        "y = ['price']"
      ],
      "metadata": {
        "id": "ykHwa_m4cBK0"
      },
      "execution_count": null,
      "outputs": []
    },
    {
      "cell_type": "code",
      "source": [
        "categorical = list(features.select_dtypes(include = ['object', 'bool']).columns)\n",
        "numeric = list(features.select_dtypes(include = ['number']).columns)\n",
        "print('categorical', categorical)\n",
        "print()\n",
        "print('numeric', numeric)"
      ],
      "metadata": {
        "id": "nAIg2EfweK1N"
      },
      "execution_count": null,
      "outputs": []
    },
    {
      "cell_type": "markdown",
      "source": [
        "## LinearRegression и RandomForestRegressor"
      ],
      "metadata": {
        "id": "PwBzLwl2dwOl"
      }
    },
    {
      "cell_type": "markdown",
      "source": [
        "**Обоснование выбора модели**\n",
        "\n",
        "Согласно заданию нам необходимо обязательно использовать простые модели (не бустинг), поэтому я решила использовать две модели библиотеки Sclearn:\n",
        "- LinearRegression\n",
        "- RandomForestRegressor.\n",
        "\n",
        "Я выбрала эти модели по следующим соображениям:\n",
        "- **LinearRegression** работают быстрее, а учитывая что для нашей работы время обучения и предсказания являются важными метриками, то я решила начать с самой быстрой модели, которая может дать необходимую метрику `RMSE <2500`.\n",
        "\n",
        "- RandomForestRegressor отличается высокой точностью предсказаний на дефолтных параметрах и имеется возможность подобрать гиперпараметры, в отличии от линейной регрессии.\n",
        "\n",
        "Далее я буду использовать алгоритмы градиентного бустинга:\n",
        "\n",
        "- CatBoostRegressor\n",
        "- LightGBM.\n",
        "\n",
        "Для всех моделей я буду делать подбор гиперпараметров методом **RandomisedGridsearchCV**.\n",
        "\n",
        "Выбор этого метода подбора так же продиктован ограниченностью вычислительных ресурсов, т.к. **GridsearchCV** перебирает большее число параметров, а значит увеличивается время на работу данного метода.\n",
        "**Optuna** крайне ресурсозатратна, и при таком низком пороге метрики ее использование нецелесообразно.\n",
        "\n",
        "\n"
      ],
      "metadata": {
        "id": "THY8dfNMUsCp"
      }
    },
    {
      "cell_type": "markdown",
      "source": [
        "#### Предобработка признаков"
      ],
      "metadata": {
        "id": "WSnA0jhiXMQj"
      }
    },
    {
      "cell_type": "markdown",
      "source": [
        "Наши данные содержат категориальные и числовые признаки, которые нужно обрабатывать прежде чем можно передать их в выбранные нами модели машинного обучения.\n",
        "\n",
        "Поэтому мы будем использовать **pipeline** для предобработки и для обучения.\n",
        "pipeline предобработки включает в себя следующие этапы:\n",
        "\n",
        "**Трансформер для числовых признаков**:\n",
        "- масштабирование StandartScaler\n",
        "- анализ важности признаков PCA(Principal Component Analysis)\n",
        "\n",
        "**Трансформер для категориальных признаков**:\n",
        "- кодирование с помощью OneHotEncoder\n",
        "\n",
        "**ColumnTransformer** для объединения результатов трансформаций в одну матрицу признаков\n"
      ],
      "metadata": {
        "id": "Aqh68tszZnie"
      }
    },
    {
      "cell_type": "code",
      "source": [
        "numeric_transformer = Pipeline(\n",
        "    steps =[\n",
        "        ('scl', StandardScaler()),\n",
        "         ('pca', PCA(n_components = 0.95))\n",
        "    ])"
      ],
      "metadata": {
        "id": "7hqo8eGRedmF"
      },
      "execution_count": null,
      "outputs": []
    },
    {
      "cell_type": "code",
      "source": [
        "categorical_transformer = Pipeline(\n",
        "    steps = [('enc', OneHotEncoder(handle_unknown='ignore'))])"
      ],
      "metadata": {
        "id": "jy_KGmAchLcA"
      },
      "execution_count": null,
      "outputs": []
    },
    {
      "cell_type": "code",
      "source": [
        "preprocessor = ColumnTransformer( transformers=[\n",
        "        (\"num\", numeric_transformer, numeric),\n",
        "        (\"cat\", categorical_transformer, categorical),\n",
        "    ])"
      ],
      "metadata": {
        "id": "j_p-A_vzf1Rt"
      },
      "execution_count": null,
      "outputs": []
    },
    {
      "cell_type": "markdown",
      "source": [
        "####LinearRegression_pipeline"
      ],
      "metadata": {
        "id": "9d1Pn9XQd7EV"
      }
    },
    {
      "cell_type": "code",
      "source": [
        "lr_pipe=Pipeline(steps = [('preprocess', preprocessor),\n",
        " ('clf',LinearRegression(random_state=42))])"
      ],
      "metadata": {
        "id": "zGYU--DnaCZR"
      },
      "execution_count": null,
      "outputs": []
    },
    {
      "cell_type": "code",
      "source": [
        "start = time.time()\n",
        "lr_pipe.fit(train, train[y])\n",
        "end = time.time()\n",
        "lr_fit_time = end - start\n",
        "print(lr_fit_time, 'сек')"
      ],
      "metadata": {
        "id": "XbwpcLcELNmP"
      },
      "execution_count": null,
      "outputs": []
    },
    {
      "cell_type": "code",
      "source": [
        "start = time.time()\n",
        "predict_lr = lr_pipe.predict(validation)\n",
        "end = time.time()\n",
        "lr_pred_time = end - start\n",
        "print(lr_pred_time, 'сек' )"
      ],
      "metadata": {
        "id": "n_XJ894gJmn-"
      },
      "execution_count": null,
      "outputs": []
    },
    {
      "cell_type": "code",
      "source": [
        "rmse_lr = mean_squared_error(validation[y], predict_lr, squared=False)\n",
        "mape_lr = mean_absolute_percentage_error(validation[y], predict_lr)\n",
        "\n",
        "print(f'RMSE LinearRegression: {rmse_lr:.3f}')\n",
        "print(f'MAPE LinearRegression: {mape_lr:.3f}%')"
      ],
      "metadata": {
        "id": "jhj7-x9zIn9W"
      },
      "execution_count": null,
      "outputs": []
    },
    {
      "cell_type": "markdown",
      "source": [
        "####RandomForestRegressor_pipeline"
      ],
      "metadata": {
        "id": "dZSMz5WNeCzJ"
      }
    },
    {
      "cell_type": "code",
      "source": [
        "rand_forest_pipe=Pipeline(steps = [('preprocess', preprocessor),\n",
        " ('rand_forest', RandomForestRegressor(random_state=42))])"
      ],
      "metadata": {
        "id": "Nm3SivitLAeY"
      },
      "execution_count": null,
      "outputs": []
    },
    {
      "cell_type": "code",
      "source": [
        "start = time.time()\n",
        "\n",
        "rand_forest_pipe.fit(train, train[y])\n",
        "\n",
        "end = time.time()\n",
        "rand_forest_fit_time = end - start\n",
        "print(rand_forest_fit_time, 'сек')"
      ],
      "metadata": {
        "id": "P66E3v6xLx-q"
      },
      "execution_count": null,
      "outputs": []
    },
    {
      "cell_type": "code",
      "source": [
        "params = rand_forest_pipe.named_steps['rand_forest'].get_params()\n",
        "params"
      ],
      "metadata": {
        "id": "PXqUohOWNRwZ"
      },
      "execution_count": null,
      "outputs": []
    },
    {
      "cell_type": "code",
      "source": [
        "start = time.time()\n",
        "\n",
        "predict_rand_forest = rand_forest_pipe.predict(validation)\n",
        "\n",
        "end = time.time()\n",
        "rand_forest_predict_time = end - start\n",
        "print(rand_forest_predict_time, 'сек')"
      ],
      "metadata": {
        "id": "SmY10R8GLq3H"
      },
      "execution_count": null,
      "outputs": []
    },
    {
      "cell_type": "code",
      "source": [
        "rmse_rand_forest = mean_squared_error(validation[y], predict_rand_forest, squared=False)\n",
        "mape_rand_forest = mean_absolute_percentage_error(validation[y], predict_rand_forest)\n",
        "\n",
        "print(f'RMSE RandomForestRegressor: {rmse_rand_forest:.3f}')\n",
        "print(f'MAPE RandomForestRegressor: {mape_rand_forest:.3f}%')"
      ],
      "metadata": {
        "id": "l11ARjsxKTuA"
      },
      "execution_count": null,
      "outputs": []
    },
    {
      "cell_type": "code",
      "source": [
        "index = ['linear_regression', 'random_forest_regressor']\n",
        "columns = ['RMSE', 'MAPE', 'fit_time (сек)', 'predict_time (сек)']\n",
        "data = [[mean_squared_error(validation[y], predict_lr, squared=False),\n",
        "        mean_absolute_percentage_error(validation[y], predict_lr),\n",
        "         lr_fit_time,\n",
        "         lr_pred_time],\n",
        "        [mean_squared_error(validation[y], predict_rand_forest, squared=False),\n",
        "        mean_absolute_percentage_error(validation[y], predict_rand_forest),\n",
        "         rand_forest_fit_time,\n",
        "         rand_forest_predict_time]]"
      ],
      "metadata": {
        "id": "CZWuJodaSYoc"
      },
      "execution_count": null,
      "outputs": []
    },
    {
      "cell_type": "code",
      "source": [
        "result = pd.DataFrame(data = data,\n",
        "             index = index,\n",
        "             columns = columns)\n",
        "result"
      ],
      "metadata": {
        "id": "uYraB61nEV1S"
      },
      "execution_count": null,
      "outputs": []
    },
    {
      "cell_type": "markdown",
      "source": [
        "Таким образом мы получили требуемый показатель метрики MSE < 2500.\n"
      ],
      "metadata": {
        "id": "xGMbqRvXKqsT"
      }
    },
    {
      "cell_type": "markdown",
      "source": [
        "Добавим перебор параметров для модели случайного леса"
      ],
      "metadata": {
        "id": "Dldl8Ac5Z7oe"
      }
    },
    {
      "cell_type": "code",
      "source": [
        "param_grid = (\n",
        "    {'n_estimators': [100, 200, 300],\n",
        "     'max_depth': [10, 20, 30],\n",
        "     'min_samples_split': [2, 5, 10],\n",
        "     'min_samples_leaf': [1, 2, 4]})"
      ],
      "metadata": {
        "id": "zXtMohpIZ6-I"
      },
      "execution_count": null,
      "outputs": []
    },
    {
      "cell_type": "code",
      "source": [
        "best_model = None\n",
        "estimator= RandomForestRegressor(random_state=42)"
      ],
      "metadata": {
        "id": "TqHcT1wGLshZ"
      },
      "execution_count": null,
      "outputs": []
    },
    {
      "cell_type": "code",
      "source": [
        "grid_search = GridSearchCV(estimator = estimator,\n",
        "                           param_grid = param_grid,\n",
        "                           cv=5,\n",
        "                           scoring='neg_mean_squared_error')"
      ],
      "metadata": {
        "id": "VzT7lYkELuIM"
      },
      "execution_count": null,
      "outputs": []
    },
    {
      "cell_type": "code",
      "source": [
        "rgscv_pipe = Pipeline(steps = [('prepp', preprocessor),\n",
        "                               ('grid_search', grid_search)])"
      ],
      "metadata": {
        "id": "UJsHD47eL5qV"
      },
      "execution_count": null,
      "outputs": []
    },
    {
      "cell_type": "code",
      "source": [
        "start = time.time()\n",
        "\n",
        "rgscv_pipe.fit(train, train[y])\n",
        "\n",
        "end = time.time()\n",
        "rand_search_fit_time = end - start\n",
        "print(rand_search_fit_time, 'сек')"
      ],
      "metadata": {
        "id": "mfqbBHJEMYvZ"
      },
      "execution_count": null,
      "outputs": []
    },
    {
      "cell_type": "code",
      "source": [
        "best_model = rgscv_pipe.named_steps['grid_search'].best_estimator_\n",
        "best_model"
      ],
      "metadata": {
        "id": "7T_X3rqjOZG-"
      },
      "execution_count": null,
      "outputs": []
    },
    {
      "cell_type": "code",
      "source": [
        "best_model_params = best_model.get_params()\n",
        "best_model_params"
      ],
      "metadata": {
        "id": "erskX4a6PD7c"
      },
      "execution_count": null,
      "outputs": []
    },
    {
      "cell_type": "code",
      "source": [
        "start = time.time()\n",
        "\n",
        "rand_search_predict = rgscv_pipe.predict(validation)\n",
        "\n",
        "end = time.time()\n",
        "rand_search_predict_time = end - start\n",
        "print(rand_search_predict_time, 'сек')"
      ],
      "metadata": {
        "id": "YbGqwT6yPlWJ"
      },
      "execution_count": null,
      "outputs": []
    },
    {
      "cell_type": "code",
      "source": [
        "mse_best_parameters = mean_squared_error(validation[y], rand_search_predict)\n",
        "mape_best_parameters = mean_absolute_percentage_error(validation[y], rand_search_predict)\n",
        "print(f'RMSE RandomForestRegressor (best_parameters): {rmse_best_parameters :.3f}')\n",
        "print(f'MAPE RandomForestRegressor (best_parameters): {mape_best_parameters :.3f}%')"
      ],
      "metadata": {
        "id": "m_o2iozNO56t"
      },
      "execution_count": null,
      "outputs": []
    },
    {
      "cell_type": "markdown",
      "source": [
        "## Модели градиентного бустинга"
      ],
      "metadata": {
        "id": "1wIXhjDxXeNJ"
      }
    },
    {
      "cell_type": "markdown",
      "source": [
        "### СatBoost"
      ],
      "metadata": {
        "id": "s-UzHqhWXkW5"
      }
    },
    {
      "cell_type": "markdown",
      "source": [
        "Для СatBoost мы будем использовать некодированные данные."
      ],
      "metadata": {
        "id": "P-rPEEfHR0Pb"
      }
    },
    {
      "cell_type": "code",
      "source": [
        "categorical"
      ],
      "metadata": {
        "id": "mEOuPm9ZXsY6"
      },
      "execution_count": null,
      "outputs": []
    },
    {
      "cell_type": "code",
      "execution_count": null,
      "metadata": {
        "id": "WHXk3iEJIVk-"
      },
      "outputs": [],
      "source": [
        "cat_features = categorical"
      ]
    },
    {
      "cell_type": "code",
      "execution_count": null,
      "metadata": {
        "id": "j0Saw4hKS1Cn"
      },
      "outputs": [],
      "source": [
        "train_pool = Pool(data=train[X],\n",
        "                  label=train[y],\n",
        "                  cat_features=cat_features)\n",
        "print(train_pool.shape[0])"
      ]
    },
    {
      "cell_type": "code",
      "execution_count": null,
      "metadata": {
        "id": "bjcES1QmS1Co"
      },
      "outputs": [],
      "source": [
        "validation_pool = Pool(data=validation[X],\n",
        "                       label=validation[y],\n",
        "                  cat_features=cat_features)\n",
        "print(validation_pool.shape[0])"
      ]
    },
    {
      "cell_type": "code",
      "execution_count": null,
      "metadata": {
        "id": "OQCvQzdRS1Co"
      },
      "outputs": [],
      "source": [
        "test_pool = Pool(data=test[X],\n",
        "                  label=test[y],\n",
        "                  cat_features=cat_features)\n",
        "print(test_pool.shape[0])"
      ]
    },
    {
      "cell_type": "markdown",
      "metadata": {
        "id": "LIvKJ4Q5S1Co"
      },
      "source": [
        "#### RandomGridSearch"
      ]
    },
    {
      "cell_type": "code",
      "execution_count": null,
      "metadata": {
        "id": "Qi6lpIsBS1Co"
      },
      "outputs": [],
      "source": [
        "# параметры для перебора\n",
        "param_grid = {\n",
        "    'learning_rate': [0.001, 0.10],\n",
        "    'depth': [6, 15],\n",
        "    'l2_leaf_reg': [1, 3, 5, 7, 9],\n",
        "    'early_stopping_rounds' = 20\n",
        "}"
      ]
    },
    {
      "cell_type": "code",
      "execution_count": null,
      "metadata": {
        "id": "4TvOSEs3S1Co"
      },
      "outputs": [],
      "source": [
        "params = {\n",
        "    'cat_features': cat_features,\n",
        "    'eval_metric': 'MAPE',\n",
        "    'loss_function': 'RMSE',\n",
        "    'random_seed': 42,\n",
        "    'verbose': 2,\n",
        "    'task_type':'GPU'\n",
        "    }"
      ]
    },
    {
      "cell_type": "code",
      "execution_count": null,
      "metadata": {
        "id": "4mdj6udqS1Co"
      },
      "outputs": [],
      "source": [
        "#инициализируем модель\n",
        "model = CatBoostRegressor(**params)"
      ]
    },
    {
      "cell_type": "code",
      "execution_count": null,
      "metadata": {
        "id": "Mc8kSXWAS1Co"
      },
      "outputs": [],
      "source": [
        "now = datetime.datetime.now()\n",
        "\n",
        "print(now)"
      ]
    },
    {
      "cell_type": "code",
      "execution_count": null,
      "metadata": {
        "id": "YBM3Er9dS1Co"
      },
      "outputs": [],
      "source": [
        "%%time\n",
        "randomized_search_result = model.randomized_search(param_grid,\n",
        "                                                   train_pool)\n",
        "print (model.best_score_)"
      ]
    },
    {
      "cell_type": "code",
      "execution_count": null,
      "metadata": {
        "id": "Qizs0-_LS1Co"
      },
      "outputs": [],
      "source": [
        "end = datetime.datetime.now()\n",
        "catboost_gscv_time = end-now\n",
        "print('catboost_gscv_time', catboost_gscv_time)"
      ]
    },
    {
      "cell_type": "code",
      "execution_count": null,
      "metadata": {
        "id": "qCXbig05S1Co"
      },
      "outputs": [],
      "source": [
        "best_params = randomized_search_result['params']\n",
        "best_params"
      ]
    },
    {
      "cell_type": "code",
      "execution_count": null,
      "metadata": {
        "colab": {
          "background_save": true
        },
        "id": "PuAJLVLFS1Co"
      },
      "outputs": [],
      "source": [
        "# оцениваем\n",
        "y_pred = model.predict(validation_pool)"
      ]
    },
    {
      "cell_type": "code",
      "execution_count": null,
      "metadata": {
        "id": "20BEfFYlS1Co"
      },
      "outputs": [],
      "source": [
        "rmse = mean_squared_error(validation[y], y_pred, squared=False)\n",
        "\n",
        "#  MAPE\n",
        "mape = mean_absolute_percentage_error(validation[y], y_pred)\n",
        "\n",
        "print(f\"Root Mean Squared Error (RMSE): {rmse:.3f}\")\n",
        "print(f\"Mean Absolute Percentage Error (MAPE): {mape:.3f}%\")"
      ]
    },
    {
      "cell_type": "code",
      "execution_count": null,
      "metadata": {
        "id": "Qo7MKKJkS1Co"
      },
      "outputs": [],
      "source": [
        "fstrs = model.get_feature_importance(prettified=True)\n",
        "\n",
        "fig, ax = plt.subplots()\n",
        "fstrs.plot(x='Feature Id', y='Importances', kind='bar', ax=ax)\n",
        "ax.set_title(\"Важность признаков\")\n",
        "ax.set_ylabel(\"Значение\")\n",
        "plt.xticks(rotation=45)\n",
        "plt.tight_layout()\n",
        "plt.show()"
      ]
    },
    {
      "cell_type": "code",
      "execution_count": null,
      "metadata": {
        "id": "AWXBePfdS1Co"
      },
      "outputs": [],
      "source": [
        "best_model = CatBoostRegressor(**best_params,\n",
        "                               random_seed= 42,\n",
        "                              verbose = 100,\n",
        "                              iterations = 1600)"
      ]
    },
    {
      "cell_type": "code",
      "execution_count": null,
      "metadata": {
        "id": "_HSD03PNS1Co"
      },
      "outputs": [],
      "source": [
        "%%time\n",
        "# обучаем модель\n",
        "best_model.fit(test_pool)\n",
        "print (best_model.best_score_)"
      ]
    },
    {
      "cell_type": "markdown",
      "metadata": {
        "id": "-4zEjn7eS1Co"
      },
      "source": [
        "\n"
      ]
    },
    {
      "cell_type": "code",
      "execution_count": null,
      "metadata": {
        "id": "23YL63AWS1Co"
      },
      "outputs": [],
      "source": [
        "pred_test = model.predict(test[X])\n",
        "pred_test"
      ]
    },
    {
      "cell_type": "code",
      "execution_count": null,
      "metadata": {
        "id": "FqO4omFNS1Cp"
      },
      "outputs": [],
      "source": [
        "#pred_test.loc[prediction['sellingprice']<250, 'sellingprice']=250\n",
        "#pred_test.loc[prediction['sellingprice']<250].shape[0]"
      ]
    },
    {
      "cell_type": "code",
      "execution_count": null,
      "metadata": {
        "id": "5oc1vLqSS1Cr"
      },
      "outputs": [],
      "source": []
    },
    {
      "cell_type": "code",
      "execution_count": null,
      "metadata": {
        "id": "Wgv6oMgES1Cs"
      },
      "outputs": [],
      "source": []
    },
    {
      "cell_type": "markdown",
      "source": [
        "### Lightgbm"
      ],
      "metadata": {
        "id": "rRGCdeVYhXKf"
      }
    },
    {
      "cell_type": "code",
      "source": [
        "!pip install lightgbm\n",
        "import lightgbm as lgb"
      ],
      "metadata": {
        "id": "ieMBRIvehai4"
      },
      "execution_count": null,
      "outputs": []
    },
    {
      "cell_type": "code",
      "source": [
        "param['metric'] = ['mape', 'rmse']"
      ],
      "metadata": {
        "id": "dy91UVvzhbzZ"
      },
      "execution_count": null,
      "outputs": []
    },
    {
      "cell_type": "code",
      "source": [
        "num_round = 10\n",
        "lgb_model = lgb.train(param,\n",
        "                train,\n",
        "                num_round,\n",
        "                nfold=5)"
      ],
      "metadata": {
        "id": "bDXcE85Rh29M"
      },
      "execution_count": null,
      "outputs": []
    },
    {
      "cell_type": "code",
      "source": [
        "lgb_pred = lgb_model.predict(validation,\n",
        "                             num_iteration = lgb_model.best_iteration\n",
        "                             )"
      ],
      "metadata": {
        "id": "thNZ0SZLiV1E"
      },
      "execution_count": null,
      "outputs": []
    }
  ],
  "metadata": {
    "colab": {
      "toc_visible": true,
      "provenance": [],
      "gpuType": "T4",
      "include_colab_link": true
    },
    "kernelspec": {
      "display_name": "Python 3",
      "name": "python3"
    },
    "language_info": {
      "codemirror_mode": {
        "name": "ipython",
        "version": 3
      },
      "file_extension": ".py",
      "mimetype": "text/x-python",
      "name": "python",
      "nbconvert_exporter": "python",
      "pygments_lexer": "ipython3",
      "version": "3.10.10"
    },
    "accelerator": "GPU"
  },
  "nbformat": 4,
  "nbformat_minor": 0
}