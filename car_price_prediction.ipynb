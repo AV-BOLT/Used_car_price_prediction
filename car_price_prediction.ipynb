{
  "metadata": {
    "kernelspec": {
      "language": "python",
      "display_name": "Python 3",
      "name": "python3"
    },
    "language_info": {
      "name": "python",
      "version": "3.10.10",
      "mimetype": "text/x-python",
      "codemirror_mode": {
        "name": "ipython",
        "version": 3
      },
      "pygments_lexer": "ipython3",
      "nbconvert_exporter": "python",
      "file_extension": ".py"
    },
    "colab": {
      "provenance": [],
      "toc_visible": true,
      "include_colab_link": true
    }
  },
  "nbformat_minor": 0,
  "nbformat": 4,
  "cells": [
    {
      "cell_type": "markdown",
      "metadata": {
        "id": "view-in-github",
        "colab_type": "text"
      },
      "source": [
        "<a href=\"https://colab.research.google.com/github/AV-BOLT/Used_car_price_prediction/blob/master/car_price_prediction.ipynb\" target=\"_parent\"><img src=\"https://colab.research.google.com/assets/colab-badge.svg\" alt=\"Open In Colab\"/></a>"
      ]
    },
    {
      "cell_type": "markdown",
      "source": [
        "# Описание проекта #"
      ],
      "metadata": {
        "id": "Vo8I4a5gVmNL"
      }
    },
    {
      "cell_type": "markdown",
      "source": [
        "\n",
        "Сервис по продаже автомобилей с пробегом «Не бит, не крашен» разрабатывает приложение, чтобы привлечь новых клиентов. В нём можно будет узнать рыночную стоимость своего автомобиля.\n",
        "\n",
        "Постройте модель, которая умеет её определять. В вашем распоряжении данные о технических характеристиках, комплектации и ценах других автомобилей.\n",
        "\n",
        "Критерии, которые важны заказчику:\n",
        "качество предсказания;\n",
        "время обучения модели;\n",
        "время предсказания модели.\n",
        "\n",
        "Инструкция по выполнению проекта\n",
        "\n",
        "Основные шаги:\n",
        "Загрузите данные, путь к файлу: /datasets/autos.csv.\n",
        "Изучите данные. Заполните пропущенные значения и обработайте аномалии в столбцах. Если среди признаков имеются неинформативные, удалите их.\n",
        "Подготовьте выборки для обучения моделей.\n",
        "Обучите разные модели, одна из которых — LightGBM, как минимум одна — не бустинг. Для каждой модели попробуйте разные гиперпараметры.\n",
        "Проанализируйте время обучения, время предсказания и качество моделей.\n",
        "\n",
        "Опираясь на критерии заказчика, выберете лучшую модель, проверьте её качество на тестовой выборке.\n",
        "\n",
        "\n",
        "Описание данных\n",
        "Данные находятся в файле autos.csv.\n",
        "\n",
        "Признаки\n",
        "- DateCrawled — дата скачивания анкеты из базы\n",
        "- VehicleType — тип автомобильного кузова\n",
        "- RegistrationYear — год регистрации автомобиля\n",
        "- Gearbox — тип коробки передач\n",
        "- Power — мощность (л. с.)\n",
        "- Model — модель автомобиля\n",
        "- Kilometer — пробег (км)\n",
        "- RegistrationMonth — месяц регистрации автомобиля\n",
        "- FuelType — тип топлива\n",
        "- Brand — марка автомобиля\n",
        "- Repaired — была машина в ремонте или нет\n",
        "- DateCreated — дата создания анкеты\n",
        "- NumberOfPictures — количество фотографий автомобиля\n",
        "- PostalCode — почтовый индекс владельца анкеты (пользователя)\n",
        "- LastSeen — дата последней активности пользователя\n",
        "- Целевой признак Price — цена (евро)\n"
      ],
      "metadata": {
        "id": "SmIjyJKvS1CZ"
      }
    },
    {
      "cell_type": "markdown",
      "source": [
        "\n",
        "Критерии, которые важны заказчику:\n",
        "- качество предсказания;\n",
        "- время обучения модели;\n",
        "- время предсказания модели.\n",
        "\n",
        "**Основные шаги:**\n",
        "\n",
        "Обучите разные модели, одна из которых — LightGBM, как минимум одна — не бустинг. Для каждой модели попробуйте разные гиперпараметры.\n",
        "Проанализируйте время обучения, время предсказания и качество моделей.\n",
        "Опираясь на критерии заказчика, выберете лучшую модель, проверьте её качество на тестовой выборке.\n",
        "\n",
        "**Примечания:**\n",
        "\n",
        "- Для оценки качества моделей применяйте метрику RMSE.\n",
        "Значение метрики RMSE должно быть меньше 2500.\n",
        "- Самостоятельно освойте библиотеку LightGBM и её средствами постройте модели градиентного бустинга."
      ],
      "metadata": {
        "id": "BpXR6fkJuf34"
      }
    },
    {
      "cell_type": "markdown",
      "source": [
        "# Загрузка данных и библиотек"
      ],
      "metadata": {
        "id": "44FY7K7dS1Ca"
      }
    },
    {
      "cell_type": "code",
      "source": [
        "import pandas as pd\n",
        "import matplotlib.pyplot as plt\n",
        "import numpy as np\n",
        "import seaborn as sns\n",
        "import datetime\n",
        "#import optuna"
      ],
      "metadata": {
        "_uuid": "8f2839f25d086af736a60e9eeb907d3b93b6e0e5",
        "_cell_guid": "b1076dfc-b9ad-4769-8c92-a6c4dae69d19",
        "execution": {
          "iopub.status.busy": "2023-06-03T18:20:21.884874Z",
          "iopub.execute_input": "2023-06-03T18:20:21.885387Z",
          "iopub.status.idle": "2023-06-03T18:20:24.101500Z",
          "shell.execute_reply.started": "2023-06-03T18:20:21.885351Z",
          "shell.execute_reply": "2023-06-03T18:20:24.100506Z"
        },
        "trusted": true,
        "id": "ankffva_S1Ca"
      },
      "execution_count": 119,
      "outputs": []
    },
    {
      "cell_type": "code",
      "source": [
        "!pip install catboost\n",
        "import catboost"
      ],
      "metadata": {
        "colab": {
          "base_uri": "https://localhost:8080/"
        },
        "id": "Azu6-AdWTGQu",
        "outputId": "9b24bdd9-99ec-4a82-801c-2b96add62899"
      },
      "execution_count": 120,
      "outputs": [
        {
          "output_type": "stream",
          "name": "stdout",
          "text": [
            "Requirement already satisfied: catboost in /usr/local/lib/python3.10/dist-packages (1.2.1)\n",
            "Requirement already satisfied: graphviz in /usr/local/lib/python3.10/dist-packages (from catboost) (0.20.1)\n",
            "Requirement already satisfied: matplotlib in /usr/local/lib/python3.10/dist-packages (from catboost) (3.7.1)\n",
            "Requirement already satisfied: numpy>=1.16.0 in /usr/local/lib/python3.10/dist-packages (from catboost) (1.23.5)\n",
            "Requirement already satisfied: pandas>=0.24 in /usr/local/lib/python3.10/dist-packages (from catboost) (1.5.3)\n",
            "Requirement already satisfied: scipy in /usr/local/lib/python3.10/dist-packages (from catboost) (1.10.1)\n",
            "Requirement already satisfied: plotly in /usr/local/lib/python3.10/dist-packages (from catboost) (5.15.0)\n",
            "Requirement already satisfied: six in /usr/local/lib/python3.10/dist-packages (from catboost) (1.16.0)\n",
            "Requirement already satisfied: python-dateutil>=2.8.1 in /usr/local/lib/python3.10/dist-packages (from pandas>=0.24->catboost) (2.8.2)\n",
            "Requirement already satisfied: pytz>=2020.1 in /usr/local/lib/python3.10/dist-packages (from pandas>=0.24->catboost) (2023.3)\n",
            "Requirement already satisfied: contourpy>=1.0.1 in /usr/local/lib/python3.10/dist-packages (from matplotlib->catboost) (1.1.0)\n",
            "Requirement already satisfied: cycler>=0.10 in /usr/local/lib/python3.10/dist-packages (from matplotlib->catboost) (0.11.0)\n",
            "Requirement already satisfied: fonttools>=4.22.0 in /usr/local/lib/python3.10/dist-packages (from matplotlib->catboost) (4.42.1)\n",
            "Requirement already satisfied: kiwisolver>=1.0.1 in /usr/local/lib/python3.10/dist-packages (from matplotlib->catboost) (1.4.4)\n",
            "Requirement already satisfied: packaging>=20.0 in /usr/local/lib/python3.10/dist-packages (from matplotlib->catboost) (23.1)\n",
            "Requirement already satisfied: pillow>=6.2.0 in /usr/local/lib/python3.10/dist-packages (from matplotlib->catboost) (9.4.0)\n",
            "Requirement already satisfied: pyparsing>=2.3.1 in /usr/local/lib/python3.10/dist-packages (from matplotlib->catboost) (3.1.1)\n",
            "Requirement already satisfied: tenacity>=6.2.0 in /usr/local/lib/python3.10/dist-packages (from plotly->catboost) (8.2.3)\n"
          ]
        }
      ]
    },
    {
      "cell_type": "code",
      "source": [
        "from sklearn.model_selection import train_test_split\n",
        "from catboost import CatBoostRegressor, Pool, cv\n",
        "from sklearn.model_selection import GridSearchCV\n",
        "from scipy.stats import uniform\n",
        "from sklearn.metrics import mean_squared_error, mean_absolute_percentage_error"
      ],
      "metadata": {
        "execution": {
          "iopub.status.busy": "2023-06-03T18:20:24.106866Z",
          "iopub.execute_input": "2023-06-03T18:20:24.109609Z",
          "iopub.status.idle": "2023-06-03T18:20:24.116576Z",
          "shell.execute_reply.started": "2023-06-03T18:20:24.109570Z",
          "shell.execute_reply": "2023-06-03T18:20:24.115671Z"
        },
        "trusted": true,
        "id": "o6ZZl7N3S1Cb"
      },
      "execution_count": 121,
      "outputs": []
    },
    {
      "cell_type": "code",
      "source": [
        "from google.colab import drive\n",
        "drive.mount('/content/drive')"
      ],
      "metadata": {
        "id": "ODI3t8vgV8pq",
        "colab": {
          "base_uri": "https://localhost:8080/"
        },
        "outputId": "c6a4ef6b-a8b2-47cb-80f0-72255283529f"
      },
      "execution_count": 122,
      "outputs": [
        {
          "output_type": "stream",
          "name": "stdout",
          "text": [
            "Drive already mounted at /content/drive; to attempt to forcibly remount, call drive.mount(\"/content/drive\", force_remount=True).\n"
          ]
        }
      ]
    },
    {
      "cell_type": "code",
      "source": [
        "data = pd.read_csv('/content/drive/MyDrive/Projects_YP/Used_car_price_prediction/autos.csv')\n",
        "data.head()"
      ],
      "metadata": {
        "id": "WmJyJYy8ZBqo",
        "colab": {
          "base_uri": "https://localhost:8080/",
          "height": 400
        },
        "outputId": "f3019ab8-bb0d-44ca-993e-df59d05e9175"
      },
      "execution_count": 210,
      "outputs": [
        {
          "output_type": "execute_result",
          "data": {
            "text/plain": [
              "           DateCrawled  Price VehicleType  RegistrationYear Gearbox  Power  \\\n",
              "0  2016-03-24 11:52:17    480         NaN              1993  manual      0   \n",
              "1  2016-03-24 10:58:45  18300       coupe              2011  manual    190   \n",
              "2  2016-03-14 12:52:21   9800         suv              2004    auto    163   \n",
              "3  2016-03-17 16:54:04   1500       small              2001  manual     75   \n",
              "4  2016-03-31 17:25:20   3600       small              2008  manual     69   \n",
              "\n",
              "   Model  Kilometer  RegistrationMonth  FuelType       Brand Repaired  \\\n",
              "0   golf     150000                  0    petrol  volkswagen      NaN   \n",
              "1    NaN     125000                  5  gasoline        audi      yes   \n",
              "2  grand     125000                  8  gasoline        jeep      NaN   \n",
              "3   golf     150000                  6    petrol  volkswagen       no   \n",
              "4  fabia      90000                  7  gasoline       skoda       no   \n",
              "\n",
              "           DateCreated  NumberOfPictures  PostalCode             LastSeen  \n",
              "0  2016-03-24 00:00:00                 0       70435  2016-04-07 03:16:57  \n",
              "1  2016-03-24 00:00:00                 0       66954  2016-04-07 01:46:50  \n",
              "2  2016-03-14 00:00:00                 0       90480  2016-04-05 12:47:46  \n",
              "3  2016-03-17 00:00:00                 0       91074  2016-03-17 17:40:17  \n",
              "4  2016-03-31 00:00:00                 0       60437  2016-04-06 10:17:21  "
            ],
            "text/html": [
              "\n",
              "  <div id=\"df-47b30014-f3ba-450f-b7f1-57c5dfa38b27\" class=\"colab-df-container\">\n",
              "    <div>\n",
              "<style scoped>\n",
              "    .dataframe tbody tr th:only-of-type {\n",
              "        vertical-align: middle;\n",
              "    }\n",
              "\n",
              "    .dataframe tbody tr th {\n",
              "        vertical-align: top;\n",
              "    }\n",
              "\n",
              "    .dataframe thead th {\n",
              "        text-align: right;\n",
              "    }\n",
              "</style>\n",
              "<table border=\"1\" class=\"dataframe\">\n",
              "  <thead>\n",
              "    <tr style=\"text-align: right;\">\n",
              "      <th></th>\n",
              "      <th>DateCrawled</th>\n",
              "      <th>Price</th>\n",
              "      <th>VehicleType</th>\n",
              "      <th>RegistrationYear</th>\n",
              "      <th>Gearbox</th>\n",
              "      <th>Power</th>\n",
              "      <th>Model</th>\n",
              "      <th>Kilometer</th>\n",
              "      <th>RegistrationMonth</th>\n",
              "      <th>FuelType</th>\n",
              "      <th>Brand</th>\n",
              "      <th>Repaired</th>\n",
              "      <th>DateCreated</th>\n",
              "      <th>NumberOfPictures</th>\n",
              "      <th>PostalCode</th>\n",
              "      <th>LastSeen</th>\n",
              "    </tr>\n",
              "  </thead>\n",
              "  <tbody>\n",
              "    <tr>\n",
              "      <th>0</th>\n",
              "      <td>2016-03-24 11:52:17</td>\n",
              "      <td>480</td>\n",
              "      <td>NaN</td>\n",
              "      <td>1993</td>\n",
              "      <td>manual</td>\n",
              "      <td>0</td>\n",
              "      <td>golf</td>\n",
              "      <td>150000</td>\n",
              "      <td>0</td>\n",
              "      <td>petrol</td>\n",
              "      <td>volkswagen</td>\n",
              "      <td>NaN</td>\n",
              "      <td>2016-03-24 00:00:00</td>\n",
              "      <td>0</td>\n",
              "      <td>70435</td>\n",
              "      <td>2016-04-07 03:16:57</td>\n",
              "    </tr>\n",
              "    <tr>\n",
              "      <th>1</th>\n",
              "      <td>2016-03-24 10:58:45</td>\n",
              "      <td>18300</td>\n",
              "      <td>coupe</td>\n",
              "      <td>2011</td>\n",
              "      <td>manual</td>\n",
              "      <td>190</td>\n",
              "      <td>NaN</td>\n",
              "      <td>125000</td>\n",
              "      <td>5</td>\n",
              "      <td>gasoline</td>\n",
              "      <td>audi</td>\n",
              "      <td>yes</td>\n",
              "      <td>2016-03-24 00:00:00</td>\n",
              "      <td>0</td>\n",
              "      <td>66954</td>\n",
              "      <td>2016-04-07 01:46:50</td>\n",
              "    </tr>\n",
              "    <tr>\n",
              "      <th>2</th>\n",
              "      <td>2016-03-14 12:52:21</td>\n",
              "      <td>9800</td>\n",
              "      <td>suv</td>\n",
              "      <td>2004</td>\n",
              "      <td>auto</td>\n",
              "      <td>163</td>\n",
              "      <td>grand</td>\n",
              "      <td>125000</td>\n",
              "      <td>8</td>\n",
              "      <td>gasoline</td>\n",
              "      <td>jeep</td>\n",
              "      <td>NaN</td>\n",
              "      <td>2016-03-14 00:00:00</td>\n",
              "      <td>0</td>\n",
              "      <td>90480</td>\n",
              "      <td>2016-04-05 12:47:46</td>\n",
              "    </tr>\n",
              "    <tr>\n",
              "      <th>3</th>\n",
              "      <td>2016-03-17 16:54:04</td>\n",
              "      <td>1500</td>\n",
              "      <td>small</td>\n",
              "      <td>2001</td>\n",
              "      <td>manual</td>\n",
              "      <td>75</td>\n",
              "      <td>golf</td>\n",
              "      <td>150000</td>\n",
              "      <td>6</td>\n",
              "      <td>petrol</td>\n",
              "      <td>volkswagen</td>\n",
              "      <td>no</td>\n",
              "      <td>2016-03-17 00:00:00</td>\n",
              "      <td>0</td>\n",
              "      <td>91074</td>\n",
              "      <td>2016-03-17 17:40:17</td>\n",
              "    </tr>\n",
              "    <tr>\n",
              "      <th>4</th>\n",
              "      <td>2016-03-31 17:25:20</td>\n",
              "      <td>3600</td>\n",
              "      <td>small</td>\n",
              "      <td>2008</td>\n",
              "      <td>manual</td>\n",
              "      <td>69</td>\n",
              "      <td>fabia</td>\n",
              "      <td>90000</td>\n",
              "      <td>7</td>\n",
              "      <td>gasoline</td>\n",
              "      <td>skoda</td>\n",
              "      <td>no</td>\n",
              "      <td>2016-03-31 00:00:00</td>\n",
              "      <td>0</td>\n",
              "      <td>60437</td>\n",
              "      <td>2016-04-06 10:17:21</td>\n",
              "    </tr>\n",
              "  </tbody>\n",
              "</table>\n",
              "</div>\n",
              "    <div class=\"colab-df-buttons\">\n",
              "\n",
              "  <div class=\"colab-df-container\">\n",
              "    <button class=\"colab-df-convert\" onclick=\"convertToInteractive('df-47b30014-f3ba-450f-b7f1-57c5dfa38b27')\"\n",
              "            title=\"Convert this dataframe to an interactive table.\"\n",
              "            style=\"display:none;\">\n",
              "\n",
              "  <svg xmlns=\"http://www.w3.org/2000/svg\" height=\"24px\" viewBox=\"0 -960 960 960\">\n",
              "    <path d=\"M120-120v-720h720v720H120Zm60-500h600v-160H180v160Zm220 220h160v-160H400v160Zm0 220h160v-160H400v160ZM180-400h160v-160H180v160Zm440 0h160v-160H620v160ZM180-180h160v-160H180v160Zm440 0h160v-160H620v160Z\"/>\n",
              "  </svg>\n",
              "    </button>\n",
              "\n",
              "  <style>\n",
              "    .colab-df-container {\n",
              "      display:flex;\n",
              "      gap: 12px;\n",
              "    }\n",
              "\n",
              "    .colab-df-convert {\n",
              "      background-color: #E8F0FE;\n",
              "      border: none;\n",
              "      border-radius: 50%;\n",
              "      cursor: pointer;\n",
              "      display: none;\n",
              "      fill: #1967D2;\n",
              "      height: 32px;\n",
              "      padding: 0 0 0 0;\n",
              "      width: 32px;\n",
              "    }\n",
              "\n",
              "    .colab-df-convert:hover {\n",
              "      background-color: #E2EBFA;\n",
              "      box-shadow: 0px 1px 2px rgba(60, 64, 67, 0.3), 0px 1px 3px 1px rgba(60, 64, 67, 0.15);\n",
              "      fill: #174EA6;\n",
              "    }\n",
              "\n",
              "    .colab-df-buttons div {\n",
              "      margin-bottom: 4px;\n",
              "    }\n",
              "\n",
              "    [theme=dark] .colab-df-convert {\n",
              "      background-color: #3B4455;\n",
              "      fill: #D2E3FC;\n",
              "    }\n",
              "\n",
              "    [theme=dark] .colab-df-convert:hover {\n",
              "      background-color: #434B5C;\n",
              "      box-shadow: 0px 1px 3px 1px rgba(0, 0, 0, 0.15);\n",
              "      filter: drop-shadow(0px 1px 2px rgba(0, 0, 0, 0.3));\n",
              "      fill: #FFFFFF;\n",
              "    }\n",
              "  </style>\n",
              "\n",
              "    <script>\n",
              "      const buttonEl =\n",
              "        document.querySelector('#df-47b30014-f3ba-450f-b7f1-57c5dfa38b27 button.colab-df-convert');\n",
              "      buttonEl.style.display =\n",
              "        google.colab.kernel.accessAllowed ? 'block' : 'none';\n",
              "\n",
              "      async function convertToInteractive(key) {\n",
              "        const element = document.querySelector('#df-47b30014-f3ba-450f-b7f1-57c5dfa38b27');\n",
              "        const dataTable =\n",
              "          await google.colab.kernel.invokeFunction('convertToInteractive',\n",
              "                                                    [key], {});\n",
              "        if (!dataTable) return;\n",
              "\n",
              "        const docLinkHtml = 'Like what you see? Visit the ' +\n",
              "          '<a target=\"_blank\" href=https://colab.research.google.com/notebooks/data_table.ipynb>data table notebook</a>'\n",
              "          + ' to learn more about interactive tables.';\n",
              "        element.innerHTML = '';\n",
              "        dataTable['output_type'] = 'display_data';\n",
              "        await google.colab.output.renderOutput(dataTable, element);\n",
              "        const docLink = document.createElement('div');\n",
              "        docLink.innerHTML = docLinkHtml;\n",
              "        element.appendChild(docLink);\n",
              "      }\n",
              "    </script>\n",
              "  </div>\n",
              "\n",
              "\n",
              "<div id=\"df-28b2cdf9-9249-4bc1-9a40-16acc0ce4ddd\">\n",
              "  <button class=\"colab-df-quickchart\" onclick=\"quickchart('df-28b2cdf9-9249-4bc1-9a40-16acc0ce4ddd')\"\n",
              "            title=\"Suggest charts.\"\n",
              "            style=\"display:none;\">\n",
              "\n",
              "<svg xmlns=\"http://www.w3.org/2000/svg\" height=\"24px\"viewBox=\"0 0 24 24\"\n",
              "     width=\"24px\">\n",
              "    <g>\n",
              "        <path d=\"M19 3H5c-1.1 0-2 .9-2 2v14c0 1.1.9 2 2 2h14c1.1 0 2-.9 2-2V5c0-1.1-.9-2-2-2zM9 17H7v-7h2v7zm4 0h-2V7h2v10zm4 0h-2v-4h2v4z\"/>\n",
              "    </g>\n",
              "</svg>\n",
              "  </button>\n",
              "\n",
              "<style>\n",
              "  .colab-df-quickchart {\n",
              "    background-color: #E8F0FE;\n",
              "    border: none;\n",
              "    border-radius: 50%;\n",
              "    cursor: pointer;\n",
              "    display: none;\n",
              "    fill: #1967D2;\n",
              "    height: 32px;\n",
              "    padding: 0 0 0 0;\n",
              "    width: 32px;\n",
              "  }\n",
              "\n",
              "  .colab-df-quickchart:hover {\n",
              "    background-color: #E2EBFA;\n",
              "    box-shadow: 0px 1px 2px rgba(60, 64, 67, 0.3), 0px 1px 3px 1px rgba(60, 64, 67, 0.15);\n",
              "    fill: #174EA6;\n",
              "  }\n",
              "\n",
              "  [theme=dark] .colab-df-quickchart {\n",
              "    background-color: #3B4455;\n",
              "    fill: #D2E3FC;\n",
              "  }\n",
              "\n",
              "  [theme=dark] .colab-df-quickchart:hover {\n",
              "    background-color: #434B5C;\n",
              "    box-shadow: 0px 1px 3px 1px rgba(0, 0, 0, 0.15);\n",
              "    filter: drop-shadow(0px 1px 2px rgba(0, 0, 0, 0.3));\n",
              "    fill: #FFFFFF;\n",
              "  }\n",
              "</style>\n",
              "\n",
              "  <script>\n",
              "    async function quickchart(key) {\n",
              "      const charts = await google.colab.kernel.invokeFunction(\n",
              "          'suggestCharts', [key], {});\n",
              "    }\n",
              "    (() => {\n",
              "      let quickchartButtonEl =\n",
              "        document.querySelector('#df-28b2cdf9-9249-4bc1-9a40-16acc0ce4ddd button');\n",
              "      quickchartButtonEl.style.display =\n",
              "        google.colab.kernel.accessAllowed ? 'block' : 'none';\n",
              "    })();\n",
              "  </script>\n",
              "</div>\n",
              "    </div>\n",
              "  </div>\n"
            ]
          },
          "metadata": {},
          "execution_count": 210
        }
      ]
    },
    {
      "cell_type": "code",
      "source": [
        "data.shape"
      ],
      "metadata": {
        "colab": {
          "base_uri": "https://localhost:8080/"
        },
        "id": "oq-XR4oaI6EH",
        "outputId": "d98b380d-380e-46af-e753-8143f21e75d0"
      },
      "execution_count": 124,
      "outputs": [
        {
          "output_type": "execute_result",
          "data": {
            "text/plain": [
              "(354369, 16)"
            ]
          },
          "metadata": {},
          "execution_count": 124
        }
      ]
    },
    {
      "cell_type": "markdown",
      "source": [
        "Данные загружены, имеется 354 369 объектов и 16 признаков.\n"
      ],
      "metadata": {
        "id": "pEZ4N7_sI3ZH"
      }
    },
    {
      "cell_type": "markdown",
      "source": [
        "# Предобработка и анализ"
      ],
      "metadata": {
        "id": "EJjSfCg_JLEg"
      }
    },
    {
      "cell_type": "code",
      "source": [
        "# посмотрим на дынные\n",
        "data.info()"
      ],
      "metadata": {
        "colab": {
          "base_uri": "https://localhost:8080/"
        },
        "id": "5TiHtNmc8VKD",
        "outputId": "60f33684-53ec-419f-bb4b-8b8898b1829d"
      },
      "execution_count": 125,
      "outputs": [
        {
          "output_type": "stream",
          "name": "stdout",
          "text": [
            "<class 'pandas.core.frame.DataFrame'>\n",
            "RangeIndex: 354369 entries, 0 to 354368\n",
            "Data columns (total 16 columns):\n",
            " #   Column             Non-Null Count   Dtype \n",
            "---  ------             --------------   ----- \n",
            " 0   DateCrawled        354369 non-null  object\n",
            " 1   Price              354369 non-null  int64 \n",
            " 2   VehicleType        316879 non-null  object\n",
            " 3   RegistrationYear   354369 non-null  int64 \n",
            " 4   Gearbox            334536 non-null  object\n",
            " 5   Power              354369 non-null  int64 \n",
            " 6   Model              334664 non-null  object\n",
            " 7   Kilometer          354369 non-null  int64 \n",
            " 8   RegistrationMonth  354369 non-null  int64 \n",
            " 9   FuelType           321474 non-null  object\n",
            " 10  Brand              354369 non-null  object\n",
            " 11  Repaired           283215 non-null  object\n",
            " 12  DateCreated        354369 non-null  object\n",
            " 13  NumberOfPictures   354369 non-null  int64 \n",
            " 14  PostalCode         354369 non-null  int64 \n",
            " 15  LastSeen           354369 non-null  object\n",
            "dtypes: int64(7), object(9)\n",
            "memory usage: 43.3+ MB\n"
          ]
        }
      ]
    },
    {
      "cell_type": "code",
      "source": [
        "data.dtypes.to_frame()"
      ],
      "metadata": {
        "colab": {
          "base_uri": "https://localhost:8080/",
          "height": 551
        },
        "id": "trA9HonD_b0S",
        "outputId": "803c7f82-7696-4513-8f76-2b3b669260b2"
      },
      "execution_count": 126,
      "outputs": [
        {
          "output_type": "execute_result",
          "data": {
            "text/plain": [
              "                        0\n",
              "DateCrawled        object\n",
              "Price               int64\n",
              "VehicleType        object\n",
              "RegistrationYear    int64\n",
              "Gearbox            object\n",
              "Power               int64\n",
              "Model              object\n",
              "Kilometer           int64\n",
              "RegistrationMonth   int64\n",
              "FuelType           object\n",
              "Brand              object\n",
              "Repaired           object\n",
              "DateCreated        object\n",
              "NumberOfPictures    int64\n",
              "PostalCode          int64\n",
              "LastSeen           object"
            ],
            "text/html": [
              "\n",
              "  <div id=\"df-4812667e-d92c-4d0a-8557-5b078f870607\" class=\"colab-df-container\">\n",
              "    <div>\n",
              "<style scoped>\n",
              "    .dataframe tbody tr th:only-of-type {\n",
              "        vertical-align: middle;\n",
              "    }\n",
              "\n",
              "    .dataframe tbody tr th {\n",
              "        vertical-align: top;\n",
              "    }\n",
              "\n",
              "    .dataframe thead th {\n",
              "        text-align: right;\n",
              "    }\n",
              "</style>\n",
              "<table border=\"1\" class=\"dataframe\">\n",
              "  <thead>\n",
              "    <tr style=\"text-align: right;\">\n",
              "      <th></th>\n",
              "      <th>0</th>\n",
              "    </tr>\n",
              "  </thead>\n",
              "  <tbody>\n",
              "    <tr>\n",
              "      <th>DateCrawled</th>\n",
              "      <td>object</td>\n",
              "    </tr>\n",
              "    <tr>\n",
              "      <th>Price</th>\n",
              "      <td>int64</td>\n",
              "    </tr>\n",
              "    <tr>\n",
              "      <th>VehicleType</th>\n",
              "      <td>object</td>\n",
              "    </tr>\n",
              "    <tr>\n",
              "      <th>RegistrationYear</th>\n",
              "      <td>int64</td>\n",
              "    </tr>\n",
              "    <tr>\n",
              "      <th>Gearbox</th>\n",
              "      <td>object</td>\n",
              "    </tr>\n",
              "    <tr>\n",
              "      <th>Power</th>\n",
              "      <td>int64</td>\n",
              "    </tr>\n",
              "    <tr>\n",
              "      <th>Model</th>\n",
              "      <td>object</td>\n",
              "    </tr>\n",
              "    <tr>\n",
              "      <th>Kilometer</th>\n",
              "      <td>int64</td>\n",
              "    </tr>\n",
              "    <tr>\n",
              "      <th>RegistrationMonth</th>\n",
              "      <td>int64</td>\n",
              "    </tr>\n",
              "    <tr>\n",
              "      <th>FuelType</th>\n",
              "      <td>object</td>\n",
              "    </tr>\n",
              "    <tr>\n",
              "      <th>Brand</th>\n",
              "      <td>object</td>\n",
              "    </tr>\n",
              "    <tr>\n",
              "      <th>Repaired</th>\n",
              "      <td>object</td>\n",
              "    </tr>\n",
              "    <tr>\n",
              "      <th>DateCreated</th>\n",
              "      <td>object</td>\n",
              "    </tr>\n",
              "    <tr>\n",
              "      <th>NumberOfPictures</th>\n",
              "      <td>int64</td>\n",
              "    </tr>\n",
              "    <tr>\n",
              "      <th>PostalCode</th>\n",
              "      <td>int64</td>\n",
              "    </tr>\n",
              "    <tr>\n",
              "      <th>LastSeen</th>\n",
              "      <td>object</td>\n",
              "    </tr>\n",
              "  </tbody>\n",
              "</table>\n",
              "</div>\n",
              "    <div class=\"colab-df-buttons\">\n",
              "\n",
              "  <div class=\"colab-df-container\">\n",
              "    <button class=\"colab-df-convert\" onclick=\"convertToInteractive('df-4812667e-d92c-4d0a-8557-5b078f870607')\"\n",
              "            title=\"Convert this dataframe to an interactive table.\"\n",
              "            style=\"display:none;\">\n",
              "\n",
              "  <svg xmlns=\"http://www.w3.org/2000/svg\" height=\"24px\" viewBox=\"0 -960 960 960\">\n",
              "    <path d=\"M120-120v-720h720v720H120Zm60-500h600v-160H180v160Zm220 220h160v-160H400v160Zm0 220h160v-160H400v160ZM180-400h160v-160H180v160Zm440 0h160v-160H620v160ZM180-180h160v-160H180v160Zm440 0h160v-160H620v160Z\"/>\n",
              "  </svg>\n",
              "    </button>\n",
              "\n",
              "  <style>\n",
              "    .colab-df-container {\n",
              "      display:flex;\n",
              "      gap: 12px;\n",
              "    }\n",
              "\n",
              "    .colab-df-convert {\n",
              "      background-color: #E8F0FE;\n",
              "      border: none;\n",
              "      border-radius: 50%;\n",
              "      cursor: pointer;\n",
              "      display: none;\n",
              "      fill: #1967D2;\n",
              "      height: 32px;\n",
              "      padding: 0 0 0 0;\n",
              "      width: 32px;\n",
              "    }\n",
              "\n",
              "    .colab-df-convert:hover {\n",
              "      background-color: #E2EBFA;\n",
              "      box-shadow: 0px 1px 2px rgba(60, 64, 67, 0.3), 0px 1px 3px 1px rgba(60, 64, 67, 0.15);\n",
              "      fill: #174EA6;\n",
              "    }\n",
              "\n",
              "    .colab-df-buttons div {\n",
              "      margin-bottom: 4px;\n",
              "    }\n",
              "\n",
              "    [theme=dark] .colab-df-convert {\n",
              "      background-color: #3B4455;\n",
              "      fill: #D2E3FC;\n",
              "    }\n",
              "\n",
              "    [theme=dark] .colab-df-convert:hover {\n",
              "      background-color: #434B5C;\n",
              "      box-shadow: 0px 1px 3px 1px rgba(0, 0, 0, 0.15);\n",
              "      filter: drop-shadow(0px 1px 2px rgba(0, 0, 0, 0.3));\n",
              "      fill: #FFFFFF;\n",
              "    }\n",
              "  </style>\n",
              "\n",
              "    <script>\n",
              "      const buttonEl =\n",
              "        document.querySelector('#df-4812667e-d92c-4d0a-8557-5b078f870607 button.colab-df-convert');\n",
              "      buttonEl.style.display =\n",
              "        google.colab.kernel.accessAllowed ? 'block' : 'none';\n",
              "\n",
              "      async function convertToInteractive(key) {\n",
              "        const element = document.querySelector('#df-4812667e-d92c-4d0a-8557-5b078f870607');\n",
              "        const dataTable =\n",
              "          await google.colab.kernel.invokeFunction('convertToInteractive',\n",
              "                                                    [key], {});\n",
              "        if (!dataTable) return;\n",
              "\n",
              "        const docLinkHtml = 'Like what you see? Visit the ' +\n",
              "          '<a target=\"_blank\" href=https://colab.research.google.com/notebooks/data_table.ipynb>data table notebook</a>'\n",
              "          + ' to learn more about interactive tables.';\n",
              "        element.innerHTML = '';\n",
              "        dataTable['output_type'] = 'display_data';\n",
              "        await google.colab.output.renderOutput(dataTable, element);\n",
              "        const docLink = document.createElement('div');\n",
              "        docLink.innerHTML = docLinkHtml;\n",
              "        element.appendChild(docLink);\n",
              "      }\n",
              "    </script>\n",
              "  </div>\n",
              "\n",
              "\n",
              "<div id=\"df-03a6af8b-a2a0-4a41-94c5-dc7c92b616d0\">\n",
              "  <button class=\"colab-df-quickchart\" onclick=\"quickchart('df-03a6af8b-a2a0-4a41-94c5-dc7c92b616d0')\"\n",
              "            title=\"Suggest charts.\"\n",
              "            style=\"display:none;\">\n",
              "\n",
              "<svg xmlns=\"http://www.w3.org/2000/svg\" height=\"24px\"viewBox=\"0 0 24 24\"\n",
              "     width=\"24px\">\n",
              "    <g>\n",
              "        <path d=\"M19 3H5c-1.1 0-2 .9-2 2v14c0 1.1.9 2 2 2h14c1.1 0 2-.9 2-2V5c0-1.1-.9-2-2-2zM9 17H7v-7h2v7zm4 0h-2V7h2v10zm4 0h-2v-4h2v4z\"/>\n",
              "    </g>\n",
              "</svg>\n",
              "  </button>\n",
              "\n",
              "<style>\n",
              "  .colab-df-quickchart {\n",
              "    background-color: #E8F0FE;\n",
              "    border: none;\n",
              "    border-radius: 50%;\n",
              "    cursor: pointer;\n",
              "    display: none;\n",
              "    fill: #1967D2;\n",
              "    height: 32px;\n",
              "    padding: 0 0 0 0;\n",
              "    width: 32px;\n",
              "  }\n",
              "\n",
              "  .colab-df-quickchart:hover {\n",
              "    background-color: #E2EBFA;\n",
              "    box-shadow: 0px 1px 2px rgba(60, 64, 67, 0.3), 0px 1px 3px 1px rgba(60, 64, 67, 0.15);\n",
              "    fill: #174EA6;\n",
              "  }\n",
              "\n",
              "  [theme=dark] .colab-df-quickchart {\n",
              "    background-color: #3B4455;\n",
              "    fill: #D2E3FC;\n",
              "  }\n",
              "\n",
              "  [theme=dark] .colab-df-quickchart:hover {\n",
              "    background-color: #434B5C;\n",
              "    box-shadow: 0px 1px 3px 1px rgba(0, 0, 0, 0.15);\n",
              "    filter: drop-shadow(0px 1px 2px rgba(0, 0, 0, 0.3));\n",
              "    fill: #FFFFFF;\n",
              "  }\n",
              "</style>\n",
              "\n",
              "  <script>\n",
              "    async function quickchart(key) {\n",
              "      const charts = await google.colab.kernel.invokeFunction(\n",
              "          'suggestCharts', [key], {});\n",
              "    }\n",
              "    (() => {\n",
              "      let quickchartButtonEl =\n",
              "        document.querySelector('#df-03a6af8b-a2a0-4a41-94c5-dc7c92b616d0 button');\n",
              "      quickchartButtonEl.style.display =\n",
              "        google.colab.kernel.accessAllowed ? 'block' : 'none';\n",
              "    })();\n",
              "  </script>\n",
              "</div>\n",
              "    </div>\n",
              "  </div>\n"
            ]
          },
          "metadata": {},
          "execution_count": 126
        }
      ]
    },
    {
      "cell_type": "markdown",
      "source": [
        "- В данных имеются пропуски\n",
        "- Имеются признаки с типом данных который не соответствует значениям в признаке\n",
        "- Названия необходимо привести к единообразной форме (строчный регистр и _ для разделения)\n",
        "- Данные представлены категориальными, числовыми признаками, datetime.\n"
      ],
      "metadata": {
        "id": "OqqopYoO8q6f"
      }
    },
    {
      "cell_type": "markdown",
      "source": [
        "Этапы предобработки данных:\n",
        "\n",
        "**приведение типов данных** к требуемому формату datetime (без времени):\n",
        "- DateCrawled\n",
        "- DateCreated\n",
        "- LastSeen\n",
        "\n",
        "**приведение названия признаков**  к единообразному формату\n",
        "\n",
        "**пропуски**:\n",
        "- Анализ причин возникновения пропусков\n",
        "- Рассмотрение возможных способов обработки таких признаков(заглушка, использование inputer, оставить как есть если позволяет модель, заполнение синтетическими данными, заполнение на основании остальных признаков и т.д.)\n",
        "\n",
        "примерный алгоритм обработки **категориальные признаки**,  значит необходимо обрабатывать их - приведение к единому написанию (регистр, пробелы/символы/цифры и тд.)\n",
        "- проверка на дупликаты (явные и неявные)\n",
        "\n",
        "**Числовые признаки** проверим\n",
        "- на аномалии и редкие значения\n",
        "-\n",
        "\n"
      ],
      "metadata": {
        "id": "3Wx-bbfb901i"
      }
    },
    {
      "cell_type": "markdown",
      "source": [
        "## Приведение значений к требуемому формату"
      ],
      "metadata": {
        "id": "uN7Qh2vyKAPz"
      }
    },
    {
      "cell_type": "code",
      "source": [
        "# Посмотрим, если они в одном формате представлены\n",
        "#то их одновременно приведем к формоту datetime\n",
        "data[['DateCrawled', 'DateCreated', 'LastSeen']].head()"
      ],
      "metadata": {
        "colab": {
          "base_uri": "https://localhost:8080/",
          "height": 206
        },
        "id": "YEg7_9H68qD2",
        "outputId": "36066449-3ee2-468d-dace-24fa8c6f6866"
      },
      "execution_count": 150,
      "outputs": [
        {
          "output_type": "execute_result",
          "data": {
            "text/plain": [
              "           DateCrawled          DateCreated             LastSeen\n",
              "0  2016-03-24 11:52:17  2016-03-24 00:00:00  2016-04-07 03:16:57\n",
              "1  2016-03-24 10:58:45  2016-03-24 00:00:00  2016-04-07 01:46:50\n",
              "2  2016-03-14 12:52:21  2016-03-14 00:00:00  2016-04-05 12:47:46\n",
              "3  2016-03-17 16:54:04  2016-03-17 00:00:00  2016-03-17 17:40:17\n",
              "4  2016-03-31 17:25:20  2016-03-31 00:00:00  2016-04-06 10:17:21"
            ],
            "text/html": [
              "\n",
              "  <div id=\"df-d89a12d2-6942-4981-95a3-f95be85cc224\" class=\"colab-df-container\">\n",
              "    <div>\n",
              "<style scoped>\n",
              "    .dataframe tbody tr th:only-of-type {\n",
              "        vertical-align: middle;\n",
              "    }\n",
              "\n",
              "    .dataframe tbody tr th {\n",
              "        vertical-align: top;\n",
              "    }\n",
              "\n",
              "    .dataframe thead th {\n",
              "        text-align: right;\n",
              "    }\n",
              "</style>\n",
              "<table border=\"1\" class=\"dataframe\">\n",
              "  <thead>\n",
              "    <tr style=\"text-align: right;\">\n",
              "      <th></th>\n",
              "      <th>DateCrawled</th>\n",
              "      <th>DateCreated</th>\n",
              "      <th>LastSeen</th>\n",
              "    </tr>\n",
              "  </thead>\n",
              "  <tbody>\n",
              "    <tr>\n",
              "      <th>0</th>\n",
              "      <td>2016-03-24 11:52:17</td>\n",
              "      <td>2016-03-24 00:00:00</td>\n",
              "      <td>2016-04-07 03:16:57</td>\n",
              "    </tr>\n",
              "    <tr>\n",
              "      <th>1</th>\n",
              "      <td>2016-03-24 10:58:45</td>\n",
              "      <td>2016-03-24 00:00:00</td>\n",
              "      <td>2016-04-07 01:46:50</td>\n",
              "    </tr>\n",
              "    <tr>\n",
              "      <th>2</th>\n",
              "      <td>2016-03-14 12:52:21</td>\n",
              "      <td>2016-03-14 00:00:00</td>\n",
              "      <td>2016-04-05 12:47:46</td>\n",
              "    </tr>\n",
              "    <tr>\n",
              "      <th>3</th>\n",
              "      <td>2016-03-17 16:54:04</td>\n",
              "      <td>2016-03-17 00:00:00</td>\n",
              "      <td>2016-03-17 17:40:17</td>\n",
              "    </tr>\n",
              "    <tr>\n",
              "      <th>4</th>\n",
              "      <td>2016-03-31 17:25:20</td>\n",
              "      <td>2016-03-31 00:00:00</td>\n",
              "      <td>2016-04-06 10:17:21</td>\n",
              "    </tr>\n",
              "  </tbody>\n",
              "</table>\n",
              "</div>\n",
              "    <div class=\"colab-df-buttons\">\n",
              "\n",
              "  <div class=\"colab-df-container\">\n",
              "    <button class=\"colab-df-convert\" onclick=\"convertToInteractive('df-d89a12d2-6942-4981-95a3-f95be85cc224')\"\n",
              "            title=\"Convert this dataframe to an interactive table.\"\n",
              "            style=\"display:none;\">\n",
              "\n",
              "  <svg xmlns=\"http://www.w3.org/2000/svg\" height=\"24px\" viewBox=\"0 -960 960 960\">\n",
              "    <path d=\"M120-120v-720h720v720H120Zm60-500h600v-160H180v160Zm220 220h160v-160H400v160Zm0 220h160v-160H400v160ZM180-400h160v-160H180v160Zm440 0h160v-160H620v160ZM180-180h160v-160H180v160Zm440 0h160v-160H620v160Z\"/>\n",
              "  </svg>\n",
              "    </button>\n",
              "\n",
              "  <style>\n",
              "    .colab-df-container {\n",
              "      display:flex;\n",
              "      gap: 12px;\n",
              "    }\n",
              "\n",
              "    .colab-df-convert {\n",
              "      background-color: #E8F0FE;\n",
              "      border: none;\n",
              "      border-radius: 50%;\n",
              "      cursor: pointer;\n",
              "      display: none;\n",
              "      fill: #1967D2;\n",
              "      height: 32px;\n",
              "      padding: 0 0 0 0;\n",
              "      width: 32px;\n",
              "    }\n",
              "\n",
              "    .colab-df-convert:hover {\n",
              "      background-color: #E2EBFA;\n",
              "      box-shadow: 0px 1px 2px rgba(60, 64, 67, 0.3), 0px 1px 3px 1px rgba(60, 64, 67, 0.15);\n",
              "      fill: #174EA6;\n",
              "    }\n",
              "\n",
              "    .colab-df-buttons div {\n",
              "      margin-bottom: 4px;\n",
              "    }\n",
              "\n",
              "    [theme=dark] .colab-df-convert {\n",
              "      background-color: #3B4455;\n",
              "      fill: #D2E3FC;\n",
              "    }\n",
              "\n",
              "    [theme=dark] .colab-df-convert:hover {\n",
              "      background-color: #434B5C;\n",
              "      box-shadow: 0px 1px 3px 1px rgba(0, 0, 0, 0.15);\n",
              "      filter: drop-shadow(0px 1px 2px rgba(0, 0, 0, 0.3));\n",
              "      fill: #FFFFFF;\n",
              "    }\n",
              "  </style>\n",
              "\n",
              "    <script>\n",
              "      const buttonEl =\n",
              "        document.querySelector('#df-d89a12d2-6942-4981-95a3-f95be85cc224 button.colab-df-convert');\n",
              "      buttonEl.style.display =\n",
              "        google.colab.kernel.accessAllowed ? 'block' : 'none';\n",
              "\n",
              "      async function convertToInteractive(key) {\n",
              "        const element = document.querySelector('#df-d89a12d2-6942-4981-95a3-f95be85cc224');\n",
              "        const dataTable =\n",
              "          await google.colab.kernel.invokeFunction('convertToInteractive',\n",
              "                                                    [key], {});\n",
              "        if (!dataTable) return;\n",
              "\n",
              "        const docLinkHtml = 'Like what you see? Visit the ' +\n",
              "          '<a target=\"_blank\" href=https://colab.research.google.com/notebooks/data_table.ipynb>data table notebook</a>'\n",
              "          + ' to learn more about interactive tables.';\n",
              "        element.innerHTML = '';\n",
              "        dataTable['output_type'] = 'display_data';\n",
              "        await google.colab.output.renderOutput(dataTable, element);\n",
              "        const docLink = document.createElement('div');\n",
              "        docLink.innerHTML = docLinkHtml;\n",
              "        element.appendChild(docLink);\n",
              "      }\n",
              "    </script>\n",
              "  </div>\n",
              "\n",
              "\n",
              "<div id=\"df-38f1411d-c32f-4e8d-b562-9a1daba247c4\">\n",
              "  <button class=\"colab-df-quickchart\" onclick=\"quickchart('df-38f1411d-c32f-4e8d-b562-9a1daba247c4')\"\n",
              "            title=\"Suggest charts.\"\n",
              "            style=\"display:none;\">\n",
              "\n",
              "<svg xmlns=\"http://www.w3.org/2000/svg\" height=\"24px\"viewBox=\"0 0 24 24\"\n",
              "     width=\"24px\">\n",
              "    <g>\n",
              "        <path d=\"M19 3H5c-1.1 0-2 .9-2 2v14c0 1.1.9 2 2 2h14c1.1 0 2-.9 2-2V5c0-1.1-.9-2-2-2zM9 17H7v-7h2v7zm4 0h-2V7h2v10zm4 0h-2v-4h2v4z\"/>\n",
              "    </g>\n",
              "</svg>\n",
              "  </button>\n",
              "\n",
              "<style>\n",
              "  .colab-df-quickchart {\n",
              "    background-color: #E8F0FE;\n",
              "    border: none;\n",
              "    border-radius: 50%;\n",
              "    cursor: pointer;\n",
              "    display: none;\n",
              "    fill: #1967D2;\n",
              "    height: 32px;\n",
              "    padding: 0 0 0 0;\n",
              "    width: 32px;\n",
              "  }\n",
              "\n",
              "  .colab-df-quickchart:hover {\n",
              "    background-color: #E2EBFA;\n",
              "    box-shadow: 0px 1px 2px rgba(60, 64, 67, 0.3), 0px 1px 3px 1px rgba(60, 64, 67, 0.15);\n",
              "    fill: #174EA6;\n",
              "  }\n",
              "\n",
              "  [theme=dark] .colab-df-quickchart {\n",
              "    background-color: #3B4455;\n",
              "    fill: #D2E3FC;\n",
              "  }\n",
              "\n",
              "  [theme=dark] .colab-df-quickchart:hover {\n",
              "    background-color: #434B5C;\n",
              "    box-shadow: 0px 1px 3px 1px rgba(0, 0, 0, 0.15);\n",
              "    filter: drop-shadow(0px 1px 2px rgba(0, 0, 0, 0.3));\n",
              "    fill: #FFFFFF;\n",
              "  }\n",
              "</style>\n",
              "\n",
              "  <script>\n",
              "    async function quickchart(key) {\n",
              "      const charts = await google.colab.kernel.invokeFunction(\n",
              "          'suggestCharts', [key], {});\n",
              "    }\n",
              "    (() => {\n",
              "      let quickchartButtonEl =\n",
              "        document.querySelector('#df-38f1411d-c32f-4e8d-b562-9a1daba247c4 button');\n",
              "      quickchartButtonEl.style.display =\n",
              "        google.colab.kernel.accessAllowed ? 'block' : 'none';\n",
              "    })();\n",
              "  </script>\n",
              "</div>\n",
              "    </div>\n",
              "  </div>\n"
            ]
          },
          "metadata": {},
          "execution_count": 150
        }
      ]
    },
    {
      "cell_type": "code",
      "source": [
        "date_columns = ['DateCrawled', 'DateCreated', 'LastSeen']"
      ],
      "metadata": {
        "id": "eUxzJN2mEzYI"
      },
      "execution_count": 151,
      "outputs": []
    },
    {
      "cell_type": "code",
      "source": [
        "data[date_columns] = data[date_columns]\\\n",
        "            .applymap(lambda x: pd.to_datetime(x).date())\n",
        "data[date_columns].head()"
      ],
      "metadata": {
        "colab": {
          "base_uri": "https://localhost:8080/",
          "height": 206
        },
        "id": "Qb-VNgaZ8WEI",
        "outputId": "88d69720-d1f3-498d-dfd0-8ab9bcf7c525"
      },
      "execution_count": 211,
      "outputs": [
        {
          "output_type": "execute_result",
          "data": {
            "text/plain": [
              "  DateCrawled DateCreated    LastSeen\n",
              "0  2016-03-24  2016-03-24  2016-04-07\n",
              "1  2016-03-24  2016-03-24  2016-04-07\n",
              "2  2016-03-14  2016-03-14  2016-04-05\n",
              "3  2016-03-17  2016-03-17  2016-03-17\n",
              "4  2016-03-31  2016-03-31  2016-04-06"
            ],
            "text/html": [
              "\n",
              "  <div id=\"df-17fa6923-ab8f-4c90-b492-6ea2f3fcca6a\" class=\"colab-df-container\">\n",
              "    <div>\n",
              "<style scoped>\n",
              "    .dataframe tbody tr th:only-of-type {\n",
              "        vertical-align: middle;\n",
              "    }\n",
              "\n",
              "    .dataframe tbody tr th {\n",
              "        vertical-align: top;\n",
              "    }\n",
              "\n",
              "    .dataframe thead th {\n",
              "        text-align: right;\n",
              "    }\n",
              "</style>\n",
              "<table border=\"1\" class=\"dataframe\">\n",
              "  <thead>\n",
              "    <tr style=\"text-align: right;\">\n",
              "      <th></th>\n",
              "      <th>DateCrawled</th>\n",
              "      <th>DateCreated</th>\n",
              "      <th>LastSeen</th>\n",
              "    </tr>\n",
              "  </thead>\n",
              "  <tbody>\n",
              "    <tr>\n",
              "      <th>0</th>\n",
              "      <td>2016-03-24</td>\n",
              "      <td>2016-03-24</td>\n",
              "      <td>2016-04-07</td>\n",
              "    </tr>\n",
              "    <tr>\n",
              "      <th>1</th>\n",
              "      <td>2016-03-24</td>\n",
              "      <td>2016-03-24</td>\n",
              "      <td>2016-04-07</td>\n",
              "    </tr>\n",
              "    <tr>\n",
              "      <th>2</th>\n",
              "      <td>2016-03-14</td>\n",
              "      <td>2016-03-14</td>\n",
              "      <td>2016-04-05</td>\n",
              "    </tr>\n",
              "    <tr>\n",
              "      <th>3</th>\n",
              "      <td>2016-03-17</td>\n",
              "      <td>2016-03-17</td>\n",
              "      <td>2016-03-17</td>\n",
              "    </tr>\n",
              "    <tr>\n",
              "      <th>4</th>\n",
              "      <td>2016-03-31</td>\n",
              "      <td>2016-03-31</td>\n",
              "      <td>2016-04-06</td>\n",
              "    </tr>\n",
              "  </tbody>\n",
              "</table>\n",
              "</div>\n",
              "    <div class=\"colab-df-buttons\">\n",
              "\n",
              "  <div class=\"colab-df-container\">\n",
              "    <button class=\"colab-df-convert\" onclick=\"convertToInteractive('df-17fa6923-ab8f-4c90-b492-6ea2f3fcca6a')\"\n",
              "            title=\"Convert this dataframe to an interactive table.\"\n",
              "            style=\"display:none;\">\n",
              "\n",
              "  <svg xmlns=\"http://www.w3.org/2000/svg\" height=\"24px\" viewBox=\"0 -960 960 960\">\n",
              "    <path d=\"M120-120v-720h720v720H120Zm60-500h600v-160H180v160Zm220 220h160v-160H400v160Zm0 220h160v-160H400v160ZM180-400h160v-160H180v160Zm440 0h160v-160H620v160ZM180-180h160v-160H180v160Zm440 0h160v-160H620v160Z\"/>\n",
              "  </svg>\n",
              "    </button>\n",
              "\n",
              "  <style>\n",
              "    .colab-df-container {\n",
              "      display:flex;\n",
              "      gap: 12px;\n",
              "    }\n",
              "\n",
              "    .colab-df-convert {\n",
              "      background-color: #E8F0FE;\n",
              "      border: none;\n",
              "      border-radius: 50%;\n",
              "      cursor: pointer;\n",
              "      display: none;\n",
              "      fill: #1967D2;\n",
              "      height: 32px;\n",
              "      padding: 0 0 0 0;\n",
              "      width: 32px;\n",
              "    }\n",
              "\n",
              "    .colab-df-convert:hover {\n",
              "      background-color: #E2EBFA;\n",
              "      box-shadow: 0px 1px 2px rgba(60, 64, 67, 0.3), 0px 1px 3px 1px rgba(60, 64, 67, 0.15);\n",
              "      fill: #174EA6;\n",
              "    }\n",
              "\n",
              "    .colab-df-buttons div {\n",
              "      margin-bottom: 4px;\n",
              "    }\n",
              "\n",
              "    [theme=dark] .colab-df-convert {\n",
              "      background-color: #3B4455;\n",
              "      fill: #D2E3FC;\n",
              "    }\n",
              "\n",
              "    [theme=dark] .colab-df-convert:hover {\n",
              "      background-color: #434B5C;\n",
              "      box-shadow: 0px 1px 3px 1px rgba(0, 0, 0, 0.15);\n",
              "      filter: drop-shadow(0px 1px 2px rgba(0, 0, 0, 0.3));\n",
              "      fill: #FFFFFF;\n",
              "    }\n",
              "  </style>\n",
              "\n",
              "    <script>\n",
              "      const buttonEl =\n",
              "        document.querySelector('#df-17fa6923-ab8f-4c90-b492-6ea2f3fcca6a button.colab-df-convert');\n",
              "      buttonEl.style.display =\n",
              "        google.colab.kernel.accessAllowed ? 'block' : 'none';\n",
              "\n",
              "      async function convertToInteractive(key) {\n",
              "        const element = document.querySelector('#df-17fa6923-ab8f-4c90-b492-6ea2f3fcca6a');\n",
              "        const dataTable =\n",
              "          await google.colab.kernel.invokeFunction('convertToInteractive',\n",
              "                                                    [key], {});\n",
              "        if (!dataTable) return;\n",
              "\n",
              "        const docLinkHtml = 'Like what you see? Visit the ' +\n",
              "          '<a target=\"_blank\" href=https://colab.research.google.com/notebooks/data_table.ipynb>data table notebook</a>'\n",
              "          + ' to learn more about interactive tables.';\n",
              "        element.innerHTML = '';\n",
              "        dataTable['output_type'] = 'display_data';\n",
              "        await google.colab.output.renderOutput(dataTable, element);\n",
              "        const docLink = document.createElement('div');\n",
              "        docLink.innerHTML = docLinkHtml;\n",
              "        element.appendChild(docLink);\n",
              "      }\n",
              "    </script>\n",
              "  </div>\n",
              "\n",
              "\n",
              "<div id=\"df-ec9c75a6-f5b8-4bdf-8224-c5191cb824fd\">\n",
              "  <button class=\"colab-df-quickchart\" onclick=\"quickchart('df-ec9c75a6-f5b8-4bdf-8224-c5191cb824fd')\"\n",
              "            title=\"Suggest charts.\"\n",
              "            style=\"display:none;\">\n",
              "\n",
              "<svg xmlns=\"http://www.w3.org/2000/svg\" height=\"24px\"viewBox=\"0 0 24 24\"\n",
              "     width=\"24px\">\n",
              "    <g>\n",
              "        <path d=\"M19 3H5c-1.1 0-2 .9-2 2v14c0 1.1.9 2 2 2h14c1.1 0 2-.9 2-2V5c0-1.1-.9-2-2-2zM9 17H7v-7h2v7zm4 0h-2V7h2v10zm4 0h-2v-4h2v4z\"/>\n",
              "    </g>\n",
              "</svg>\n",
              "  </button>\n",
              "\n",
              "<style>\n",
              "  .colab-df-quickchart {\n",
              "    background-color: #E8F0FE;\n",
              "    border: none;\n",
              "    border-radius: 50%;\n",
              "    cursor: pointer;\n",
              "    display: none;\n",
              "    fill: #1967D2;\n",
              "    height: 32px;\n",
              "    padding: 0 0 0 0;\n",
              "    width: 32px;\n",
              "  }\n",
              "\n",
              "  .colab-df-quickchart:hover {\n",
              "    background-color: #E2EBFA;\n",
              "    box-shadow: 0px 1px 2px rgba(60, 64, 67, 0.3), 0px 1px 3px 1px rgba(60, 64, 67, 0.15);\n",
              "    fill: #174EA6;\n",
              "  }\n",
              "\n",
              "  [theme=dark] .colab-df-quickchart {\n",
              "    background-color: #3B4455;\n",
              "    fill: #D2E3FC;\n",
              "  }\n",
              "\n",
              "  [theme=dark] .colab-df-quickchart:hover {\n",
              "    background-color: #434B5C;\n",
              "    box-shadow: 0px 1px 3px 1px rgba(0, 0, 0, 0.15);\n",
              "    filter: drop-shadow(0px 1px 2px rgba(0, 0, 0, 0.3));\n",
              "    fill: #FFFFFF;\n",
              "  }\n",
              "</style>\n",
              "\n",
              "  <script>\n",
              "    async function quickchart(key) {\n",
              "      const charts = await google.colab.kernel.invokeFunction(\n",
              "          'suggestCharts', [key], {});\n",
              "    }\n",
              "    (() => {\n",
              "      let quickchartButtonEl =\n",
              "        document.querySelector('#df-ec9c75a6-f5b8-4bdf-8224-c5191cb824fd button');\n",
              "      quickchartButtonEl.style.display =\n",
              "        google.colab.kernel.accessAllowed ? 'block' : 'none';\n",
              "    })();\n",
              "  </script>\n",
              "</div>\n",
              "    </div>\n",
              "  </div>\n"
            ]
          },
          "metadata": {},
          "execution_count": 211
        }
      ]
    },
    {
      "cell_type": "markdown",
      "source": [
        "Значения в признаках, содержащих дату приведены к формату `datetime64`, что позволит работать нам с датой."
      ],
      "metadata": {
        "id": "Kw2HxilpJhM5"
      }
    },
    {
      "cell_type": "markdown",
      "source": [
        "## Приведение названий признаков к змеиному формату"
      ],
      "metadata": {
        "id": "nP7wIuoYKKBV"
      }
    },
    {
      "cell_type": "code",
      "source": [
        "data.columns"
      ],
      "metadata": {
        "colab": {
          "base_uri": "https://localhost:8080/"
        },
        "id": "ShY-f72uJ7q0",
        "outputId": "8ecad980-36c2-4e9d-e06b-42172709eb01"
      },
      "execution_count": 212,
      "outputs": [
        {
          "output_type": "execute_result",
          "data": {
            "text/plain": [
              "Index(['DateCrawled', 'Price', 'VehicleType', 'RegistrationYear', 'Gearbox',\n",
              "       'Power', 'Model', 'Kilometer', 'RegistrationMonth', 'FuelType', 'Brand',\n",
              "       'Repaired', 'DateCreated', 'NumberOfPictures', 'PostalCode',\n",
              "       'LastSeen'],\n",
              "      dtype='object')"
            ]
          },
          "metadata": {},
          "execution_count": 212
        }
      ]
    },
    {
      "cell_type": "markdown",
      "source": [
        "Необходимо:\n",
        "- привести к строчному регистру\n",
        "- добавить _ между словами"
      ],
      "metadata": {
        "id": "92OgajRtKWD5"
      }
    },
    {
      "cell_type": "code",
      "source": [
        "data.columns = ['date_crawled', 'price', 'vehicle_type', 'registration_year', 'gear_box',\n",
        "       'power', 'model', 'kilometer', 'registration_month', 'fuel_type', 'brand',\n",
        "       'repaired', 'date_created', 'pictures_amount', 'postal_code',\n",
        "       'last_seen']"
      ],
      "metadata": {
        "id": "hRa35ElCKhy6"
      },
      "execution_count": 213,
      "outputs": []
    },
    {
      "cell_type": "code",
      "source": [
        "data.columns"
      ],
      "metadata": {
        "colab": {
          "base_uri": "https://localhost:8080/"
        },
        "id": "jQdggRN7LFLe",
        "outputId": "25c56ab6-0d59-4737-8b4e-f002dcb5578a"
      },
      "execution_count": 214,
      "outputs": [
        {
          "output_type": "execute_result",
          "data": {
            "text/plain": [
              "Index(['date_crawled', 'price', 'vehicle_type', 'registration_year',\n",
              "       'gear_box', 'power', 'model', 'kilometer', 'registration_month',\n",
              "       'fuel_type', 'brand', 'repaired', 'date_created', 'pictures_amount',\n",
              "       'postal_code', 'last_seen'],\n",
              "      dtype='object')"
            ]
          },
          "metadata": {},
          "execution_count": 214
        }
      ]
    },
    {
      "cell_type": "markdown",
      "source": [
        "Названия исправлены."
      ],
      "metadata": {
        "id": "KC7xXr5lLJit"
      }
    },
    {
      "cell_type": "markdown",
      "source": [
        "## Анализ пропущенных значений"
      ],
      "metadata": {
        "id": "A3iLx4jtDpyS"
      }
    },
    {
      "cell_type": "markdown",
      "source": [
        "Заполнять все пропуски я буду заглушками, которые отличимы от реальных данных.\n",
        "\n",
        "Синтетические данные я подбирать не буду.\n",
        "\n",
        "Для каждого признака с пропущенными значениями я построю график чтобы оценить какие значения содержатся и какой масштаб (для числовых признаков).\n",
        "\n",
        "- Числовые признаки числом, отличимым по масштабу от реальных данных -1\n",
        "- Категориальные признаки заглушкой **no_info**"
      ],
      "metadata": {
        "id": "wQGNc-5NTLEy"
      }
    },
    {
      "cell_type": "code",
      "source": [
        "def pass_value_barh(df):\n",
        "    try:(\n",
        "        (df.isna().mean()*100)\n",
        "            .to_frame()\n",
        "            .rename(columns = {0:'space'})\n",
        "            .query('space > 0')\n",
        "            .sort_values(by = 'space', ascending = True)\n",
        "            .plot(kind = 'barh',\n",
        "                  figsize = (19,6),\n",
        "                  rot = -0,\n",
        "                  legend = False,\n",
        "                  fontsize = 16,\n",
        "                  xticks=[i/10 for i in range(0, 1000, 50)],\n",
        "                  color='skyblue')\n",
        "            .set_title('Количество пропущенных значений' + \"\\n\", fontsize = 22, color = 'Black')\n",
        "        );\n",
        "    except:\n",
        "        print('пропусков не осталось')"
      ],
      "metadata": {
        "id": "ZfCJap1nOFYz"
      },
      "execution_count": 215,
      "outputs": []
    },
    {
      "cell_type": "code",
      "source": [
        "pass_value_barh(data)"
      ],
      "metadata": {
        "colab": {
          "base_uri": "https://localhost:8080/",
          "height": 235
        },
        "id": "Edg8QULgDo2b",
        "outputId": "397005b5-b261-4109-a3d7-77d96f7c00c5"
      },
      "execution_count": 216,
      "outputs": [
        {
          "output_type": "display_data",
          "data": {
            "text/plain": [
              "<Figure size 1900x600 with 1 Axes>"
            ],
            "image/png": "[encoded data removed]"
          },
          "metadata": {}
        }
      ]
    },
    {
      "cell_type": "markdown",
      "source": [
        "### repaired"
      ],
      "metadata": {
        "id": "az5T1VSnWHWH"
      }
    },
    {
      "cell_type": "code",
      "source": [
        "data['repaired'].value_counts(dropna=False).plot(kind='bar',\n",
        "                                                 color='skyblue',\n",
        "                                                 figsize = (6,2))\n",
        "plt.title('Распределение числа ремонтированных тс')\n",
        "plt.ylabel('Количество')\n",
        "plt.xticks(rotation=45)\n",
        "plt.show()"
      ],
      "metadata": {
        "colab": {
          "base_uri": "https://localhost:8080/",
          "height": 251
        },
        "id": "Qgng5gPjIOuv",
        "outputId": "b4bd5221-a475-42ec-c0f3-192121ed45d7"
      },
      "execution_count": 217,
      "outputs": [
        {
          "output_type": "display_data",
          "data": {
            "text/plain": [
              "<Figure size 600x200 with 1 Axes>"
            ],
            "image/png": "[encoded data removed]"
          },
          "metadata": {}
        }
      ]
    },
    {
      "cell_type": "markdown",
      "source": [
        "### vehicle_type"
      ],
      "metadata": {
        "id": "s93c5gLgWKoT"
      }
    },
    {
      "cell_type": "code",
      "source": [
        "data['vehicle_type'].value_counts(dropna=False).plot(kind='barh',\n",
        "                                                     color='skyblue',\n",
        "                                                     figsize = (8,4))\n",
        "plt.title('Распределение Типов Транспортных Средств')\n",
        "plt.ylabel('Тип Транспортного Средства')\n",
        "plt.xlabel('Количество')\n",
        "plt.tight_layout()\n",
        "plt.show()"
      ],
      "metadata": {
        "colab": {
          "base_uri": "https://localhost:8080/",
          "height": 327
        },
        "id": "aQPCSU09IGl_",
        "outputId": "72a8a1e3-f08e-41fe-d646-208d48e211de"
      },
      "execution_count": 218,
      "outputs": [
        {
          "output_type": "display_data",
          "data": {
            "text/plain": [
              "<Figure size 800x400 with 1 Axes>"
            ],
            "image/png": "[encoded data removed]"
          },
          "metadata": {}
        }
      ]
    },
    {
      "cell_type": "markdown",
      "source": [
        "### fuel_type"
      ],
      "metadata": {
        "id": "l0MEIjHfWDiH"
      }
    },
    {
      "cell_type": "code",
      "source": [
        "data['fuel_type'].value_counts(dropna=False).plot(kind='barh',\n",
        "                                                  color='skyblue',\n",
        "                                                  figsize = (8,2))\n",
        "plt.title('Распределение Типов топлива')\n",
        "plt.ylabel('Тип топлива')\n",
        "plt.xlabel('Количество')\n",
        "plt.tight_layout()\n",
        "plt.show()"
      ],
      "metadata": {
        "colab": {
          "base_uri": "https://localhost:8080/",
          "height": 168
        },
        "id": "XyQVdBaQIO9J",
        "outputId": "6a36a30b-fa92-49fa-8945-d96db75b9ae2"
      },
      "execution_count": 219,
      "outputs": [
        {
          "output_type": "display_data",
          "data": {
            "text/plain": [
              "<Figure size 800x200 with 1 Axes>"
            ],
            "image/png": "[encoded data removed]"
          },
          "metadata": {}
        }
      ]
    },
    {
      "cell_type": "markdown",
      "source": [
        "### gear_box"
      ],
      "metadata": {
        "id": "7n5x6lpwV_I1"
      }
    },
    {
      "cell_type": "code",
      "source": [
        "data['gear_box'].value_counts(dropna=False).plot(kind='barh',\n",
        "                                                  color='skyblue',\n",
        "                                                  figsize = (8,2))\n",
        "plt.title('Распределение Типов коробки передач')\n",
        "plt.ylabel('Тип коробки')\n",
        "plt.xlabel('Количество')\n",
        "plt.tight_layout()\n",
        "plt.show()"
      ],
      "metadata": {
        "colab": {
          "base_uri": "https://localhost:8080/",
          "height": 168
        },
        "id": "J28cbolPExpQ",
        "outputId": "8919b80e-3c6c-4ba1-86ba-09fecd32609b"
      },
      "execution_count": 220,
      "outputs": [
        {
          "output_type": "display_data",
          "data": {
            "text/plain": [
              "<Figure size 800x200 with 1 Axes>"
            ],
            "image/png": "[encoded data removed]"
          },
          "metadata": {}
        }
      ]
    },
    {
      "cell_type": "markdown",
      "source": [
        "### model"
      ],
      "metadata": {
        "id": "xYkbWpSmV4Qe"
      }
    },
    {
      "cell_type": "markdown",
      "source": [
        "следующий признак один из важнейших, но график строить нецелесообразно из-за того, что в данном признаке содержится слишком много уникальных названий моделей автомобилей.\n",
        "\n",
        "Значения категориальные и следовательно заполняем заглушкой no_info"
      ],
      "metadata": {
        "id": "aGNnTqp_UKnL"
      }
    },
    {
      "cell_type": "markdown",
      "source": [
        "### Заполняем пропуски"
      ],
      "metadata": {
        "id": "mxLjzfOzWayL"
      }
    },
    {
      "cell_type": "code",
      "source": [
        "data = data.fillna('no_info')"
      ],
      "metadata": {
        "id": "fUF-oYsFWe2d"
      },
      "execution_count": 221,
      "outputs": []
    },
    {
      "cell_type": "code",
      "source": [
        "pass_value_barh(data)"
      ],
      "metadata": {
        "colab": {
          "base_uri": "https://localhost:8080/",
          "height": 237
        },
        "id": "Vfnndykur-xf",
        "outputId": "135ead0b-5e81-41f9-ba3f-7d51d26d47f2"
      },
      "execution_count": 222,
      "outputs": [
        {
          "output_type": "stream",
          "name": "stdout",
          "text": [
            "пропусков не осталось\n"
          ]
        },
        {
          "output_type": "display_data",
          "data": {
            "text/plain": [
              "<Figure size 1900x600 with 1 Axes>"
            ],
            "image/png": "[encoded data removed]"
          },
          "metadata": {}
        }
      ]
    },
    {
      "cell_type": "code",
      "source": [
        "data.head()"
      ],
      "metadata": {
        "colab": {
          "base_uri": "https://localhost:8080/",
          "height": 226
        },
        "id": "_ffUGOkks0Ea",
        "outputId": "68b7aec1-0d3d-4905-9234-48cc07ffc0ed"
      },
      "execution_count": 223,
      "outputs": [
        {
          "output_type": "execute_result",
          "data": {
            "text/plain": [
              "  date_crawled  price vehicle_type  registration_year gear_box  power  \\\n",
              "0   2016-03-24    480      no_info               1993   manual      0   \n",
              "1   2016-03-24  18300        coupe               2011   manual    190   \n",
              "2   2016-03-14   9800          suv               2004     auto    163   \n",
              "3   2016-03-17   1500        small               2001   manual     75   \n",
              "4   2016-03-31   3600        small               2008   manual     69   \n",
              "\n",
              "     model  kilometer  registration_month fuel_type       brand repaired  \\\n",
              "0     golf     150000                   0    petrol  volkswagen  no_info   \n",
              "1  no_info     125000                   5  gasoline        audi      yes   \n",
              "2    grand     125000                   8  gasoline        jeep  no_info   \n",
              "3     golf     150000                   6    petrol  volkswagen       no   \n",
              "4    fabia      90000                   7  gasoline       skoda       no   \n",
              "\n",
              "  date_created  pictures_amount  postal_code   last_seen  \n",
              "0   2016-03-24                0        70435  2016-04-07  \n",
              "1   2016-03-24                0        66954  2016-04-07  \n",
              "2   2016-03-14                0        90480  2016-04-05  \n",
              "3   2016-03-17                0        91074  2016-03-17  \n",
              "4   2016-03-31                0        60437  2016-04-06  "
            ],
            "text/html": [
              "\n",
              "  <div id=\"df-f63a8aea-d0b1-4f92-a86d-c8e37b1227db\" class=\"colab-df-container\">\n",
              "    <div>\n",
              "<style scoped>\n",
              "    .dataframe tbody tr th:only-of-type {\n",
              "        vertical-align: middle;\n",
              "    }\n",
              "\n",
              "    .dataframe tbody tr th {\n",
              "        vertical-align: top;\n",
              "    }\n",
              "\n",
              "    .dataframe thead th {\n",
              "        text-align: right;\n",
              "    }\n",
              "</style>\n",
              "<table border=\"1\" class=\"dataframe\">\n",
              "  <thead>\n",
              "    <tr style=\"text-align: right;\">\n",
              "      <th></th>\n",
              "      <th>date_crawled</th>\n",
              "      <th>price</th>\n",
              "      <th>vehicle_type</th>\n",
              "      <th>registration_year</th>\n",
              "      <th>gear_box</th>\n",
              "      <th>power</th>\n",
              "      <th>model</th>\n",
              "      <th>kilometer</th>\n",
              "      <th>registration_month</th>\n",
              "      <th>fuel_type</th>\n",
              "      <th>brand</th>\n",
              "      <th>repaired</th>\n",
              "      <th>date_created</th>\n",
              "      <th>pictures_amount</th>\n",
              "      <th>postal_code</th>\n",
              "      <th>last_seen</th>\n",
              "    </tr>\n",
              "  </thead>\n",
              "  <tbody>\n",
              "    <tr>\n",
              "      <th>0</th>\n",
              "      <td>2016-03-24</td>\n",
              "      <td>480</td>\n",
              "      <td>no_info</td>\n",
              "      <td>1993</td>\n",
              "      <td>manual</td>\n",
              "      <td>0</td>\n",
              "      <td>golf</td>\n",
              "      <td>150000</td>\n",
              "      <td>0</td>\n",
              "      <td>petrol</td>\n",
              "      <td>volkswagen</td>\n",
              "      <td>no_info</td>\n",
              "      <td>2016-03-24</td>\n",
              "      <td>0</td>\n",
              "      <td>70435</td>\n",
              "      <td>2016-04-07</td>\n",
              "    </tr>\n",
              "    <tr>\n",
              "      <th>1</th>\n",
              "      <td>2016-03-24</td>\n",
              "      <td>18300</td>\n",
              "      <td>coupe</td>\n",
              "      <td>2011</td>\n",
              "      <td>manual</td>\n",
              "      <td>190</td>\n",
              "      <td>no_info</td>\n",
              "      <td>125000</td>\n",
              "      <td>5</td>\n",
              "      <td>gasoline</td>\n",
              "      <td>audi</td>\n",
              "      <td>yes</td>\n",
              "      <td>2016-03-24</td>\n",
              "      <td>0</td>\n",
              "      <td>66954</td>\n",
              "      <td>2016-04-07</td>\n",
              "    </tr>\n",
              "    <tr>\n",
              "      <th>2</th>\n",
              "      <td>2016-03-14</td>\n",
              "      <td>9800</td>\n",
              "      <td>suv</td>\n",
              "      <td>2004</td>\n",
              "      <td>auto</td>\n",
              "      <td>163</td>\n",
              "      <td>grand</td>\n",
              "      <td>125000</td>\n",
              "      <td>8</td>\n",
              "      <td>gasoline</td>\n",
              "      <td>jeep</td>\n",
              "      <td>no_info</td>\n",
              "      <td>2016-03-14</td>\n",
              "      <td>0</td>\n",
              "      <td>90480</td>\n",
              "      <td>2016-04-05</td>\n",
              "    </tr>\n",
              "    <tr>\n",
              "      <th>3</th>\n",
              "      <td>2016-03-17</td>\n",
              "      <td>1500</td>\n",
              "      <td>small</td>\n",
              "      <td>2001</td>\n",
              "      <td>manual</td>\n",
              "      <td>75</td>\n",
              "      <td>golf</td>\n",
              "      <td>150000</td>\n",
              "      <td>6</td>\n",
              "      <td>petrol</td>\n",
              "      <td>volkswagen</td>\n",
              "      <td>no</td>\n",
              "      <td>2016-03-17</td>\n",
              "      <td>0</td>\n",
              "      <td>91074</td>\n",
              "      <td>2016-03-17</td>\n",
              "    </tr>\n",
              "    <tr>\n",
              "      <th>4</th>\n",
              "      <td>2016-03-31</td>\n",
              "      <td>3600</td>\n",
              "      <td>small</td>\n",
              "      <td>2008</td>\n",
              "      <td>manual</td>\n",
              "      <td>69</td>\n",
              "      <td>fabia</td>\n",
              "      <td>90000</td>\n",
              "      <td>7</td>\n",
              "      <td>gasoline</td>\n",
              "      <td>skoda</td>\n",
              "      <td>no</td>\n",
              "      <td>2016-03-31</td>\n",
              "      <td>0</td>\n",
              "      <td>60437</td>\n",
              "      <td>2016-04-06</td>\n",
              "    </tr>\n",
              "  </tbody>\n",
              "</table>\n",
              "</div>\n",
              "    <div class=\"colab-df-buttons\">\n",
              "\n",
              "  <div class=\"colab-df-container\">\n",
              "    <button class=\"colab-df-convert\" onclick=\"convertToInteractive('df-f63a8aea-d0b1-4f92-a86d-c8e37b1227db')\"\n",
              "            title=\"Convert this dataframe to an interactive table.\"\n",
              "            style=\"display:none;\">\n",
              "\n",
              "  <svg xmlns=\"http://www.w3.org/2000/svg\" height=\"24px\" viewBox=\"0 -960 960 960\">\n",
              "    <path d=\"M120-120v-720h720v720H120Zm60-500h600v-160H180v160Zm220 220h160v-160H400v160Zm0 220h160v-160H400v160ZM180-400h160v-160H180v160Zm440 0h160v-160H620v160ZM180-180h160v-160H180v160Zm440 0h160v-160H620v160Z\"/>\n",
              "  </svg>\n",
              "    </button>\n",
              "\n",
              "  <style>\n",
              "    .colab-df-container {\n",
              "      display:flex;\n",
              "      gap: 12px;\n",
              "    }\n",
              "\n",
              "    .colab-df-convert {\n",
              "      background-color: #E8F0FE;\n",
              "      border: none;\n",
              "      border-radius: 50%;\n",
              "      cursor: pointer;\n",
              "      display: none;\n",
              "      fill: #1967D2;\n",
              "      height: 32px;\n",
              "      padding: 0 0 0 0;\n",
              "      width: 32px;\n",
              "    }\n",
              "\n",
              "    .colab-df-convert:hover {\n",
              "      background-color: #E2EBFA;\n",
              "      box-shadow: 0px 1px 2px rgba(60, 64, 67, 0.3), 0px 1px 3px 1px rgba(60, 64, 67, 0.15);\n",
              "      fill: #174EA6;\n",
              "    }\n",
              "\n",
              "    .colab-df-buttons div {\n",
              "      margin-bottom: 4px;\n",
              "    }\n",
              "\n",
              "    [theme=dark] .colab-df-convert {\n",
              "      background-color: #3B4455;\n",
              "      fill: #D2E3FC;\n",
              "    }\n",
              "\n",
              "    [theme=dark] .colab-df-convert:hover {\n",
              "      background-color: #434B5C;\n",
              "      box-shadow: 0px 1px 3px 1px rgba(0, 0, 0, 0.15);\n",
              "      filter: drop-shadow(0px 1px 2px rgba(0, 0, 0, 0.3));\n",
              "      fill: #FFFFFF;\n",
              "    }\n",
              "  </style>\n",
              "\n",
              "    <script>\n",
              "      const buttonEl =\n",
              "        document.querySelector('#df-f63a8aea-d0b1-4f92-a86d-c8e37b1227db button.colab-df-convert');\n",
              "      buttonEl.style.display =\n",
              "        google.colab.kernel.accessAllowed ? 'block' : 'none';\n",
              "\n",
              "      async function convertToInteractive(key) {\n",
              "        const element = document.querySelector('#df-f63a8aea-d0b1-4f92-a86d-c8e37b1227db');\n",
              "        const dataTable =\n",
              "          await google.colab.kernel.invokeFunction('convertToInteractive',\n",
              "                                                    [key], {});\n",
              "        if (!dataTable) return;\n",
              "\n",
              "        const docLinkHtml = 'Like what you see? Visit the ' +\n",
              "          '<a target=\"_blank\" href=https://colab.research.google.com/notebooks/data_table.ipynb>data table notebook</a>'\n",
              "          + ' to learn more about interactive tables.';\n",
              "        element.innerHTML = '';\n",
              "        dataTable['output_type'] = 'display_data';\n",
              "        await google.colab.output.renderOutput(dataTable, element);\n",
              "        const docLink = document.createElement('div');\n",
              "        docLink.innerHTML = docLinkHtml;\n",
              "        element.appendChild(docLink);\n",
              "      }\n",
              "    </script>\n",
              "  </div>\n",
              "\n",
              "\n",
              "<div id=\"df-a90a489b-7a4d-4333-b1ba-f8b22851a688\">\n",
              "  <button class=\"colab-df-quickchart\" onclick=\"quickchart('df-a90a489b-7a4d-4333-b1ba-f8b22851a688')\"\n",
              "            title=\"Suggest charts.\"\n",
              "            style=\"display:none;\">\n",
              "\n",
              "<svg xmlns=\"http://www.w3.org/2000/svg\" height=\"24px\"viewBox=\"0 0 24 24\"\n",
              "     width=\"24px\">\n",
              "    <g>\n",
              "        <path d=\"M19 3H5c-1.1 0-2 .9-2 2v14c0 1.1.9 2 2 2h14c1.1 0 2-.9 2-2V5c0-1.1-.9-2-2-2zM9 17H7v-7h2v7zm4 0h-2V7h2v10zm4 0h-2v-4h2v4z\"/>\n",
              "    </g>\n",
              "</svg>\n",
              "  </button>\n",
              "\n",
              "<style>\n",
              "  .colab-df-quickchart {\n",
              "    background-color: #E8F0FE;\n",
              "    border: none;\n",
              "    border-radius: 50%;\n",
              "    cursor: pointer;\n",
              "    display: none;\n",
              "    fill: #1967D2;\n",
              "    height: 32px;\n",
              "    padding: 0 0 0 0;\n",
              "    width: 32px;\n",
              "  }\n",
              "\n",
              "  .colab-df-quickchart:hover {\n",
              "    background-color: #E2EBFA;\n",
              "    box-shadow: 0px 1px 2px rgba(60, 64, 67, 0.3), 0px 1px 3px 1px rgba(60, 64, 67, 0.15);\n",
              "    fill: #174EA6;\n",
              "  }\n",
              "\n",
              "  [theme=dark] .colab-df-quickchart {\n",
              "    background-color: #3B4455;\n",
              "    fill: #D2E3FC;\n",
              "  }\n",
              "\n",
              "  [theme=dark] .colab-df-quickchart:hover {\n",
              "    background-color: #434B5C;\n",
              "    box-shadow: 0px 1px 3px 1px rgba(0, 0, 0, 0.15);\n",
              "    filter: drop-shadow(0px 1px 2px rgba(0, 0, 0, 0.3));\n",
              "    fill: #FFFFFF;\n",
              "  }\n",
              "</style>\n",
              "\n",
              "  <script>\n",
              "    async function quickchart(key) {\n",
              "      const charts = await google.colab.kernel.invokeFunction(\n",
              "          'suggestCharts', [key], {});\n",
              "    }\n",
              "    (() => {\n",
              "      let quickchartButtonEl =\n",
              "        document.querySelector('#df-a90a489b-7a4d-4333-b1ba-f8b22851a688 button');\n",
              "      quickchartButtonEl.style.display =\n",
              "        google.colab.kernel.accessAllowed ? 'block' : 'none';\n",
              "    })();\n",
              "  </script>\n",
              "</div>\n",
              "    </div>\n",
              "  </div>\n"
            ]
          },
          "metadata": {},
          "execution_count": 223
        }
      ]
    },
    {
      "cell_type": "markdown",
      "source": [
        "Пропуски заполнены."
      ],
      "metadata": {
        "id": "qwvI2USAsazf"
      }
    },
    {
      "cell_type": "markdown",
      "source": [
        "## Анализ признаков на аномалии"
      ],
      "metadata": {
        "id": "i4HwGaiH98Nf"
      }
    },
    {
      "cell_type": "markdown",
      "source": [],
      "metadata": {
        "id": "OI0pCPp--HU6"
      }
    },
    {
      "cell_type": "code",
      "source": [
        "data.dtypes"
      ],
      "metadata": {
        "id": "GvJSNrtLLIGr",
        "colab": {
          "base_uri": "https://localhost:8080/"
        },
        "outputId": "692c54be-aa42-4655-cf6b-8e0179fa1578"
      },
      "execution_count": 224,
      "outputs": [
        {
          "output_type": "execute_result",
          "data": {
            "text/plain": [
              "date_crawled          object\n",
              "price                  int64\n",
              "vehicle_type          object\n",
              "registration_year      int64\n",
              "gear_box              object\n",
              "power                  int64\n",
              "model                 object\n",
              "kilometer              int64\n",
              "registration_month     int64\n",
              "fuel_type             object\n",
              "brand                 object\n",
              "repaired              object\n",
              "date_created          object\n",
              "pictures_amount        int64\n",
              "postal_code            int64\n",
              "last_seen             object\n",
              "dtype: object"
            ]
          },
          "metadata": {},
          "execution_count": 224
        }
      ]
    },
    {
      "cell_type": "markdown",
      "source": [
        "Для анализа распределения воспользуемся графиками.\n",
        "\n",
        "Для этого заранее подготовим переменные в которых сохраним названия признаков содержащих одинаковый тип данных."
      ],
      "metadata": {
        "id": "W6BPrfGd_C67"
      }
    },
    {
      "cell_type": "code",
      "source": [
        "categorical_columns = data.select_dtypes(include = 'object').columns\n",
        "numeric_columns = data.select_dtypes(include = 'number').columns"
      ],
      "metadata": {
        "id": "PVKr7e4C-NE_"
      },
      "execution_count": 236,
      "outputs": []
    },
    {
      "cell_type": "code",
      "source": [
        "# Оценим визуально признаки, их распределение\n",
        "data[numeric_columns].hist(layout=(4,4),figsize=(15, 20));"
      ],
      "metadata": {
        "execution": {
          "iopub.status.busy": "2023-06-03T18:30:01.697542Z",
          "iopub.execute_input": "2023-06-03T18:30:01.698109Z",
          "iopub.status.idle": "2023-06-03T18:30:03.260735Z",
          "shell.execute_reply.started": "2023-06-03T18:30:01.698075Z",
          "shell.execute_reply": "2023-06-03T18:30:03.259817Z"
        },
        "trusted": true,
        "id": "kFjZ1cCYS1Cc",
        "outputId": "d317c64d-f9f1-4acc-dca9-b2c112641e87",
        "colab": {
          "base_uri": "https://localhost:8080/",
          "height": 410
        }
      },
      "execution_count": 226,
      "outputs": [
        {
          "output_type": "display_data",
          "data": {
            "text/plain": [
              "<Figure size 1500x2000 with 16 Axes>"
            ],
            "image/png": "[encoded data removed]"
          },
          "metadata": {}
        }
      ]
    },
    {
      "cell_type": "markdown",
      "source": [
        "- price нужно изучить на наличие аномалий\n",
        "- в признаке registration_year очевидно имееются аномалии\n",
        "- признак power нужно проверить на систему в которой выражена мощность.\n",
        "- kilometer имеются редкие значения, но аномалий не видно на этом графике\n",
        "- pictures_amount содержат отрицательные значения, что является аномалией\n",
        "- sale_month, postal_code в обработке и анализе не нуждаются"
      ],
      "metadata": {
        "id": "8HPO9hIFS1Cd"
      }
    },
    {
      "cell_type": "markdown",
      "source": [
        "\n",
        "Пропуски имеются исключительно в категориальных признаках."
      ],
      "metadata": {
        "id": "x9OtRAb1S1Cd"
      }
    },
    {
      "cell_type": "markdown",
      "source": [
        "### price"
      ],
      "metadata": {
        "id": "bY1irFEVS1Cd"
      }
    },
    {
      "cell_type": "code",
      "source": [
        "# проанализируем признак sellingprice\n",
        "data['price'].describe().to_frame().transpose()"
      ],
      "metadata": {
        "execution": {
          "iopub.status.busy": "2023-06-03T18:30:09.734573Z",
          "iopub.execute_input": "2023-06-03T18:30:09.734959Z",
          "iopub.status.idle": "2023-06-03T18:30:09.765531Z",
          "shell.execute_reply.started": "2023-06-03T18:30:09.734925Z",
          "shell.execute_reply": "2023-06-03T18:30:09.764532Z"
        },
        "trusted": true,
        "id": "lHfAejYiS1Cd",
        "outputId": "09e80df1-e274-4e29-fba7-092c75be3a3c",
        "colab": {
          "base_uri": "https://localhost:8080/",
          "height": 101
        }
      },
      "execution_count": 227,
      "outputs": [
        {
          "output_type": "execute_result",
          "data": {
            "text/plain": [
              "          count         mean          std  min     25%     50%     75%  \\\n",
              "price  354369.0  4416.656776  4514.158514  0.0  1050.0  2700.0  6400.0   \n",
              "\n",
              "           max  \n",
              "price  20000.0  "
            ],
            "text/html": [
              "\n",
              "  <div id=\"df-48d94b29-57ad-4635-af90-5cc2c6883f35\" class=\"colab-df-container\">\n",
              "    <div>\n",
              "<style scoped>\n",
              "    .dataframe tbody tr th:only-of-type {\n",
              "        vertical-align: middle;\n",
              "    }\n",
              "\n",
              "    .dataframe tbody tr th {\n",
              "        vertical-align: top;\n",
              "    }\n",
              "\n",
              "    .dataframe thead th {\n",
              "        text-align: right;\n",
              "    }\n",
              "</style>\n",
              "<table border=\"1\" class=\"dataframe\">\n",
              "  <thead>\n",
              "    <tr style=\"text-align: right;\">\n",
              "      <th></th>\n",
              "      <th>count</th>\n",
              "      <th>mean</th>\n",
              "      <th>std</th>\n",
              "      <th>min</th>\n",
              "      <th>25%</th>\n",
              "      <th>50%</th>\n",
              "      <th>75%</th>\n",
              "      <th>max</th>\n",
              "    </tr>\n",
              "  </thead>\n",
              "  <tbody>\n",
              "    <tr>\n",
              "      <th>price</th>\n",
              "      <td>354369.0</td>\n",
              "      <td>4416.656776</td>\n",
              "      <td>4514.158514</td>\n",
              "      <td>0.0</td>\n",
              "      <td>1050.0</td>\n",
              "      <td>2700.0</td>\n",
              "      <td>6400.0</td>\n",
              "      <td>20000.0</td>\n",
              "    </tr>\n",
              "  </tbody>\n",
              "</table>\n",
              "</div>\n",
              "    <div class=\"colab-df-buttons\">\n",
              "\n",
              "  <div class=\"colab-df-container\">\n",
              "    <button class=\"colab-df-convert\" onclick=\"convertToInteractive('df-48d94b29-57ad-4635-af90-5cc2c6883f35')\"\n",
              "            title=\"Convert this dataframe to an interactive table.\"\n",
              "            style=\"display:none;\">\n",
              "\n",
              "  <svg xmlns=\"http://www.w3.org/2000/svg\" height=\"24px\" viewBox=\"0 -960 960 960\">\n",
              "    <path d=\"M120-120v-720h720v720H120Zm60-500h600v-160H180v160Zm220 220h160v-160H400v160Zm0 220h160v-160H400v160ZM180-400h160v-160H180v160Zm440 0h160v-160H620v160ZM180-180h160v-160H180v160Zm440 0h160v-160H620v160Z\"/>\n",
              "  </svg>\n",
              "    </button>\n",
              "\n",
              "  <style>\n",
              "    .colab-df-container {\n",
              "      display:flex;\n",
              "      gap: 12px;\n",
              "    }\n",
              "\n",
              "    .colab-df-convert {\n",
              "      background-color: #E8F0FE;\n",
              "      border: none;\n",
              "      border-radius: 50%;\n",
              "      cursor: pointer;\n",
              "      display: none;\n",
              "      fill: #1967D2;\n",
              "      height: 32px;\n",
              "      padding: 0 0 0 0;\n",
              "      width: 32px;\n",
              "    }\n",
              "\n",
              "    .colab-df-convert:hover {\n",
              "      background-color: #E2EBFA;\n",
              "      box-shadow: 0px 1px 2px rgba(60, 64, 67, 0.3), 0px 1px 3px 1px rgba(60, 64, 67, 0.15);\n",
              "      fill: #174EA6;\n",
              "    }\n",
              "\n",
              "    .colab-df-buttons div {\n",
              "      margin-bottom: 4px;\n",
              "    }\n",
              "\n",
              "    [theme=dark] .colab-df-convert {\n",
              "      background-color: #3B4455;\n",
              "      fill: #D2E3FC;\n",
              "    }\n",
              "\n",
              "    [theme=dark] .colab-df-convert:hover {\n",
              "      background-color: #434B5C;\n",
              "      box-shadow: 0px 1px 3px 1px rgba(0, 0, 0, 0.15);\n",
              "      filter: drop-shadow(0px 1px 2px rgba(0, 0, 0, 0.3));\n",
              "      fill: #FFFFFF;\n",
              "    }\n",
              "  </style>\n",
              "\n",
              "    <script>\n",
              "      const buttonEl =\n",
              "        document.querySelector('#df-48d94b29-57ad-4635-af90-5cc2c6883f35 button.colab-df-convert');\n",
              "      buttonEl.style.display =\n",
              "        google.colab.kernel.accessAllowed ? 'block' : 'none';\n",
              "\n",
              "      async function convertToInteractive(key) {\n",
              "        const element = document.querySelector('#df-48d94b29-57ad-4635-af90-5cc2c6883f35');\n",
              "        const dataTable =\n",
              "          await google.colab.kernel.invokeFunction('convertToInteractive',\n",
              "                                                    [key], {});\n",
              "        if (!dataTable) return;\n",
              "\n",
              "        const docLinkHtml = 'Like what you see? Visit the ' +\n",
              "          '<a target=\"_blank\" href=https://colab.research.google.com/notebooks/data_table.ipynb>data table notebook</a>'\n",
              "          + ' to learn more about interactive tables.';\n",
              "        element.innerHTML = '';\n",
              "        dataTable['output_type'] = 'display_data';\n",
              "        await google.colab.output.renderOutput(dataTable, element);\n",
              "        const docLink = document.createElement('div');\n",
              "        docLink.innerHTML = docLinkHtml;\n",
              "        element.appendChild(docLink);\n",
              "      }\n",
              "    </script>\n",
              "  </div>\n",
              "\n",
              "    </div>\n",
              "  </div>\n"
            ]
          },
          "metadata": {},
          "execution_count": 227
        }
      ]
    },
    {
      "cell_type": "markdown",
      "source": [
        "для стоимости такой разбег по максимальной стоимости вполне допустим. Посмотрим на самые дешевые объекты"
      ],
      "metadata": {
        "id": "hMlTo05kS1Cd"
      }
    },
    {
      "cell_type": "code",
      "source": [
        "sns.boxplot(x='registration_year',\n",
        "            y='price',\n",
        "            data=data[['price','registration_year']],\n",
        "            whis=10)\n",
        "\n",
        "plt.xlabel('registration_year')\n",
        "plt.ylabel('price')\n",
        "plt.title('Price versus age');"
      ],
      "metadata": {
        "colab": {
          "base_uri": "https://localhost:8080/",
          "height": 472
        },
        "id": "XdRdlpUC0Sy-",
        "outputId": "5948b01d-3619-4a3c-d1ea-e0c1bfd4cb17"
      },
      "execution_count": 228,
      "outputs": [
        {
          "output_type": "display_data",
          "data": {
            "text/plain": [
              "<Figure size 640x480 with 1 Axes>"
            ],
            "image/png": "[encoded data removed]"
          },
          "metadata": {}
        }
      ]
    },
    {
      "cell_type": "code",
      "source": [],
      "metadata": {
        "id": "fgyuVIyL4I67"
      },
      "execution_count": null,
      "outputs": []
    },
    {
      "cell_type": "code",
      "source": [
        "datetime_columns\n"
      ],
      "metadata": {
        "colab": {
          "base_uri": "https://localhost:8080/"
        },
        "id": "6XfvaXoi4JN-",
        "outputId": "1fb17a24-cfd6-4baf-fbfc-11746b9647eb"
      },
      "execution_count": 234,
      "outputs": [
        {
          "output_type": "execute_result",
          "data": {
            "text/plain": [
              "Index([], dtype='object')"
            ]
          },
          "metadata": {},
          "execution_count": 234
        }
      ]
    },
    {
      "cell_type": "code",
      "source": [
        "data[datetime_columns]"
      ],
      "metadata": {
        "colab": {
          "base_uri": "https://localhost:8080/",
          "height": 406
        },
        "id": "a5XCva8ey1wr",
        "outputId": "db0dd220-aab5-482d-ef33-428858237c85"
      },
      "execution_count": 233,
      "outputs": [
        {
          "output_type": "execute_result",
          "data": {
            "text/plain": [
              "Empty DataFrame\n",
              "Columns: []\n",
              "Index: [0, 1, 2, 3, 4, 5, 6, 7, 8, 9, 10, 11, 12, 13, 14, 15, 16, 17, 18, 19, 20, 21, 22, 23, 24, 25, 26, 27, 28, 29, 30, 31, 32, 33, 34, 35, 36, 37, 38, 39, 40, 41, 42, 43, 44, 45, 46, 47, 48, 49, 50, 51, 52, 53, 54, 55, 56, 57, 58, 59, 60, 61, 62, 63, 64, 65, 66, 67, 68, 69, 70, 71, 72, 73, 74, 75, 76, 77, 78, 79, 80, 81, 82, 83, 84, 85, 86, 87, 88, 89, 90, 91, 92, 93, 94, 95, 96, 97, 98, 99, ...]\n",
              "\n",
              "[354369 rows x 0 columns]"
            ],
            "text/html": [
              "\n",
              "  <div id=\"df-6ecdf6e4-1ce5-42a6-a2bf-a3123d57bccd\" class=\"colab-df-container\">\n",
              "    <div>\n",
              "<style scoped>\n",
              "    .dataframe tbody tr th:only-of-type {\n",
              "        vertical-align: middle;\n",
              "    }\n",
              "\n",
              "    .dataframe tbody tr th {\n",
              "        vertical-align: top;\n",
              "    }\n",
              "\n",
              "    .dataframe thead th {\n",
              "        text-align: right;\n",
              "    }\n",
              "</style>\n",
              "<table border=\"1\" class=\"dataframe\">\n",
              "  <thead>\n",
              "    <tr style=\"text-align: right;\">\n",
              "      <th></th>\n",
              "    </tr>\n",
              "  </thead>\n",
              "  <tbody>\n",
              "    <tr>\n",
              "      <th>0</th>\n",
              "    </tr>\n",
              "    <tr>\n",
              "      <th>1</th>\n",
              "    </tr>\n",
              "    <tr>\n",
              "      <th>2</th>\n",
              "    </tr>\n",
              "    <tr>\n",
              "      <th>3</th>\n",
              "    </tr>\n",
              "    <tr>\n",
              "      <th>4</th>\n",
              "    </tr>\n",
              "    <tr>\n",
              "      <th>...</th>\n",
              "    </tr>\n",
              "    <tr>\n",
              "      <th>354364</th>\n",
              "    </tr>\n",
              "    <tr>\n",
              "      <th>354365</th>\n",
              "    </tr>\n",
              "    <tr>\n",
              "      <th>354366</th>\n",
              "    </tr>\n",
              "    <tr>\n",
              "      <th>354367</th>\n",
              "    </tr>\n",
              "    <tr>\n",
              "      <th>354368</th>\n",
              "    </tr>\n",
              "  </tbody>\n",
              "</table>\n",
              "<p>354369 rows × 0 columns</p>\n",
              "</div>\n",
              "    <div class=\"colab-df-buttons\">\n",
              "\n",
              "  <div class=\"colab-df-container\">\n",
              "    <button class=\"colab-df-convert\" onclick=\"convertToInteractive('df-6ecdf6e4-1ce5-42a6-a2bf-a3123d57bccd')\"\n",
              "            title=\"Convert this dataframe to an interactive table.\"\n",
              "            style=\"display:none;\">\n",
              "\n",
              "  <svg xmlns=\"http://www.w3.org/2000/svg\" height=\"24px\" viewBox=\"0 -960 960 960\">\n",
              "    <path d=\"M120-120v-720h720v720H120Zm60-500h600v-160H180v160Zm220 220h160v-160H400v160Zm0 220h160v-160H400v160ZM180-400h160v-160H180v160Zm440 0h160v-160H620v160ZM180-180h160v-160H180v160Zm440 0h160v-160H620v160Z\"/>\n",
              "  </svg>\n",
              "    </button>\n",
              "\n",
              "  <style>\n",
              "    .colab-df-container {\n",
              "      display:flex;\n",
              "      gap: 12px;\n",
              "    }\n",
              "\n",
              "    .colab-df-convert {\n",
              "      background-color: #E8F0FE;\n",
              "      border: none;\n",
              "      border-radius: 50%;\n",
              "      cursor: pointer;\n",
              "      display: none;\n",
              "      fill: #1967D2;\n",
              "      height: 32px;\n",
              "      padding: 0 0 0 0;\n",
              "      width: 32px;\n",
              "    }\n",
              "\n",
              "    .colab-df-convert:hover {\n",
              "      background-color: #E2EBFA;\n",
              "      box-shadow: 0px 1px 2px rgba(60, 64, 67, 0.3), 0px 1px 3px 1px rgba(60, 64, 67, 0.15);\n",
              "      fill: #174EA6;\n",
              "    }\n",
              "\n",
              "    .colab-df-buttons div {\n",
              "      margin-bottom: 4px;\n",
              "    }\n",
              "\n",
              "    [theme=dark] .colab-df-convert {\n",
              "      background-color: #3B4455;\n",
              "      fill: #D2E3FC;\n",
              "    }\n",
              "\n",
              "    [theme=dark] .colab-df-convert:hover {\n",
              "      background-color: #434B5C;\n",
              "      box-shadow: 0px 1px 3px 1px rgba(0, 0, 0, 0.15);\n",
              "      filter: drop-shadow(0px 1px 2px rgba(0, 0, 0, 0.3));\n",
              "      fill: #FFFFFF;\n",
              "    }\n",
              "  </style>\n",
              "\n",
              "    <script>\n",
              "      const buttonEl =\n",
              "        document.querySelector('#df-6ecdf6e4-1ce5-42a6-a2bf-a3123d57bccd button.colab-df-convert');\n",
              "      buttonEl.style.display =\n",
              "        google.colab.kernel.accessAllowed ? 'block' : 'none';\n",
              "\n",
              "      async function convertToInteractive(key) {\n",
              "        const element = document.querySelector('#df-6ecdf6e4-1ce5-42a6-a2bf-a3123d57bccd');\n",
              "        const dataTable =\n",
              "          await google.colab.kernel.invokeFunction('convertToInteractive',\n",
              "                                                    [key], {});\n",
              "        if (!dataTable) return;\n",
              "\n",
              "        const docLinkHtml = 'Like what you see? Visit the ' +\n",
              "          '<a target=\"_blank\" href=https://colab.research.google.com/notebooks/data_table.ipynb>data table notebook</a>'\n",
              "          + ' to learn more about interactive tables.';\n",
              "        element.innerHTML = '';\n",
              "        dataTable['output_type'] = 'display_data';\n",
              "        await google.colab.output.renderOutput(dataTable, element);\n",
              "        const docLink = document.createElement('div');\n",
              "        docLink.innerHTML = docLinkHtml;\n",
              "        element.appendChild(docLink);\n",
              "      }\n",
              "    </script>\n",
              "  </div>\n",
              "\n",
              "\n",
              "<div id=\"df-782dc284-2871-4418-a654-07e9a76a9c45\">\n",
              "  <button class=\"colab-df-quickchart\" onclick=\"quickchart('df-782dc284-2871-4418-a654-07e9a76a9c45')\"\n",
              "            title=\"Suggest charts.\"\n",
              "            style=\"display:none;\">\n",
              "\n",
              "<svg xmlns=\"http://www.w3.org/2000/svg\" height=\"24px\"viewBox=\"0 0 24 24\"\n",
              "     width=\"24px\">\n",
              "    <g>\n",
              "        <path d=\"M19 3H5c-1.1 0-2 .9-2 2v14c0 1.1.9 2 2 2h14c1.1 0 2-.9 2-2V5c0-1.1-.9-2-2-2zM9 17H7v-7h2v7zm4 0h-2V7h2v10zm4 0h-2v-4h2v4z\"/>\n",
              "    </g>\n",
              "</svg>\n",
              "  </button>\n",
              "\n",
              "<style>\n",
              "  .colab-df-quickchart {\n",
              "    background-color: #E8F0FE;\n",
              "    border: none;\n",
              "    border-radius: 50%;\n",
              "    cursor: pointer;\n",
              "    display: none;\n",
              "    fill: #1967D2;\n",
              "    height: 32px;\n",
              "    padding: 0 0 0 0;\n",
              "    width: 32px;\n",
              "  }\n",
              "\n",
              "  .colab-df-quickchart:hover {\n",
              "    background-color: #E2EBFA;\n",
              "    box-shadow: 0px 1px 2px rgba(60, 64, 67, 0.3), 0px 1px 3px 1px rgba(60, 64, 67, 0.15);\n",
              "    fill: #174EA6;\n",
              "  }\n",
              "\n",
              "  [theme=dark] .colab-df-quickchart {\n",
              "    background-color: #3B4455;\n",
              "    fill: #D2E3FC;\n",
              "  }\n",
              "\n",
              "  [theme=dark] .colab-df-quickchart:hover {\n",
              "    background-color: #434B5C;\n",
              "    box-shadow: 0px 1px 3px 1px rgba(0, 0, 0, 0.15);\n",
              "    filter: drop-shadow(0px 1px 2px rgba(0, 0, 0, 0.3));\n",
              "    fill: #FFFFFF;\n",
              "  }\n",
              "</style>\n",
              "\n",
              "  <script>\n",
              "    async function quickchart(key) {\n",
              "      const charts = await google.colab.kernel.invokeFunction(\n",
              "          'suggestCharts', [key], {});\n",
              "    }\n",
              "    (() => {\n",
              "      let quickchartButtonEl =\n",
              "        document.querySelector('#df-782dc284-2871-4418-a654-07e9a76a9c45 button');\n",
              "      quickchartButtonEl.style.display =\n",
              "        google.colab.kernel.accessAllowed ? 'block' : 'none';\n",
              "    })();\n",
              "  </script>\n",
              "</div>\n",
              "    </div>\n",
              "  </div>\n"
            ]
          },
          "metadata": {},
          "execution_count": 233
        }
      ]
    },
    {
      "cell_type": "code",
      "source": [
        "data['price'].quantile([.01, .02,.1,.50]).to_frame().transpose()\n"
      ],
      "metadata": {
        "execution": {
          "iopub.status.busy": "2023-06-03T18:30:09.767122Z",
          "iopub.execute_input": "2023-06-03T18:30:09.767595Z",
          "iopub.status.idle": "2023-06-03T18:30:09.793932Z",
          "shell.execute_reply.started": "2023-06-03T18:30:09.767558Z",
          "shell.execute_reply": "2023-06-03T18:30:09.792710Z"
        },
        "trusted": true,
        "id": "R5qqmIxCS1Cd",
        "outputId": "7c614db4-29a2-4a2e-c31e-42d990ba1a23",
        "colab": {
          "base_uri": "https://localhost:8080/",
          "height": 81
        }
      },
      "execution_count": 230,
      "outputs": [
        {
          "output_type": "execute_result",
          "data": {
            "text/plain": [
              "       0.01  0.02   0.10    0.50\n",
              "price   0.0   0.0  499.0  2700.0"
            ],
            "text/html": [
              "\n",
              "  <div id=\"df-fc20fee9-a8e7-48dc-965a-0bc082b89aef\" class=\"colab-df-container\">\n",
              "    <div>\n",
              "<style scoped>\n",
              "    .dataframe tbody tr th:only-of-type {\n",
              "        vertical-align: middle;\n",
              "    }\n",
              "\n",
              "    .dataframe tbody tr th {\n",
              "        vertical-align: top;\n",
              "    }\n",
              "\n",
              "    .dataframe thead th {\n",
              "        text-align: right;\n",
              "    }\n",
              "</style>\n",
              "<table border=\"1\" class=\"dataframe\">\n",
              "  <thead>\n",
              "    <tr style=\"text-align: right;\">\n",
              "      <th></th>\n",
              "      <th>0.01</th>\n",
              "      <th>0.02</th>\n",
              "      <th>0.10</th>\n",
              "      <th>0.50</th>\n",
              "    </tr>\n",
              "  </thead>\n",
              "  <tbody>\n",
              "    <tr>\n",
              "      <th>price</th>\n",
              "      <td>0.0</td>\n",
              "      <td>0.0</td>\n",
              "      <td>499.0</td>\n",
              "      <td>2700.0</td>\n",
              "    </tr>\n",
              "  </tbody>\n",
              "</table>\n",
              "</div>\n",
              "    <div class=\"colab-df-buttons\">\n",
              "\n",
              "  <div class=\"colab-df-container\">\n",
              "    <button class=\"colab-df-convert\" onclick=\"convertToInteractive('df-fc20fee9-a8e7-48dc-965a-0bc082b89aef')\"\n",
              "            title=\"Convert this dataframe to an interactive table.\"\n",
              "            style=\"display:none;\">\n",
              "\n",
              "  <svg xmlns=\"http://www.w3.org/2000/svg\" height=\"24px\" viewBox=\"0 -960 960 960\">\n",
              "    <path d=\"M120-120v-720h720v720H120Zm60-500h600v-160H180v160Zm220 220h160v-160H400v160Zm0 220h160v-160H400v160ZM180-400h160v-160H180v160Zm440 0h160v-160H620v160ZM180-180h160v-160H180v160Zm440 0h160v-160H620v160Z\"/>\n",
              "  </svg>\n",
              "    </button>\n",
              "\n",
              "  <style>\n",
              "    .colab-df-container {\n",
              "      display:flex;\n",
              "      gap: 12px;\n",
              "    }\n",
              "\n",
              "    .colab-df-convert {\n",
              "      background-color: #E8F0FE;\n",
              "      border: none;\n",
              "      border-radius: 50%;\n",
              "      cursor: pointer;\n",
              "      display: none;\n",
              "      fill: #1967D2;\n",
              "      height: 32px;\n",
              "      padding: 0 0 0 0;\n",
              "      width: 32px;\n",
              "    }\n",
              "\n",
              "    .colab-df-convert:hover {\n",
              "      background-color: #E2EBFA;\n",
              "      box-shadow: 0px 1px 2px rgba(60, 64, 67, 0.3), 0px 1px 3px 1px rgba(60, 64, 67, 0.15);\n",
              "      fill: #174EA6;\n",
              "    }\n",
              "\n",
              "    .colab-df-buttons div {\n",
              "      margin-bottom: 4px;\n",
              "    }\n",
              "\n",
              "    [theme=dark] .colab-df-convert {\n",
              "      background-color: #3B4455;\n",
              "      fill: #D2E3FC;\n",
              "    }\n",
              "\n",
              "    [theme=dark] .colab-df-convert:hover {\n",
              "      background-color: #434B5C;\n",
              "      box-shadow: 0px 1px 3px 1px rgba(0, 0, 0, 0.15);\n",
              "      filter: drop-shadow(0px 1px 2px rgba(0, 0, 0, 0.3));\n",
              "      fill: #FFFFFF;\n",
              "    }\n",
              "  </style>\n",
              "\n",
              "    <script>\n",
              "      const buttonEl =\n",
              "        document.querySelector('#df-fc20fee9-a8e7-48dc-965a-0bc082b89aef button.colab-df-convert');\n",
              "      buttonEl.style.display =\n",
              "        google.colab.kernel.accessAllowed ? 'block' : 'none';\n",
              "\n",
              "      async function convertToInteractive(key) {\n",
              "        const element = document.querySelector('#df-fc20fee9-a8e7-48dc-965a-0bc082b89aef');\n",
              "        const dataTable =\n",
              "          await google.colab.kernel.invokeFunction('convertToInteractive',\n",
              "                                                    [key], {});\n",
              "        if (!dataTable) return;\n",
              "\n",
              "        const docLinkHtml = 'Like what you see? Visit the ' +\n",
              "          '<a target=\"_blank\" href=https://colab.research.google.com/notebooks/data_table.ipynb>data table notebook</a>'\n",
              "          + ' to learn more about interactive tables.';\n",
              "        element.innerHTML = '';\n",
              "        dataTable['output_type'] = 'display_data';\n",
              "        await google.colab.output.renderOutput(dataTable, element);\n",
              "        const docLink = document.createElement('div');\n",
              "        docLink.innerHTML = docLinkHtml;\n",
              "        element.appendChild(docLink);\n",
              "      }\n",
              "    </script>\n",
              "  </div>\n",
              "\n",
              "    </div>\n",
              "  </div>\n"
            ]
          },
          "metadata": {},
          "execution_count": 230
        }
      ]
    },
    {
      "cell_type": "code",
      "source": [
        "data.loc[data['price']<0].shape[0]"
      ],
      "metadata": {
        "execution": {
          "iopub.status.busy": "2023-06-03T18:30:09.885834Z",
          "iopub.execute_input": "2023-06-03T18:30:09.886318Z",
          "iopub.status.idle": "2023-06-03T18:30:09.894734Z",
          "shell.execute_reply.started": "2023-06-03T18:30:09.886277Z",
          "shell.execute_reply": "2023-06-03T18:30:09.893771Z"
        },
        "trusted": true,
        "id": "QbXiFNADS1Ce"
      },
      "execution_count": null,
      "outputs": []
    },
    {
      "cell_type": "markdown",
      "source": [
        "Общая картира дешевых объектов не противоречит логике:\n",
        "- представлены старые автомобили, плохого состояния и с большим пробегом\n",
        "- объекты с отрицательным значением стоимости отсутствуют"
      ],
      "metadata": {
        "id": "IZiTudKVS1Ce"
      }
    },
    {
      "cell_type": "code",
      "source": [
        "data.boxplot(column=['registration_year'], figsize=(12, 2),\n",
        "             vert=False,\n",
        "            patch_artist=True,\n",
        "            boxprops=dict(facecolor='lightblue'),\n",
        "            whiskerprops=dict(color='gray'),\n",
        "            medianprops=dict(color='darkblue'),\n",
        "            capprops=dict(color='gray')).set_title('Boxplot of year', fontsize=14);"
      ],
      "metadata": {
        "colab": {
          "base_uri": "https://localhost:8080/",
          "height": 146
        },
        "id": "gTR3uNKxyYPc",
        "outputId": "f02d4690-8d5c-408a-ba0d-131318d9f43a"
      },
      "execution_count": 232,
      "outputs": [
        {
          "output_type": "display_data",
          "data": {
            "text/plain": [
              "<Figure size 1200x200 with 1 Axes>"
            ],
            "image/png": "[encoded data removed]"
          },
          "metadata": {}
        }
      ]
    },
    {
      "cell_type": "code",
      "source": [
        "data['registration_year'].unique()"
      ],
      "metadata": {
        "id": "-jroLoZzwCry"
      },
      "execution_count": null,
      "outputs": []
    },
    {
      "cell_type": "code",
      "source": [
        "numeric_columns.to_list()"
      ],
      "metadata": {
        "colab": {
          "base_uri": "https://localhost:8080/"
        },
        "id": "-TaIIknxxdGD",
        "outputId": "9c87b922-0d9d-4dd1-d4ea-118b9efec6c2"
      },
      "execution_count": 175,
      "outputs": [
        {
          "output_type": "execute_result",
          "data": {
            "text/plain": [
              "['price',\n",
              " 'registration_year',\n",
              " 'power',\n",
              " 'kilometer',\n",
              " 'registration_month',\n",
              " 'pictures_amount',\n",
              " 'postal_code']"
            ]
          },
          "metadata": {},
          "execution_count": 175
        }
      ]
    },
    {
      "cell_type": "code",
      "source": [
        "for col in numeric_columns.to_list():\n",
        "  print(col)\n",
        "  print(data[col].value_counts().sort_values())\n",
        "  print ()"
      ],
      "metadata": {
        "colab": {
          "base_uri": "https://localhost:8080/"
        },
        "id": "P8WmX8mOxPEm",
        "outputId": "2ad30c25-09f7-41c0-a804-cab55d6aeb48"
      },
      "execution_count": 178,
      "outputs": [
        {
          "output_type": "stream",
          "name": "stdout",
          "text": [
            "price\n",
            "10985        1\n",
            "12870        1\n",
            "2201         1\n",
            "9769         1\n",
            "12180        1\n",
            "         ...  \n",
            "1200      4594\n",
            "1000      4649\n",
            "1500      5394\n",
            "500       5670\n",
            "0        10772\n",
            "Name: price, Length: 3731, dtype: int64\n",
            "\n",
            "registration_year\n",
            "3500        1\n",
            "4100        1\n",
            "1919        1\n",
            "8200        1\n",
            "1927        1\n",
            "        ...  \n",
            "2006    19900\n",
            "2001    20124\n",
            "2005    22109\n",
            "1999    22728\n",
            "2000    24490\n",
            "Name: registration_year, Length: 151, dtype: int64\n",
            "\n",
            "power\n",
            "1241        1\n",
            "902         1\n",
            "682         1\n",
            "2009        1\n",
            "7529        1\n",
            "        ...  \n",
            "101     13298\n",
            "150     14590\n",
            "60      15897\n",
            "75      24023\n",
            "0       40225\n",
            "Name: power, Length: 712, dtype: int64\n",
            "\n",
            "kilometer\n",
            "10000       1222\n",
            "20000       3975\n",
            "30000       4436\n",
            "40000       4911\n",
            "50000       6232\n",
            "5000        6397\n",
            "60000       7444\n",
            "70000       8593\n",
            "80000      10047\n",
            "90000      11567\n",
            "100000     14882\n",
            "125000     36454\n",
            "150000    238209\n",
            "Name: kilometer, dtype: int64\n",
            "\n",
            "registration_month\n",
            "2     21267\n",
            "8     22627\n",
            "1     23219\n",
            "9     23813\n",
            "11    24186\n",
            "12    24289\n",
            "10    26099\n",
            "7     27213\n",
            "5     29153\n",
            "4     29270\n",
            "6     31508\n",
            "3     34373\n",
            "0     37352\n",
            "Name: registration_month, dtype: int64\n",
            "\n",
            "pictures_amount\n",
            "0    354369\n",
            "Name: pictures_amount, dtype: int64\n",
            "\n",
            "postal_code\n",
            "31096      1\n",
            "93348      1\n",
            "89446      1\n",
            "95685      1\n",
            "25889      1\n",
            "        ... \n",
            "44145    317\n",
            "32257    317\n",
            "66333    343\n",
            "65428    613\n",
            "10115    819\n",
            "Name: postal_code, Length: 8143, dtype: int64\n",
            "\n"
          ]
        }
      ]
    },
    {
      "cell_type": "markdown",
      "source": [
        "**condition**"
      ],
      "metadata": {
        "id": "RdHRlkKtS1Ce"
      }
    },
    {
      "cell_type": "code",
      "source": [
        "train.loc[train['odometer']<30000, 'condition'].describe().to_frame().transpose()"
      ],
      "metadata": {
        "execution": {
          "iopub.status.busy": "2023-06-03T18:30:10.238388Z",
          "iopub.execute_input": "2023-06-03T18:30:10.239144Z",
          "iopub.status.idle": "2023-06-03T18:30:10.263241Z",
          "shell.execute_reply.started": "2023-06-03T18:30:10.239108Z",
          "shell.execute_reply": "2023-06-03T18:30:10.262300Z"
        },
        "trusted": true,
        "id": "7Fwj77cnS1Ci",
        "outputId": "3f10cfc4-b7db-4045-b11c-0d33d9f09cea"
      },
      "execution_count": null,
      "outputs": [
        {
          "execution_count": 30,
          "output_type": "execute_result",
          "data": {
            "text/plain": "              count      mean      std  min  25%  50%  75%  max\ncondition  119019.0  4.006383  0.81693  1.0  3.7  4.2  4.6  5.0",
            "text/html": "<div>\n<style scoped>\n    .dataframe tbody tr th:only-of-type {\n        vertical-align: middle;\n    }\n\n    .dataframe tbody tr th {\n        vertical-align: top;\n    }\n\n    .dataframe thead th {\n        text-align: right;\n    }\n</style>\n<table border=\"1\" class=\"dataframe\">\n  <thead>\n    <tr style=\"text-align: right;\">\n      <th></th>\n      <th>count</th>\n      <th>mean</th>\n      <th>std</th>\n      <th>min</th>\n      <th>25%</th>\n      <th>50%</th>\n      <th>75%</th>\n      <th>max</th>\n    </tr>\n  </thead>\n  <tbody>\n    <tr>\n      <th>condition</th>\n      <td>119019.0</td>\n      <td>4.006383</td>\n      <td>0.81693</td>\n      <td>1.0</td>\n      <td>3.7</td>\n      <td>4.2</td>\n      <td>4.6</td>\n      <td>5.0</td>\n    </tr>\n  </tbody>\n</table>\n</div>"
          },
          "metadata": {}
        }
      ]
    },
    {
      "cell_type": "code",
      "source": [
        "train.loc[(train['odometer']<30000) & (train['condition'].isna()), 'condition'].shape[0]"
      ],
      "metadata": {
        "execution": {
          "iopub.status.busy": "2023-06-03T18:30:10.264757Z",
          "iopub.execute_input": "2023-06-03T18:30:10.265303Z",
          "iopub.status.idle": "2023-06-03T18:30:10.274376Z",
          "shell.execute_reply.started": "2023-06-03T18:30:10.265269Z",
          "shell.execute_reply": "2023-06-03T18:30:10.273202Z"
        },
        "trusted": true,
        "id": "pGKyFRcTS1Ci",
        "outputId": "15dd7cb5-bd55-4d07-cef8-157d409cc107"
      },
      "execution_count": null,
      "outputs": [
        {
          "execution_count": 31,
          "output_type": "execute_result",
          "data": {
            "text/plain": "640"
          },
          "metadata": {}
        }
      ]
    },
    {
      "cell_type": "code",
      "source": [
        "# заполним пропуски в признаке condition для объектов с пробегом менее 30 тыс средним значение равным 4\n",
        "train.loc[(train['odometer']<30000) & (train['condition'].isna()), 'condition'] = train.loc[\n",
        "    (train['odometer']<30000) & (train['condition'].isna()), 'condition'].fillna(4)"
      ],
      "metadata": {
        "execution": {
          "iopub.status.busy": "2023-06-03T18:30:10.283890Z",
          "iopub.execute_input": "2023-06-03T18:30:10.284144Z",
          "iopub.status.idle": "2023-06-03T18:30:10.294273Z",
          "shell.execute_reply.started": "2023-06-03T18:30:10.284122Z",
          "shell.execute_reply": "2023-06-03T18:30:10.293356Z"
        },
        "trusted": true,
        "id": "fV1-bhqgS1Ci"
      },
      "execution_count": null,
      "outputs": []
    },
    {
      "cell_type": "code",
      "source": [
        "test.loc[(test['odometer']<30000) & (test['condition'].isna()), 'condition'] = test.loc[\n",
        "    (test['odometer']<30000) & (test['condition'].isna()), 'condition'].fillna(4)"
      ],
      "metadata": {
        "execution": {
          "iopub.status.busy": "2023-06-03T18:30:10.295837Z",
          "iopub.execute_input": "2023-06-03T18:30:10.296279Z",
          "iopub.status.idle": "2023-06-03T18:30:10.306529Z",
          "shell.execute_reply.started": "2023-06-03T18:30:10.296238Z",
          "shell.execute_reply": "2023-06-03T18:30:10.305542Z"
        },
        "trusted": true,
        "id": "-iZZcOr7S1Cj"
      },
      "execution_count": null,
      "outputs": []
    },
    {
      "cell_type": "code",
      "source": [
        "train.loc[(train['odometer']<30000) & (train['condition'].isna()), 'condition'].shape[0]"
      ],
      "metadata": {
        "execution": {
          "iopub.status.busy": "2023-06-03T18:30:10.308121Z",
          "iopub.execute_input": "2023-06-03T18:30:10.308468Z",
          "iopub.status.idle": "2023-06-03T18:30:10.318704Z",
          "shell.execute_reply.started": "2023-06-03T18:30:10.308438Z",
          "shell.execute_reply": "2023-06-03T18:30:10.317544Z"
        },
        "trusted": true,
        "id": "IQCHTHHpS1Cj",
        "outputId": "ae2d1daa-0817-46e2-b9fb-326b26ffcd2b"
      },
      "execution_count": null,
      "outputs": [
        {
          "execution_count": 34,
          "output_type": "execute_result",
          "data": {
            "text/plain": "0"
          },
          "metadata": {}
        }
      ]
    },
    {
      "cell_type": "code",
      "source": [
        "# проверим распределение выборки после заполнения пропусков\n",
        "train['condition'].hist(figsize=(8,2));\n",
        "train.loc[train['odometer']<30000, 'condition'].describe().to_frame().transpose()"
      ],
      "metadata": {
        "execution": {
          "iopub.status.busy": "2023-06-03T18:30:10.320477Z",
          "iopub.execute_input": "2023-06-03T18:30:10.320862Z",
          "iopub.status.idle": "2023-06-03T18:30:10.601757Z",
          "shell.execute_reply.started": "2023-06-03T18:30:10.320832Z",
          "shell.execute_reply": "2023-06-03T18:30:10.600909Z"
        },
        "trusted": true,
        "id": "It1oEiP0S1Cj",
        "outputId": "fc4505a3-2b5b-4e7a-a35e-cc624e72b7f8"
      },
      "execution_count": null,
      "outputs": [
        {
          "execution_count": 35,
          "output_type": "execute_result",
          "data": {
            "text/plain": "              count      mean       std  min  25%  50%  75%  max\ncondition  119659.0  4.006349  0.814742  1.0  3.7  4.2  4.6  5.0",
            "text/html": "<div>\n<style scoped>\n    .dataframe tbody tr th:only-of-type {\n        vertical-align: middle;\n    }\n\n    .dataframe tbody tr th {\n        vertical-align: top;\n    }\n\n    .dataframe thead th {\n        text-align: right;\n    }\n</style>\n<table border=\"1\" class=\"dataframe\">\n  <thead>\n    <tr style=\"text-align: right;\">\n      <th></th>\n      <th>count</th>\n      <th>mean</th>\n      <th>std</th>\n      <th>min</th>\n      <th>25%</th>\n      <th>50%</th>\n      <th>75%</th>\n      <th>max</th>\n    </tr>\n  </thead>\n  <tbody>\n    <tr>\n      <th>condition</th>\n      <td>119659.0</td>\n      <td>4.006349</td>\n      <td>0.814742</td>\n      <td>1.0</td>\n      <td>3.7</td>\n      <td>4.2</td>\n      <td>4.6</td>\n      <td>5.0</td>\n    </tr>\n  </tbody>\n</table>\n</div>"
          },
          "metadata": {}
        },
        {
          "output_type": "display_data",
          "data": {
            "text/plain": "<Figure size 800x200 with 1 Axes>",
            "image/png": "[encoded data removed]"
          },
          "metadata": {}
        }
      ]
    },
    {
      "cell_type": "markdown",
      "source": [
        "параметры не изменились"
      ],
      "metadata": {
        "id": "gxEzNwBFS1Cj"
      }
    },
    {
      "cell_type": "code",
      "source": [
        "train.loc[(train['odometer']<40000) & (train['odometer']>30000), 'condition'].describe().to_frame().transpose()"
      ],
      "metadata": {
        "execution": {
          "iopub.status.busy": "2023-06-03T18:30:10.602956Z",
          "iopub.execute_input": "2023-06-03T18:30:10.603299Z",
          "iopub.status.idle": "2023-06-03T18:30:10.625706Z",
          "shell.execute_reply.started": "2023-06-03T18:30:10.603267Z",
          "shell.execute_reply": "2023-06-03T18:30:10.624754Z"
        },
        "trusted": true,
        "id": "tXsiBcpGS1Cj",
        "outputId": "4d07da3f-b706-4d45-acf1-c4c7ed5fd2af"
      },
      "execution_count": null,
      "outputs": [
        {
          "execution_count": 36,
          "output_type": "execute_result",
          "data": {
            "text/plain": "             count      mean       std  min  25%  50%  75%  max\ncondition  55337.0  3.760945  0.754033  1.0  3.4  3.9  4.3  5.0",
            "text/html": "<div>\n<style scoped>\n    .dataframe tbody tr th:only-of-type {\n        vertical-align: middle;\n    }\n\n    .dataframe tbody tr th {\n        vertical-align: top;\n    }\n\n    .dataframe thead th {\n        text-align: right;\n    }\n</style>\n<table border=\"1\" class=\"dataframe\">\n  <thead>\n    <tr style=\"text-align: right;\">\n      <th></th>\n      <th>count</th>\n      <th>mean</th>\n      <th>std</th>\n      <th>min</th>\n      <th>25%</th>\n      <th>50%</th>\n      <th>75%</th>\n      <th>max</th>\n    </tr>\n  </thead>\n  <tbody>\n    <tr>\n      <th>condition</th>\n      <td>55337.0</td>\n      <td>3.760945</td>\n      <td>0.754033</td>\n      <td>1.0</td>\n      <td>3.4</td>\n      <td>3.9</td>\n      <td>4.3</td>\n      <td>5.0</td>\n    </tr>\n  </tbody>\n</table>\n</div>"
          },
          "metadata": {}
        }
      ]
    },
    {
      "cell_type": "code",
      "source": [
        "train.loc[((train['odometer']<40000) & (train['odometer']>30000) & train['condition'].isna()), 'condition'] = train.loc[\n",
        "    ((train['odometer']<40000) & (train['odometer']>30000) & train['condition'].isna()), 'condition'].fillna(3.76)"
      ],
      "metadata": {
        "execution": {
          "iopub.status.busy": "2023-06-03T18:30:10.627231Z",
          "iopub.execute_input": "2023-06-03T18:30:10.627569Z",
          "iopub.status.idle": "2023-06-03T18:30:10.639172Z",
          "shell.execute_reply.started": "2023-06-03T18:30:10.627539Z",
          "shell.execute_reply": "2023-06-03T18:30:10.638108Z"
        },
        "trusted": true,
        "id": "GoN1M-n0S1Cj"
      },
      "execution_count": null,
      "outputs": []
    },
    {
      "cell_type": "code",
      "source": [
        "test.loc[((test['odometer']<40000) & (test['odometer']>30000) & test['condition'].isna()), 'condition'] = test.loc[\n",
        "    ((test['odometer']<40000) & (test['odometer']>30000) & test['condition'].isna()), 'condition'].fillna(3.76)"
      ],
      "metadata": {
        "execution": {
          "iopub.status.busy": "2023-06-03T18:30:10.640398Z",
          "iopub.execute_input": "2023-06-03T18:30:10.640889Z",
          "iopub.status.idle": "2023-06-03T18:30:10.651202Z",
          "shell.execute_reply.started": "2023-06-03T18:30:10.640855Z",
          "shell.execute_reply": "2023-06-03T18:30:10.650202Z"
        },
        "trusted": true,
        "id": "gS-0odMwS1Cj"
      },
      "execution_count": null,
      "outputs": []
    },
    {
      "cell_type": "code",
      "source": [
        "# проверим распределение выборки после заполнения пропусков\n",
        "train['condition'].hist(figsize=(8,2));\n",
        "train.loc[(train['odometer']<40000) & (train['odometer']>30000), 'condition'].describe().to_frame().transpose()"
      ],
      "metadata": {
        "execution": {
          "iopub.status.busy": "2023-06-03T18:30:10.652296Z",
          "iopub.execute_input": "2023-06-03T18:30:10.652638Z",
          "iopub.status.idle": "2023-06-03T18:30:10.937962Z",
          "shell.execute_reply.started": "2023-06-03T18:30:10.652607Z",
          "shell.execute_reply": "2023-06-03T18:30:10.937062Z"
        },
        "trusted": true,
        "id": "IA40VwG1S1Cj",
        "outputId": "0df9aa69-8832-452e-f406-b210111f99a0"
      },
      "execution_count": null,
      "outputs": [
        {
          "execution_count": 39,
          "output_type": "execute_result",
          "data": {
            "text/plain": "             count     mean       std  min  25%  50%  75%  max\ncondition  55626.0  3.76094  0.752071  1.0  3.4  3.9  4.3  5.0",
            "text/html": "<div>\n<style scoped>\n    .dataframe tbody tr th:only-of-type {\n        vertical-align: middle;\n    }\n\n    .dataframe tbody tr th {\n        vertical-align: top;\n    }\n\n    .dataframe thead th {\n        text-align: right;\n    }\n</style>\n<table border=\"1\" class=\"dataframe\">\n  <thead>\n    <tr style=\"text-align: right;\">\n      <th></th>\n      <th>count</th>\n      <th>mean</th>\n      <th>std</th>\n      <th>min</th>\n      <th>25%</th>\n      <th>50%</th>\n      <th>75%</th>\n      <th>max</th>\n    </tr>\n  </thead>\n  <tbody>\n    <tr>\n      <th>condition</th>\n      <td>55626.0</td>\n      <td>3.76094</td>\n      <td>0.752071</td>\n      <td>1.0</td>\n      <td>3.4</td>\n      <td>3.9</td>\n      <td>4.3</td>\n      <td>5.0</td>\n    </tr>\n  </tbody>\n</table>\n</div>"
          },
          "metadata": {}
        },
        {
          "output_type": "display_data",
          "data": {
            "text/plain": "<Figure size 800x200 with 1 Axes>",
            "image/png": "[encoded data removed]"
          },
          "metadata": {}
        }
      ]
    },
    {
      "cell_type": "code",
      "source": [
        "train.loc[(train['odometer']>40000) & (train['odometer']<50000), 'condition'].describe().to_frame().transpose()"
      ],
      "metadata": {
        "execution": {
          "iopub.status.busy": "2023-06-03T18:30:10.939318Z",
          "iopub.execute_input": "2023-06-03T18:30:10.940080Z",
          "iopub.status.idle": "2023-06-03T18:30:10.962014Z",
          "shell.execute_reply.started": "2023-06-03T18:30:10.940046Z",
          "shell.execute_reply": "2023-06-03T18:30:10.961069Z"
        },
        "trusted": true,
        "id": "LP8eW_VHS1Cj",
        "outputId": "4c127677-ebd0-4acc-b9a1-18e8e73c0b5a"
      },
      "execution_count": null,
      "outputs": [
        {
          "execution_count": 40,
          "output_type": "execute_result",
          "data": {
            "text/plain": "             count      mean      std  min  25%  50%  75%  max\ncondition  37744.0  3.650397  0.76257  1.0  3.2  3.7  4.2  5.0",
            "text/html": "<div>\n<style scoped>\n    .dataframe tbody tr th:only-of-type {\n        vertical-align: middle;\n    }\n\n    .dataframe tbody tr th {\n        vertical-align: top;\n    }\n\n    .dataframe thead th {\n        text-align: right;\n    }\n</style>\n<table border=\"1\" class=\"dataframe\">\n  <thead>\n    <tr style=\"text-align: right;\">\n      <th></th>\n      <th>count</th>\n      <th>mean</th>\n      <th>std</th>\n      <th>min</th>\n      <th>25%</th>\n      <th>50%</th>\n      <th>75%</th>\n      <th>max</th>\n    </tr>\n  </thead>\n  <tbody>\n    <tr>\n      <th>condition</th>\n      <td>37744.0</td>\n      <td>3.650397</td>\n      <td>0.76257</td>\n      <td>1.0</td>\n      <td>3.2</td>\n      <td>3.7</td>\n      <td>4.2</td>\n      <td>5.0</td>\n    </tr>\n  </tbody>\n</table>\n</div>"
          },
          "metadata": {}
        }
      ]
    },
    {
      "cell_type": "code",
      "source": [
        "train.loc[((train['odometer']>40000) & (train['odometer']<50000) & train['condition'].isna()), 'condition'] = train.loc[\n",
        "    ((train['odometer']>40000) & (train['odometer']<50000) & train['condition'].isna()), 'condition'].fillna(3.65)"
      ],
      "metadata": {
        "execution": {
          "iopub.status.busy": "2023-06-03T18:30:10.963341Z",
          "iopub.execute_input": "2023-06-03T18:30:10.963771Z",
          "iopub.status.idle": "2023-06-03T18:30:10.975151Z",
          "shell.execute_reply.started": "2023-06-03T18:30:10.963728Z",
          "shell.execute_reply": "2023-06-03T18:30:10.974118Z"
        },
        "trusted": true,
        "id": "Wx5og_B8S1Cj"
      },
      "execution_count": null,
      "outputs": []
    },
    {
      "cell_type": "code",
      "source": [
        "test.loc[((train['odometer']>40000) & (test['odometer']<50000) & test['condition'].isna()), 'condition'] = test.loc[\n",
        "    ((test['odometer']>40000) & (test['odometer']<50000) & test['condition'].isna()), 'condition'].fillna(3.65)"
      ],
      "metadata": {
        "execution": {
          "iopub.status.busy": "2023-06-03T18:30:10.976770Z",
          "iopub.execute_input": "2023-06-03T18:30:10.977360Z",
          "iopub.status.idle": "2023-06-03T18:30:11.221089Z",
          "shell.execute_reply.started": "2023-06-03T18:30:10.977326Z",
          "shell.execute_reply": "2023-06-03T18:30:11.220167Z"
        },
        "trusted": true,
        "id": "ptXoOJSlS1Cj"
      },
      "execution_count": null,
      "outputs": []
    },
    {
      "cell_type": "code",
      "source": [
        "# проверим распределение выборки после заполнения пропусков\n",
        "train['condition'].hist(figsize=(8,2));\n",
        "train.loc[((train['odometer']>40000) & (train['odometer']<50000) ), 'condition'].describe().to_frame().transpose()"
      ],
      "metadata": {
        "execution": {
          "iopub.status.busy": "2023-06-03T18:30:11.222731Z",
          "iopub.execute_input": "2023-06-03T18:30:11.223096Z",
          "iopub.status.idle": "2023-06-03T18:30:11.503495Z",
          "shell.execute_reply.started": "2023-06-03T18:30:11.223063Z",
          "shell.execute_reply": "2023-06-03T18:30:11.502647Z"
        },
        "trusted": true,
        "id": "E_7fQI2wS1Cj",
        "outputId": "879a7f89-7938-4f13-d605-b41d73033972"
      },
      "execution_count": null,
      "outputs": [
        {
          "execution_count": 43,
          "output_type": "execute_result",
          "data": {
            "text/plain": "             count      mean       std  min  25%  50%  75%  max\ncondition  38010.0  3.650395  0.759897  1.0  3.2  3.7  4.2  5.0",
            "text/html": "<div>\n<style scoped>\n    .dataframe tbody tr th:only-of-type {\n        vertical-align: middle;\n    }\n\n    .dataframe tbody tr th {\n        vertical-align: top;\n    }\n\n    .dataframe thead th {\n        text-align: right;\n    }\n</style>\n<table border=\"1\" class=\"dataframe\">\n  <thead>\n    <tr style=\"text-align: right;\">\n      <th></th>\n      <th>count</th>\n      <th>mean</th>\n      <th>std</th>\n      <th>min</th>\n      <th>25%</th>\n      <th>50%</th>\n      <th>75%</th>\n      <th>max</th>\n    </tr>\n  </thead>\n  <tbody>\n    <tr>\n      <th>condition</th>\n      <td>38010.0</td>\n      <td>3.650395</td>\n      <td>0.759897</td>\n      <td>1.0</td>\n      <td>3.2</td>\n      <td>3.7</td>\n      <td>4.2</td>\n      <td>5.0</td>\n    </tr>\n  </tbody>\n</table>\n</div>"
          },
          "metadata": {}
        },
        {
          "output_type": "display_data",
          "data": {
            "text/plain": "<Figure size 800x200 with 1 Axes>",
            "image/png": "[encoded data removed]"
          },
          "metadata": {}
        }
      ]
    },
    {
      "cell_type": "code",
      "source": [
        "train.loc[((train['odometer']>50000) & (train['odometer']<60000) ), 'condition'].describe().to_frame().transpose()"
      ],
      "metadata": {
        "execution": {
          "iopub.status.busy": "2023-06-03T18:30:11.504799Z",
          "iopub.execute_input": "2023-06-03T18:30:11.505373Z",
          "iopub.status.idle": "2023-06-03T18:30:11.526254Z",
          "shell.execute_reply.started": "2023-06-03T18:30:11.505340Z",
          "shell.execute_reply": "2023-06-03T18:30:11.525316Z"
        },
        "trusted": true,
        "id": "KE35KkmvS1Cj",
        "outputId": "f5cd18b5-17b5-4465-cd9e-f73b48bc891f"
      },
      "execution_count": null,
      "outputs": [
        {
          "execution_count": 44,
          "output_type": "execute_result",
          "data": {
            "text/plain": "             count      mean       std  min  25%  50%  75%  max\ncondition  32103.0  3.487708  0.761446  1.0  2.9  3.6  4.1  5.0",
            "text/html": "<div>\n<style scoped>\n    .dataframe tbody tr th:only-of-type {\n        vertical-align: middle;\n    }\n\n    .dataframe tbody tr th {\n        vertical-align: top;\n    }\n\n    .dataframe thead th {\n        text-align: right;\n    }\n</style>\n<table border=\"1\" class=\"dataframe\">\n  <thead>\n    <tr style=\"text-align: right;\">\n      <th></th>\n      <th>count</th>\n      <th>mean</th>\n      <th>std</th>\n      <th>min</th>\n      <th>25%</th>\n      <th>50%</th>\n      <th>75%</th>\n      <th>max</th>\n    </tr>\n  </thead>\n  <tbody>\n    <tr>\n      <th>condition</th>\n      <td>32103.0</td>\n      <td>3.487708</td>\n      <td>0.761446</td>\n      <td>1.0</td>\n      <td>2.9</td>\n      <td>3.6</td>\n      <td>4.1</td>\n      <td>5.0</td>\n    </tr>\n  </tbody>\n</table>\n</div>"
          },
          "metadata": {}
        }
      ]
    },
    {
      "cell_type": "code",
      "source": [
        "train.loc[((train['odometer']>50000) & (train['odometer']<60000) & train['condition'].isna()), 'condition'] = train.loc[\n",
        "    ((train['odometer']>50000) & (train['odometer']<60000) & train['condition'].isna()), 'condition'].fillna(3.5)"
      ],
      "metadata": {
        "execution": {
          "iopub.status.busy": "2023-06-03T18:30:11.527626Z",
          "iopub.execute_input": "2023-06-03T18:30:11.528024Z",
          "iopub.status.idle": "2023-06-03T18:30:11.541053Z",
          "shell.execute_reply.started": "2023-06-03T18:30:11.527993Z",
          "shell.execute_reply": "2023-06-03T18:30:11.540085Z"
        },
        "trusted": true,
        "id": "quuVrybyS1Cj"
      },
      "execution_count": null,
      "outputs": []
    },
    {
      "cell_type": "code",
      "source": [
        "test.loc[((test['odometer']>50000) & (test['odometer']<60000) & test['condition'].isna()), 'condition'] = test.loc[\n",
        "    ((test['odometer']>50000) & (test['odometer']<60000) & test['condition'].isna()), 'condition'].fillna(3.5)"
      ],
      "metadata": {
        "execution": {
          "iopub.status.busy": "2023-06-03T18:30:11.542387Z",
          "iopub.execute_input": "2023-06-03T18:30:11.542875Z",
          "iopub.status.idle": "2023-06-03T18:30:11.552571Z",
          "shell.execute_reply.started": "2023-06-03T18:30:11.542843Z",
          "shell.execute_reply": "2023-06-03T18:30:11.551548Z"
        },
        "trusted": true,
        "id": "rKirf-h2S1Cj"
      },
      "execution_count": null,
      "outputs": []
    },
    {
      "cell_type": "code",
      "source": [
        "# проверим распределение выборки после заполнения пропусков\n",
        "train.loc[((train['odometer']>50000) & (train['odometer']<60000) ), 'condition'].describe().to_frame().transpose()\n",
        "train['condition'].hist(figsize=(8,2));"
      ],
      "metadata": {
        "execution": {
          "iopub.status.busy": "2023-06-03T18:30:11.554062Z",
          "iopub.execute_input": "2023-06-03T18:30:11.554456Z",
          "iopub.status.idle": "2023-06-03T18:30:11.824953Z",
          "shell.execute_reply.started": "2023-06-03T18:30:11.554425Z",
          "shell.execute_reply": "2023-06-03T18:30:11.824100Z"
        },
        "trusted": true,
        "id": "aMmFg4PQS1Cj",
        "outputId": "e894965d-e3b1-472e-a6f9-f9e3a896ddc3"
      },
      "execution_count": null,
      "outputs": [
        {
          "output_type": "display_data",
          "data": {
            "text/plain": "<Figure size 800x200 with 1 Axes>",
            "image/png": "[encoded data removed]"
          },
          "metadata": {}
        }
      ]
    },
    {
      "cell_type": "code",
      "source": [
        "train.loc[((train['odometer']>60000) & (train['odometer']<80000) ), 'condition'].describe().to_frame().transpose()"
      ],
      "metadata": {
        "execution": {
          "iopub.status.busy": "2023-06-03T18:30:11.826134Z",
          "iopub.execute_input": "2023-06-03T18:30:11.826482Z",
          "iopub.status.idle": "2023-06-03T18:30:11.848651Z",
          "shell.execute_reply.started": "2023-06-03T18:30:11.826449Z",
          "shell.execute_reply": "2023-06-03T18:30:11.847644Z"
        },
        "trusted": true,
        "id": "YHdA2GRNS1Cj",
        "outputId": "a4a65f06-da33-4884-ca2e-b94bd83801d2"
      },
      "execution_count": null,
      "outputs": [
        {
          "execution_count": 48,
          "output_type": "execute_result",
          "data": {
            "text/plain": "             count      mean       std  min  25%  50%  75%  max\ncondition  44320.0  3.341519  0.808816  1.0  2.8  3.5  3.9  5.0",
            "text/html": "<div>\n<style scoped>\n    .dataframe tbody tr th:only-of-type {\n        vertical-align: middle;\n    }\n\n    .dataframe tbody tr th {\n        vertical-align: top;\n    }\n\n    .dataframe thead th {\n        text-align: right;\n    }\n</style>\n<table border=\"1\" class=\"dataframe\">\n  <thead>\n    <tr style=\"text-align: right;\">\n      <th></th>\n      <th>count</th>\n      <th>mean</th>\n      <th>std</th>\n      <th>min</th>\n      <th>25%</th>\n      <th>50%</th>\n      <th>75%</th>\n      <th>max</th>\n    </tr>\n  </thead>\n  <tbody>\n    <tr>\n      <th>condition</th>\n      <td>44320.0</td>\n      <td>3.341519</td>\n      <td>0.808816</td>\n      <td>1.0</td>\n      <td>2.8</td>\n      <td>3.5</td>\n      <td>3.9</td>\n      <td>5.0</td>\n    </tr>\n  </tbody>\n</table>\n</div>"
          },
          "metadata": {}
        }
      ]
    },
    {
      "cell_type": "code",
      "source": [
        "train.loc[((train['odometer']>60000) & (train['odometer']<80000) & train['condition'].isna()), 'condition'] = train.loc[\n",
        "    ((train['odometer']>60000) & (train['odometer']<80000) & train['condition'].isna()), 'condition'].fillna(3.45)"
      ],
      "metadata": {
        "execution": {
          "iopub.status.busy": "2023-06-03T18:30:11.850033Z",
          "iopub.execute_input": "2023-06-03T18:30:11.850573Z",
          "iopub.status.idle": "2023-06-03T18:30:11.862837Z",
          "shell.execute_reply.started": "2023-06-03T18:30:11.850539Z",
          "shell.execute_reply": "2023-06-03T18:30:11.861782Z"
        },
        "trusted": true,
        "id": "pl6QLRW6S1Ck"
      },
      "execution_count": null,
      "outputs": []
    },
    {
      "cell_type": "code",
      "source": [
        "test.loc[((train['odometer']>60000) & (test['odometer']<80000) & test['condition'].isna()), 'condition'] = test.loc[\n",
        "    ((test['odometer']>60000) & (test['odometer']<80000) & test['condition'].isna()), 'condition'].fillna(3.45)"
      ],
      "metadata": {
        "execution": {
          "iopub.status.busy": "2023-06-03T18:30:11.864388Z",
          "iopub.execute_input": "2023-06-03T18:30:11.864766Z",
          "iopub.status.idle": "2023-06-03T18:30:12.106556Z",
          "shell.execute_reply.started": "2023-06-03T18:30:11.864736Z",
          "shell.execute_reply": "2023-06-03T18:30:12.105618Z"
        },
        "trusted": true,
        "id": "tDYFo_ZyS1Ck"
      },
      "execution_count": null,
      "outputs": []
    },
    {
      "cell_type": "code",
      "source": [
        "# проверим распределение выборки после заполнения пропусков\n",
        "train['condition'].hist(figsize=(8,2));\n",
        "train.loc[((train['odometer']>60000) & (train['odometer']<80000) ), 'condition'].describe().to_frame().transpose()"
      ],
      "metadata": {
        "execution": {
          "iopub.status.busy": "2023-06-03T18:30:12.107862Z",
          "iopub.execute_input": "2023-06-03T18:30:12.108316Z",
          "iopub.status.idle": "2023-06-03T18:30:12.386559Z",
          "shell.execute_reply.started": "2023-06-03T18:30:12.108270Z",
          "shell.execute_reply": "2023-06-03T18:30:12.385714Z"
        },
        "trusted": true,
        "id": "rjdpMzUtS1Ck",
        "outputId": "a2e672fb-1725-4b95-a3d4-dc781f4b10b4"
      },
      "execution_count": null,
      "outputs": [
        {
          "execution_count": 51,
          "output_type": "execute_result",
          "data": {
            "text/plain": "             count      mean       std  min  25%  50%  75%  max\ncondition  45102.0  3.343399  0.801899  1.0  2.8  3.5  3.9  5.0",
            "text/html": "<div>\n<style scoped>\n    .dataframe tbody tr th:only-of-type {\n        vertical-align: middle;\n    }\n\n    .dataframe tbody tr th {\n        vertical-align: top;\n    }\n\n    .dataframe thead th {\n        text-align: right;\n    }\n</style>\n<table border=\"1\" class=\"dataframe\">\n  <thead>\n    <tr style=\"text-align: right;\">\n      <th></th>\n      <th>count</th>\n      <th>mean</th>\n      <th>std</th>\n      <th>min</th>\n      <th>25%</th>\n      <th>50%</th>\n      <th>75%</th>\n      <th>max</th>\n    </tr>\n  </thead>\n  <tbody>\n    <tr>\n      <th>condition</th>\n      <td>45102.0</td>\n      <td>3.343399</td>\n      <td>0.801899</td>\n      <td>1.0</td>\n      <td>2.8</td>\n      <td>3.5</td>\n      <td>3.9</td>\n      <td>5.0</td>\n    </tr>\n  </tbody>\n</table>\n</div>"
          },
          "metadata": {}
        },
        {
          "output_type": "display_data",
          "data": {
            "text/plain": "<Figure size 800x200 with 1 Axes>",
            "image/png": "[encoded data removed]"
          },
          "metadata": {}
        }
      ]
    },
    {
      "cell_type": "code",
      "source": [
        "train.loc[((train['odometer']>80000) & (train['odometer']<100000) ), 'condition'].describe().to_frame().transpose()\n"
      ],
      "metadata": {
        "execution": {
          "iopub.status.busy": "2023-06-03T18:30:12.388042Z",
          "iopub.execute_input": "2023-06-03T18:30:12.388391Z",
          "iopub.status.idle": "2023-06-03T18:30:12.411753Z",
          "shell.execute_reply.started": "2023-06-03T18:30:12.388360Z",
          "shell.execute_reply": "2023-06-03T18:30:12.410846Z"
        },
        "trusted": true,
        "id": "CE3QnctIS1Ck",
        "outputId": "2587001d-1cce-4697-8a91-c21a39509b23"
      },
      "execution_count": null,
      "outputs": [
        {
          "execution_count": 52,
          "output_type": "execute_result",
          "data": {
            "text/plain": "             count     mean       std  min  25%  50%  75%  max\ncondition  39637.0  3.09258  0.829919  1.0  2.4  3.1  3.7  5.0",
            "text/html": "<div>\n<style scoped>\n    .dataframe tbody tr th:only-of-type {\n        vertical-align: middle;\n    }\n\n    .dataframe tbody tr th {\n        vertical-align: top;\n    }\n\n    .dataframe thead th {\n        text-align: right;\n    }\n</style>\n<table border=\"1\" class=\"dataframe\">\n  <thead>\n    <tr style=\"text-align: right;\">\n      <th></th>\n      <th>count</th>\n      <th>mean</th>\n      <th>std</th>\n      <th>min</th>\n      <th>25%</th>\n      <th>50%</th>\n      <th>75%</th>\n      <th>max</th>\n    </tr>\n  </thead>\n  <tbody>\n    <tr>\n      <th>condition</th>\n      <td>39637.0</td>\n      <td>3.09258</td>\n      <td>0.829919</td>\n      <td>1.0</td>\n      <td>2.4</td>\n      <td>3.1</td>\n      <td>3.7</td>\n      <td>5.0</td>\n    </tr>\n  </tbody>\n</table>\n</div>"
          },
          "metadata": {}
        }
      ]
    },
    {
      "cell_type": "code",
      "source": [
        "train.loc[((train['odometer']>80000) & (train['odometer']<100000) & train['condition'].isna()), 'condition'] = train.loc[\n",
        "    ((train['odometer']>80000) & (train['odometer']<100000) & train['condition'].isna()), 'condition'].fillna(3)"
      ],
      "metadata": {
        "execution": {
          "iopub.status.busy": "2023-06-03T18:30:12.413069Z",
          "iopub.execute_input": "2023-06-03T18:30:12.413499Z",
          "iopub.status.idle": "2023-06-03T18:30:12.426041Z",
          "shell.execute_reply.started": "2023-06-03T18:30:12.413453Z",
          "shell.execute_reply": "2023-06-03T18:30:12.425100Z"
        },
        "trusted": true,
        "id": "FRizUjlTS1Ck"
      },
      "execution_count": null,
      "outputs": []
    },
    {
      "cell_type": "code",
      "source": [
        "test.loc[((test['odometer']>80000) & (test['odometer']<100000) & test['condition'].isna()), 'condition'] = test.loc[\n",
        "    ((test['odometer']>80000) & (test['odometer']<100000) & test['condition'].isna()), 'condition'].fillna(3)"
      ],
      "metadata": {
        "execution": {
          "iopub.status.busy": "2023-06-03T18:30:12.427341Z",
          "iopub.execute_input": "2023-06-03T18:30:12.427870Z",
          "iopub.status.idle": "2023-06-03T18:30:12.437733Z",
          "shell.execute_reply.started": "2023-06-03T18:30:12.427838Z",
          "shell.execute_reply": "2023-06-03T18:30:12.436636Z"
        },
        "trusted": true,
        "id": "I7CcFOEwS1Ck"
      },
      "execution_count": null,
      "outputs": []
    },
    {
      "cell_type": "code",
      "source": [
        "# проверим распределение выборки после заполнения пропусков\n",
        "train['condition'].hist(figsize=(8,2));\n",
        "train.loc[((train['odometer']>80000) & (train['odometer']<100000) ), 'condition'].describe().to_frame().transpose()"
      ],
      "metadata": {
        "execution": {
          "iopub.status.busy": "2023-06-03T18:30:12.439046Z",
          "iopub.execute_input": "2023-06-03T18:30:12.439657Z",
          "iopub.status.idle": "2023-06-03T18:30:12.722562Z",
          "shell.execute_reply.started": "2023-06-03T18:30:12.439626Z",
          "shell.execute_reply": "2023-06-03T18:30:12.721645Z"
        },
        "trusted": true,
        "id": "ABJ1VISPS1Ck",
        "outputId": "b79df959-c513-4101-8a49-1a5e55427174"
      },
      "execution_count": null,
      "outputs": [
        {
          "execution_count": 55,
          "output_type": "execute_result",
          "data": {
            "text/plain": "             count      mean       std  min  25%  50%  75%  max\ncondition  40894.0  3.089734  0.817221  1.0  2.5  3.0  3.7  5.0",
            "text/html": "<div>\n<style scoped>\n    .dataframe tbody tr th:only-of-type {\n        vertical-align: middle;\n    }\n\n    .dataframe tbody tr th {\n        vertical-align: top;\n    }\n\n    .dataframe thead th {\n        text-align: right;\n    }\n</style>\n<table border=\"1\" class=\"dataframe\">\n  <thead>\n    <tr style=\"text-align: right;\">\n      <th></th>\n      <th>count</th>\n      <th>mean</th>\n      <th>std</th>\n      <th>min</th>\n      <th>25%</th>\n      <th>50%</th>\n      <th>75%</th>\n      <th>max</th>\n    </tr>\n  </thead>\n  <tbody>\n    <tr>\n      <th>condition</th>\n      <td>40894.0</td>\n      <td>3.089734</td>\n      <td>0.817221</td>\n      <td>1.0</td>\n      <td>2.5</td>\n      <td>3.0</td>\n      <td>3.7</td>\n      <td>5.0</td>\n    </tr>\n  </tbody>\n</table>\n</div>"
          },
          "metadata": {}
        },
        {
          "output_type": "display_data",
          "data": {
            "text/plain": "<Figure size 800x200 with 1 Axes>",
            "image/png": "[encoded data removed]"
          },
          "metadata": {}
        }
      ]
    },
    {
      "cell_type": "code",
      "source": [
        "train.loc[((train['odometer']>100000) & (train['odometer']<150000) ), 'condition'].describe().to_frame().transpose()"
      ],
      "metadata": {
        "execution": {
          "iopub.status.busy": "2023-06-03T18:30:12.723800Z",
          "iopub.execute_input": "2023-06-03T18:30:12.724225Z",
          "iopub.status.idle": "2023-06-03T18:30:12.747195Z",
          "shell.execute_reply.started": "2023-06-03T18:30:12.724192Z",
          "shell.execute_reply": "2023-06-03T18:30:12.746223Z"
        },
        "trusted": true,
        "id": "fU6BFBoVS1Ck",
        "outputId": "0b84acd6-955f-482d-b0e4-7c8342d2c184"
      },
      "execution_count": null,
      "outputs": [
        {
          "execution_count": 56,
          "output_type": "execute_result",
          "data": {
            "text/plain": "             count      mean       std  min  25%  50%  75%  max\ncondition  67842.0  2.740674  0.792235  1.0  2.0  2.7  3.4  5.0",
            "text/html": "<div>\n<style scoped>\n    .dataframe tbody tr th:only-of-type {\n        vertical-align: middle;\n    }\n\n    .dataframe tbody tr th {\n        vertical-align: top;\n    }\n\n    .dataframe thead th {\n        text-align: right;\n    }\n</style>\n<table border=\"1\" class=\"dataframe\">\n  <thead>\n    <tr style=\"text-align: right;\">\n      <th></th>\n      <th>count</th>\n      <th>mean</th>\n      <th>std</th>\n      <th>min</th>\n      <th>25%</th>\n      <th>50%</th>\n      <th>75%</th>\n      <th>max</th>\n    </tr>\n  </thead>\n  <tbody>\n    <tr>\n      <th>condition</th>\n      <td>67842.0</td>\n      <td>2.740674</td>\n      <td>0.792235</td>\n      <td>1.0</td>\n      <td>2.0</td>\n      <td>2.7</td>\n      <td>3.4</td>\n      <td>5.0</td>\n    </tr>\n  </tbody>\n</table>\n</div>"
          },
          "metadata": {}
        }
      ]
    },
    {
      "cell_type": "code",
      "source": [
        "train.loc[((train['odometer']>100000) & (train['odometer']<150000) & train['condition'].isna()), 'condition'] = train.loc[\n",
        "    ((train['odometer']>100000) & (train['odometer']<150000) & train['condition'].isna()), 'condition'].fillna(2.7)"
      ],
      "metadata": {
        "execution": {
          "iopub.status.busy": "2023-06-03T18:30:12.748678Z",
          "iopub.execute_input": "2023-06-03T18:30:12.749271Z",
          "iopub.status.idle": "2023-06-03T18:30:12.761298Z",
          "shell.execute_reply.started": "2023-06-03T18:30:12.749233Z",
          "shell.execute_reply": "2023-06-03T18:30:12.760316Z"
        },
        "trusted": true,
        "id": "7VhsHgnJS1Ck"
      },
      "execution_count": null,
      "outputs": []
    },
    {
      "cell_type": "code",
      "source": [
        "test.loc[((test['odometer']>100000) & (test['odometer']<150000) & test['condition'].isna()), 'condition'] = test.loc[\n",
        "    ((test['odometer']>100000) & (test['odometer']<150000) & test['condition'].isna()), 'condition'].fillna(2.7)"
      ],
      "metadata": {
        "execution": {
          "iopub.status.busy": "2023-06-03T18:30:12.763121Z",
          "iopub.execute_input": "2023-06-03T18:30:12.763558Z",
          "iopub.status.idle": "2023-06-03T18:30:12.773807Z",
          "shell.execute_reply.started": "2023-06-03T18:30:12.763525Z",
          "shell.execute_reply": "2023-06-03T18:30:12.772893Z"
        },
        "trusted": true,
        "id": "YzSaw74AS1Ck"
      },
      "execution_count": null,
      "outputs": []
    },
    {
      "cell_type": "code",
      "source": [
        "# проверим распределение выборки после заполнения пропусков\n",
        "train['condition'].hist(figsize=(8,2));\n",
        "train.loc[((train['odometer']>100000) & (train['odometer']<150000) ), 'condition'].describe().to_frame().transpose()"
      ],
      "metadata": {
        "execution": {
          "iopub.status.busy": "2023-06-03T18:30:12.776059Z",
          "iopub.execute_input": "2023-06-03T18:30:12.776667Z",
          "iopub.status.idle": "2023-06-03T18:30:13.058946Z",
          "shell.execute_reply.started": "2023-06-03T18:30:12.776633Z",
          "shell.execute_reply": "2023-06-03T18:30:13.058065Z"
        },
        "trusted": true,
        "id": "hQch68PaS1Ck",
        "outputId": "66e72ffc-9d0f-4bb4-c3a6-504be08bc36e"
      },
      "execution_count": null,
      "outputs": [
        {
          "execution_count": 59,
          "output_type": "execute_result",
          "data": {
            "text/plain": "             count      mean       std  min  25%  50%  75%  max\ncondition  71213.0  2.738749  0.773304  1.0  2.0  2.7  3.4  5.0",
            "text/html": "<div>\n<style scoped>\n    .dataframe tbody tr th:only-of-type {\n        vertical-align: middle;\n    }\n\n    .dataframe tbody tr th {\n        vertical-align: top;\n    }\n\n    .dataframe thead th {\n        text-align: right;\n    }\n</style>\n<table border=\"1\" class=\"dataframe\">\n  <thead>\n    <tr style=\"text-align: right;\">\n      <th></th>\n      <th>count</th>\n      <th>mean</th>\n      <th>std</th>\n      <th>min</th>\n      <th>25%</th>\n      <th>50%</th>\n      <th>75%</th>\n      <th>max</th>\n    </tr>\n  </thead>\n  <tbody>\n    <tr>\n      <th>condition</th>\n      <td>71213.0</td>\n      <td>2.738749</td>\n      <td>0.773304</td>\n      <td>1.0</td>\n      <td>2.0</td>\n      <td>2.7</td>\n      <td>3.4</td>\n      <td>5.0</td>\n    </tr>\n  </tbody>\n</table>\n</div>"
          },
          "metadata": {}
        },
        {
          "output_type": "display_data",
          "data": {
            "text/plain": "<Figure size 800x200 with 1 Axes>",
            "image/png": "[encoded data removed]"
          },
          "metadata": {}
        }
      ]
    },
    {
      "cell_type": "code",
      "source": [
        "train['condition'].isna().sum()"
      ],
      "metadata": {
        "execution": {
          "iopub.status.busy": "2023-06-03T18:30:13.060422Z",
          "iopub.execute_input": "2023-06-03T18:30:13.060751Z",
          "iopub.status.idle": "2023-06-03T18:30:13.070221Z",
          "shell.execute_reply.started": "2023-06-03T18:30:13.060719Z",
          "shell.execute_reply": "2023-06-03T18:30:13.069193Z"
        },
        "trusted": true,
        "id": "76oymucqS1Ck",
        "outputId": "70b157fe-d6b7-4230-a4ce-51b6ceab51ff"
      },
      "execution_count": null,
      "outputs": [
        {
          "execution_count": 60,
          "output_type": "execute_result",
          "data": {
            "text/plain": "2531"
          },
          "metadata": {}
        }
      ]
    },
    {
      "cell_type": "markdown",
      "source": [
        " Дальше заполнять по этому принципу не вижу смысла, так как уже разбег очень сильный в значениях, учитывая, что машины с пробегом после 150 тыс это уже редкие значения."
      ],
      "metadata": {
        "id": "-oPJgEncS1Ck"
      }
    },
    {
      "cell_type": "code",
      "source": [
        "train[['odometer']].quantile([0.02,0.05, 0.1, .5, .65, .75, .85, .93, .99]).transpose()"
      ],
      "metadata": {
        "execution": {
          "iopub.status.busy": "2023-06-03T18:30:13.071731Z",
          "iopub.execute_input": "2023-06-03T18:30:13.072649Z",
          "iopub.status.idle": "2023-06-03T18:30:13.103862Z",
          "shell.execute_reply.started": "2023-06-03T18:30:13.072612Z",
          "shell.execute_reply": "2023-06-03T18:30:13.102818Z"
        },
        "trusted": true,
        "id": "TGNcl11nS1Ck",
        "outputId": "01657861-9c5b-48c6-d323-d17932d0890b"
      },
      "execution_count": null,
      "outputs": [
        {
          "execution_count": 61,
          "output_type": "execute_result",
          "data": {
            "text/plain": "             0.02     0.05     0.10     0.50     0.65     0.75      0.85  \\\nodometer  5856.32  10475.0  15616.0  52098.0  77689.9  99272.0  125266.0   \n\n               0.93       0.99  \nodometer  157501.38  226987.68  ",
            "text/html": "<div>\n<style scoped>\n    .dataframe tbody tr th:only-of-type {\n        vertical-align: middle;\n    }\n\n    .dataframe tbody tr th {\n        vertical-align: top;\n    }\n\n    .dataframe thead th {\n        text-align: right;\n    }\n</style>\n<table border=\"1\" class=\"dataframe\">\n  <thead>\n    <tr style=\"text-align: right;\">\n      <th></th>\n      <th>0.02</th>\n      <th>0.05</th>\n      <th>0.10</th>\n      <th>0.50</th>\n      <th>0.65</th>\n      <th>0.75</th>\n      <th>0.85</th>\n      <th>0.93</th>\n      <th>0.99</th>\n    </tr>\n  </thead>\n  <tbody>\n    <tr>\n      <th>odometer</th>\n      <td>5856.32</td>\n      <td>10475.0</td>\n      <td>15616.0</td>\n      <td>52098.0</td>\n      <td>77689.9</td>\n      <td>99272.0</td>\n      <td>125266.0</td>\n      <td>157501.38</td>\n      <td>226987.68</td>\n    </tr>\n  </tbody>\n</table>\n</div>"
          },
          "metadata": {}
        }
      ]
    },
    {
      "cell_type": "code",
      "source": [],
      "metadata": {
        "execution": {
          "iopub.status.busy": "2023-06-03T18:30:13.391351Z",
          "iopub.execute_input": "2023-06-03T18:30:13.391904Z",
          "iopub.status.idle": "2023-06-03T18:30:14.159637Z",
          "shell.execute_reply.started": "2023-06-03T18:30:13.391870Z",
          "shell.execute_reply": "2023-06-03T18:30:14.158771Z"
        },
        "trusted": true,
        "id": "x7PSw-bSS1Cl",
        "outputId": "60b95f4d-d049-4bb4-8bd2-af248de0d3ea",
        "colab": {
          "base_uri": "https://localhost:8080/",
          "height": 146
        }
      },
      "execution_count": 179,
      "outputs": [
        {
          "output_type": "display_data",
          "data": {
            "text/plain": [
              "<Figure size 1200x200 with 1 Axes>"
            ],
            "image/png": "[encoded data removed]"
          },
          "metadata": {}
        }
      ]
    },
    {
      "cell_type": "code",
      "source": [
        "train[['year']].quantile([0.02,0.05, 0.1, .5, .65, .75, .85, .9, .99]).transpose()\n"
      ],
      "metadata": {
        "execution": {
          "iopub.status.busy": "2023-06-03T18:30:14.160990Z",
          "iopub.execute_input": "2023-06-03T18:30:14.162391Z",
          "iopub.status.idle": "2023-06-03T18:30:14.188624Z",
          "shell.execute_reply.started": "2023-06-03T18:30:14.162356Z",
          "shell.execute_reply": "2023-06-03T18:30:14.187623Z"
        },
        "trusted": true,
        "id": "-h-NlhGYS1Cl",
        "outputId": "3117aa26-7883-46a3-bf76-fe1b8ebc1edd"
      },
      "execution_count": null,
      "outputs": [
        {
          "execution_count": 66,
          "output_type": "execute_result",
          "data": {
            "text/plain": "        0.02    0.05    0.10    0.50    0.65    0.75    0.85    0.90    0.99\nyear  2000.0  2002.0  2004.0  2012.0  2012.0  2013.0  2014.0  2014.0  2015.0",
            "text/html": "<div>\n<style scoped>\n    .dataframe tbody tr th:only-of-type {\n        vertical-align: middle;\n    }\n\n    .dataframe tbody tr th {\n        vertical-align: top;\n    }\n\n    .dataframe thead th {\n        text-align: right;\n    }\n</style>\n<table border=\"1\" class=\"dataframe\">\n  <thead>\n    <tr style=\"text-align: right;\">\n      <th></th>\n      <th>0.02</th>\n      <th>0.05</th>\n      <th>0.10</th>\n      <th>0.50</th>\n      <th>0.65</th>\n      <th>0.75</th>\n      <th>0.85</th>\n      <th>0.90</th>\n      <th>0.99</th>\n    </tr>\n  </thead>\n  <tbody>\n    <tr>\n      <th>year</th>\n      <td>2000.0</td>\n      <td>2002.0</td>\n      <td>2004.0</td>\n      <td>2012.0</td>\n      <td>2012.0</td>\n      <td>2013.0</td>\n      <td>2014.0</td>\n      <td>2014.0</td>\n      <td>2015.0</td>\n    </tr>\n  </tbody>\n</table>\n</div>"
          },
          "metadata": {}
        }
      ]
    },
    {
      "cell_type": "code",
      "source": [
        "test[['year']].quantile([0.02,0.05, 0.1, .5, .65, .75, .85, .9, .99]).transpose()\n"
      ],
      "metadata": {
        "execution": {
          "iopub.status.busy": "2023-06-03T18:30:14.190423Z",
          "iopub.execute_input": "2023-06-03T18:30:14.190796Z",
          "iopub.status.idle": "2023-06-03T18:30:14.223118Z",
          "shell.execute_reply.started": "2023-06-03T18:30:14.190750Z",
          "shell.execute_reply": "2023-06-03T18:30:14.222011Z"
        },
        "trusted": true,
        "id": "zw9eDOOLS1Cl",
        "outputId": "26822d18-d1c9-4b1c-f055-f7ab3a9ec7af"
      },
      "execution_count": null,
      "outputs": [
        {
          "execution_count": 67,
          "output_type": "execute_result",
          "data": {
            "text/plain": "        0.02    0.05    0.10    0.50    0.65    0.75    0.85    0.90    0.99\nyear  2000.0  2002.0  2004.0  2012.0  2012.0  2013.0  2014.0  2014.0  2015.0",
            "text/html": "<div>\n<style scoped>\n    .dataframe tbody tr th:only-of-type {\n        vertical-align: middle;\n    }\n\n    .dataframe tbody tr th {\n        vertical-align: top;\n    }\n\n    .dataframe thead th {\n        text-align: right;\n    }\n</style>\n<table border=\"1\" class=\"dataframe\">\n  <thead>\n    <tr style=\"text-align: right;\">\n      <th></th>\n      <th>0.02</th>\n      <th>0.05</th>\n      <th>0.10</th>\n      <th>0.50</th>\n      <th>0.65</th>\n      <th>0.75</th>\n      <th>0.85</th>\n      <th>0.90</th>\n      <th>0.99</th>\n    </tr>\n  </thead>\n  <tbody>\n    <tr>\n      <th>year</th>\n      <td>2000.0</td>\n      <td>2002.0</td>\n      <td>2004.0</td>\n      <td>2012.0</td>\n      <td>2012.0</td>\n      <td>2013.0</td>\n      <td>2014.0</td>\n      <td>2014.0</td>\n      <td>2015.0</td>\n    </tr>\n  </tbody>\n</table>\n</div>"
          },
          "metadata": {}
        }
      ]
    },
    {
      "cell_type": "markdown",
      "source": [
        "Видим, что в данных есть около 2% автомобилей до 2000 года производства."
      ],
      "metadata": {
        "execution": {
          "iopub.status.busy": "2023-05-25T05:51:29.518495Z",
          "iopub.execute_input": "2023-05-25T05:51:29.518894Z",
          "iopub.status.idle": "2023-05-25T05:51:29.528584Z",
          "shell.execute_reply.started": "2023-05-25T05:51:29.518863Z",
          "shell.execute_reply": "2023-05-25T05:51:29.526612Z"
        },
        "id": "Ji8lNT4AS1Cl"
      }
    },
    {
      "cell_type": "markdown",
      "source": [
        "**ODOMETER**"
      ],
      "metadata": {
        "id": "59jYqtCFS1Cl"
      }
    },
    {
      "cell_type": "code",
      "source": [
        "# проанализируем признак odometer\n",
        "train['odometer'].head()"
      ],
      "metadata": {
        "execution": {
          "iopub.status.busy": "2023-06-03T18:30:14.224753Z",
          "iopub.execute_input": "2023-06-03T18:30:14.225099Z",
          "iopub.status.idle": "2023-06-03T18:30:14.232948Z",
          "shell.execute_reply.started": "2023-06-03T18:30:14.225068Z",
          "shell.execute_reply": "2023-06-03T18:30:14.231899Z"
        },
        "trusted": true,
        "id": "OF6ougS2S1Cl",
        "outputId": "1e6b7bff-4c00-43c4-e68b-a0cfeb36d223"
      },
      "execution_count": null,
      "outputs": [
        {
          "execution_count": 68,
          "output_type": "execute_result",
          "data": {
            "text/plain": "0    111041.0\n1     31034.0\n2     35619.0\n3    131301.0\n4    127709.0\nName: odometer, dtype: float64"
          },
          "metadata": {}
        }
      ]
    },
    {
      "cell_type": "markdown",
      "source": [
        "Этот признак содержит данные о пробеге автомобилей.\n",
        "Чтобы было удобнее работать с этим признаком разделим все значения на 1000."
      ],
      "metadata": {
        "id": "6A97eq93S1Cl"
      }
    },
    {
      "cell_type": "code",
      "source": [
        "train['odometer'] = train['odometer']/1000\n",
        "train['odometer'].head()"
      ],
      "metadata": {
        "execution": {
          "iopub.status.busy": "2023-06-03T18:30:14.234630Z",
          "iopub.execute_input": "2023-06-03T18:30:14.236432Z",
          "iopub.status.idle": "2023-06-03T18:30:14.249137Z",
          "shell.execute_reply.started": "2023-06-03T18:30:14.236405Z",
          "shell.execute_reply": "2023-06-03T18:30:14.248140Z"
        },
        "trusted": true,
        "id": "U3IaEp46S1Cl",
        "outputId": "6084d035-5f3d-4083-8cdc-11fa9b347968"
      },
      "execution_count": null,
      "outputs": [
        {
          "execution_count": 69,
          "output_type": "execute_result",
          "data": {
            "text/plain": "0    111.041\n1     31.034\n2     35.619\n3    131.301\n4    127.709\nName: odometer, dtype: float64"
          },
          "metadata": {}
        }
      ]
    },
    {
      "cell_type": "code",
      "source": [
        "test['odometer'] = test['odometer']/1000\n",
        "test['odometer'].head()"
      ],
      "metadata": {
        "execution": {
          "iopub.status.busy": "2023-06-03T18:30:14.250559Z",
          "iopub.execute_input": "2023-06-03T18:30:14.251526Z",
          "iopub.status.idle": "2023-06-03T18:30:14.260713Z",
          "shell.execute_reply.started": "2023-06-03T18:30:14.251491Z",
          "shell.execute_reply": "2023-06-03T18:30:14.259728Z"
        },
        "trusted": true,
        "id": "0c-1FWgxS1Cl",
        "outputId": "d5563206-8793-4bd4-bd2d-2aaae9da7840"
      },
      "execution_count": null,
      "outputs": [
        {
          "execution_count": 70,
          "output_type": "execute_result",
          "data": {
            "text/plain": "0    116.970\n1      6.286\n2     11.831\n3     57.105\n4     31.083\nName: odometer, dtype: float64"
          },
          "metadata": {}
        }
      ]
    },
    {
      "cell_type": "code",
      "source": [
        "train['odometer'].hist(figsize=(12, 2))\n",
        "plt.title('Пробег автомобилей (тыс)')\n",
        "plt.xlabel('Пробег (мили)')\n",
        "plt.ylabel('Частота')\n",
        "plt.show()\n"
      ],
      "metadata": {
        "execution": {
          "iopub.status.busy": "2023-06-03T18:30:14.262493Z",
          "iopub.execute_input": "2023-06-03T18:30:14.262959Z",
          "iopub.status.idle": "2023-06-03T18:30:14.518970Z",
          "shell.execute_reply.started": "2023-06-03T18:30:14.262928Z",
          "shell.execute_reply": "2023-06-03T18:30:14.518134Z"
        },
        "trusted": true,
        "id": "KVzm7_QjS1Cl",
        "outputId": "1042e871-5f4b-4517-bf10-2d3c5615bd3f"
      },
      "execution_count": null,
      "outputs": [
        {
          "output_type": "display_data",
          "data": {
            "text/plain": "<Figure size 1200x200 with 1 Axes>",
            "image/png": "[encoded data removed]"
          },
          "metadata": {}
        }
      ]
    },
    {
      "cell_type": "markdown",
      "source": [
        "На графике видно, что основная масса автомобилей имеет пробег до 200 тыс, проанализируем количество автомобилей с пробегом более 200 тыс."
      ],
      "metadata": {
        "id": "MmkoiRa6S1Cl"
      }
    },
    {
      "cell_type": "code",
      "source": [
        "# построим гистограмму для распределения количества автомобилей с пробегом от 200 тыс\n",
        "train.loc[train['odometer']>200, 'odometer'].hist(figsize=(12, 2))\n",
        "plt.xticks([j for j in range(200, 1000, 100)], rotation=65)\n",
        "plt.title('Количество автомобилей с пробегом более 200 (тыс)')\n",
        "plt.xlabel('Пробег (мили)')\n",
        "plt.ylabel('Частота')\n",
        "plt.show()\n"
      ],
      "metadata": {
        "execution": {
          "iopub.status.busy": "2023-06-03T18:30:14.520315Z",
          "iopub.execute_input": "2023-06-03T18:30:14.521388Z",
          "iopub.status.idle": "2023-06-03T18:30:14.782943Z",
          "shell.execute_reply.started": "2023-06-03T18:30:14.521353Z",
          "shell.execute_reply": "2023-06-03T18:30:14.782107Z"
        },
        "trusted": true,
        "id": "hWQDDylnS1Cl",
        "outputId": "b5692b6c-ae9e-4f8d-95ef-c8ffc68a8292"
      },
      "execution_count": null,
      "outputs": [
        {
          "output_type": "display_data",
          "data": {
            "text/plain": "<Figure size 1200x200 with 1 Axes>",
            "image/png": "[encoded data removed]"
          },
          "metadata": {}
        }
      ]
    },
    {
      "cell_type": "code",
      "source": [
        "train[['odometer']].quantile([0.02,0.05,0.5,.65, .75, .85, .9, .9825, .99]).transpose()\n"
      ],
      "metadata": {
        "execution": {
          "iopub.status.busy": "2023-06-03T18:30:14.784412Z",
          "iopub.execute_input": "2023-06-03T18:30:14.784720Z",
          "iopub.status.idle": "2023-06-03T18:30:14.815571Z",
          "shell.execute_reply.started": "2023-06-03T18:30:14.784690Z",
          "shell.execute_reply": "2023-06-03T18:30:14.814557Z"
        },
        "trusted": true,
        "id": "OUBBN-r3S1Cl",
        "outputId": "c76f5801-f2d7-4a61-a6e8-51d50bb81b50"
      },
      "execution_count": null,
      "outputs": [
        {
          "execution_count": 73,
          "output_type": "execute_result",
          "data": {
            "text/plain": "           0.0200  0.0500  0.5000   0.6500  0.7500   0.8500   0.9000  \\\nodometer  5.85632  10.475  52.098  77.6899  99.272  125.266  143.186   \n\n              0.9825     0.9900  \nodometer  207.879475  226.98768  ",
            "text/html": "<div>\n<style scoped>\n    .dataframe tbody tr th:only-of-type {\n        vertical-align: middle;\n    }\n\n    .dataframe tbody tr th {\n        vertical-align: top;\n    }\n\n    .dataframe thead th {\n        text-align: right;\n    }\n</style>\n<table border=\"1\" class=\"dataframe\">\n  <thead>\n    <tr style=\"text-align: right;\">\n      <th></th>\n      <th>0.0200</th>\n      <th>0.0500</th>\n      <th>0.5000</th>\n      <th>0.6500</th>\n      <th>0.7500</th>\n      <th>0.8500</th>\n      <th>0.9000</th>\n      <th>0.9825</th>\n      <th>0.9900</th>\n    </tr>\n  </thead>\n  <tbody>\n    <tr>\n      <th>odometer</th>\n      <td>5.85632</td>\n      <td>10.475</td>\n      <td>52.098</td>\n      <td>77.6899</td>\n      <td>99.272</td>\n      <td>125.266</td>\n      <td>143.186</td>\n      <td>207.879475</td>\n      <td>226.98768</td>\n    </tr>\n  </tbody>\n</table>\n</div>"
          },
          "metadata": {}
        }
      ]
    },
    {
      "cell_type": "code",
      "source": [
        "test[['odometer']].quantile([0.02,0.05,0.5, .65, .75, .85, .9, .9825, .99]).transpose()"
      ],
      "metadata": {
        "execution": {
          "iopub.status.busy": "2023-06-03T18:30:14.817184Z",
          "iopub.execute_input": "2023-06-03T18:30:14.817537Z",
          "iopub.status.idle": "2023-06-03T18:30:14.840043Z",
          "shell.execute_reply.started": "2023-06-03T18:30:14.817506Z",
          "shell.execute_reply": "2023-06-03T18:30:14.839154Z"
        },
        "trusted": true,
        "id": "LdIJDJzZS1Cl",
        "outputId": "dce5799b-6bd1-49c6-9b40-2be59d37f9e3"
      },
      "execution_count": null,
      "outputs": [
        {
          "execution_count": 74,
          "output_type": "execute_result",
          "data": {
            "text/plain": "          0.0200  0.0500  0.5000   0.6500   0.7500    0.8500    0.9000  \\\nodometer   5.878  10.519  51.922  77.2082  98.8525  124.3126  142.5648   \n\n              0.9825     0.9900  \nodometer  206.715335  226.68594  ",
            "text/html": "<div>\n<style scoped>\n    .dataframe tbody tr th:only-of-type {\n        vertical-align: middle;\n    }\n\n    .dataframe tbody tr th {\n        vertical-align: top;\n    }\n\n    .dataframe thead th {\n        text-align: right;\n    }\n</style>\n<table border=\"1\" class=\"dataframe\">\n  <thead>\n    <tr style=\"text-align: right;\">\n      <th></th>\n      <th>0.0200</th>\n      <th>0.0500</th>\n      <th>0.5000</th>\n      <th>0.6500</th>\n      <th>0.7500</th>\n      <th>0.8500</th>\n      <th>0.9000</th>\n      <th>0.9825</th>\n      <th>0.9900</th>\n    </tr>\n  </thead>\n  <tbody>\n    <tr>\n      <th>odometer</th>\n      <td>5.878</td>\n      <td>10.519</td>\n      <td>51.922</td>\n      <td>77.2082</td>\n      <td>98.8525</td>\n      <td>124.3126</td>\n      <td>142.5648</td>\n      <td>206.715335</td>\n      <td>226.68594</td>\n    </tr>\n  </tbody>\n</table>\n</div>"
          },
          "metadata": {}
        }
      ]
    },
    {
      "cell_type": "markdown",
      "source": [
        "Лишь менее 2 процентов автомобилей имеют пробег более 200 тыс., это очень редкие значения, но учитывая что не можем их удалить, мы оставим эти данные.\n",
        "\n",
        "Пробег менее 5 тыс километров так же редко встречается, и  это вполне логичное явление для автомобилей, со свежим сроком выпуска."
      ],
      "metadata": {
        "id": "bzZ6kjsUS1Cl"
      }
    },
    {
      "cell_type": "code",
      "source": [
        "train.boxplot(column=['odometer'], figsize=(12, 2),\n",
        "             vert=False,\n",
        "            patch_artist=True,\n",
        "            boxprops=dict(facecolor='lightblue'),\n",
        "            whiskerprops=dict(color='gray'),\n",
        "            medianprops=dict(color='darkblue'),\n",
        "            capprops=dict(color='gray')).set_title('Boxplot of odometer', fontsize=14);"
      ],
      "metadata": {
        "execution": {
          "iopub.status.busy": "2023-06-03T18:30:14.841374Z",
          "iopub.execute_input": "2023-06-03T18:30:14.841795Z",
          "iopub.status.idle": "2023-06-03T18:30:15.729899Z",
          "shell.execute_reply.started": "2023-06-03T18:30:14.841762Z",
          "shell.execute_reply": "2023-06-03T18:30:15.729016Z"
        },
        "trusted": true,
        "id": "3gZz0W85S1Cm",
        "outputId": "aa84f039-ae42-47af-bfa5-f426bc5ab349"
      },
      "execution_count": null,
      "outputs": [
        {
          "output_type": "display_data",
          "data": {
            "text/plain": "<Figure size 1200x200 with 1 Axes>",
            "image/png": "[encoded data removed]"
          },
          "metadata": {}
        }
      ]
    },
    {
      "cell_type": "code",
      "source": [
        "#заполним пропуски заглушкой\n",
        "train['odometer'].fillna(-999, inplace=True)\n",
        "test['odometer'].fillna(-999, inplace=True)\n",
        "print ('Количество пропущенных значений в odometer:')\n",
        "print ('train', train['odometer'].isna().sum())\n",
        "print ('test',test['odometer'].isna().sum())"
      ],
      "metadata": {
        "execution": {
          "iopub.status.busy": "2023-06-03T18:30:15.731480Z",
          "iopub.execute_input": "2023-06-03T18:30:15.732091Z",
          "iopub.status.idle": "2023-06-03T18:30:15.742543Z",
          "shell.execute_reply.started": "2023-06-03T18:30:15.732055Z",
          "shell.execute_reply": "2023-06-03T18:30:15.741526Z"
        },
        "trusted": true,
        "id": "GDo1Oz6GS1Cm",
        "outputId": "f8128ab4-7ce0-456a-d096-c543eb58c1b4"
      },
      "execution_count": null,
      "outputs": [
        {
          "name": "stdout",
          "text": "Количество пропущенных значений в odometer:\ntrain 0\ntest 0\n",
          "output_type": "stream"
        }
      ]
    },
    {
      "cell_type": "markdown",
      "source": [
        "**Проанализируем категориальные признаки**"
      ],
      "metadata": {
        "id": "1E7qRDaaS1Cm"
      }
    },
    {
      "cell_type": "code",
      "source": [
        "train[cat_features].head(10)"
      ],
      "metadata": {
        "execution": {
          "iopub.status.busy": "2023-06-03T18:30:15.743714Z",
          "iopub.execute_input": "2023-06-03T18:30:15.744425Z",
          "iopub.status.idle": "2023-06-03T18:30:15.789720Z",
          "shell.execute_reply.started": "2023-06-03T18:30:15.744393Z",
          "shell.execute_reply": "2023-06-03T18:30:15.788841Z"
        },
        "trusted": true,
        "id": "a3MWK3IpS1Cm",
        "outputId": "e527eb14-938e-4c90-ffeb-393cc40ad543"
      },
      "execution_count": null,
      "outputs": [
        {
          "execution_count": 77,
          "output_type": "execute_result",
          "data": {
            "text/plain": "      make      model     trim     body transmission state   color interior  \\\n0     Ford       Edge      SEL      suv    automatic    md   black    black   \n1     Ford     Fusion       SE    Sedan    automatic    mo   black    black   \n2   Nissan     Sentra   2.0 SL    sedan    automatic    nj   black    black   \n3   HUMMER         H2     Base      suv    automatic    tx    gold    beige   \n4     Ford     Fusion      SEL    Sedan    automatic    md   black    black   \n5  Lincoln        MKZ     Base    Sedan    automatic    mi   black    black   \n6  pontiac         g6       4c  no_info    automatic    nc  silver    black   \n7     Ford     Escape       SE      SUV    automatic    fl    blue     gray   \n8  Hyundai    Elantra      GLS    Sedan    automatic    oh   black      tan   \n9     Ford  Freestyle  Limited    wagon    automatic    oh   black      tan   \n\n                          seller  \n0             santander consumer  \n1          ars/avis budget group  \n2             nissan-infiniti lt  \n3     wichita falls ford lin inc  \n4                   purple heart  \n5  ford motor credit company,llc  \n6         north state acceptance  \n7                     fields bmw  \n8                   dt inventory  \n9    wells fargo dealer services  ",
            "text/html": "<div>\n<style scoped>\n    .dataframe tbody tr th:only-of-type {\n        vertical-align: middle;\n    }\n\n    .dataframe tbody tr th {\n        vertical-align: top;\n    }\n\n    .dataframe thead th {\n        text-align: right;\n    }\n</style>\n<table border=\"1\" class=\"dataframe\">\n  <thead>\n    <tr style=\"text-align: right;\">\n      <th></th>\n      <th>make</th>\n      <th>model</th>\n      <th>trim</th>\n      <th>body</th>\n      <th>transmission</th>\n      <th>state</th>\n      <th>color</th>\n      <th>interior</th>\n      <th>seller</th>\n    </tr>\n  </thead>\n  <tbody>\n    <tr>\n      <th>0</th>\n      <td>Ford</td>\n      <td>Edge</td>\n      <td>SEL</td>\n      <td>suv</td>\n      <td>automatic</td>\n      <td>md</td>\n      <td>black</td>\n      <td>black</td>\n      <td>santander consumer</td>\n    </tr>\n    <tr>\n      <th>1</th>\n      <td>Ford</td>\n      <td>Fusion</td>\n      <td>SE</td>\n      <td>Sedan</td>\n      <td>automatic</td>\n      <td>mo</td>\n      <td>black</td>\n      <td>black</td>\n      <td>ars/avis budget group</td>\n    </tr>\n    <tr>\n      <th>2</th>\n      <td>Nissan</td>\n      <td>Sentra</td>\n      <td>2.0 SL</td>\n      <td>sedan</td>\n      <td>automatic</td>\n      <td>nj</td>\n      <td>black</td>\n      <td>black</td>\n      <td>nissan-infiniti lt</td>\n    </tr>\n    <tr>\n      <th>3</th>\n      <td>HUMMER</td>\n      <td>H2</td>\n      <td>Base</td>\n      <td>suv</td>\n      <td>automatic</td>\n      <td>tx</td>\n      <td>gold</td>\n      <td>beige</td>\n      <td>wichita falls ford lin inc</td>\n    </tr>\n    <tr>\n      <th>4</th>\n      <td>Ford</td>\n      <td>Fusion</td>\n      <td>SEL</td>\n      <td>Sedan</td>\n      <td>automatic</td>\n      <td>md</td>\n      <td>black</td>\n      <td>black</td>\n      <td>purple heart</td>\n    </tr>\n    <tr>\n      <th>5</th>\n      <td>Lincoln</td>\n      <td>MKZ</td>\n      <td>Base</td>\n      <td>Sedan</td>\n      <td>automatic</td>\n      <td>mi</td>\n      <td>black</td>\n      <td>black</td>\n      <td>ford motor credit company,llc</td>\n    </tr>\n    <tr>\n      <th>6</th>\n      <td>pontiac</td>\n      <td>g6</td>\n      <td>4c</td>\n      <td>no_info</td>\n      <td>automatic</td>\n      <td>nc</td>\n      <td>silver</td>\n      <td>black</td>\n      <td>north state acceptance</td>\n    </tr>\n    <tr>\n      <th>7</th>\n      <td>Ford</td>\n      <td>Escape</td>\n      <td>SE</td>\n      <td>SUV</td>\n      <td>automatic</td>\n      <td>fl</td>\n      <td>blue</td>\n      <td>gray</td>\n      <td>fields bmw</td>\n    </tr>\n    <tr>\n      <th>8</th>\n      <td>Hyundai</td>\n      <td>Elantra</td>\n      <td>GLS</td>\n      <td>Sedan</td>\n      <td>automatic</td>\n      <td>oh</td>\n      <td>black</td>\n      <td>tan</td>\n      <td>dt inventory</td>\n    </tr>\n    <tr>\n      <th>9</th>\n      <td>Ford</td>\n      <td>Freestyle</td>\n      <td>Limited</td>\n      <td>wagon</td>\n      <td>automatic</td>\n      <td>oh</td>\n      <td>black</td>\n      <td>tan</td>\n      <td>wells fargo dealer services</td>\n    </tr>\n  </tbody>\n</table>\n</div>"
          },
          "metadata": {}
        }
      ]
    },
    {
      "cell_type": "markdown",
      "source": [
        "В категориальных признаках мы видим следующие проблемы:\n",
        "- разный регистр;\n",
        "- пробелы;\n",
        "- разные знаки внутри слов;\n",
        "- цифры написаны слитно со словами.\n"
      ],
      "metadata": {
        "id": "MJucc4ZdS1Cm"
      }
    },
    {
      "cell_type": "code",
      "source": [
        "for column in cat_features:\n",
        "    print (column, train[column].nunique())\n",
        "    print ()"
      ],
      "metadata": {
        "execution": {
          "iopub.status.busy": "2023-06-03T18:30:15.791275Z",
          "iopub.execute_input": "2023-06-03T18:30:15.791649Z",
          "iopub.status.idle": "2023-06-03T18:30:16.103879Z",
          "shell.execute_reply.started": "2023-06-03T18:30:15.791616Z",
          "shell.execute_reply": "2023-06-03T18:30:16.102843Z"
        },
        "trusted": true,
        "id": "sw60sOOHS1Cm",
        "outputId": "4b416b33-6d6a-4c6a-e132-e142990d1378"
      },
      "execution_count": null,
      "outputs": [
        {
          "name": "stdout",
          "text": "make 93\n\nmodel 960\n\ntrim 1923\n\nbody 86\n\ntransmission 3\n\nstate 38\n\ncolor 21\n\ninterior 18\n\nseller 13025\n\n",
          "output_type": "stream"
        }
      ]
    },
    {
      "cell_type": "code",
      "source": [
        "for column in cat_features:\n",
        "    print (column, test[column].nunique())\n",
        "    print ()"
      ],
      "metadata": {
        "execution": {
          "iopub.status.busy": "2023-06-03T18:30:16.105265Z",
          "iopub.execute_input": "2023-06-03T18:30:16.105693Z",
          "iopub.status.idle": "2023-06-03T18:30:16.187848Z",
          "shell.execute_reply.started": "2023-06-03T18:30:16.105658Z",
          "shell.execute_reply": "2023-06-03T18:30:16.186879Z"
        },
        "trusted": true,
        "id": "jtSulhP5S1Cm",
        "outputId": "0ef9bc45-cba1-4fc9-ad22-04f1860d05c6"
      },
      "execution_count": null,
      "outputs": [
        {
          "name": "stdout",
          "text": "make 86\n\nmodel 825\n\ntrim 1497\n\nbody 78\n\ntransmission 3\n\nstate 38\n\ncolor 21\n\ninterior 18\n\nseller 7623\n\n",
          "output_type": "stream"
        }
      ]
    },
    {
      "cell_type": "code",
      "source": [
        "def transform_values(df):\n",
        "    # заменяем пробелы на underscore\n",
        "    df = df.applymap(lambda x: x.replace(' ', '_') if isinstance(x, str) else x)\n",
        "\n",
        "    # заменяем дефис на underscore\n",
        "    df = df.applymap(lambda x: x.replace('-', '_') if isinstance(x, str) else x)\n",
        "\n",
        "    # добавляем underscore между словом и цислом\n",
        "    df = df.applymap(lambda x: '_'.join(part for part in x.split() if not part.isdigit()) if isinstance(x, str) else x)\n",
        "    # приводим к строчному регистру\n",
        "    df = df.applymap(lambda x: x.lower() if isinstance(x, str) else x)\n",
        "\n",
        "    return df"
      ],
      "metadata": {
        "execution": {
          "iopub.status.busy": "2023-06-03T18:30:16.189273Z",
          "iopub.execute_input": "2023-06-03T18:30:16.189605Z",
          "iopub.status.idle": "2023-06-03T18:30:16.196766Z",
          "shell.execute_reply.started": "2023-06-03T18:30:16.189573Z",
          "shell.execute_reply": "2023-06-03T18:30:16.195615Z"
        },
        "trusted": true,
        "id": "xPHgTmlHS1Cm"
      },
      "execution_count": null,
      "outputs": []
    },
    {
      "cell_type": "code",
      "source": [
        "train = transform_values(train)\n",
        "train.head()"
      ],
      "metadata": {
        "execution": {
          "iopub.status.busy": "2023-06-03T18:30:16.198436Z",
          "iopub.execute_input": "2023-06-03T18:30:16.198882Z",
          "iopub.status.idle": "2023-06-03T18:30:33.399562Z",
          "shell.execute_reply.started": "2023-06-03T18:30:16.198852Z",
          "shell.execute_reply": "2023-06-03T18:30:33.398618Z"
        },
        "trusted": true,
        "id": "vxsQcmqrS1Cm",
        "outputId": "6fb06670-a517-4114-8783-2b261c44026f"
      },
      "execution_count": null,
      "outputs": [
        {
          "execution_count": 81,
          "output_type": "execute_result",
          "data": {
            "text/plain": "   year    make   model    trim   body transmission state  condition  \\\n0  2011    ford    edge     sel    suv    automatic    md        4.2   \n1  2014    ford  fusion      se  sedan    automatic    mo        3.5   \n2  2012  nissan  sentra  2.0_sl  sedan    automatic    nj        2.2   \n3  2003  hummer      h2    base    suv    automatic    tx        2.8   \n4  2007    ford  fusion     sel  sedan    automatic    md        2.0   \n\n   odometer  color interior                      seller  sellingprice  \\\n0   111.041  black    black          santander_consumer         12500   \n1    31.034  black    black       ars/avis_budget_group         14500   \n2    35.619  black    black          nissan_infiniti_lt          9100   \n3   131.301   gold    beige  wichita_falls_ford_lin_inc         13300   \n4   127.709  black    black                purple_heart          1300   \n\n   sale_year  sale_month  \n0       2015           6  \n1       2015           2  \n2       2015           6  \n3       2015           6  \n4       2015           2  ",
            "text/html": "<div>\n<style scoped>\n    .dataframe tbody tr th:only-of-type {\n        vertical-align: middle;\n    }\n\n    .dataframe tbody tr th {\n        vertical-align: top;\n    }\n\n    .dataframe thead th {\n        text-align: right;\n    }\n</style>\n<table border=\"1\" class=\"dataframe\">\n  <thead>\n    <tr style=\"text-align: right;\">\n      <th></th>\n      <th>year</th>\n      <th>make</th>\n      <th>model</th>\n      <th>trim</th>\n      <th>body</th>\n      <th>transmission</th>\n      <th>state</th>\n      <th>condition</th>\n      <th>odometer</th>\n      <th>color</th>\n      <th>interior</th>\n      <th>seller</th>\n      <th>sellingprice</th>\n      <th>sale_year</th>\n      <th>sale_month</th>\n    </tr>\n  </thead>\n  <tbody>\n    <tr>\n      <th>0</th>\n      <td>2011</td>\n      <td>ford</td>\n      <td>edge</td>\n      <td>sel</td>\n      <td>suv</td>\n      <td>automatic</td>\n      <td>md</td>\n      <td>4.2</td>\n      <td>111.041</td>\n      <td>black</td>\n      <td>black</td>\n      <td>santander_consumer</td>\n      <td>12500</td>\n      <td>2015</td>\n      <td>6</td>\n    </tr>\n    <tr>\n      <th>1</th>\n      <td>2014</td>\n      <td>ford</td>\n      <td>fusion</td>\n      <td>se</td>\n      <td>sedan</td>\n      <td>automatic</td>\n      <td>mo</td>\n      <td>3.5</td>\n      <td>31.034</td>\n      <td>black</td>\n      <td>black</td>\n      <td>ars/avis_budget_group</td>\n      <td>14500</td>\n      <td>2015</td>\n      <td>2</td>\n    </tr>\n    <tr>\n      <th>2</th>\n      <td>2012</td>\n      <td>nissan</td>\n      <td>sentra</td>\n      <td>2.0_sl</td>\n      <td>sedan</td>\n      <td>automatic</td>\n      <td>nj</td>\n      <td>2.2</td>\n      <td>35.619</td>\n      <td>black</td>\n      <td>black</td>\n      <td>nissan_infiniti_lt</td>\n      <td>9100</td>\n      <td>2015</td>\n      <td>6</td>\n    </tr>\n    <tr>\n      <th>3</th>\n      <td>2003</td>\n      <td>hummer</td>\n      <td>h2</td>\n      <td>base</td>\n      <td>suv</td>\n      <td>automatic</td>\n      <td>tx</td>\n      <td>2.8</td>\n      <td>131.301</td>\n      <td>gold</td>\n      <td>beige</td>\n      <td>wichita_falls_ford_lin_inc</td>\n      <td>13300</td>\n      <td>2015</td>\n      <td>6</td>\n    </tr>\n    <tr>\n      <th>4</th>\n      <td>2007</td>\n      <td>ford</td>\n      <td>fusion</td>\n      <td>sel</td>\n      <td>sedan</td>\n      <td>automatic</td>\n      <td>md</td>\n      <td>2.0</td>\n      <td>127.709</td>\n      <td>black</td>\n      <td>black</td>\n      <td>purple_heart</td>\n      <td>1300</td>\n      <td>2015</td>\n      <td>2</td>\n    </tr>\n  </tbody>\n</table>\n</div>"
          },
          "metadata": {}
        }
      ]
    },
    {
      "cell_type": "code",
      "source": [
        "for column in cat_features:\n",
        "    print (column, train[column].nunique())\n",
        "    print ()"
      ],
      "metadata": {
        "execution": {
          "iopub.status.busy": "2023-06-03T18:30:33.401152Z",
          "iopub.execute_input": "2023-06-03T18:30:33.401552Z",
          "iopub.status.idle": "2023-06-03T18:30:33.740497Z",
          "shell.execute_reply.started": "2023-06-03T18:30:33.401517Z",
          "shell.execute_reply": "2023-06-03T18:30:33.739434Z"
        },
        "trusted": true,
        "id": "r-uD1giES1Cm",
        "outputId": "c2e4e02d-0fb1-430c-b904-c255aae16e70"
      },
      "execution_count": null,
      "outputs": [
        {
          "name": "stdout",
          "text": "make 63\n\nmodel 827\n\ntrim 1832\n\nbody 45\n\ntransmission 3\n\nstate 38\n\ncolor 21\n\ninterior 18\n\nseller 13018\n\n",
          "output_type": "stream"
        }
      ]
    },
    {
      "cell_type": "code",
      "source": [
        "test = transform_values(test)\n",
        "test.head()"
      ],
      "metadata": {
        "execution": {
          "iopub.status.busy": "2023-06-03T18:30:33.741881Z",
          "iopub.execute_input": "2023-06-03T18:30:33.742647Z",
          "iopub.status.idle": "2023-06-03T18:30:37.493809Z",
          "shell.execute_reply.started": "2023-06-03T18:30:33.742613Z",
          "shell.execute_reply": "2023-06-03T18:30:37.492883Z"
        },
        "trusted": true,
        "id": "wNv1TyfJS1Cm",
        "outputId": "2b24d59b-9035-4ca2-f3b0-7dee46dd7ef7"
      },
      "execution_count": null,
      "outputs": [
        {
          "execution_count": 83,
          "output_type": "execute_result",
          "data": {
            "text/plain": "   year       make         model      trim      body transmission state  \\\n0  2005   cadillac           cts      base     sedan    automatic    ca   \n1  2014        gmc  savana_cargo                 van      no_info    pa   \n2  2013     nissan        murano         s       suv    automatic    oh   \n3  2013  chevrolet        impala  ls_fleet     sedan    automatic    fl   \n4  2013     nissan         titan        sv  crew_cab    automatic    tn   \n\n   condition  odometer   color interior  \\\n0        2.7   116.970  silver    black   \n1        4.4     6.286   white     gray   \n2        4.6    11.831    gray    black   \n3        2.3    57.105  silver    black   \n4        2.9    31.083   black    black   \n\n                                             seller  sale_year  sale_month  \n0                            lexus_of_stevens_creek       2015           1  \n1                                            u_haul       2015           2  \n2                                nissan_infiniti_lt       2015           2  \n3  onemain_rem/auto_club_of_miami_inc_dba_north_dad       2015           3  \n4                         nissan_north_america_inc.       2015           6  ",
            "text/html": "<div>\n<style scoped>\n    .dataframe tbody tr th:only-of-type {\n        vertical-align: middle;\n    }\n\n    .dataframe tbody tr th {\n        vertical-align: top;\n    }\n\n    .dataframe thead th {\n        text-align: right;\n    }\n</style>\n<table border=\"1\" class=\"dataframe\">\n  <thead>\n    <tr style=\"text-align: right;\">\n      <th></th>\n      <th>year</th>\n      <th>make</th>\n      <th>model</th>\n      <th>trim</th>\n      <th>body</th>\n      <th>transmission</th>\n      <th>state</th>\n      <th>condition</th>\n      <th>odometer</th>\n      <th>color</th>\n      <th>interior</th>\n      <th>seller</th>\n      <th>sale_year</th>\n      <th>sale_month</th>\n    </tr>\n  </thead>\n  <tbody>\n    <tr>\n      <th>0</th>\n      <td>2005</td>\n      <td>cadillac</td>\n      <td>cts</td>\n      <td>base</td>\n      <td>sedan</td>\n      <td>automatic</td>\n      <td>ca</td>\n      <td>2.7</td>\n      <td>116.970</td>\n      <td>silver</td>\n      <td>black</td>\n      <td>lexus_of_stevens_creek</td>\n      <td>2015</td>\n      <td>1</td>\n    </tr>\n    <tr>\n      <th>1</th>\n      <td>2014</td>\n      <td>gmc</td>\n      <td>savana_cargo</td>\n      <td></td>\n      <td>van</td>\n      <td>no_info</td>\n      <td>pa</td>\n      <td>4.4</td>\n      <td>6.286</td>\n      <td>white</td>\n      <td>gray</td>\n      <td>u_haul</td>\n      <td>2015</td>\n      <td>2</td>\n    </tr>\n    <tr>\n      <th>2</th>\n      <td>2013</td>\n      <td>nissan</td>\n      <td>murano</td>\n      <td>s</td>\n      <td>suv</td>\n      <td>automatic</td>\n      <td>oh</td>\n      <td>4.6</td>\n      <td>11.831</td>\n      <td>gray</td>\n      <td>black</td>\n      <td>nissan_infiniti_lt</td>\n      <td>2015</td>\n      <td>2</td>\n    </tr>\n    <tr>\n      <th>3</th>\n      <td>2013</td>\n      <td>chevrolet</td>\n      <td>impala</td>\n      <td>ls_fleet</td>\n      <td>sedan</td>\n      <td>automatic</td>\n      <td>fl</td>\n      <td>2.3</td>\n      <td>57.105</td>\n      <td>silver</td>\n      <td>black</td>\n      <td>onemain_rem/auto_club_of_miami_inc_dba_north_dad</td>\n      <td>2015</td>\n      <td>3</td>\n    </tr>\n    <tr>\n      <th>4</th>\n      <td>2013</td>\n      <td>nissan</td>\n      <td>titan</td>\n      <td>sv</td>\n      <td>crew_cab</td>\n      <td>automatic</td>\n      <td>tn</td>\n      <td>2.9</td>\n      <td>31.083</td>\n      <td>black</td>\n      <td>black</td>\n      <td>nissan_north_america_inc.</td>\n      <td>2015</td>\n      <td>6</td>\n    </tr>\n  </tbody>\n</table>\n</div>"
          },
          "metadata": {}
        }
      ]
    },
    {
      "cell_type": "code",
      "source": [
        "for column in cat_features:\n",
        "    print (column, test[column].nunique())\n",
        "    print ()"
      ],
      "metadata": {
        "execution": {
          "iopub.status.busy": "2023-06-03T18:30:37.495288Z",
          "iopub.execute_input": "2023-06-03T18:30:37.495865Z",
          "iopub.status.idle": "2023-06-03T18:30:37.587120Z",
          "shell.execute_reply.started": "2023-06-03T18:30:37.495829Z",
          "shell.execute_reply": "2023-06-03T18:30:37.586036Z"
        },
        "trusted": true,
        "id": "-8APWlmzS1Cm",
        "outputId": "61df56ba-9982-4edc-8bc4-41f5f07a63fe"
      },
      "execution_count": null,
      "outputs": [
        {
          "name": "stdout",
          "text": "make 59\n\nmodel 734\n\ntrim 1446\n\nbody 42\n\ntransmission 3\n\nstate 38\n\ncolor 21\n\ninterior 18\n\nseller 7619\n\n",
          "output_type": "stream"
        }
      ]
    },
    {
      "cell_type": "code",
      "source": [
        "train['make'].nunique()"
      ],
      "metadata": {
        "execution": {
          "iopub.status.busy": "2023-06-03T18:30:37.588692Z",
          "iopub.execute_input": "2023-06-03T18:30:37.589039Z",
          "iopub.status.idle": "2023-06-03T18:30:37.633595Z",
          "shell.execute_reply.started": "2023-06-03T18:30:37.589007Z",
          "shell.execute_reply": "2023-06-03T18:30:37.632592Z"
        },
        "trusted": true,
        "id": "zvAoziJJS1Cm",
        "outputId": "fd8766c3-e1d0-457f-9406-12d4297ba7f1"
      },
      "execution_count": null,
      "outputs": [
        {
          "execution_count": 85,
          "output_type": "execute_result",
          "data": {
            "text/plain": "63"
          },
          "metadata": {}
        }
      ]
    },
    {
      "cell_type": "code",
      "source": [
        "train['make'] = train['make'].replace({'mercedes_benz': 'mercedes',\n",
        "                                       'mercedes_b': 'mercedes',\n",
        "                                       'vw': 'volkswagen',\n",
        "                                      'land_rover':'landrover',\n",
        "                                      'ford_truck':'ford',\n",
        "                                      'mazda_tk':'mazda',\n",
        "                                      'dodge_tk':'dodge',\n",
        "                                      'gmc_truck':'gmc',\n",
        "                                      'hyundai_tk':'hyundai',\n",
        "                                     'ford_tk':'ford'})\n",
        "print (train['make'].nunique())"
      ],
      "metadata": {
        "execution": {
          "iopub.status.busy": "2023-06-03T18:30:37.646496Z",
          "iopub.execute_input": "2023-06-03T18:30:37.646763Z",
          "iopub.status.idle": "2023-06-03T18:30:37.982194Z",
          "shell.execute_reply.started": "2023-06-03T18:30:37.646739Z",
          "shell.execute_reply": "2023-06-03T18:30:37.981195Z"
        },
        "trusted": true,
        "id": "2AJYlaRwS1Cm",
        "outputId": "714d37f8-9132-4c0f-be36-212f4341dd90"
      },
      "execution_count": null,
      "outputs": [
        {
          "name": "stdout",
          "text": "55\n",
          "output_type": "stream"
        }
      ]
    },
    {
      "cell_type": "code",
      "source": [
        "test['make'].nunique()"
      ],
      "metadata": {
        "execution": {
          "iopub.status.busy": "2023-06-03T18:30:37.983697Z",
          "iopub.execute_input": "2023-06-03T18:30:37.984121Z",
          "iopub.status.idle": "2023-06-03T18:30:38.001333Z",
          "shell.execute_reply.started": "2023-06-03T18:30:37.984083Z",
          "shell.execute_reply": "2023-06-03T18:30:38.000145Z"
        },
        "trusted": true,
        "id": "VxY5Q4y4S1Cm",
        "outputId": "81a7196a-d22d-4f3e-bed5-beb0bb51e50e"
      },
      "execution_count": null,
      "outputs": [
        {
          "execution_count": 87,
          "output_type": "execute_result",
          "data": {
            "text/plain": "59"
          },
          "metadata": {}
        }
      ]
    },
    {
      "cell_type": "code",
      "source": [
        "test['make'] = test['make'].replace({'mercedes_benz': 'mercedes',\n",
        "                                       'mercedes_b': 'mercedes',\n",
        "                                       'vw': 'volkswagen',\n",
        "                                      'land_rover':'landrover',\n",
        "                                      'ford_truck':'ford',\n",
        "                                      'mazda_tk':'mazda',\n",
        "                                      'dodge_tk':'dodge',\n",
        "                                      'gmc_truck':'gmc',\n",
        "                                      'hyundai_tk':'hyundai',\n",
        "                                     'ford_tk':'ford'})\n",
        "print (test['make'].nunique())"
      ],
      "metadata": {
        "execution": {
          "iopub.status.busy": "2023-06-03T18:30:38.002829Z",
          "iopub.execute_input": "2023-06-03T18:30:38.003402Z",
          "iopub.status.idle": "2023-06-03T18:30:38.092608Z",
          "shell.execute_reply.started": "2023-06-03T18:30:38.003370Z",
          "shell.execute_reply": "2023-06-03T18:30:38.091614Z"
        },
        "trusted": true,
        "id": "-g9PsTfLS1Cm",
        "outputId": "5268d711-245d-4307-8604-87db853b10bd"
      },
      "execution_count": null,
      "outputs": [
        {
          "name": "stdout",
          "text": "54\n",
          "output_type": "stream"
        }
      ]
    },
    {
      "cell_type": "markdown",
      "source": [
        "**Посмотрим какие модели встречаются чаще всего**"
      ],
      "metadata": {
        "id": "OS5bG2zZS1Cm"
      }
    },
    {
      "cell_type": "code",
      "source": [
        "plt.figure(figsize=(9,4))\n",
        "train['make'].value_counts().nlargest(20).plot(kind='barh', color = 'pink')\n",
        "plt.xlabel('Частота моделей')\n",
        "plt.title(\"TOП 20 моделей\",fontsize=18)\n",
        "plt.show()"
      ],
      "metadata": {
        "execution": {
          "iopub.status.busy": "2023-06-03T18:30:38.093880Z",
          "iopub.execute_input": "2023-06-03T18:30:38.094385Z",
          "iopub.status.idle": "2023-06-03T18:30:38.522149Z",
          "shell.execute_reply.started": "2023-06-03T18:30:38.094351Z",
          "shell.execute_reply": "2023-06-03T18:30:38.521080Z"
        },
        "trusted": true,
        "id": "JfdqOcwXS1Cn",
        "outputId": "cf065e25-caed-46fe-f394-9cbab7471b87"
      },
      "execution_count": null,
      "outputs": [
        {
          "output_type": "display_data",
          "data": {
            "text/plain": "<Figure size 900x400 with 1 Axes>",
            "image/png": "[encoded data removed]"
          },
          "metadata": {}
        }
      ]
    },
    {
      "cell_type": "markdown",
      "source": [
        "Почистим от неявных дубликатов самые распространенные марки."
      ],
      "metadata": {
        "id": "lwxs-WrSS1Cn"
      }
    },
    {
      "cell_type": "code",
      "source": [
        "for make in train['make'].unique():\n",
        "    print(make,\n",
        "          train.loc[train['make']==make, 'model'].nunique(),\n",
        "          train.loc[train['make']==make, 'model'].unique())\n",
        "    print()"
      ],
      "metadata": {
        "execution": {
          "iopub.status.busy": "2023-06-03T18:30:38.523607Z",
          "iopub.execute_input": "2023-06-03T18:30:38.523954Z",
          "iopub.status.idle": "2023-06-03T18:30:44.999586Z",
          "shell.execute_reply.started": "2023-06-03T18:30:38.523920Z",
          "shell.execute_reply": "2023-06-03T18:30:44.998616Z"
        },
        "trusted": true,
        "id": "g9Eqxwi0S1Cn",
        "outputId": "14a01dff-f9b9-49ab-e906-d5db4d07ee57"
      },
      "execution_count": null,
      "outputs": [
        {
          "name": "stdout",
          "text": "ford 64 ['edge' 'fusion' 'escape' 'freestyle' 'windstar' 'taurus' 'explorer'\n 'f_150' 'flex' 'mustang' 'expedition' 'five_hundred' 'e_series_van'\n 'focus' 'fusion_hybrid' 'explorer_sport_trac' 'f_250_super_duty' 'ranger'\n 'fiesta' 'f_350_super_duty' 'f150' 'crown_victoria' 'e_series_wagon'\n 'freestar' 'transit_connect' 'econoline_cargo' 'f_450_super_duty'\n 'expedition_el' 'escort' 'c_max_hybrid' 'c_max_energi' 'escape_hybrid'\n 'shelby_gt500' 'explorer_sport' 'taurus_x' 'expeditn' 'excursion'\n 'econoline_wagon' 'fusion_energi' 'mustang_svt_cobra' 'f_150_heritage'\n 'police' 'focus_st' 'thunderbird' 'e350' 'e150' 'excurs' 'e'\n 'transit_van' 'crown' 'contour' 'e_250' 'e_150' 'transit_wagon' 'e250'\n 'f250' 'windstar_cargo' 'f_150_svt_lightning' 'f350' 'expedit' 'tempo'\n 'e_350' 'aspire' 'f_250']\n\nnissan 31 ['sentra' 'murano' 'armada' 'altima' 'rogue' 'maxima' 'versa' 'pathfinder'\n 'cube' 'rogue_select' 'frontier' '370z' 'quest' 'leaf' 'titan' 'xterra'\n 'nv_cargo' 'juke' 'altima_hybrid' '350z' 'versa_note' 'gt_r' '300zx'\n 'x_trail' 'murano_crosscabriolet' 'nv' 'truck' 'nv200' '200sx'\n 'nv_passenger' 'pathfind']\n\nhummer 5 ['h2' 'h3' 'h2_sut' 'h3t' 'h1']\n\nlincoln 17 ['mkz' 'mks' 'town_car' 'mkx' 'navigator' 'ls' 'town' 'zephyr' 'aviator'\n 'continental' 'mkt' 'mark_viii' 'navigator_l' 'mark_lt' 'mkc'\n 'mkz_hybrid' 'blackwood']\n\npontiac 19 ['g6' 'g5' 'torrent' 'grand_prix' 'vibe' 'grand_am' 'bonneville'\n 'solstice' 'sunfire' 'firebird' 'g8' 'montana' 'montana_sv6' 'gto'\n 'aztek' 'g3' 'grand' 'pursuit' 'wave']\n\nhyundai 21 ['elantra' 'sonata' 'accent' 'veloster' 'tiburon' 'sonata_hybrid' 'tucson'\n 'elantra_touring' 'santa_fe' 'elantra_coupe' 'santa' 'genesis'\n 'santa_fe_sport' 'genesis_coupe' 'elantra_gt' 'azera' 'entourage'\n 'veracruz' 'equus' 'xg350' 'xg300']\n\nno_info 1 ['no_info']\n\nbuick 14 ['lucerne' 'rendezvous' 'regal' 'lacrosse' 'century' 'enclave' 'lesabre'\n 'verano' 'rainier' 'encore' 'park_avenue' 'terraza' 'roadmaster'\n 'riviera']\n\nchevrolet 70 ['silverado_1500' 'equinox' 'tahoe' 'malibu' 'impala' 'hhr' 'suburban'\n 'colorado' 'spark' 'venture' 'traverse' 'silverado_2500hd' 'camaro'\n 'cruze' 'express_cargo' 'avalanche' 'corvette' 'aveo' 'trailblazer'\n 'silverado_3500hd' 'uplander' 'impala_limited' 'sonic' 'cobalt' 's_10'\n 'prizm' 'cavalier' 'astro' 'volt' 'lumina' 'silverado_1500_classic'\n 'captiva_sport' 'express' 'malibu_classic' 'caprice' 'monte_carlo'\n 'trailblazer_ext' 'malibu_maxx' 'blazer' 'tracker' 'corvette_stingray'\n 'silverado_3500' 'silverado_2500hd_classic' 'classic' 'malibu_hybrid' ''\n 'ssr' 'silverado_1500hd' 'c/k_3500_series' 'astro_cargo' 'silverado_2500'\n 'tahoe_hybrid' 'g3500' 'c/k_1500_series' 'tahoe_limited/z71'\n 'black_diamond_avalanche' 'comm' 's10' 's_10_blazer' 'g1500'\n 'silverado_1500_hybrid' 'silverado_3500_classic' 'g2500' 'corsica'\n 'optra' 'capt' 'ss' 'uplandr' 'c/k_2500_series' 'spark_ev']\n\nhonda 18 ['accord' 'civic' 'odyssey' 'cr_v' 'pilot' 'insight' 'fit' 'element'\n 'crosstour' 'accord_crosstour' 'ridgeline' 'ridgelin' 'cr_z' 'passport'\n 's2000' 'prelude' 'accord_hybrid' 'civic_del_sol']\n\nacura 14 ['mdx' 'tl' 'tsx_sport_wagon' 'tsx' 'rsx' 'rl' 'cl' 'ilx' 'rdx' 'integra'\n 'zdx' 'rlx' 'legend' 'el']\n\ncadillac 23 ['cts' 'srx' 'escalade' 'cts_coupe' 'deville' 'dts' 'escalade_esv' 'sts'\n 'ats' 'escalade_ext' 'escalade_hybrid' 'xts' 'elr' 'seville'\n 'cts_v_coupe' 'cts_wagon' 'cts_v' 'eldorado' 'catera' 'sts_v' 'xlr'\n 'fleetwood' 'cts_v_wagon']\n\ngmc 30 ['yukon' 'envoy_xl' 'envoy' 'savana_cargo' 'sierra_1500' 'terrain'\n 'acadia' 'sierra_2500hd' 'yukon_xl' 'sonoma' 'sierra_3500hd' 'jimmy'\n 'canyon' 'sierra_1500_classic' 'suburban' 'envoy_xuv' 'yukon_hybrid' 'sr'\n 'sierra_2500hd_classic' 'sierra_3500' 'savana' '' 'sierra_1500_hybrid'\n 'safari_cargo' 'safari' 'yukon_denali' 'sierra_1500hd' 'sierra_2500'\n 'siera' 'subrbn']\n\nsaab 4 ['9_3' '9_7x' '9_5' '9_2x']\n\ndodge 29 ['charger' 'grand_caravan' 'ram_pickup_1500' 'nitro' 'caliber' 'journey'\n 'avenger' 'challenger' 'magnum' 'durango' 'dart' 'dakota' 'neon' 'grand'\n 'ram_pickup_2500' 'caravan' 'intrepid' 'stratus' 'ram_pickup_3500'\n 'sprinter_cargo' 'ram3500' 'gr' 'sprinter' 'viper' 'ram' 'ram_van'\n 'b1500' 'ram_cargo' 'spirit']\n\nmercedes 37 ['gl_class' 'e_class' 'e300dt' 'sl_class' 'r_class' 'm_class' 'c_class'\n 'c230wz' 'slk_class' 'cls_class' 's_class' 'glk_class' 'sprinter'\n 'clk_class' 'g_class' 'cl_class' 'cla_class' 'c240w' '500_class' 'g55'\n 'gla_class' '300_class' 'cl55' 's55' '420_class' 'b_class_electric_drive'\n 'sl55' 'b200' '400_class' 'ml55_amg' 'sls_amg' '190_class' '300e' 'c230'\n '420sel' 'c240s' 'g500']\n\ntoyota 31 ['avalon' 'camry' 'rav4' 'tacoma' 'sienna' 'corolla' '4runner' 'prius'\n 'camry_hybrid' 'highlander' 'highlander_hybrid' 'land_cruiser' 'matrix'\n 'camry_solara' 'yaris' 'sequoia' 'fj_cruiser' 'tundra' 'venza' 'tercel'\n 'prius_v' 'prius_c' 'echo' 'avalon_hybrid' 'celica' 'prius_plug_in'\n 'mr2_spyder' 'pickup' 'previa' 'paseo' 't100']\n\nvolkswagen 24 ['passat' 'golf' 'beetle' 'jetta' 'touareg' 'jetta_sportwagen' 'tiguan'\n 'new_beetle' 'gti' 'rabbit' 'cc' 'beetle_convertible' 'eos' 'routan'\n 'cabrio' 'jetta_hybrid' 'golf_gti' 'golf_r' 'r32' 'gli' 'jetta_gli'\n 'touareg_2' 'phaeton' 'eurovan']\n\nbmw 41 ['3_series' '5_series' 'no_info' '1_series' '7_series' 'x5' 'm3'\n '5_series_gran_turismo' '6_series' 'x3' 'x6' '4_series' 'z4' 'z3'\n '3_series_gran_turismo' 'm' '4_series_gran_coupe' 'x1' 'm6' 'x6_m' '750i'\n 'm5' 'activehybrid_x6' '6_series_gran_coupe' '2_series' 'x4' 'i8' '750li'\n '320i' 'activehybrid_7' 'm6_gran_coupe' 'm4' 'activehybrid_5' 'x5_m'\n 'alp' '750lxi' 'z4_m' '8_series' '328i' '323i' '']\n\ninfiniti 35 ['q50' 'g_coupe' 'g_convertible' 'g_sedan' 'm' 'i35' 'm45' 'g35' 'fx'\n 'fx35' 'qx80' 'qx' 'jx' 'qx56' 'm35' 'qx60' 'i30' 'g37' 'ex35'\n 'g37_coupe' 'ex' 'm37' 'qx4' 'j30' 'q60_coupe' 'qx70' 'q70'\n 'g37_convertible' 'fx45' 'q45' 'g20' 'q60_convertible' 'qx50' 'fx50'\n 'm56']\n\nchrysler 19 ['' 'town_and_country' 'pt_cruiser' 'aspen' 'pacifica' 'sebring' '300m'\n 'crossfire' 'lhs' 'concorde' 'prowler' 'cirrus' 'town' 'voyager'\n 'twn/cntry' 'pt' 'grand' 'twn&country' 'le_baron']\n\nkia 14 ['forte' 'optima' 'soul' 'sorento' 'sportage' 'rio' 'cadenza' 'spectra'\n 'sedona' 'rondo' 'amanti' 'borrego' 'sephia' 'k900']\n\njaguar 8 ['xf' 'x_type' 'xj_series' 's_type' 'xj' 'xk_series' 'f_type' 'xk']\n\nsubaru 11 ['outback' 'legacy' 'forester' 'impreza' 'xv_crosstrek' 'b9_tribeca'\n 'impreza_wrx' 'wrx' 'tribeca' 'brz' 'baja']\n\njeep 9 ['cherokee' 'grand_cherokee' 'liberty' 'wrangler' 'patriot' 'commander'\n 'compass' 'gr' 'grand']\n\nlexus 39 ['is_250' 'gx_460' 'rx_330' 'rx_300' 'rx_350' 'es_350' 'gs_350' 'ls_430'\n 'lx_570' 'is_350' 'ct_200h' 'es_330' 'es_300h' 'gs_300' 'ls_460'\n 'rx_450h' 'rx_400h' 'is_300' 'lx_470' 'es_300' 'gx' 'sc_430' 'gx_470'\n 'is_250_c' 'gs_450h' 'gs_460' 'lx' 'sc_400' 'hs_250h' 'gs_400' 'gs_430'\n 'sc_300' 'is_f' 'rc_350' 'ls_400' 'is_350_c' 'rc_f' 'ls_600h_l' 'lx_450']\n\nscion 6 ['xa' 'tc' 'xd' 'xb' 'fr_s' 'iq']\n\nfiat 3 ['500l' '' '500e']\n\nsuzuki 14 ['reno' 'forenza' 'kizashi' 'grand_vitara' 'xl_7' 'sx4' 'xl7' 'aerio'\n 'verona' 'grand' 'vitara' 'swift' 'esteem' 'equator']\n\nmazda 28 ['mx_5_miata' 'mazda5' 'cx_5' 'mazda3' 'mazda6' 'cx_7' 'cx_9' 'tribute'\n 'mazda2' 'protege' '' 'millenia' 'mpv' 'mazdaspeed_3' 'protege5'\n 'mazdaspeed_mazda3' 'b_series_truck' 'mazdaspeed3' 'rx8' 'truck'\n 'tribute_hybrid' 'mazdaspeed_mazda6' 'b_series_pickup'\n 'mazdaspeed_protege' 'rx_8' 'mazdaspeed_mx_5_miata' 'b2300' 'b_series']\n\nvolvo 16 ['s60' 'xc90' 'xc' 's40' 's80' 'v70' 'c70' 'xc60' 'v40' 'xc70' '' 's90'\n 's70' 'v60' 'c30' 'v50']\n\naudi 27 ['a6' 'q7' 'a4' 'a7' 's4' 'tt' 'a8' 'a5' 's7' 'allroad_quattro' 'q5' 's5'\n 'a3' 'allroad' 'rs_7' 'r8' 'no_info' 'rs_6' 'cabriolet' 'tts' 's8' 'rs_4'\n 's6' 'sq5' 'q3' 'rs_5' 'tt_rs']\n\nmini 6 ['cooper_countryman' 'cooper' 'cooper_paceman' 'cooper_clubman'\n 'cooper_coupe' 'cooper_roadster']\n\nisuzu 7 ['rodeo' 'ascender' 'trooper' 'axiom' 'rodeo_sport' 'i_series' 'amigo']\n\nmitsubishi 16 ['outlander' 'eclipse' 'galant' 'outlander_sport' 'lancer' 'mirage'\n 'eclipse_spyder' 'endeavor' 'lancer_sportback' 'lancer_evolution'\n 'montero' 'montero_sport' 'diamante' 'raider' 'i_miev' '3000gt']\n\nsmart 2 ['fortwo' '42c']\n\nporsche 8 ['' 'panamera' 'cayenne' 'boxster' 'cayman' 'macan' 'cayman_s' 'carrera']\n\nlandrover 13 ['range_rover_sport' 'lr4' 'range_rover' 'freelander' 'lr3' 'lr2'\n 'discovery_series_ii' 'range_rover_evoque' 'discovery' 'range'\n 'rangerover' 'rr' 'rrs']\n\nsaturn 12 ['vue' 'ion' 'astra' 'outlook' 'aura' 'l_series' 's_series' 'sky' 'l300'\n 'relay' 'vue_hybrid' 'aura_hybrid']\n\nram 6 ['' 'cv_tradesman' 'dakota' 'c/v_cargo_van' 'promaster_cargo_van'\n 'c/v_tradesman']\n\noldsmobile 12 ['cutlass_ciera' 'bravada' 'alero' 'aurora' 'intrigue' 'cutlass_supreme'\n 'silhouette' 'cutlass' 'eighty_eight' 'eighty_eight_royale' 'ciera'\n 'regency']\n\nmercury 16 ['mountaineer' 'sable' 'milan' 'mariner' 'monterey' 'cougar'\n 'grand_marquis' 'grand' 'montego' 'mariner_hybrid' 'villager' 'marauder'\n 'tracer' 'milan_hybrid' 'mystique' 'mountnr']\n\nbentley 8 ['continental_gtc' 'continental_gt' 'continental_flying_spur'\n 'continental_gt_speed' 'continental_gtc_speed' 'flying_spur'\n 'continental_flying_spur_speed' 'continental_supersports']\n\nfisker 1 ['karma']\n\nmaserati 7 ['quattroporte' 'granturismo' 'spyder' 'ghibli' 'coupe'\n 'granturismo_convertible' 'gransport']\n\ntesla 1 ['model_s']\n\nrolls_royce 1 ['ghost']\n\nferrari 3 ['f430' 'california' '458_italia']\n\nplymouth 5 ['prowler' 'voyager' 'neon' 'grand' 'breeze']\n\nlamborghini 1 ['gallardo']\n\ngeo 2 ['prizm' 'metro']\n\naston_martin 3 ['v8_vantage' 'db9' 'rapide']\n\ndaewoo 1 ['nubira']\n\ndot 1 ['durango']\n\nairstream 1 ['interstate']\n\n",
          "output_type": "stream"
        }
      ]
    },
    {
      "cell_type": "code",
      "source": [
        "# удалим неявные дубликаты\n",
        "train['model'] = train['model'].replace({'mountnr': 'mountaineer',\n",
        "                                       'mazdaspeed_mazda3': 'mazdaspeed3',\n",
        "                                      'mazdaspeed_mx_5_miata':'mx_5_miata',\n",
        "                                      'e150':'e_150',\n",
        "                                      'f150':'f_150',\n",
        "                                      'e350':'e_350',\n",
        "                                      'e250':'e_250',\n",
        "                                          'expeditn': 'expedition',\n",
        "                                         'expedit': 'expedition',\n",
        "                                        'crown': 'crown_victoria',\n",
        "                                         'excurs' : 'excursion',\n",
        "                                         'e150' : 'e_150',\n",
        "                                         'e250':'e_250'  ,\n",
        "                                         'e350' :  'e_350' ,\n",
        "                                         'f250':'f_250',\n",
        "                                          'f150':'f_150',\n",
        "                                         'f350':'f_350',\n",
        "                                        'subrbn':'suburban',\n",
        "                                        'e':'e_series',\n",
        "                                        'silverado_2500':'silverado_2500hd',\n",
        "                                         'silverado_3500': 'silverado_3500hd',\n",
        "                                       'capt':'captiva',\n",
        "                                       'uplandr':'uplander',\n",
        "                                       's10':'s_10'})"
      ],
      "metadata": {
        "execution": {
          "iopub.status.busy": "2023-06-03T18:30:45.001138Z",
          "iopub.execute_input": "2023-06-03T18:30:45.001510Z",
          "iopub.status.idle": "2023-06-03T18:30:45.544225Z",
          "shell.execute_reply.started": "2023-06-03T18:30:45.001476Z",
          "shell.execute_reply": "2023-06-03T18:30:45.543277Z"
        },
        "trusted": true,
        "id": "gB5J7qmgS1Cn"
      },
      "execution_count": null,
      "outputs": []
    },
    {
      "cell_type": "code",
      "source": [
        "test['model'] = test['model'].replace({'mountnr': 'mountaineer',\n",
        "                                       'mazdaspeed_mazda3': 'mazdaspeed3',\n",
        "                                      'mazdaspeed_mx_5_miata':'mx_5_miata',\n",
        "                                      'e150':'e_150',\n",
        "                                      'f150':'f_150',\n",
        "                                      'e350':'e_350',\n",
        "                                      'e250':'e_250',\n",
        "                                          'expeditn': 'expedition',\n",
        "                                         'expedit': 'expedition',\n",
        "                                        'crown': 'crown_victoria',\n",
        "                                         'excurs' : 'excursion',\n",
        "                                         'e150' : 'e_150',\n",
        "                                         'e250':'e_250'  ,\n",
        "                                         'e350' :  'e_350' ,\n",
        "                                         'f250':'f_250',\n",
        "                                          'f150':'f_150',\n",
        "                                         'f350':'f_350',\n",
        "                                        'subrbn':'suburban',\n",
        "                                        'e':'e_series',\n",
        "                                       'silverado_2500':'silverado_2500hd',\n",
        "                                         'silverado_3500': 'silverado_3500hd',\n",
        "                                       'capt':'captiva',\n",
        "                                       'uplandr':'uplander',\n",
        "                                       's10':'s_10'\n",
        "                                      })"
      ],
      "metadata": {
        "execution": {
          "iopub.status.busy": "2023-06-03T18:30:45.545672Z",
          "iopub.execute_input": "2023-06-03T18:30:45.546117Z",
          "iopub.status.idle": "2023-06-03T18:30:45.681869Z",
          "shell.execute_reply.started": "2023-06-03T18:30:45.546081Z",
          "shell.execute_reply": "2023-06-03T18:30:45.680990Z"
        },
        "trusted": true,
        "id": "kVL6Siu7S1Cn"
      },
      "execution_count": null,
      "outputs": []
    },
    {
      "cell_type": "code",
      "source": [
        "for make in train['make'].unique():\n",
        "    print(make,\n",
        "          train.loc[train['make']==make, 'model'].nunique())\n",
        "    print()"
      ],
      "metadata": {
        "execution": {
          "iopub.status.busy": "2023-06-03T18:30:45.683364Z",
          "iopub.execute_input": "2023-06-03T18:30:45.683722Z",
          "iopub.status.idle": "2023-06-03T18:30:48.852496Z",
          "shell.execute_reply.started": "2023-06-03T18:30:45.683688Z",
          "shell.execute_reply": "2023-06-03T18:30:48.851502Z"
        },
        "trusted": true,
        "id": "r46Pt0MKS1Cn",
        "outputId": "5c957d45-a0e8-4d02-90e7-e7ceeecc0580"
      },
      "execution_count": null,
      "outputs": [
        {
          "name": "stdout",
          "text": "ford 55\n\nnissan 31\n\nhummer 5\n\nlincoln 17\n\npontiac 19\n\nhyundai 21\n\nno_info 1\n\nbuick 14\n\nchevrolet 66\n\nhonda 18\n\nacura 14\n\ncadillac 23\n\ngmc 29\n\nsaab 4\n\ndodge 29\n\nmercedes 37\n\ntoyota 31\n\nvolkswagen 24\n\nbmw 41\n\ninfiniti 35\n\nchrysler 19\n\nkia 14\n\njaguar 8\n\nsubaru 11\n\njeep 9\n\nlexus 39\n\nscion 6\n\nfiat 3\n\nsuzuki 14\n\nmazda 26\n\nvolvo 16\n\naudi 27\n\nmini 6\n\nisuzu 7\n\nmitsubishi 16\n\nsmart 2\n\nporsche 8\n\nlandrover 13\n\nsaturn 12\n\nram 6\n\noldsmobile 12\n\nmercury 15\n\nbentley 8\n\nfisker 1\n\nmaserati 7\n\ntesla 1\n\nrolls_royce 1\n\nferrari 3\n\nplymouth 5\n\nlamborghini 1\n\ngeo 2\n\naston_martin 3\n\ndaewoo 1\n\ndot 1\n\nairstream 1\n\n",
          "output_type": "stream"
        }
      ]
    },
    {
      "cell_type": "markdown",
      "source": [
        "**color**"
      ],
      "metadata": {
        "id": "u8ynOxRjS1Cn"
      }
    },
    {
      "cell_type": "code",
      "source": [
        "train['color'].value_counts()"
      ],
      "metadata": {
        "execution": {
          "iopub.status.busy": "2023-06-03T18:30:48.853945Z",
          "iopub.execute_input": "2023-06-03T18:30:48.854540Z",
          "iopub.status.idle": "2023-06-03T18:30:48.947759Z",
          "shell.execute_reply.started": "2023-06-03T18:30:48.854505Z",
          "shell.execute_reply": "2023-06-03T18:30:48.946553Z"
        },
        "trusted": true,
        "id": "wKiXWRRNS1Cn",
        "outputId": "24563f2e-c01a-4908-b8f3-85c64e50a445"
      },
      "execution_count": null,
      "outputs": [
        {
          "execution_count": 94,
          "output_type": "execute_result",
          "data": {
            "text/plain": "black        87115\nwhite        84149\nsilver       65667\ngray         65284\nblue         40237\nred          34514\n—            19520\ngreen         8975\ngold          8934\nbeige         7257\nburgundy      7059\nbrown         5320\norange        1629\npurple        1250\noff_white     1143\nyellow         979\nno_info        586\ncharcoal       389\nturquoise      183\npink            32\nlime            14\nName: color, dtype: int64"
          },
          "metadata": {}
        }
      ]
    },
    {
      "cell_type": "markdown",
      "source": [
        "Пробовала уменьшить количество категорий в признаке, добавив признак other, но модель потеряла 0.3"
      ],
      "metadata": {
        "id": "La4XQMH-S1Cn"
      }
    },
    {
      "cell_type": "markdown",
      "source": [
        "**body**"
      ],
      "metadata": {
        "id": "R3x9bT85S1Cn"
      }
    },
    {
      "cell_type": "code",
      "source": [
        "train['body'].value_counts().sort_index().index"
      ],
      "metadata": {
        "execution": {
          "iopub.status.busy": "2023-06-03T18:30:48.950660Z",
          "iopub.execute_input": "2023-06-03T18:30:48.951489Z",
          "iopub.status.idle": "2023-06-03T18:30:49.069205Z",
          "shell.execute_reply.started": "2023-06-03T18:30:48.951451Z",
          "shell.execute_reply": "2023-06-03T18:30:49.068331Z"
        },
        "trusted": true,
        "id": "EIBLxRqQS1Cn",
        "outputId": "1ec97510-c11c-4fe4-abdb-9d59b83439fc"
      },
      "execution_count": null,
      "outputs": [
        {
          "execution_count": 95,
          "output_type": "execute_result",
          "data": {
            "text/plain": "Index(['access_cab', 'beetle_convertible', 'cab_plus', 'cab_plus_4',\n       'club_cab', 'convertible', 'coupe', 'crew_cab', 'crewmax_cab',\n       'cts_coupe', 'cts_v_coupe', 'cts_v_wagon', 'cts_wagon', 'double_cab',\n       'e_series_van', 'elantra_coupe', 'extended_cab', 'g37_convertible',\n       'g37_coupe', 'g_convertible', 'g_coupe', 'g_sedan', 'genesis_coupe',\n       'granturismo_convertible', 'hatchback', 'king_cab', 'koup', 'mega_cab',\n       'minivan', 'no_info', 'promaster_cargo_van', 'q60_convertible',\n       'q60_coupe', 'quad_cab', 'ram_van', 'regular_cab', 'sedan', 'supercab',\n       'supercrew', 'suv', 'transit_van', 'tsx_sport_wagon', 'van', 'wagon',\n       'xtracab'],\n      dtype='object')"
          },
          "metadata": {}
        }
      ]
    },
    {
      "cell_type": "code",
      "source": [
        "test['body'].value_counts().sort_index().index"
      ],
      "metadata": {
        "execution": {
          "iopub.status.busy": "2023-06-03T18:30:49.074146Z",
          "iopub.execute_input": "2023-06-03T18:30:49.076441Z",
          "iopub.status.idle": "2023-06-03T18:30:49.111653Z",
          "shell.execute_reply.started": "2023-06-03T18:30:49.076406Z",
          "shell.execute_reply": "2023-06-03T18:30:49.110901Z"
        },
        "trusted": true,
        "id": "k9DwTxmHS1Cn",
        "outputId": "0177eecf-53ba-462f-f817-c9afb05f1cf2"
      },
      "execution_count": null,
      "outputs": [
        {
          "execution_count": 96,
          "output_type": "execute_result",
          "data": {
            "text/plain": "Index(['access_cab', 'beetle_convertible', 'cab_plus', 'club_cab',\n       'convertible', 'coupe', 'crew_cab', 'crewmax_cab', 'cts_coupe',\n       'cts_v_coupe', 'cts_wagon', 'double_cab', 'e_series_van',\n       'elantra_coupe', 'extended_cab', 'g37_convertible', 'g37_coupe',\n       'g_convertible', 'g_coupe', 'g_sedan', 'genesis_coupe',\n       'granturismo_convertible', 'hatchback', 'king_cab', 'koup', 'mega_cab',\n       'minivan', 'no_info', 'promaster_cargo_van', 'q60_convertible',\n       'q60_coupe', 'quad_cab', 'regular_cab', 'sedan', 'supercab',\n       'supercrew', 'suv', 'transit_van', 'tsx_sport_wagon', 'van', 'wagon',\n       'xtracab'],\n      dtype='object')"
          },
          "metadata": {}
        }
      ]
    },
    {
      "cell_type": "markdown",
      "source": [
        "Дубликатов не наблюдается."
      ],
      "metadata": {
        "id": "llaFRof8S1Cn"
      }
    },
    {
      "cell_type": "code",
      "source": [
        "list(train.columns)"
      ],
      "metadata": {
        "execution": {
          "iopub.status.busy": "2023-06-03T18:30:49.115418Z",
          "iopub.execute_input": "2023-06-03T18:30:49.117501Z",
          "iopub.status.idle": "2023-06-03T18:30:49.128670Z",
          "shell.execute_reply.started": "2023-06-03T18:30:49.117471Z",
          "shell.execute_reply": "2023-06-03T18:30:49.126279Z"
        },
        "trusted": true,
        "id": "spWl8FMhS1Cn",
        "outputId": "82425831-f958-46c9-8e98-cf75f414d0ef"
      },
      "execution_count": null,
      "outputs": [
        {
          "execution_count": 97,
          "output_type": "execute_result",
          "data": {
            "text/plain": "['year',\n 'make',\n 'model',\n 'trim',\n 'body',\n 'transmission',\n 'state',\n 'condition',\n 'odometer',\n 'color',\n 'interior',\n 'seller',\n 'sellingprice',\n 'sale_year',\n 'sale_month']"
          },
          "metadata": {}
        }
      ]
    },
    {
      "cell_type": "markdown",
      "source": [
        "### Модели"
      ],
      "metadata": {
        "id": "yDzRrQzrS1Cn"
      }
    },
    {
      "cell_type": "code",
      "source": [
        "#Разделим выборки\n",
        "train_data, validation = train_test_split(train, random_state=42)\n",
        "print(train_data.shape[0])\n",
        "print(validation.shape[0])"
      ],
      "metadata": {
        "execution": {
          "iopub.status.busy": "2023-06-03T18:30:49.129663Z",
          "iopub.execute_input": "2023-06-03T18:30:49.130124Z",
          "iopub.status.idle": "2023-06-03T18:30:49.595990Z",
          "shell.execute_reply.started": "2023-06-03T18:30:49.130094Z",
          "shell.execute_reply": "2023-06-03T18:30:49.595050Z"
        },
        "trusted": true,
        "id": "smnenO_wS1Cn",
        "outputId": "e611869c-ff6b-4eed-bff5-47c27cbbb1c0"
      },
      "execution_count": null,
      "outputs": [
        {
          "name": "stdout",
          "text": "330177\n110059\n",
          "output_type": "stream"
        }
      ]
    },
    {
      "cell_type": "code",
      "source": [
        "#выделим обучающие признаки и целевой признак\n",
        "X = ['year', 'make', 'model', 'trim', 'body', 'transmission', 'state','condition', 'odometer', 'color',\n",
        "     'interior', 'seller', 'sale_year','sale_month']\n",
        "y = ['sellingprice']"
      ],
      "metadata": {
        "execution": {
          "iopub.status.busy": "2023-06-03T18:30:49.600037Z",
          "iopub.execute_input": "2023-06-03T18:30:49.602131Z",
          "iopub.status.idle": "2023-06-03T18:30:49.608479Z",
          "shell.execute_reply.started": "2023-06-03T18:30:49.602096Z",
          "shell.execute_reply": "2023-06-03T18:30:49.607640Z"
        },
        "trusted": true,
        "id": "3-WDhWR2S1Cn"
      },
      "execution_count": null,
      "outputs": []
    },
    {
      "cell_type": "code",
      "source": [
        "train_pool = Pool(data=train_data[X],\n",
        "                  label=train_data[y],\n",
        "                  cat_features=cat_features)\n",
        "print(train_pool.shape[0])"
      ],
      "metadata": {
        "execution": {
          "iopub.status.busy": "2023-06-03T18:30:49.612310Z",
          "iopub.execute_input": "2023-06-03T18:30:49.614698Z",
          "iopub.status.idle": "2023-06-03T18:30:50.809370Z",
          "shell.execute_reply.started": "2023-06-03T18:30:49.614664Z",
          "shell.execute_reply": "2023-06-03T18:30:50.808298Z"
        },
        "trusted": true,
        "id": "j0Saw4hKS1Cn",
        "outputId": "67e02623-8ffb-42e8-a1e8-30e15e2ba74e"
      },
      "execution_count": null,
      "outputs": [
        {
          "name": "stdout",
          "text": "330177\n",
          "output_type": "stream"
        }
      ]
    },
    {
      "cell_type": "code",
      "source": [
        "validation_pool = Pool(data=validation[X],\n",
        "                       label=validation[y],\n",
        "                  cat_features=cat_features)\n",
        "print(validation_pool.shape[0])"
      ],
      "metadata": {
        "execution": {
          "iopub.status.busy": "2023-06-03T18:30:50.810855Z",
          "iopub.execute_input": "2023-06-03T18:30:50.811217Z",
          "iopub.status.idle": "2023-06-03T18:30:51.161954Z",
          "shell.execute_reply.started": "2023-06-03T18:30:50.811182Z",
          "shell.execute_reply": "2023-06-03T18:30:51.160915Z"
        },
        "trusted": true,
        "id": "bjcES1QmS1Co",
        "outputId": "e1b65a2c-67aa-4b0e-91bc-f9cc05774c98"
      },
      "execution_count": null,
      "outputs": [
        {
          "name": "stdout",
          "text": "110059\n",
          "output_type": "stream"
        }
      ]
    },
    {
      "cell_type": "code",
      "source": [
        "test_pool = Pool(data=train[X],\n",
        "                  label=train[y],\n",
        "                  cat_features=cat_features)\n",
        "print(test_pool.shape[0])"
      ],
      "metadata": {
        "execution": {
          "iopub.status.busy": "2023-06-03T18:30:51.163490Z",
          "iopub.execute_input": "2023-06-03T18:30:51.163810Z",
          "iopub.status.idle": "2023-06-03T18:30:52.073491Z",
          "shell.execute_reply.started": "2023-06-03T18:30:51.163779Z",
          "shell.execute_reply": "2023-06-03T18:30:52.072495Z"
        },
        "trusted": true,
        "id": "OQCvQzdRS1Co",
        "outputId": "fc584055-0da8-44ae-b1fc-27f1d918b516"
      },
      "execution_count": null,
      "outputs": [
        {
          "name": "stdout",
          "text": "440236\n",
          "output_type": "stream"
        }
      ]
    },
    {
      "cell_type": "markdown",
      "source": [
        "## RandomGridSearch"
      ],
      "metadata": {
        "id": "LIvKJ4Q5S1Co"
      }
    },
    {
      "cell_type": "code",
      "source": [
        "# параметры для перебора\n",
        "param_grid = {\n",
        "    'iterations':[3000, 4000, 100],\n",
        "    'learning_rate': [0.01, 0.10],\n",
        "    'depth': [6, 15],\n",
        "    'l2_leaf_reg': [1, 3, 5, 7, 9]\n",
        "}"
      ],
      "metadata": {
        "execution": {
          "iopub.status.busy": "2023-06-03T18:30:52.074965Z",
          "iopub.execute_input": "2023-06-03T18:30:52.075581Z",
          "iopub.status.idle": "2023-06-03T18:30:52.081268Z",
          "shell.execute_reply.started": "2023-06-03T18:30:52.075546Z",
          "shell.execute_reply": "2023-06-03T18:30:52.080292Z"
        },
        "trusted": true,
        "id": "Qi6lpIsBS1Co"
      },
      "execution_count": null,
      "outputs": []
    },
    {
      "cell_type": "code",
      "source": [
        "params = {\n",
        "    'cat_features': cat_features,\n",
        "    'eval_metric': 'MAPE',\n",
        "    'loss_function': 'RMSE',\n",
        "    'random_seed': 42,\n",
        "    'verbose': 100,\n",
        "    'early_stopping_rounds':15\n",
        "}"
      ],
      "metadata": {
        "execution": {
          "iopub.status.busy": "2023-06-03T18:30:52.082480Z",
          "iopub.execute_input": "2023-06-03T18:30:52.083317Z",
          "iopub.status.idle": "2023-06-03T18:30:52.091766Z",
          "shell.execute_reply.started": "2023-06-03T18:30:52.083279Z",
          "shell.execute_reply": "2023-06-03T18:30:52.090769Z"
        },
        "trusted": true,
        "id": "4TvOSEs3S1Co"
      },
      "execution_count": null,
      "outputs": []
    },
    {
      "cell_type": "code",
      "source": [
        "#инициализируем модель\n",
        "model = CatBoostRegressor(**params)"
      ],
      "metadata": {
        "execution": {
          "iopub.status.busy": "2023-06-03T18:30:52.092974Z",
          "iopub.execute_input": "2023-06-03T18:30:52.095059Z",
          "iopub.status.idle": "2023-06-03T18:30:52.103047Z",
          "shell.execute_reply.started": "2023-06-03T18:30:52.095034Z",
          "shell.execute_reply": "2023-06-03T18:30:52.102200Z"
        },
        "trusted": true,
        "id": "4mdj6udqS1Co"
      },
      "execution_count": null,
      "outputs": []
    },
    {
      "cell_type": "code",
      "source": [
        "now = datetime.datetime.now()\n",
        "\n",
        "print(now)"
      ],
      "metadata": {
        "execution": {
          "iopub.status.busy": "2023-06-03T18:30:52.104344Z",
          "iopub.execute_input": "2023-06-03T18:30:52.104754Z",
          "iopub.status.idle": "2023-06-03T18:30:52.113062Z",
          "shell.execute_reply.started": "2023-06-03T18:30:52.104712Z",
          "shell.execute_reply": "2023-06-03T18:30:52.112068Z"
        },
        "trusted": true,
        "id": "Mc8kSXWAS1Co",
        "outputId": "0a89dd9f-70fd-4dcb-a48d-f99016d7d244"
      },
      "execution_count": null,
      "outputs": [
        {
          "name": "stdout",
          "text": "2023-06-03 18:30:52.109498\n",
          "output_type": "stream"
        }
      ]
    },
    {
      "cell_type": "code",
      "source": [
        "%%time\n",
        "randomized_search_result = model.randomized_search(param_grid,\n",
        "                                                   train_pool)\n",
        "print (model.best_score_)"
      ],
      "metadata": {
        "execution": {
          "iopub.status.busy": "2023-06-03T18:30:52.114312Z",
          "iopub.execute_input": "2023-06-03T18:30:52.114728Z"
        },
        "trusted": true,
        "id": "YBM3Er9dS1Co",
        "outputId": "517ad508-f89a-4e5e-daa2-bce3abcbef1f"
      },
      "execution_count": null,
      "outputs": [
        {
          "name": "stdout",
          "text": "0:\tlearn: 0.9861259\ttest: 0.9846813\tbest: 0.9846813 (0)\ttotal: 771ms\tremaining: 51m 21s\n100:\tlearn: 0.5148948\ttest: 0.4568692\tbest: 0.4568692 (100)\ttotal: 57.3s\tremaining: 36m 51s\n200:\tlearn: 0.4445060\ttest: 0.3614411\tbest: 0.3614411 (200)\ttotal: 1m 50s\tremaining: 34m 57s\n300:\tlearn: 0.4072675\ttest: 0.3234615\tbest: 0.3234615 (300)\ttotal: 2m 47s\tremaining: 34m 19s\n400:\tlearn: 0.3890189\ttest: 0.3009126\tbest: 0.3009126 (400)\ttotal: 3m 33s\tremaining: 31m 56s\n500:\tlearn: 0.3642763\ttest: 0.2764855\tbest: 0.2764855 (500)\ttotal: 4m 29s\tremaining: 31m 19s\n600:\tlearn: 0.3448643\ttest: 0.2602953\tbest: 0.2602953 (600)\ttotal: 5m 26s\tremaining: 30m 44s\n700:\tlearn: 0.3337896\ttest: 0.2505443\tbest: 0.2505443 (700)\ttotal: 6m 22s\tremaining: 30m 1s\n800:\tlearn: 0.3257570\ttest: 0.2447208\tbest: 0.2447208 (800)\ttotal: 7m 18s\tremaining: 29m 9s\n900:\tlearn: 0.3193707\ttest: 0.2402522\tbest: 0.2402522 (900)\ttotal: 8m 12s\tremaining: 28m 14s\n1000:\tlearn: 0.3116992\ttest: 0.2363184\tbest: 0.2363184 (1000)\ttotal: 9m 8s\tremaining: 27m 22s\n1100:\tlearn: 0.3055937\ttest: 0.2334001\tbest: 0.2334001 (1100)\ttotal: 10m 1s\tremaining: 26m 22s\n1200:\tlearn: 0.2997246\ttest: 0.2303350\tbest: 0.2303350 (1200)\ttotal: 10m 57s\tremaining: 25m 31s\n1300:\tlearn: 0.2934451\ttest: 0.2280875\tbest: 0.2280875 (1300)\ttotal: 11m 53s\tremaining: 24m 39s\n1400:\tlearn: 0.2903151\ttest: 0.2262578\tbest: 0.2262578 (1400)\ttotal: 12m 49s\tremaining: 23m 47s\n1500:\tlearn: 0.2863305\ttest: 0.2241228\tbest: 0.2241228 (1500)\ttotal: 13m 46s\tremaining: 22m 55s\n1600:\tlearn: 0.2824095\ttest: 0.2221526\tbest: 0.2221526 (1600)\ttotal: 14m 46s\tremaining: 22m 8s\n1700:\tlearn: 0.2797041\ttest: 0.2203338\tbest: 0.2203338 (1700)\ttotal: 15m 47s\tremaining: 21m 20s\n1800:\tlearn: 0.2762381\ttest: 0.2187904\tbest: 0.2187904 (1800)\ttotal: 16m 46s\tremaining: 20m 28s\n1900:\tlearn: 0.2729126\ttest: 0.2173446\tbest: 0.2173284 (1899)\ttotal: 17m 44s\tremaining: 19m 35s\n2000:\tlearn: 0.2704055\ttest: 0.2157727\tbest: 0.2157657 (1999)\ttotal: 18m 42s\tremaining: 18m 40s\n2100:\tlearn: 0.2683825\ttest: 0.2142865\tbest: 0.2142865 (2100)\ttotal: 19m 39s\tremaining: 17m 45s\n2200:\tlearn: 0.2657820\ttest: 0.2129921\tbest: 0.2129921 (2200)\ttotal: 20m 36s\tremaining: 16m 50s\n2300:\tlearn: 0.2633838\ttest: 0.2117086\tbest: 0.2117086 (2300)\ttotal: 21m 32s\tremaining: 15m 54s\n2400:\tlearn: 0.2615194\ttest: 0.2104429\tbest: 0.2104429 (2400)\ttotal: 22m 31s\tremaining: 14m 59s\n2500:\tlearn: 0.2596382\ttest: 0.2093701\tbest: 0.2093701 (2500)\ttotal: 23m 29s\tremaining: 14m 4s\n2600:\tlearn: 0.2573093\ttest: 0.2083479\tbest: 0.2083479 (2600)\ttotal: 24m 24s\tremaining: 13m 7s\n2700:\tlearn: 0.2553190\ttest: 0.2074197\tbest: 0.2074197 (2700)\ttotal: 25m 22s\tremaining: 12m 12s\n3000:\tlearn: 0.2512563\ttest: 0.2045336\tbest: 0.2045336 (3000)\ttotal: 28m 13s\tremaining: 9m 23s\n3100:\tlearn: 0.2500088\ttest: 0.2036797\tbest: 0.2036797 (3100)\ttotal: 29m 11s\tremaining: 8m 27s\n3200:\tlearn: 0.2489949\ttest: 0.2029317\tbest: 0.2029317 (3200)\ttotal: 30m 9s\tremaining: 7m 31s\n3300:\tlearn: 0.2478096\ttest: 0.2020963\tbest: 0.2020963 (3300)\ttotal: 31m 7s\tremaining: 6m 35s\n3400:\tlearn: 0.2467589\ttest: 0.2012760\tbest: 0.2012760 (3400)\ttotal: 32m 5s\tremaining: 5m 39s\n3500:\tlearn: 0.2453414\ttest: 0.2004967\tbest: 0.2004967 (3500)\ttotal: 33m 4s\tremaining: 4m 42s\n3600:\tlearn: 0.2443896\ttest: 0.1996866\tbest: 0.1996808 (3595)\ttotal: 34m 1s\tremaining: 3m 46s\n3700:\tlearn: 0.2429937\ttest: 0.1989453\tbest: 0.1989453 (3700)\ttotal: 34m 58s\tremaining: 2m 49s\n3800:\tlearn: 0.2415781\ttest: 0.1980728\tbest: 0.1980728 (3800)\ttotal: 35m 57s\tremaining: 1m 52s\n3900:\tlearn: 0.2405871\ttest: 0.1975330\tbest: 0.1975330 (3900)\ttotal: 36m 54s\tremaining: 56.2s\n3999:\tlearn: 0.2394397\ttest: 0.1970178\tbest: 0.1970123 (3998)\ttotal: 37m 51s\tremaining: 0us\n\nbestTest = 0.1970122737\nbestIteration = 3998\n\n0:\tloss: 0.1970123\tbest: 0.1970123 (0)\ttotal: 37m 51s\tremaining: 5h 40m 46s\n0:\tlearn: 0.8792150\ttest: 0.8628238\tbest: 0.8628238 (0)\ttotal: 673ms\tremaining: 44m 52s\n100:\tlearn: 0.3078865\ttest: 0.2378125\tbest: 0.2378125 (100)\ttotal: 54.8s\tremaining: 35m 15s\n200:\tlearn: 0.2625637\ttest: 0.2174372\tbest: 0.2173930 (199)\ttotal: 1m 51s\tremaining: 35m 7s\n300:\tlearn: 0.2487742\ttest: 0.2065962\tbest: 0.2065962 (300)\ttotal: 2m 49s\tremaining: 34m 44s\n400:\tlearn: 0.2401073\ttest: 0.1997598\tbest: 0.1997598 (400)\ttotal: 3m 46s\tremaining: 33m 53s\n500:\tlearn: 0.2311027\ttest: 0.1947214\tbest: 0.1947150 (499)\ttotal: 4m 42s\tremaining: 32m 54s\n600:\tlearn: 0.2249850\ttest: 0.1913917\tbest: 0.1913468 (594)\ttotal: 5m 38s\tremaining: 31m 54s\n700:\tlearn: 0.2214701\ttest: 0.1880659\tbest: 0.1880502 (699)\ttotal: 6m 35s\tremaining: 31m 1s\n800:\tlearn: 0.2166503\ttest: 0.1854159\tbest: 0.1854159 (800)\ttotal: 7m 32s\tremaining: 30m 7s\n900:\tlearn: 0.2129640\ttest: 0.1829441\tbest: 0.1829441 (900)\ttotal: 8m 29s\tremaining: 29m 12s\n1000:\tlearn: 0.2106235\ttest: 0.1811123\tbest: 0.1811123 (1000)\ttotal: 9m 27s\tremaining: 28m 20s\n1100:\tlearn: 0.2076723\ttest: 0.1797588\tbest: 0.1797534 (1093)\ttotal: 10m 25s\tremaining: 27m 28s\n1200:\tlearn: 0.2051132\ttest: 0.1776064\tbest: 0.1776064 (1200)\ttotal: 11m 23s\tremaining: 26m 33s\n1300:\tlearn: 0.2027655\ttest: 0.1763396\tbest: 0.1763291 (1299)\ttotal: 12m 19s\tremaining: 25m 35s\n1400:\tlearn: 0.1993764\ttest: 0.1749246\tbest: 0.1749219 (1398)\ttotal: 13m 18s\tremaining: 24m 40s\n1500:\tlearn: 0.1967325\ttest: 0.1738710\tbest: 0.1738710 (1500)\ttotal: 14m 16s\tremaining: 23m 45s\n1600:\tlearn: 0.1939416\ttest: 0.1729072\tbest: 0.1729072 (1600)\ttotal: 15m 13s\tremaining: 22m 49s\n1700:\tlearn: 0.1922530\ttest: 0.1720534\tbest: 0.1720474 (1699)\ttotal: 16m 11s\tremaining: 21m 53s\n1800:\tlearn: 0.1899269\ttest: 0.1712634\tbest: 0.1712634 (1800)\ttotal: 17m 9s\tremaining: 20m 56s\n1900:\tlearn: 0.1886840\ttest: 0.1704893\tbest: 0.1704668 (1896)\ttotal: 18m 6s\tremaining: 20m\n2000:\tlearn: 0.1869471\ttest: 0.1694383\tbest: 0.1694366 (1993)\ttotal: 19m 4s\tremaining: 19m 3s\n2100:\tlearn: 0.1864312\ttest: 0.1689657\tbest: 0.1689657 (2100)\ttotal: 20m 2s\tremaining: 18m 6s\n2200:\tlearn: 0.1847237\ttest: 0.1684041\tbest: 0.1683901 (2198)\ttotal: 21m\tremaining: 17m 10s\nStopped by overfitting detector  (15 iterations wait)\n\nbestTest = 0.1680513565\nbestIteration = 2271\n\n1:\tloss: 0.1680514\tbest: 0.1680514 (1)\ttotal: 59m 42s\tremaining: 3h 58m 48s\n0:\tlearn: 0.8791678\ttest: 0.8628490\tbest: 0.8628490 (0)\ttotal: 687ms\tremaining: 45m 47s\n100:\tlearn: 0.3224935\ttest: 0.2412140\tbest: 0.2412140 (100)\ttotal: 54.6s\tremaining: 35m 9s\n200:\tlearn: 0.2843559\ttest: 0.2207400\tbest: 0.2207027 (199)\ttotal: 1m 53s\tremaining: 35m 45s\n300:\tlearn: 0.2659938\ttest: 0.2090956\tbest: 0.2090415 (299)\ttotal: 2m 52s\tremaining: 35m 17s\n400:\tlearn: 0.2554873\ttest: 0.2010640\tbest: 0.2010640 (400)\ttotal: 3m 51s\tremaining: 34m 34s\n500:\tlearn: 0.2440022\ttest: 0.1957913\tbest: 0.1957249 (497)\ttotal: 4m 47s\tremaining: 33m 29s\n600:\tlearn: 0.2369326\ttest: 0.1918397\tbest: 0.1918394 (599)\ttotal: 5m 44s\tremaining: 32m 30s\n700:\tlearn: 0.2315728\ttest: 0.1889279\tbest: 0.1889207 (699)\ttotal: 6m 42s\tremaining: 31m 33s\n800:\tlearn: 0.2266632\ttest: 0.1860734\tbest: 0.1860681 (799)\ttotal: 7m 39s\tremaining: 30m 35s\n900:\tlearn: 0.2230875\ttest: 0.1835774\tbest: 0.1835774 (900)\ttotal: 8m 38s\tremaining: 29m 41s\n1000:\tlearn: 0.2194873\ttest: 0.1813751\tbest: 0.1813408 (992)\ttotal: 9m 34s\tremaining: 28m 42s\n1100:\tlearn: 0.2155454\ttest: 0.1798970\tbest: 0.1798853 (1097)\ttotal: 10m 31s\tremaining: 27m 43s\nStopped by overfitting detector  (15 iterations wait)\n\nbestTest = 0.1789463113\nbestIteration = 1169\n\n2:\tloss: 0.1789463\tbest: 0.1680514 (1)\ttotal: 1h 11m 2s\tremaining: 2h 45m 46s\n0:\tlearn: 0.8740507\ttest: 0.8654590\tbest: 0.8654590 (0)\ttotal: 264ms\tremaining: 26.1s\n99:\tlearn: 0.3312255\ttest: 0.2585754\tbest: 0.2585754 (99)\ttotal: 18.7s\tremaining: 0us\n\nbestTest = 0.258575436\nbestIteration = 99\n\n3:\tloss: 0.2585754\tbest: 0.1680514 (1)\ttotal: 1h 11m 21s\tremaining: 1h 47m 2s\n0:\tlearn: 0.8739997\ttest: 0.8654782\tbest: 0.8654782 (0)\ttotal: 257ms\tremaining: 25.4s\n99:\tlearn: 0.3202577\ttest: 0.2569639\tbest: 0.2569639 (99)\ttotal: 19.4s\tremaining: 0us\n\nbestTest = 0.2569639474\nbestIteration = 99\n\n4:\tloss: 0.2569639\tbest: 0.1680514 (1)\ttotal: 1h 11m 40s\tremaining: 1h 11m 40s\n0:\tlearn: 0.8685922\ttest: 0.8682250\tbest: 0.8682250 (0)\ttotal: 2.46s\tremaining: 2h 3m 12s\n100:\tlearn: 0.2003641\ttest: 0.1818135\tbest: 0.1818135 (100)\ttotal: 6m 37s\tremaining: 3h 10m 19s\n200:\tlearn: 0.1658024\ttest: 0.1646640\tbest: 0.1646640 (200)\ttotal: 13m 22s\tremaining: 3h 6m 12s\n300:\tlearn: 0.1457126\ttest: 0.1576489\tbest: 0.1576476 (299)\ttotal: 20m 16s\tremaining: 3h 1m 50s\n400:\tlearn: 0.1339076\ttest: 0.1546938\tbest: 0.1546938 (400)\ttotal: 27m 26s\tremaining: 2h 57m 48s\n500:\tlearn: 0.1223612\ttest: 0.1527918\tbest: 0.1527918 (500)\ttotal: 34m 33s\tremaining: 2h 52m 22s\n600:\tlearn: 0.1133762\ttest: 0.1517219\tbest: 0.1517219 (600)\ttotal: 41m 49s\tremaining: 2h 46m 55s\n700:\tlearn: 0.1054413\ttest: 0.1510610\tbest: 0.1510610 (700)\ttotal: 48m 56s\tremaining: 2h 40m 30s\nStopped by overfitting detector  (15 iterations wait)\n\nbestTest = 0.1509643137\nbestIteration = 732\n\n5:\tloss: 0.1509643\tbest: 0.1509643 (5)\ttotal: 2h 4m 1s\tremaining: 1h 22m 40s\n0:\tlearn: 0.9874434\ttest: 0.9874647\tbest: 0.9874647 (0)\ttotal: 3.79s\tremaining: 4h 12m 29s\n100:\tlearn: 0.4361643\ttest: 0.4115161\tbest: 0.4115161 (100)\ttotal: 5m 57s\tremaining: 3h 50m 13s\n200:\tlearn: 0.3203799\ttest: 0.2852162\tbest: 0.2852162 (200)\ttotal: 12m 21s\tremaining: 3h 53m 32s\n300:\tlearn: 0.2751211\ttest: 0.2407778\tbest: 0.2407778 (300)\ttotal: 18m 46s\tremaining: 3h 50m 44s\n400:\tlearn: 0.2471991\ttest: 0.2166839\tbest: 0.2166839 (400)\ttotal: 25m 20s\tremaining: 3h 47m 28s\n500:\tlearn: 0.2292954\ttest: 0.2022416\tbest: 0.2022416 (500)\ttotal: 31m 51s\tremaining: 3h 42m 31s\n600:\tlearn: 0.2152986\ttest: 0.1920295\tbest: 0.1920295 (600)\ttotal: 38m 37s\tremaining: 3h 38m 29s\n700:\tlearn: 0.2049502\ttest: 0.1852439\tbest: 0.1852439 (700)\ttotal: 45m 29s\tremaining: 3h 34m 3s\n800:\tlearn: 0.1958494\ttest: 0.1797670\tbest: 0.1797670 (800)\ttotal: 52m 16s\tremaining: 3h 28m 46s\n900:\tlearn: 0.1873920\ttest: 0.1756461\tbest: 0.1756461 (900)\ttotal: 59m 9s\tremaining: 3h 23m 29s\n1000:\tlearn: 0.1810675\ttest: 0.1722738\tbest: 0.1722738 (1000)\ttotal: 1h 5m 57s\tremaining: 3h 17m 35s\n1100:\tlearn: 0.1759743\ttest: 0.1697122\tbest: 0.1697122 (1100)\ttotal: 1h 12m 45s\tremaining: 3h 11m 33s\n1200:\tlearn: 0.1703196\ttest: 0.1672303\tbest: 0.1672303 (1200)\ttotal: 1h 19m 29s\tremaining: 3h 5m 15s\n1300:\tlearn: 0.1657490\ttest: 0.1653443\tbest: 0.1653443 (1300)\ttotal: 1h 26m 16s\tremaining: 2h 58m 58s\n1500:\tlearn: 0.1582442\ttest: 0.1620107\tbest: 0.1620107 (1500)\ttotal: 1h 39m 41s\tremaining: 2h 45m 58s\n1600:\tlearn: 0.1550580\ttest: 0.1607478\tbest: 0.1607478 (1600)\ttotal: 1h 46m 23s\tremaining: 2h 39m 24s\n1700:\tlearn: 0.1519344\ttest: 0.1595993\tbest: 0.1595993 (1700)\ttotal: 1h 53m 9s\tremaining: 2h 32m 55s\n1800:\tlearn: 0.1488459\ttest: 0.1584451\tbest: 0.1584451 (1800)\ttotal: 2h 2s\tremaining: 2h 26m 34s\n1900:\tlearn: 0.1460063\ttest: 0.1573217\tbest: 0.1573217 (1900)\ttotal: 2h 6m 57s\tremaining: 2h 20m 11s\n2000:\tlearn: 0.1436040\ttest: 0.1565207\tbest: 0.1565207 (2000)\ttotal: 2h 13m 54s\tremaining: 2h 13m 46s\n2100:\tlearn: 0.1417010\ttest: 0.1556910\tbest: 0.1556910 (2100)\ttotal: 2h 20m 54s\tremaining: 2h 7m 21s\n2200:\tlearn: 0.1395638\ttest: 0.1550094\tbest: 0.1550094 (2200)\ttotal: 2h 27m 55s\tremaining: 2h 54s\n2300:\tlearn: 0.1377692\ttest: 0.1543468\tbest: 0.1543468 (2300)\ttotal: 2h 34m 53s\tremaining: 1h 54m 22s\n2400:\tlearn: 0.1360679\ttest: 0.1538112\tbest: 0.1538112 (2400)\ttotal: 2h 41m 58s\tremaining: 1h 47m 52s\n2600:\tlearn: 0.1323604\ttest: 0.1528297\tbest: 0.1528297 (2600)\ttotal: 2h 56m 10s\tremaining: 1h 34m 45s\n2700:\tlearn: 0.1306689\ttest: 0.1523712\tbest: 0.1523712 (2700)\ttotal: 3h 3m 17s\tremaining: 1h 28m 9s\n2800:\tlearn: 0.1290813\ttest: 0.1519704\tbest: 0.1519701 (2799)\ttotal: 3h 10m 32s\tremaining: 1h 21m 33s\n2900:\tlearn: 0.1275078\ttest: 0.1515809\tbest: 0.1515809 (2900)\ttotal: 3h 17m 44s\tremaining: 1h 14m 54s\n3000:\tlearn: 0.1258266\ttest: 0.1512350\tbest: 0.1512339 (2999)\ttotal: 3h 24m 56s\tremaining: 1h 8m 13s\n3100:\tlearn: 0.1239023\ttest: 0.1509124\tbest: 0.1509124 (3100)\ttotal: 3h 32m 12s\tremaining: 1h 1m 31s\n3200:\tlearn: 0.1223081\ttest: 0.1505859\tbest: 0.1505841 (3196)\ttotal: 3h 39m 23s\tremaining: 54m 45s\n3300:\tlearn: 0.1206799\ttest: 0.1503339\tbest: 0.1503330 (3299)\ttotal: 3h 46m 36s\tremaining: 47m 59s\n3400:\tlearn: 0.1192721\ttest: 0.1500169\tbest: 0.1500169 (3400)\ttotal: 3h 53m 44s\tremaining: 41m 10s\n3500:\tlearn: 0.1175796\ttest: 0.1497366\tbest: 0.1497366 (3500)\ttotal: 4h 53s\tremaining: 34m 20s\n3600:\tlearn: 0.1162777\ttest: 0.1494600\tbest: 0.1494595 (3599)\ttotal: 4h 8m 5s\tremaining: 27m 29s\n3700:\tlearn: 0.1148526\ttest: 0.1492158\tbest: 0.1492158 (3700)\ttotal: 4h 15m 17s\tremaining: 20m 37s\n3800:\tlearn: 0.1134337\ttest: 0.1489740\tbest: 0.1489740 (3800)\ttotal: 4h 22m 34s\tremaining: 13m 44s\n3900:\tlearn: 0.1120511\ttest: 0.1487454\tbest: 0.1487454 (3900)\ttotal: 4h 29m 51s\tremaining: 6m 50s\n3999:\tlearn: 0.1105032\ttest: 0.1485102\tbest: 0.1485098 (3998)\ttotal: 4h 37m\tremaining: 0us\n\nbestTest = 0.1485098214\nbestIteration = 3998\n\n6:\tloss: 0.1485098\tbest: 0.1485098 (6)\ttotal: 6h 41m 1s\tremaining: 2h 51m 52s\n0:\tlearn: 0.9862128\ttest: 0.9862406\tbest: 0.9862406 (0)\ttotal: 2.35s\tremaining: 2h 36m 25s\n100:\tlearn: 0.4397099\ttest: 0.4131362\tbest: 0.4131362 (100)\ttotal: 5m 48s\tremaining: 3h 44m 31s\n200:\tlearn: 0.3187697\ttest: 0.2835068\tbest: 0.2835068 (200)\ttotal: 12m 9s\tremaining: 3h 49m 44s\n300:\tlearn: 0.2829511\ttest: 0.2460150\tbest: 0.2460150 (300)\ttotal: 18m 37s\tremaining: 3h 48m 51s\n400:\tlearn: 0.2591175\ttest: 0.2232614\tbest: 0.2232614 (400)\ttotal: 25m 25s\tremaining: 3h 48m 12s\n500:\tlearn: 0.2431310\ttest: 0.2100693\tbest: 0.2100693 (500)\ttotal: 32m\tremaining: 3h 43m 32s\n600:\tlearn: 0.2294627\ttest: 0.2000345\tbest: 0.2000345 (600)\ttotal: 38m 49s\tremaining: 3h 39m 36s\n700:\tlearn: 0.2193015\ttest: 0.1928075\tbest: 0.1928075 (700)\ttotal: 45m 44s\tremaining: 3h 35m 16s\n800:\tlearn: 0.2110722\ttest: 0.1872226\tbest: 0.1872226 (800)\ttotal: 52m 33s\tremaining: 3h 29m 54s\n900:\tlearn: 0.2038385\ttest: 0.1827019\tbest: 0.1827019 (900)\ttotal: 59m 31s\tremaining: 3h 24m 45s\n1000:\tlearn: 0.1969856\ttest: 0.1789283\tbest: 0.1789283 (1000)\ttotal: 1h 6m 24s\tremaining: 3h 18m 57s\n1100:\tlearn: 0.1914275\ttest: 0.1758504\tbest: 0.1758504 (1100)\ttotal: 1h 13m 20s\tremaining: 3h 13m 7s\n1200:\tlearn: 0.1865801\ttest: 0.1732744\tbest: 0.1732744 (1200)\ttotal: 1h 20m 2s\tremaining: 3h 6m 32s\n1300:\tlearn: 0.1816960\ttest: 0.1708039\tbest: 0.1708039 (1300)\ttotal: 1h 26m 43s\tremaining: 2h 59m 54s\n1400:\tlearn: 0.1771513\ttest: 0.1688176\tbest: 0.1688176 (1400)\ttotal: 1h 33m 25s\tremaining: 2h 53m 18s\n1600:\tlearn: 0.1702440\ttest: 0.1652403\tbest: 0.1652403 (1600)\ttotal: 1h 46m 51s\tremaining: 2h 40m 6s\n1700:\tlearn: 0.1672407\ttest: 0.1639684\tbest: 0.1639683 (1699)\ttotal: 1h 53m 44s\tremaining: 2h 33m 43s\n1800:\tlearn: 0.1643956\ttest: 0.1626574\tbest: 0.1626574 (1800)\ttotal: 2h 26s\tremaining: 2h 27m 2s\n1900:\tlearn: 0.1613935\ttest: 0.1614425\tbest: 0.1614425 (1900)\ttotal: 2h 7m 12s\tremaining: 2h 20m 27s\n2000:\tlearn: 0.1588193\ttest: 0.1603154\tbest: 0.1603154 (2000)\ttotal: 2h 13m 56s\tremaining: 2h 13m 48s\n2100:\tlearn: 0.1563009\ttest: 0.1591768\tbest: 0.1591768 (2100)\ttotal: 2h 20m 45s\tremaining: 2h 7m 13s\n2200:\tlearn: 0.1540724\ttest: 0.1582737\tbest: 0.1582737 (2200)\ttotal: 2h 27m 40s\tremaining: 2h 41s\n2300:\tlearn: 0.1520409\ttest: 0.1575075\tbest: 0.1575075 (2300)\ttotal: 2h 34m 41s\tremaining: 1h 54m 13s\n2400:\tlearn: 0.1500986\ttest: 0.1567130\tbest: 0.1567130 (2400)\ttotal: 2h 41m 49s\tremaining: 1h 47m 46s\n2500:\tlearn: 0.1482366\ttest: 0.1559583\tbest: 0.1559583 (2500)\ttotal: 2h 48m 45s\tremaining: 1h 41m 9s\n2600:\tlearn: 0.1466873\ttest: 0.1553975\tbest: 0.1553975 (2600)\ttotal: 2h 55m 47s\tremaining: 1h 34m 32s\n2700:\tlearn: 0.1448425\ttest: 0.1549167\tbest: 0.1549167 (2700)\ttotal: 3h 2m 41s\tremaining: 1h 27m 51s\n2800:\tlearn: 0.1433737\ttest: 0.1544382\tbest: 0.1544382 (2800)\ttotal: 3h 9m 45s\tremaining: 1h 21m 13s\n2900:\tlearn: 0.1416379\ttest: 0.1539498\tbest: 0.1539498 (2900)\ttotal: 3h 16m 48s\tremaining: 1h 14m 33s\n3000:\tlearn: 0.1400685\ttest: 0.1534976\tbest: 0.1534976 (3000)\ttotal: 3h 23m 55s\tremaining: 1h 7m 53s\n3100:\tlearn: 0.1386439\ttest: 0.1531886\tbest: 0.1531879 (3098)\ttotal: 3h 31m 5s\tremaining: 1h 1m 11s\n3200:\tlearn: 0.1373476\ttest: 0.1527958\tbest: 0.1527958 (3200)\ttotal: 3h 38m 10s\tremaining: 54m 27s\n3300:\tlearn: 0.1362452\ttest: 0.1525541\tbest: 0.1525541 (3300)\ttotal: 3h 45m 25s\tremaining: 47m 44s\n3400:\tlearn: 0.1348207\ttest: 0.1522311\tbest: 0.1522294 (3398)\ttotal: 3h 52m 30s\tremaining: 40m 57s\n3500:\tlearn: 0.1335533\ttest: 0.1519336\tbest: 0.1519316 (3498)\ttotal: 3h 59m 39s\tremaining: 34m 9s\n3600:\tlearn: 0.1321853\ttest: 0.1516364\tbest: 0.1516364 (3600)\ttotal: 4h 6m 51s\tremaining: 27m 21s\n3700:\tlearn: 0.1310936\ttest: 0.1514558\tbest: 0.1514558 (3700)\ttotal: 4h 14m 1s\tremaining: 20m 31s\n3800:\tlearn: 0.1296710\ttest: 0.1511379\tbest: 0.1511379 (3800)\ttotal: 4h 21m 12s\tremaining: 13m 40s\n3900:\tlearn: 0.1281881\ttest: 0.1508805\tbest: 0.1508805 (3900)\ttotal: 4h 28m 23s\tremaining: 6m 48s\n3999:\tlearn: 0.1269982\ttest: 0.1506473\tbest: 0.1506464 (3998)\ttotal: 4h 35m 30s\tremaining: 0us\n\nbestTest = 0.1506464004\nbestIteration = 3998\n\n7:\tloss: 0.1506464\tbest: 0.1485098 (6)\ttotal: 11h 16m 32s\tremaining: 2h 49m 8s\n0:\tlearn: 0.9871800\ttest: 0.9867090\tbest: 0.9867090 (0)\ttotal: 927ms\tremaining: 1m 31s\n99:\tlearn: 0.4236058\ttest: 0.4045169\tbest: 0.4045169 (99)\ttotal: 1m 27s\tremaining: 0us\n\nbestTest = 0.404516917\nbestIteration = 99\n\n8:\tloss: 0.4045169\tbest: 0.1485098 (6)\ttotal: 11h 17m 59s\tremaining: 1h 15m 19s\n0:\tlearn: 0.8759612\ttest: 0.8704326\tbest: 0.8704326 (0)\ttotal: 1.01s\tremaining: 1m 40s\n99:\tlearn: 0.1905122\ttest: 0.1825410\tbest: 0.1825410 (99)\ttotal: 1m 34s\tremaining: 0us\n\nbestTest = 0.1825410127\nbestIteration = 99\n\n9:\tloss: 0.1825410\tbest: 0.1485098 (6)\ttotal: 11h 19m 33s\tremaining: 0us\nEstimating final quality...\nTraining on fold [0/3]\n0:\tlearn: 0.9870452\ttest: 0.9869634\tbest: 0.9869634 (0)\ttotal: 2.9s\tremaining: 3h 13m 34s\n100:\tlearn: 0.4285657\ttest: 0.4410584\tbest: 0.4410584 (100)\ttotal: 5m 12s\tremaining: 3h 20m 54s\n200:\tlearn: 0.3119277\ttest: 0.3264290\tbest: 0.3264290 (200)\ttotal: 10m 53s\tremaining: 3h 25m 54s\n300:\tlearn: 0.2708629\ttest: 0.2812681\tbest: 0.2812681 (300)\ttotal: 16m 37s\tremaining: 3h 24m 13s\n400:\tlearn: 0.2457760\ttest: 0.2535216\tbest: 0.2535216 (400)\ttotal: 22m 38s\tremaining: 3h 23m 9s\n500:\tlearn: 0.2281419\ttest: 0.2363020\tbest: 0.2363020 (500)\ttotal: 28m 32s\tremaining: 3h 19m 22s\n",
          "output_type": "stream"
        }
      ]
    },
    {
      "cell_type": "code",
      "source": [
        "now = datetime.datetime.now()\n",
        "\n",
        "print(now)"
      ],
      "metadata": {
        "trusted": true,
        "id": "Qizs0-_LS1Co"
      },
      "execution_count": null,
      "outputs": []
    },
    {
      "cell_type": "code",
      "source": [
        "best_params = randomized_search_result['params']\n",
        "best_params"
      ],
      "metadata": {
        "execution": {
          "iopub.status.busy": "2023-06-04T06:30:04.434052Z",
          "iopub.status.idle": "2023-06-04T06:30:04.435286Z",
          "shell.execute_reply.started": "2023-06-04T06:30:04.435039Z",
          "shell.execute_reply": "2023-06-04T06:30:04.435063Z"
        },
        "trusted": true,
        "id": "qCXbig05S1Co"
      },
      "execution_count": null,
      "outputs": []
    },
    {
      "cell_type": "code",
      "source": [
        "# оцениваем\n",
        "y_pred = model.predict(validation_pool)"
      ],
      "metadata": {
        "execution": {
          "iopub.status.busy": "2023-06-04T06:30:04.050335Z",
          "iopub.execute_input": "2023-06-04T06:30:04.051159Z",
          "iopub.status.idle": "2023-06-04T06:30:04.433130Z",
          "shell.execute_reply.started": "2023-06-04T06:30:04.051126Z",
          "shell.execute_reply": "2023-06-04T06:30:04.431592Z"
        },
        "trusted": true,
        "id": "PuAJLVLFS1Co",
        "outputId": "b26617d4-b83f-4320-9512-49fc75e54cb4"
      },
      "execution_count": null,
      "outputs": [
        {
          "traceback": [
            "\u001b[0;31m---------------------------------------------------------------------------\u001b[0m",
            "\u001b[0;31mNameError\u001b[0m                                 Traceback (most recent call last)",
            "Cell \u001b[0;32mIn[1], line 2\u001b[0m\n\u001b[1;32m      1\u001b[0m \u001b[38;5;66;03m# оцениваем\u001b[39;00m\n\u001b[0;32m----> 2\u001b[0m y_pred \u001b[38;5;241m=\u001b[39m \u001b[43mmodel\u001b[49m\u001b[38;5;241m.\u001b[39mpredict(validation_pool)\n",
            "\u001b[0;31mNameError\u001b[0m: name 'model' is not defined"
          ],
          "ename": "NameError",
          "evalue": "name 'model' is not defined",
          "output_type": "error"
        }
      ]
    },
    {
      "cell_type": "code",
      "source": [
        "rmse = mean_squared_error(validation[y], y_pred, squared=False)\n",
        "\n",
        "#  MAPE\n",
        "mape = mean_absolute_percentage_error(validation[y], y_pred)\n",
        "\n",
        "print(f\"Root Mean Squared Error (RMSE): {rmse:.3f}\")\n",
        "print(f\"Mean Absolute Percentage Error (MAPE): {mape:.3f}%\")"
      ],
      "metadata": {
        "trusted": true,
        "id": "20BEfFYlS1Co"
      },
      "execution_count": null,
      "outputs": []
    },
    {
      "cell_type": "markdown",
      "source": [
        "best_params = {'depth': 9,\n",
        "               'iterations': 3000,\n",
        "               'learning_rate': 0.07555198107934782,\n",
        "               'l2_leaf_reg': 8.206677907347204,\n",
        "               'cat_features': cat_features,\n",
        "    'eval_metric': 'MAPE',\n",
        "    'loss_function': 'RMSE',\n",
        "    'random_seed': 42,\n",
        "    'verbose': False,\n",
        "    'early_stopping_rounds' : 15}"
      ],
      "metadata": {
        "id": "muFpmJwjS1Co"
      }
    },
    {
      "cell_type": "code",
      "source": [
        "fstrs = model.get_feature_importance(prettified=True)\n",
        "\n",
        "fig, ax = plt.subplots()\n",
        "fstrs.plot(x='Feature Id', y='Importances', kind='bar', ax=ax)\n",
        "ax.set_title(\"Важность признаков\")\n",
        "ax.set_ylabel(\"Значение\")\n",
        "plt.xticks(rotation=45)\n",
        "plt.tight_layout()\n",
        "plt.show()"
      ],
      "metadata": {
        "trusted": true,
        "id": "Qo7MKKJkS1Co"
      },
      "execution_count": null,
      "outputs": []
    },
    {
      "cell_type": "code",
      "source": [
        "best_model = CatBoostRegressor(**best_params,\n",
        "                               random_seed= 42,\n",
        "                              verbose = 100,\n",
        "                              iterations = 1600)"
      ],
      "metadata": {
        "trusted": true,
        "id": "AWXBePfdS1Co"
      },
      "execution_count": null,
      "outputs": []
    },
    {
      "cell_type": "code",
      "source": [
        "%%time\n",
        "# обучаем модель\n",
        "best_model.fit(test_pool)\n",
        "print (best_model.best_score_)"
      ],
      "metadata": {
        "trusted": true,
        "id": "_HSD03PNS1Co"
      },
      "execution_count": null,
      "outputs": []
    },
    {
      "cell_type": "markdown",
      "source": [
        "\n"
      ],
      "metadata": {
        "id": "-4zEjn7eS1Co"
      }
    },
    {
      "cell_type": "code",
      "source": [
        "y_pred_test = model.predict(test[X])\n",
        "y_pred_test"
      ],
      "metadata": {
        "trusted": true,
        "id": "23YL63AWS1Co"
      },
      "execution_count": null,
      "outputs": []
    },
    {
      "cell_type": "code",
      "source": [
        "test_vin = pd.read_csv('/kaggle/input/copy-of-used-cars-price-prediction-ds18/test.csv')\n",
        "test_vin['vin'].head()"
      ],
      "metadata": {
        "trusted": true,
        "id": "LjHI-fC3S1Cp"
      },
      "execution_count": null,
      "outputs": []
    },
    {
      "cell_type": "code",
      "source": [
        "prediction = pd.DataFrame()\n",
        "prediction.head()"
      ],
      "metadata": {
        "trusted": true,
        "id": "ADr2iNWlS1Cp"
      },
      "execution_count": null,
      "outputs": []
    },
    {
      "cell_type": "code",
      "source": [
        "prediction['vin']=test_vin['vin']\n",
        "prediction.head()"
      ],
      "metadata": {
        "trusted": true,
        "id": "Gr4b6rutS1Cp"
      },
      "execution_count": null,
      "outputs": []
    },
    {
      "cell_type": "code",
      "source": [
        "prediction['sellingprice']=y_pred_test\n",
        "prediction.head()"
      ],
      "metadata": {
        "trusted": true,
        "id": "gl_Yc7caS1Cp"
      },
      "execution_count": null,
      "outputs": []
    },
    {
      "cell_type": "code",
      "source": [
        "prediction.loc[prediction['sellingprice']<250, 'sellingprice']=250\n",
        "prediction.loc[prediction['sellingprice']<250].shape[0]"
      ],
      "metadata": {
        "trusted": true,
        "id": "FqO4omFNS1Cp"
      },
      "execution_count": null,
      "outputs": []
    },
    {
      "cell_type": "code",
      "source": [
        "prediction.to_csv('result_10.csv', index = False)"
      ],
      "metadata": {
        "trusted": true,
        "id": "LEGZdfqDS1Cp"
      },
      "execution_count": null,
      "outputs": []
    },
    {
      "cell_type": "markdown",
      "source": [
        "**optuna**"
      ],
      "metadata": {
        "id": "e4B3bI3tS1Cp"
      }
    },
    {
      "cell_type": "code",
      "source": [
        "%%time\n",
        "def objective(trial):\n",
        "    # параметры модели\n",
        "    params = {\n",
        "        'iterations': trial.suggest_int('iterations',3000, 4000),\n",
        "        'learning_rate': trial.suggest_float('learning_rate', 0.09, 0.12),\n",
        "        'depth': trial.suggest_int('depth', 9, 15),\n",
        "        'l2_leaf_reg': trial.suggest_float('l2_leaf_reg', 6, 13),\n",
        "        'random_state': 42,\n",
        "        'cat_features': cat_features\n",
        "    }\n",
        "\n",
        "    # создаем CatBoost model\n",
        "    model = CatBoostRegressor(**params)\n",
        "    model.fit(train_pool, verbose=100)\n",
        "\n",
        "    # предсказания на валидационной выборке\n",
        "    predictions = model.predict(validation_pool)\n",
        "\n",
        "    # важность признаков\n",
        "    feature_importance = model.get_feature_importance(type = catboost.EFstrType.FeatureImportance)\n",
        "\n",
        "    # считаем RMSE учитывая важность признаков\n",
        "    weighted_rmse = mean_squared_error(validation[y], predictions, squared=False)\n",
        "\n",
        "    for i, feature in enumerate(cat_features):\n",
        "        if feature in feature_importance:\n",
        "            weighted_rmse *= feature_importance[i]\n",
        "\n",
        "    return weighted_rmse\n",
        "\n",
        "# создаем study\n",
        "study = optuna.create_study(direction='minimize')\n",
        "\n",
        "# параметры оптимизации\n",
        "study.optimize(objective, n_trials=5)\n",
        "\n",
        "# выводим лучшие гиперпараметры и score\n",
        "best_params = study.best_params\n",
        "print(best_params)\n",
        "print (study.best_score)"
      ],
      "metadata": {
        "trusted": true,
        "id": "MCd_gVE_S1Cp"
      },
      "execution_count": null,
      "outputs": []
    },
    {
      "cell_type": "markdown",
      "source": [
        "- Trial 0 finished with value: 2970.804679660054 and parameters:\n",
        "        {'learning_rate': 0.06904379720513099,\n",
        "         'depth': 4, 'l2_leaf_reg': 6.53124581544504}.\n",
        "Best is trial 0 with value: 2970.804679660054.\n",
        "- Trial 1 finished with value: 2645.160734104553 and parameters:\n",
        "        {'learning_rate': 0.016135796081846888,\n",
        "         'depth': 10,\n",
        "         'l2_leaf_reg': 9.085872840748877}.\n",
        "**Best is trial 1** with value: 2645.160734104553.\n",
        "\n",
        "- Trial 2 finished with value: 2331.735905736237 and parameters:\n",
        "        {'learning_rate': 0.08296668738211416, 'depth': 8, 'l2_leaf_reg': 7.135107529142273}.\n",
        "**Best is trial 2** with value: 2331.735905736237.\n",
        "\n",
        "- Trial 3 finished with value: 2632.341885837149 and parameters:\n",
        "{'learning_rate': 0.06590501267678682, 'depth': 6, 'l2_leaf_reg': 6.5895906392406545}.\n",
        "**Best is trial 2** with value: 2331.735905736237.\n",
        "\n",
        "- Trial 4 finished with value: 3023.684888090036 and parameters:\n",
        "{'learning_rate': 0.06177043795759185, 'depth': 4, 'l2_leaf_reg': 1.576680898996981}.\n",
        "**Best is trial 2** with value: 2331.735905736237.\n",
        "\n",
        "- Trial 5 finished with value: 2671.663728042232 and parameters: {'learning_rate': 0.03717361275601939, 'depth': 7, 'l2_leaf_reg': 6.827239019420514}.\n",
        "**Best is trial 2** with value: 2331.735905736237.\n",
        "\n",
        "- Trial 6 finished with value: 3022.7638694981424 and parameters: {'learning_rate': 0.02329988351343336, 'depth': 6, 'l2_leaf_reg': 8.916518291038535}. Best is trial 2 with value: 2331.735905736237.\n",
        "- Trial 19 {'learning_rate':0.11597820817007716, 'depth': 13, 'l2_leaf_reg': 0.37933443309451775}\n",
        "Trial 0 finished with value: 2228.906500663646 and parameters: {'learning_rate': 0.1260277017289611, 'depth': 9, 'l2_leaf_reg': 5.28804481342274}.\n",
        "**Best is trial 0 with value: 2228.906500663646** .\n",
        "\n",
        "Trial 11 finished with value: 2168.4043705101267 and parameters:\n",
        "{'learning_rate': 0.11760637337592622, 'depth': 10, 'l2_leaf_reg': 3.0940654814585535}.\n",
        "Best is trial 11 with value: 2168.4043705101267 .\n",
        "Trial 13 finished with value: 2151.3242926113417 and parameters: {'learning_rate': 0.14511452039160722, 'depth': 10, 'l2_leaf_reg': 2.3470051891954804}.\n",
        "Best is trial 13 with value: 2151.3242926113417.\n",
        "arison\n",
        "[I 2023-05-29 02:26:30,577] Trial 35 finished with value: 2191.9948118095012 and parameters: {'learning_rate': 0.12574274038155134, depth': 10, 'l2_leaf_reg': 1.09069287356834}. **Best is trial 25 with value: 2133.514994824393**\n",
        "\n",
        "Trial 6 finished with value: 2141.4428581143584 and parameters: {'learning_rate': 0.11956200408474056, 'depth': 12, 'l2_leaf_reg': 8.811200920186481}.\n",
        "est is trial 6 with value: 2141.4428581143584.\n",
        "Trial 1 finished with value: 2168.0703315307874 and parameters: {'learning_rate': 0.11858257053327896, 'depth': 11, 'l2_leaf_reg': 9.270322764969738}. Best is trial 1 with value: 2168.0703315307874.\n",
        "Trial 0 failed with parameters: {'iterations': 3304, 'learning_rate': 0.09040243409768059, 'depth': 12, 'l2_leaf_reg': 11.711812961320431} because of the following error: NameError(\"name 'categorical_features' is not defined\")"
      ],
      "metadata": {
        "id": "RYMvxuD-S1Cp"
      }
    },
    {
      "cell_type": "markdown",
      "source": [
        "#лучшие параметры\n",
        "best_params = {'depth': 12,\n",
        "               'iterations': 1000,\n",
        "               'learning_rate': 0.11956200408474056,\n",
        "               'l2_leaf_reg': 8.811200920186481}"
      ],
      "metadata": {
        "execution": {
          "iopub.status.busy": "2023-05-30T10:29:29.665279Z",
          "iopub.execute_input": "2023-05-30T10:29:29.666066Z",
          "iopub.status.idle": "2023-05-30T10:29:29.673943Z",
          "shell.execute_reply.started": "2023-05-30T10:29:29.666024Z",
          "shell.execute_reply": "2023-05-30T10:29:29.672615Z"
        },
        "id": "Rc936I20S1Cp"
      }
    },
    {
      "cell_type": "code",
      "source": [
        "best_model = CatBoostRegressor(loss_function='RMSE',\n",
        "                               random_seed=42,\n",
        "                               verbose=False,\n",
        "                               **best_params)"
      ],
      "metadata": {
        "trusted": true,
        "id": "GZ5OMlCwS1Cp"
      },
      "execution_count": null,
      "outputs": []
    },
    {
      "cell_type": "code",
      "source": [
        "%%time\n",
        "# обучаем модель\n",
        "best_model.fit(train_pool)\n",
        "print (best_model.best_score_)"
      ],
      "metadata": {
        "trusted": true,
        "id": "TaQsopLkS1Cp"
      },
      "execution_count": null,
      "outputs": []
    },
    {
      "cell_type": "code",
      "source": [
        "y_pred = best_model.predict(validation_pool)\n",
        "\n",
        "# MSE на валидационной\n",
        "rmse = mean_squared_error(validation[y], y_pred, squared=False)\n",
        "\n",
        "# MAPE на валидационной\n",
        "mape = mean_absolute_percentage_error(validation[y], y_pred)\n",
        "\n",
        "print(f\"Root Mean Squared Error (RMSE): {rmse:.3f}\")\n",
        "print(f\"Mean Absolute Percentage Error (MAPE): {mape:.3f}%\")"
      ],
      "metadata": {
        "trusted": true,
        "id": "hT8wVhfiS1Cp"
      },
      "execution_count": null,
      "outputs": []
    },
    {
      "cell_type": "code",
      "source": [
        "%%time\n",
        "# обучаем модель\n",
        "best_model.fit(test_pool)\n",
        "print (best_model.best_score_)# оцениваем"
      ],
      "metadata": {
        "trusted": true,
        "id": "4QzvuhG-S1Cp"
      },
      "execution_count": null,
      "outputs": []
    },
    {
      "cell_type": "code",
      "source": [
        "y_pred_test = best_model.predict(test[X])\n",
        "y_pred_test"
      ],
      "metadata": {
        "trusted": true,
        "id": "bdewk2_oS1Cp"
      },
      "execution_count": null,
      "outputs": []
    },
    {
      "cell_type": "code",
      "source": [
        "predictions = pd.read_csv('/kaggle/input/copy-of-used-cars-price-prediction-ds18/sample_submission.csv')"
      ],
      "metadata": {
        "trusted": true,
        "id": "5FIIukwUS1Cp"
      },
      "execution_count": null,
      "outputs": []
    },
    {
      "cell_type": "code",
      "source": [
        "test_vin = pd.read_csv('/kaggle/input/copy-of-used-cars-price-prediction-ds18/test.csv')\n",
        "test_vin['vin'].head()"
      ],
      "metadata": {
        "trusted": true,
        "id": "LpkhqzORS1Cp"
      },
      "execution_count": null,
      "outputs": []
    },
    {
      "cell_type": "code",
      "source": [
        "prediction = pd.DataFrame()\n",
        "prediction.head()"
      ],
      "metadata": {
        "trusted": true,
        "id": "0jrC6L9KS1Cp"
      },
      "execution_count": null,
      "outputs": []
    },
    {
      "cell_type": "code",
      "source": [
        "prediction['vin']=test_vin['vin']\n",
        "prediction.head()\n"
      ],
      "metadata": {
        "trusted": true,
        "id": "pU5qeuHpS1Cp"
      },
      "execution_count": null,
      "outputs": []
    },
    {
      "cell_type": "code",
      "source": [
        "prediction['sellingprice']=y_pred_test\n",
        "prediction.head()"
      ],
      "metadata": {
        "trusted": true,
        "id": "tTpByH9PS1Cp"
      },
      "execution_count": null,
      "outputs": []
    },
    {
      "cell_type": "code",
      "source": [
        "prediction.to_csv('result8.csv', index = False)\n",
        "#result.to_json('/Users/anzhelikaboltneva/Desktop/KAGGLE/predictions.json', orient='records')"
      ],
      "metadata": {
        "trusted": true,
        "id": "YMrW9mGqS1Cq"
      },
      "execution_count": null,
      "outputs": []
    },
    {
      "cell_type": "code",
      "source": [
        "then = datetime.datetime.now()\n",
        "print ('Выполнение тетрадки началось в: ', now.time())\n",
        "print ('Выполнение тетрадки закончилось в: ', then.time())"
      ],
      "metadata": {
        "trusted": true,
        "id": "FhhL_5gIS1Cq"
      },
      "execution_count": null,
      "outputs": []
    },
    {
      "cell_type": "code",
      "source": [],
      "metadata": {
        "id": "5oc1vLqSS1Cr"
      },
      "execution_count": null,
      "outputs": []
    },
    {
      "cell_type": "code",
      "source": [],
      "metadata": {
        "id": "Wgv6oMgES1Cs"
      },
      "execution_count": null,
      "outputs": []
    }
  ]
}